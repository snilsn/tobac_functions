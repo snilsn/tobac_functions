{
 "cells": [
  {
   "cell_type": "code",
   "execution_count": 1,
   "id": "8e0d1752",
   "metadata": {},
   "outputs": [],
   "source": [
    "import tobac\n",
    "import tobac.testing"
   ]
  },
  {
   "cell_type": "code",
   "execution_count": 2,
   "id": "534b77ca",
   "metadata": {},
   "outputs": [],
   "source": [
    "%%capture\n",
    "\n",
    "data = tobac.testing.make_sample_data_2D_3blobs_inv()\n",
    "dxy, dt = tobac.utils.get_spacings(data)\n",
    "features = tobac.feature_detection.feature_detection_multithreshold(data, dxy, threshold = 1)\n",
    "mask, features = tobac.segmentation.segmentation(features, data, dxy, threshold = 1)\n",
    "track = tobac.tracking.linking_trackpy(features, data, dt, dxy, v_max=100)"
   ]
  },
  {
   "cell_type": "code",
   "execution_count": null,
   "id": "aca6b48c",
   "metadata": {},
   "outputs": [],
   "source": [
    "%%capture\n",
    "\n",
    "data = tobac.testing.make_sample_data_3D_3blobs()\n",
    "dxy, dt = tobac.utils.get_spacings(data)\n",
    "features = tobac.feature_detection.feature_detection_multithreshold(data[:, 0], dxy, threshold = 1)\n",
    "mask, features = tobac.segmentation.segmentation(features, data, dxy, threshold = 1)\n",
    "track = tobac.tracking.linking_trackpy(features, data, dt, dxy, v_max=100)"
   ]
  },
  {
   "cell_type": "markdown",
   "id": "aba78372",
   "metadata": {},
   "source": [
    "# Analysis"
   ]
  },
  {
   "cell_type": "markdown",
   "id": "a1298355",
   "metadata": {},
   "source": [
    "## Calculate overlap"
   ]
  },
  {
   "cell_type": "code",
   "execution_count": 90,
   "id": "a3cbf3a7",
   "metadata": {
    "scrolled": false
   },
   "outputs": [
    {
     "name": "stderr",
     "output_type": "stream",
     "text": [
      "/home/nils/anaconda3/envs/tobac/lib/python3.10/site-packages/tobac/analysis.py:378: FutureWarning: The frame.append method is deprecated and will be removed from pandas in a future version. Use pandas.concat instead.\n",
      "  overlap=overlap.append({'cell_1':cell_1,\n",
      "/home/nils/anaconda3/envs/tobac/lib/python3.10/site-packages/tobac/analysis.py:378: FutureWarning: The frame.append method is deprecated and will be removed from pandas in a future version. Use pandas.concat instead.\n",
      "  overlap=overlap.append({'cell_1':cell_1,\n",
      "/home/nils/anaconda3/envs/tobac/lib/python3.10/site-packages/tobac/analysis.py:378: FutureWarning: The frame.append method is deprecated and will be removed from pandas in a future version. Use pandas.concat instead.\n",
      "  overlap=overlap.append({'cell_1':cell_1,\n",
      "/home/nils/anaconda3/envs/tobac/lib/python3.10/site-packages/tobac/analysis.py:378: FutureWarning: The frame.append method is deprecated and will be removed from pandas in a future version. Use pandas.concat instead.\n",
      "  overlap=overlap.append({'cell_1':cell_1,\n",
      "/home/nils/anaconda3/envs/tobac/lib/python3.10/site-packages/tobac/analysis.py:378: FutureWarning: The frame.append method is deprecated and will be removed from pandas in a future version. Use pandas.concat instead.\n",
      "  overlap=overlap.append({'cell_1':cell_1,\n",
      "/home/nils/anaconda3/envs/tobac/lib/python3.10/site-packages/tobac/analysis.py:378: FutureWarning: The frame.append method is deprecated and will be removed from pandas in a future version. Use pandas.concat instead.\n",
      "  overlap=overlap.append({'cell_1':cell_1,\n",
      "/home/nils/anaconda3/envs/tobac/lib/python3.10/site-packages/tobac/analysis.py:378: FutureWarning: The frame.append method is deprecated and will be removed from pandas in a future version. Use pandas.concat instead.\n",
      "  overlap=overlap.append({'cell_1':cell_1,\n",
      "/home/nils/anaconda3/envs/tobac/lib/python3.10/site-packages/tobac/analysis.py:378: FutureWarning: The frame.append method is deprecated and will be removed from pandas in a future version. Use pandas.concat instead.\n",
      "  overlap=overlap.append({'cell_1':cell_1,\n",
      "/home/nils/anaconda3/envs/tobac/lib/python3.10/site-packages/tobac/analysis.py:378: FutureWarning: The frame.append method is deprecated and will be removed from pandas in a future version. Use pandas.concat instead.\n",
      "  overlap=overlap.append({'cell_1':cell_1,\n"
     ]
    },
    {
     "data": {
      "text/html": [
       "<div>\n",
       "<style scoped>\n",
       "    .dataframe tbody tr th:only-of-type {\n",
       "        vertical-align: middle;\n",
       "    }\n",
       "\n",
       "    .dataframe tbody tr th {\n",
       "        vertical-align: top;\n",
       "    }\n",
       "\n",
       "    .dataframe thead th {\n",
       "        text-align: right;\n",
       "    }\n",
       "</style>\n",
       "<table border=\"1\" class=\"dataframe\">\n",
       "  <thead>\n",
       "    <tr style=\"text-align: right;\">\n",
       "      <th></th>\n",
       "      <th>cell_1</th>\n",
       "      <th>cell_2</th>\n",
       "      <th>n_overlap</th>\n",
       "      <th>mean_inv_distance</th>\n",
       "      <th>sum_inv_distance</th>\n",
       "    </tr>\n",
       "  </thead>\n",
       "  <tbody>\n",
       "    <tr>\n",
       "      <th>0</th>\n",
       "      <td>1.0</td>\n",
       "      <td>1.0</td>\n",
       "      <td>60.0</td>\n",
       "      <td>1.0</td>\n",
       "      <td>60.0</td>\n",
       "    </tr>\n",
       "    <tr>\n",
       "      <th>4</th>\n",
       "      <td>2.0</td>\n",
       "      <td>2.0</td>\n",
       "      <td>30.0</td>\n",
       "      <td>1.0</td>\n",
       "      <td>30.0</td>\n",
       "    </tr>\n",
       "    <tr>\n",
       "      <th>8</th>\n",
       "      <td>3.0</td>\n",
       "      <td>3.0</td>\n",
       "      <td>20.0</td>\n",
       "      <td>1.0</td>\n",
       "      <td>20.0</td>\n",
       "    </tr>\n",
       "  </tbody>\n",
       "</table>\n",
       "</div>"
      ],
      "text/plain": [
       "   cell_1  cell_2  n_overlap  mean_inv_distance  sum_inv_distance\n",
       "0     1.0     1.0       60.0                1.0              60.0\n",
       "4     2.0     2.0       30.0                1.0              30.0\n",
       "8     3.0     3.0       20.0                1.0              20.0"
      ]
     },
     "execution_count": 90,
     "metadata": {},
     "output_type": "execute_result"
    }
   ],
   "source": [
    "tobac.analysis.calculate_overlap(track, track, min_mean_inv_distance=1)"
   ]
  },
  {
   "cell_type": "code",
   "execution_count": 28,
   "id": "bf18507c",
   "metadata": {},
   "outputs": [
    {
     "data": {
      "text/html": [
       "<div>\n",
       "<style scoped>\n",
       "    .dataframe tbody tr th:only-of-type {\n",
       "        vertical-align: middle;\n",
       "    }\n",
       "\n",
       "    .dataframe tbody tr th {\n",
       "        vertical-align: top;\n",
       "    }\n",
       "\n",
       "    .dataframe thead th {\n",
       "        text-align: right;\n",
       "    }\n",
       "</style>\n",
       "<table border=\"1\" class=\"dataframe\">\n",
       "  <thead>\n",
       "    <tr style=\"text-align: right;\">\n",
       "      <th></th>\n",
       "      <th>frame</th>\n",
       "      <th>idx</th>\n",
       "      <th>hdim_1</th>\n",
       "      <th>hdim_2</th>\n",
       "      <th>num</th>\n",
       "      <th>threshold_value</th>\n",
       "      <th>feature</th>\n",
       "      <th>time</th>\n",
       "      <th>timestr</th>\n",
       "      <th>projection_x_coordinate</th>\n",
       "      <th>projection_y_coordinate</th>\n",
       "      <th>latitude</th>\n",
       "      <th>longitude</th>\n",
       "      <th>ncells</th>\n",
       "      <th>cell</th>\n",
       "      <th>time_cell</th>\n",
       "    </tr>\n",
       "  </thead>\n",
       "  <tbody>\n",
       "    <tr>\n",
       "      <th>0</th>\n",
       "      <td>0</td>\n",
       "      <td>1</td>\n",
       "      <td>14.272026</td>\n",
       "      <td>14.272026</td>\n",
       "      <td>908</td>\n",
       "      <td>1</td>\n",
       "      <td>1</td>\n",
       "      <td>2000-01-01 12:00:00</td>\n",
       "      <td>2000-01-01 12:00:00</td>\n",
       "      <td>14272.026432</td>\n",
       "      <td>14272.026432</td>\n",
       "      <td>[24.14272026431718]</td>\n",
       "      <td>[150.14272026431718]</td>\n",
       "      <td>0.0</td>\n",
       "      <td>1</td>\n",
       "      <td>0 days 00:00:00</td>\n",
       "    </tr>\n",
       "    <tr>\n",
       "      <th>1</th>\n",
       "      <td>1</td>\n",
       "      <td>1</td>\n",
       "      <td>15.228659</td>\n",
       "      <td>14.670732</td>\n",
       "      <td>984</td>\n",
       "      <td>1</td>\n",
       "      <td>2</td>\n",
       "      <td>2000-01-01 12:01:00</td>\n",
       "      <td>2000-01-01 12:01:00</td>\n",
       "      <td>15228.658537</td>\n",
       "      <td>14670.731707</td>\n",
       "      <td>[24.15228658536585]</td>\n",
       "      <td>[150.14670731707318]</td>\n",
       "      <td>67.0</td>\n",
       "      <td>1</td>\n",
       "      <td>0 days 00:01:00</td>\n",
       "    </tr>\n",
       "    <tr>\n",
       "      <th>2</th>\n",
       "      <td>2</td>\n",
       "      <td>1</td>\n",
       "      <td>16.162111</td>\n",
       "      <td>15.055608</td>\n",
       "      <td>1061</td>\n",
       "      <td>1</td>\n",
       "      <td>3</td>\n",
       "      <td>2000-01-01 12:02:00</td>\n",
       "      <td>2000-01-01 12:02:00</td>\n",
       "      <td>16162.111216</td>\n",
       "      <td>15055.607917</td>\n",
       "      <td>[24.16162111215834]</td>\n",
       "      <td>[150.1505560791706]</td>\n",
       "      <td>65.0</td>\n",
       "      <td>1</td>\n",
       "      <td>0 days 00:02:00</td>\n",
       "    </tr>\n",
       "    <tr>\n",
       "      <th>3</th>\n",
       "      <td>3</td>\n",
       "      <td>1</td>\n",
       "      <td>17.130396</td>\n",
       "      <td>15.406167</td>\n",
       "      <td>1135</td>\n",
       "      <td>1</td>\n",
       "      <td>4</td>\n",
       "      <td>2000-01-01 12:03:00</td>\n",
       "      <td>2000-01-01 12:03:00</td>\n",
       "      <td>17130.396476</td>\n",
       "      <td>15406.167401</td>\n",
       "      <td>[24.171303964757712]</td>\n",
       "      <td>[150.15406167400883]</td>\n",
       "      <td>66.0</td>\n",
       "      <td>1</td>\n",
       "      <td>0 days 00:03:00</td>\n",
       "    </tr>\n",
       "    <tr>\n",
       "      <th>4</th>\n",
       "      <td>4</td>\n",
       "      <td>1</td>\n",
       "      <td>18.143802</td>\n",
       "      <td>15.751240</td>\n",
       "      <td>1210</td>\n",
       "      <td>1</td>\n",
       "      <td>5</td>\n",
       "      <td>2000-01-01 12:04:00</td>\n",
       "      <td>2000-01-01 12:04:00</td>\n",
       "      <td>18143.801653</td>\n",
       "      <td>15751.239669</td>\n",
       "      <td>[24.181438016528926]</td>\n",
       "      <td>[150.15751239669422]</td>\n",
       "      <td>65.0</td>\n",
       "      <td>1</td>\n",
       "      <td>0 days 00:04:00</td>\n",
       "    </tr>\n",
       "    <tr>\n",
       "      <th>...</th>\n",
       "      <td>...</td>\n",
       "      <td>...</td>\n",
       "      <td>...</td>\n",
       "      <td>...</td>\n",
       "      <td>...</td>\n",
       "      <td>...</td>\n",
       "      <td>...</td>\n",
       "      <td>...</td>\n",
       "      <td>...</td>\n",
       "      <td>...</td>\n",
       "      <td>...</td>\n",
       "      <td>...</td>\n",
       "      <td>...</td>\n",
       "      <td>...</td>\n",
       "      <td>...</td>\n",
       "      <td>...</td>\n",
       "    </tr>\n",
       "    <tr>\n",
       "      <th>105</th>\n",
       "      <td>67</td>\n",
       "      <td>2</td>\n",
       "      <td>85.393745</td>\n",
       "      <td>130.422614</td>\n",
       "      <td>1247</td>\n",
       "      <td>1</td>\n",
       "      <td>106</td>\n",
       "      <td>2000-01-01 13:07:00</td>\n",
       "      <td>2000-01-01 13:07:00</td>\n",
       "      <td>85393.744988</td>\n",
       "      <td>130422.614274</td>\n",
       "      <td>[24.853937449879712]</td>\n",
       "      <td>[151.3042261427426]</td>\n",
       "      <td>312.0</td>\n",
       "      <td>3</td>\n",
       "      <td>0 days 00:17:00</td>\n",
       "    </tr>\n",
       "    <tr>\n",
       "      <th>106</th>\n",
       "      <td>68</td>\n",
       "      <td>1</td>\n",
       "      <td>83.326203</td>\n",
       "      <td>30.149733</td>\n",
       "      <td>1496</td>\n",
       "      <td>1</td>\n",
       "      <td>107</td>\n",
       "      <td>2000-01-01 13:08:00</td>\n",
       "      <td>2000-01-01 13:08:00</td>\n",
       "      <td>83326.203209</td>\n",
       "      <td>30149.732620</td>\n",
       "      <td>[24.83326203208556]</td>\n",
       "      <td>[150.30149732620322]</td>\n",
       "      <td>277.0</td>\n",
       "      <td>2</td>\n",
       "      <td>0 days 00:28:00</td>\n",
       "    </tr>\n",
       "    <tr>\n",
       "      <th>107</th>\n",
       "      <td>68</td>\n",
       "      <td>2</td>\n",
       "      <td>86.731211</td>\n",
       "      <td>131.549072</td>\n",
       "      <td>1131</td>\n",
       "      <td>1</td>\n",
       "      <td>108</td>\n",
       "      <td>2000-01-01 13:08:00</td>\n",
       "      <td>2000-01-01 13:08:00</td>\n",
       "      <td>86731.211317</td>\n",
       "      <td>131549.071618</td>\n",
       "      <td>[24.867312113174183]</td>\n",
       "      <td>[151.31549071618036]</td>\n",
       "      <td>277.0</td>\n",
       "      <td>3</td>\n",
       "      <td>0 days 00:18:00</td>\n",
       "    </tr>\n",
       "    <tr>\n",
       "      <th>108</th>\n",
       "      <td>69</td>\n",
       "      <td>1</td>\n",
       "      <td>85.863315</td>\n",
       "      <td>30.864101</td>\n",
       "      <td>1273</td>\n",
       "      <td>1</td>\n",
       "      <td>109</td>\n",
       "      <td>2000-01-01 13:09:00</td>\n",
       "      <td>2000-01-01 13:09:00</td>\n",
       "      <td>85863.315004</td>\n",
       "      <td>30864.100550</td>\n",
       "      <td>[24.858633150039275]</td>\n",
       "      <td>[150.30864100549883]</td>\n",
       "      <td>229.0</td>\n",
       "      <td>2</td>\n",
       "      <td>0 days 00:29:00</td>\n",
       "    </tr>\n",
       "    <tr>\n",
       "      <th>109</th>\n",
       "      <td>69</td>\n",
       "      <td>2</td>\n",
       "      <td>87.981336</td>\n",
       "      <td>132.798625</td>\n",
       "      <td>1018</td>\n",
       "      <td>1</td>\n",
       "      <td>110</td>\n",
       "      <td>2000-01-01 13:09:00</td>\n",
       "      <td>2000-01-01 13:09:00</td>\n",
       "      <td>87981.335953</td>\n",
       "      <td>132798.624754</td>\n",
       "      <td>[24.879813359528487]</td>\n",
       "      <td>[151.3279862475442]</td>\n",
       "      <td>229.0</td>\n",
       "      <td>3</td>\n",
       "      <td>0 days 00:19:00</td>\n",
       "    </tr>\n",
       "  </tbody>\n",
       "</table>\n",
       "<p>110 rows × 16 columns</p>\n",
       "</div>"
      ],
      "text/plain": [
       "     frame  idx     hdim_1      hdim_2   num  threshold_value  feature  \\\n",
       "0        0    1  14.272026   14.272026   908                1        1   \n",
       "1        1    1  15.228659   14.670732   984                1        2   \n",
       "2        2    1  16.162111   15.055608  1061                1        3   \n",
       "3        3    1  17.130396   15.406167  1135                1        4   \n",
       "4        4    1  18.143802   15.751240  1210                1        5   \n",
       "..     ...  ...        ...         ...   ...              ...      ...   \n",
       "105     67    2  85.393745  130.422614  1247                1      106   \n",
       "106     68    1  83.326203   30.149733  1496                1      107   \n",
       "107     68    2  86.731211  131.549072  1131                1      108   \n",
       "108     69    1  85.863315   30.864101  1273                1      109   \n",
       "109     69    2  87.981336  132.798625  1018                1      110   \n",
       "\n",
       "                    time              timestr  projection_x_coordinate  \\\n",
       "0    2000-01-01 12:00:00  2000-01-01 12:00:00             14272.026432   \n",
       "1    2000-01-01 12:01:00  2000-01-01 12:01:00             15228.658537   \n",
       "2    2000-01-01 12:02:00  2000-01-01 12:02:00             16162.111216   \n",
       "3    2000-01-01 12:03:00  2000-01-01 12:03:00             17130.396476   \n",
       "4    2000-01-01 12:04:00  2000-01-01 12:04:00             18143.801653   \n",
       "..                   ...                  ...                      ...   \n",
       "105  2000-01-01 13:07:00  2000-01-01 13:07:00             85393.744988   \n",
       "106  2000-01-01 13:08:00  2000-01-01 13:08:00             83326.203209   \n",
       "107  2000-01-01 13:08:00  2000-01-01 13:08:00             86731.211317   \n",
       "108  2000-01-01 13:09:00  2000-01-01 13:09:00             85863.315004   \n",
       "109  2000-01-01 13:09:00  2000-01-01 13:09:00             87981.335953   \n",
       "\n",
       "     projection_y_coordinate              latitude             longitude  \\\n",
       "0               14272.026432   [24.14272026431718]  [150.14272026431718]   \n",
       "1               14670.731707   [24.15228658536585]  [150.14670731707318]   \n",
       "2               15055.607917   [24.16162111215834]   [150.1505560791706]   \n",
       "3               15406.167401  [24.171303964757712]  [150.15406167400883]   \n",
       "4               15751.239669  [24.181438016528926]  [150.15751239669422]   \n",
       "..                       ...                   ...                   ...   \n",
       "105            130422.614274  [24.853937449879712]   [151.3042261427426]   \n",
       "106             30149.732620   [24.83326203208556]  [150.30149732620322]   \n",
       "107            131549.071618  [24.867312113174183]  [151.31549071618036]   \n",
       "108             30864.100550  [24.858633150039275]  [150.30864100549883]   \n",
       "109            132798.624754  [24.879813359528487]   [151.3279862475442]   \n",
       "\n",
       "     ncells cell       time_cell  \n",
       "0       0.0    1 0 days 00:00:00  \n",
       "1      67.0    1 0 days 00:01:00  \n",
       "2      65.0    1 0 days 00:02:00  \n",
       "3      66.0    1 0 days 00:03:00  \n",
       "4      65.0    1 0 days 00:04:00  \n",
       "..      ...  ...             ...  \n",
       "105   312.0    3 0 days 00:17:00  \n",
       "106   277.0    2 0 days 00:28:00  \n",
       "107   277.0    3 0 days 00:18:00  \n",
       "108   229.0    2 0 days 00:29:00  \n",
       "109   229.0    3 0 days 00:19:00  \n",
       "\n",
       "[110 rows x 16 columns]"
      ]
     },
     "execution_count": 28,
     "metadata": {},
     "output_type": "execute_result"
    }
   ],
   "source": [
    "track"
   ]
  },
  {
   "cell_type": "code",
   "execution_count": 32,
   "id": "aacf9fa0",
   "metadata": {},
   "outputs": [
    {
     "data": {
      "text/plain": [
       "array([  0.,  67.,  65.,  66.,  65.,  67.,  66.,  65.,  67.,  67.,  65.,\n",
       "        66.,  65.,  65.,  66.,  65.,  67.,  67.,  65.,  66.,  67.,  65.,\n",
       "        66.,  65.,  67.,  69.,  67.,  65.,  66.,  65.,  67.,  66.,  65.,\n",
       "        67.,  67.,  65.,  66.,  65.,  65.,  66.,  65.,  nan,  nan,  67.,\n",
       "        nan,  67.,  nan,  65.,  nan,  66.,  nan, 505., 500.,  nan, 502.,\n",
       "        nan,  nan, 504.,  nan, 506.,  nan,  nan, 325.,  nan,  nan, 322.,\n",
       "        nan, 322.,  nan,  nan,  nan, 323.,  nan,  nan, 322.,  nan,  nan,\n",
       "       320., 320.,  nan,  nan, 323.,  nan,  nan,  nan,  nan, 324.,  nan,\n",
       "        nan, 322.,  nan,  nan,  nan,  nan,  nan,  nan,  nan,  nan,  nan,\n",
       "        nan,  nan,  nan,  nan,  nan,  nan,  nan,  nan,  nan,  nan,  nan])"
      ]
     },
     "execution_count": 32,
     "metadata": {},
     "output_type": "execute_result"
    }
   ],
   "source": [
    "import numpy as np\n",
    "mask = track['cell'] == 1\n",
    "np.array(track.where(mask)['ncells'])"
   ]
  },
  {
   "cell_type": "code",
   "execution_count": 33,
   "id": "d56f698b",
   "metadata": {},
   "outputs": [],
   "source": [
    "cell_track = track.where(mask)"
   ]
  },
  {
   "cell_type": "code",
   "execution_count": 36,
   "id": "fe820fb7",
   "metadata": {},
   "outputs": [],
   "source": [
    "mask2 = cell_track['time'].isin(cell_track['time'])"
   ]
  },
  {
   "cell_type": "code",
   "execution_count": 39,
   "id": "37b5350a",
   "metadata": {},
   "outputs": [
    {
     "data": {
      "text/plain": [
       "60"
      ]
     },
     "execution_count": 39,
     "metadata": {},
     "output_type": "execute_result"
    }
   ],
   "source": [
    "len(cell_track[mask2].dropna())"
   ]
  },
  {
   "cell_type": "markdown",
   "id": "e21f7d5c",
   "metadata": {},
   "source": [
    "# histogram_featurewise"
   ]
  },
  {
   "cell_type": "code",
   "execution_count": 43,
   "id": "5e4a0b3f",
   "metadata": {},
   "outputs": [
    {
     "data": {
      "text/html": [
       "<div>\n",
       "<style scoped>\n",
       "    .dataframe tbody tr th:only-of-type {\n",
       "        vertical-align: middle;\n",
       "    }\n",
       "\n",
       "    .dataframe tbody tr th {\n",
       "        vertical-align: top;\n",
       "    }\n",
       "\n",
       "    .dataframe thead th {\n",
       "        text-align: right;\n",
       "    }\n",
       "</style>\n",
       "<table border=\"1\" class=\"dataframe\">\n",
       "  <thead>\n",
       "    <tr style=\"text-align: right;\">\n",
       "      <th></th>\n",
       "      <th>frame</th>\n",
       "      <th>idx</th>\n",
       "      <th>hdim_1</th>\n",
       "      <th>hdim_2</th>\n",
       "      <th>num</th>\n",
       "      <th>threshold_value</th>\n",
       "      <th>feature</th>\n",
       "      <th>time</th>\n",
       "      <th>timestr</th>\n",
       "      <th>projection_x_coordinate</th>\n",
       "      <th>projection_y_coordinate</th>\n",
       "      <th>latitude</th>\n",
       "      <th>longitude</th>\n",
       "      <th>ncells</th>\n",
       "      <th>cell</th>\n",
       "      <th>time_cell</th>\n",
       "    </tr>\n",
       "  </thead>\n",
       "  <tbody>\n",
       "    <tr>\n",
       "      <th>0</th>\n",
       "      <td>0</td>\n",
       "      <td>1</td>\n",
       "      <td>14.272026</td>\n",
       "      <td>14.272026</td>\n",
       "      <td>908</td>\n",
       "      <td>1</td>\n",
       "      <td>1</td>\n",
       "      <td>2000-01-01 12:00:00</td>\n",
       "      <td>2000-01-01 12:00:00</td>\n",
       "      <td>14272.026432</td>\n",
       "      <td>14272.026432</td>\n",
       "      <td>[24.14272026431718]</td>\n",
       "      <td>[150.14272026431718]</td>\n",
       "      <td>0.0</td>\n",
       "      <td>1</td>\n",
       "      <td>0 days 00:00:00</td>\n",
       "    </tr>\n",
       "    <tr>\n",
       "      <th>1</th>\n",
       "      <td>1</td>\n",
       "      <td>1</td>\n",
       "      <td>15.228659</td>\n",
       "      <td>14.670732</td>\n",
       "      <td>984</td>\n",
       "      <td>1</td>\n",
       "      <td>2</td>\n",
       "      <td>2000-01-01 12:01:00</td>\n",
       "      <td>2000-01-01 12:01:00</td>\n",
       "      <td>15228.658537</td>\n",
       "      <td>14670.731707</td>\n",
       "      <td>[24.15228658536585]</td>\n",
       "      <td>[150.14670731707318]</td>\n",
       "      <td>67.0</td>\n",
       "      <td>1</td>\n",
       "      <td>0 days 00:01:00</td>\n",
       "    </tr>\n",
       "    <tr>\n",
       "      <th>2</th>\n",
       "      <td>2</td>\n",
       "      <td>1</td>\n",
       "      <td>16.162111</td>\n",
       "      <td>15.055608</td>\n",
       "      <td>1061</td>\n",
       "      <td>1</td>\n",
       "      <td>3</td>\n",
       "      <td>2000-01-01 12:02:00</td>\n",
       "      <td>2000-01-01 12:02:00</td>\n",
       "      <td>16162.111216</td>\n",
       "      <td>15055.607917</td>\n",
       "      <td>[24.16162111215834]</td>\n",
       "      <td>[150.1505560791706]</td>\n",
       "      <td>65.0</td>\n",
       "      <td>1</td>\n",
       "      <td>0 days 00:02:00</td>\n",
       "    </tr>\n",
       "    <tr>\n",
       "      <th>3</th>\n",
       "      <td>3</td>\n",
       "      <td>1</td>\n",
       "      <td>17.130396</td>\n",
       "      <td>15.406167</td>\n",
       "      <td>1135</td>\n",
       "      <td>1</td>\n",
       "      <td>4</td>\n",
       "      <td>2000-01-01 12:03:00</td>\n",
       "      <td>2000-01-01 12:03:00</td>\n",
       "      <td>17130.396476</td>\n",
       "      <td>15406.167401</td>\n",
       "      <td>[24.171303964757712]</td>\n",
       "      <td>[150.15406167400883]</td>\n",
       "      <td>66.0</td>\n",
       "      <td>1</td>\n",
       "      <td>0 days 00:03:00</td>\n",
       "    </tr>\n",
       "    <tr>\n",
       "      <th>4</th>\n",
       "      <td>4</td>\n",
       "      <td>1</td>\n",
       "      <td>18.143802</td>\n",
       "      <td>15.751240</td>\n",
       "      <td>1210</td>\n",
       "      <td>1</td>\n",
       "      <td>5</td>\n",
       "      <td>2000-01-01 12:04:00</td>\n",
       "      <td>2000-01-01 12:04:00</td>\n",
       "      <td>18143.801653</td>\n",
       "      <td>15751.239669</td>\n",
       "      <td>[24.181438016528926]</td>\n",
       "      <td>[150.15751239669422]</td>\n",
       "      <td>65.0</td>\n",
       "      <td>1</td>\n",
       "      <td>0 days 00:04:00</td>\n",
       "    </tr>\n",
       "    <tr>\n",
       "      <th>...</th>\n",
       "      <td>...</td>\n",
       "      <td>...</td>\n",
       "      <td>...</td>\n",
       "      <td>...</td>\n",
       "      <td>...</td>\n",
       "      <td>...</td>\n",
       "      <td>...</td>\n",
       "      <td>...</td>\n",
       "      <td>...</td>\n",
       "      <td>...</td>\n",
       "      <td>...</td>\n",
       "      <td>...</td>\n",
       "      <td>...</td>\n",
       "      <td>...</td>\n",
       "      <td>...</td>\n",
       "      <td>...</td>\n",
       "    </tr>\n",
       "    <tr>\n",
       "      <th>105</th>\n",
       "      <td>67</td>\n",
       "      <td>2</td>\n",
       "      <td>85.393745</td>\n",
       "      <td>130.422614</td>\n",
       "      <td>1247</td>\n",
       "      <td>1</td>\n",
       "      <td>106</td>\n",
       "      <td>2000-01-01 13:07:00</td>\n",
       "      <td>2000-01-01 13:07:00</td>\n",
       "      <td>85393.744988</td>\n",
       "      <td>130422.614274</td>\n",
       "      <td>[24.853937449879712]</td>\n",
       "      <td>[151.3042261427426]</td>\n",
       "      <td>312.0</td>\n",
       "      <td>3</td>\n",
       "      <td>0 days 00:17:00</td>\n",
       "    </tr>\n",
       "    <tr>\n",
       "      <th>106</th>\n",
       "      <td>68</td>\n",
       "      <td>1</td>\n",
       "      <td>83.326203</td>\n",
       "      <td>30.149733</td>\n",
       "      <td>1496</td>\n",
       "      <td>1</td>\n",
       "      <td>107</td>\n",
       "      <td>2000-01-01 13:08:00</td>\n",
       "      <td>2000-01-01 13:08:00</td>\n",
       "      <td>83326.203209</td>\n",
       "      <td>30149.732620</td>\n",
       "      <td>[24.83326203208556]</td>\n",
       "      <td>[150.30149732620322]</td>\n",
       "      <td>277.0</td>\n",
       "      <td>2</td>\n",
       "      <td>0 days 00:28:00</td>\n",
       "    </tr>\n",
       "    <tr>\n",
       "      <th>107</th>\n",
       "      <td>68</td>\n",
       "      <td>2</td>\n",
       "      <td>86.731211</td>\n",
       "      <td>131.549072</td>\n",
       "      <td>1131</td>\n",
       "      <td>1</td>\n",
       "      <td>108</td>\n",
       "      <td>2000-01-01 13:08:00</td>\n",
       "      <td>2000-01-01 13:08:00</td>\n",
       "      <td>86731.211317</td>\n",
       "      <td>131549.071618</td>\n",
       "      <td>[24.867312113174183]</td>\n",
       "      <td>[151.31549071618036]</td>\n",
       "      <td>277.0</td>\n",
       "      <td>3</td>\n",
       "      <td>0 days 00:18:00</td>\n",
       "    </tr>\n",
       "    <tr>\n",
       "      <th>108</th>\n",
       "      <td>69</td>\n",
       "      <td>1</td>\n",
       "      <td>85.863315</td>\n",
       "      <td>30.864101</td>\n",
       "      <td>1273</td>\n",
       "      <td>1</td>\n",
       "      <td>109</td>\n",
       "      <td>2000-01-01 13:09:00</td>\n",
       "      <td>2000-01-01 13:09:00</td>\n",
       "      <td>85863.315004</td>\n",
       "      <td>30864.100550</td>\n",
       "      <td>[24.858633150039275]</td>\n",
       "      <td>[150.30864100549883]</td>\n",
       "      <td>229.0</td>\n",
       "      <td>2</td>\n",
       "      <td>0 days 00:29:00</td>\n",
       "    </tr>\n",
       "    <tr>\n",
       "      <th>109</th>\n",
       "      <td>69</td>\n",
       "      <td>2</td>\n",
       "      <td>87.981336</td>\n",
       "      <td>132.798625</td>\n",
       "      <td>1018</td>\n",
       "      <td>1</td>\n",
       "      <td>110</td>\n",
       "      <td>2000-01-01 13:09:00</td>\n",
       "      <td>2000-01-01 13:09:00</td>\n",
       "      <td>87981.335953</td>\n",
       "      <td>132798.624754</td>\n",
       "      <td>[24.879813359528487]</td>\n",
       "      <td>[151.3279862475442]</td>\n",
       "      <td>229.0</td>\n",
       "      <td>3</td>\n",
       "      <td>0 days 00:19:00</td>\n",
       "    </tr>\n",
       "  </tbody>\n",
       "</table>\n",
       "<p>110 rows × 16 columns</p>\n",
       "</div>"
      ],
      "text/plain": [
       "     frame  idx     hdim_1      hdim_2   num  threshold_value  feature  \\\n",
       "0        0    1  14.272026   14.272026   908                1        1   \n",
       "1        1    1  15.228659   14.670732   984                1        2   \n",
       "2        2    1  16.162111   15.055608  1061                1        3   \n",
       "3        3    1  17.130396   15.406167  1135                1        4   \n",
       "4        4    1  18.143802   15.751240  1210                1        5   \n",
       "..     ...  ...        ...         ...   ...              ...      ...   \n",
       "105     67    2  85.393745  130.422614  1247                1      106   \n",
       "106     68    1  83.326203   30.149733  1496                1      107   \n",
       "107     68    2  86.731211  131.549072  1131                1      108   \n",
       "108     69    1  85.863315   30.864101  1273                1      109   \n",
       "109     69    2  87.981336  132.798625  1018                1      110   \n",
       "\n",
       "                    time              timestr  projection_x_coordinate  \\\n",
       "0    2000-01-01 12:00:00  2000-01-01 12:00:00             14272.026432   \n",
       "1    2000-01-01 12:01:00  2000-01-01 12:01:00             15228.658537   \n",
       "2    2000-01-01 12:02:00  2000-01-01 12:02:00             16162.111216   \n",
       "3    2000-01-01 12:03:00  2000-01-01 12:03:00             17130.396476   \n",
       "4    2000-01-01 12:04:00  2000-01-01 12:04:00             18143.801653   \n",
       "..                   ...                  ...                      ...   \n",
       "105  2000-01-01 13:07:00  2000-01-01 13:07:00             85393.744988   \n",
       "106  2000-01-01 13:08:00  2000-01-01 13:08:00             83326.203209   \n",
       "107  2000-01-01 13:08:00  2000-01-01 13:08:00             86731.211317   \n",
       "108  2000-01-01 13:09:00  2000-01-01 13:09:00             85863.315004   \n",
       "109  2000-01-01 13:09:00  2000-01-01 13:09:00             87981.335953   \n",
       "\n",
       "     projection_y_coordinate              latitude             longitude  \\\n",
       "0               14272.026432   [24.14272026431718]  [150.14272026431718]   \n",
       "1               14670.731707   [24.15228658536585]  [150.14670731707318]   \n",
       "2               15055.607917   [24.16162111215834]   [150.1505560791706]   \n",
       "3               15406.167401  [24.171303964757712]  [150.15406167400883]   \n",
       "4               15751.239669  [24.181438016528926]  [150.15751239669422]   \n",
       "..                       ...                   ...                   ...   \n",
       "105            130422.614274  [24.853937449879712]   [151.3042261427426]   \n",
       "106             30149.732620   [24.83326203208556]  [150.30149732620322]   \n",
       "107            131549.071618  [24.867312113174183]  [151.31549071618036]   \n",
       "108             30864.100550  [24.858633150039275]  [150.30864100549883]   \n",
       "109            132798.624754  [24.879813359528487]   [151.3279862475442]   \n",
       "\n",
       "     ncells cell       time_cell  \n",
       "0       0.0    1 0 days 00:00:00  \n",
       "1      67.0    1 0 days 00:01:00  \n",
       "2      65.0    1 0 days 00:02:00  \n",
       "3      66.0    1 0 days 00:03:00  \n",
       "4      65.0    1 0 days 00:04:00  \n",
       "..      ...  ...             ...  \n",
       "105   312.0    3 0 days 00:17:00  \n",
       "106   277.0    2 0 days 00:28:00  \n",
       "107   277.0    3 0 days 00:18:00  \n",
       "108   229.0    2 0 days 00:29:00  \n",
       "109   229.0    3 0 days 00:19:00  \n",
       "\n",
       "[110 rows x 16 columns]"
      ]
     },
     "execution_count": 43,
     "metadata": {},
     "output_type": "execute_result"
    }
   ],
   "source": [
    "track"
   ]
  },
  {
   "cell_type": "code",
   "execution_count": 78,
   "id": "e4f8ac20",
   "metadata": {
    "scrolled": true
   },
   "outputs": [
    {
     "data": {
      "text/plain": [
       "(array([ 4,  2,  3,  2,  4,  7,  8, 43, 18, 19]),\n",
       " array([  88. ,  268.1,  448.2,  628.3,  808.4,  988.5, 1168.6, 1348.7,\n",
       "        1528.8, 1708.9, 1889. ]),\n",
       " array([ 178.05,  358.15,  538.25,  718.35,  898.45, 1078.55, 1258.65,\n",
       "        1438.75, 1618.85, 1798.95]))"
      ]
     },
     "execution_count": 78,
     "metadata": {},
     "output_type": "execute_result"
    }
   ],
   "source": [
    "tobac.analysis.histogram_featurewise(track, variable='num', bin_edges=10)"
   ]
  },
  {
   "cell_type": "markdown",
   "id": "600462b6",
   "metadata": {},
   "source": [
    "# histogram_cellwise"
   ]
  },
  {
   "cell_type": "code",
   "execution_count": 25,
   "id": "a97fb14f",
   "metadata": {},
   "outputs": [
    {
     "data": {
      "text/plain": [
       "(array([1, 0, 0, 0, 0, 1, 0, 0, 0, 1]),\n",
       " array([1457. , 1500.2, 1543.4, 1586.6, 1629.8, 1673. , 1716.2, 1759.4,\n",
       "        1802.6, 1845.8, 1889. ]),\n",
       " array([1478.6, 1521.8, 1565. , 1608.2, 1651.4, 1694.6, 1737.8, 1781. ,\n",
       "        1824.2, 1867.4]))"
      ]
     },
     "execution_count": 25,
     "metadata": {},
     "output_type": "execute_result"
    }
   ],
   "source": [
    "tobac.analysis.histogram_cellwise(track, variable='num', bin_edges=10)"
   ]
  },
  {
   "cell_type": "markdown",
   "id": "659a8dba",
   "metadata": {},
   "source": [
    "# plot_histogram_featurewise"
   ]
  },
  {
   "cell_type": "code",
   "execution_count": 21,
   "id": "e87a1844",
   "metadata": {},
   "outputs": [
    {
     "data": {
      "image/png": "[encoded data removed]",
      "text/plain": [
       "<Figure size 432x288 with 1 Axes>"
      ]
     },
     "metadata": {
      "needs_background": "light"
     },
     "output_type": "display_data"
    }
   ],
   "source": [
    "import matplotlib.pyplot as plt \n",
    "%matplotlib inline\n",
    "fig, ax = plt.subplots()\n",
    "\n",
    "test = tobac.plotting.plot_histogram_featurewise(track, 100,'num', axes=ax)"
   ]
  },
  {
   "cell_type": "code",
   "execution_count": 24,
   "id": "4dab318f",
   "metadata": {},
   "outputs": [
    {
     "data": {
      "text/plain": [
       "<matplotlib.lines.Line2D at 0x7f14c42b4f10>"
      ]
     },
     "execution_count": 24,
     "metadata": {},
     "output_type": "execute_result"
    }
   ],
   "source": [
    "test[0]"
   ]
  },
  {
   "cell_type": "markdown",
   "id": "4d378154",
   "metadata": {},
   "source": [
    "# plot_histogram_cellwise"
   ]
  },
  {
   "cell_type": "code",
   "execution_count": 51,
   "id": "9f8f148d",
   "metadata": {},
   "outputs": [
    {
     "data": {
      "image/png": "[encoded data removed]",
      "text/plain": [
       "<Figure size 432x288 with 1 Axes>"
      ]
     },
     "metadata": {
      "needs_background": "light"
     },
     "output_type": "display_data"
    }
   ],
   "source": [
    "%matplotlib inline\n",
    "fix, ax = plt.subplots()\n",
    "\n",
    "test = tobac.plotting.plot_histogram_cellwise(track, 10,'ncells', 'max', axes=ax)"
   ]
  },
  {
   "cell_type": "code",
   "execution_count": 52,
   "id": "a92bf5c9",
   "metadata": {},
   "outputs": [
    {
     "data": {
      "text/plain": [
       "[<matplotlib.lines.Line2D at 0x7f14bf990fa0>]"
      ]
     },
     "execution_count": 52,
     "metadata": {},
     "output_type": "execute_result"
    }
   ],
   "source": [
    "test"
   ]
  },
  {
   "cell_type": "markdown",
   "id": "e63dd6cb",
   "metadata": {},
   "source": [
    "# plot_lifetime_histogram_bar"
   ]
  },
  {
   "cell_type": "code",
   "execution_count": 46,
   "id": "56921a36",
   "metadata": {},
   "outputs": [
    {
     "data": {
      "image/png": "[encoded data removed]",
      "text/plain": [
       "<Figure size 432x288 with 1 Axes>"
      ]
     },
     "metadata": {
      "needs_background": "light"
     },
     "output_type": "display_data"
    }
   ],
   "source": [
    "%matplotlib inline\n",
    "fix, ax = plt.subplots()\n",
    "\n",
    "test = tobac.plotting.plot_lifetime_histogram_bar(track, ax, density=False, width_bar=5, shift=-100)"
   ]
  },
  {
   "cell_type": "code",
   "execution_count": 49,
   "id": "b593dacb",
   "metadata": {},
   "outputs": [
    {
     "data": {
      "text/plain": [
       "matplotlib.container.BarContainer"
      ]
     },
     "execution_count": 49,
     "metadata": {},
     "output_type": "execute_result"
    }
   ],
   "source": [
    "type(test)"
   ]
  },
  {
   "cell_type": "markdown",
   "id": "a0f81123",
   "metadata": {},
   "source": [
    "# plot_lifetime_histogram"
   ]
  },
  {
   "cell_type": "code",
   "execution_count": 43,
   "id": "5a922f1c",
   "metadata": {},
   "outputs": [
    {
     "data": {
      "image/png": "[encoded data removed]",
      "text/plain": [
       "<Figure size 432x288 with 1 Axes>"
      ]
     },
     "metadata": {
      "needs_background": "light"
     },
     "output_type": "display_data"
    }
   ],
   "source": [
    "%matplotlib inline\n",
    "fix, ax = plt.subplots()\n",
    "\n",
    "test = tobac.plotting.plot_lifetime_histogram(track, ax, density=False)"
   ]
  },
  {
   "cell_type": "code",
   "execution_count": 45,
   "id": "b5590dd7",
   "metadata": {},
   "outputs": [
    {
     "data": {
      "text/plain": [
       "[<matplotlib.lines.Line2D at 0x7f14c674e8c0>]"
      ]
     },
     "execution_count": 45,
     "metadata": {},
     "output_type": "execute_result"
    }
   ],
   "source": [
    "test"
   ]
  },
  {
   "cell_type": "markdown",
   "id": "28679b5e",
   "metadata": {},
   "source": [
    "## make_map"
   ]
  },
  {
   "cell_type": "code",
   "execution_count": 93,
   "id": "59198579",
   "metadata": {},
   "outputs": [
    {
     "data": {
      "text/plain": [
       "<cartopy.mpl.feature_artist.FeatureArtist at 0x7f14bc618a00>"
      ]
     },
     "execution_count": 93,
     "metadata": {},
     "output_type": "execute_result"
    },
    {
     "data": {
      "image/png": "[encoded data removed]",
      "text/plain": [
       "<Figure size 720x720 with 1 Axes>"
      ]
     },
     "metadata": {
      "needs_background": "light"
     },
     "output_type": "display_data"
    }
   ],
   "source": [
    "import cartopy\n",
    "%matplotlib inline\n",
    "\n",
    "fig = plt.figure(figsize = (10, 10))\n",
    "ax = fig.add_subplot(projection=cartopy.crs.PlateCarree())\n",
    "ax.set_extent([-10, 10, 30, 50])\n",
    "tobac.make_map(ax)\n",
    "ax.add_feature(cartopy.feature.OCEAN)\n",
    "ax.add_feature(cartopy.feature.RIVERS)"
   ]
  },
  {
   "cell_type": "markdown",
   "id": "068855fc",
   "metadata": {},
   "source": [
    "# area_histogram"
   ]
  },
  {
   "cell_type": "code",
   "execution_count": 139,
   "id": "935e1f90",
   "metadata": {
    "scrolled": true
   },
   "outputs": [
    {
     "data": {
      "text/html": [
       "<div>\n",
       "<style scoped>\n",
       "    .dataframe tbody tr th:only-of-type {\n",
       "        vertical-align: middle;\n",
       "    }\n",
       "\n",
       "    .dataframe tbody tr th {\n",
       "        vertical-align: top;\n",
       "    }\n",
       "\n",
       "    .dataframe thead th {\n",
       "        text-align: right;\n",
       "    }\n",
       "</style>\n",
       "<table border=\"1\" class=\"dataframe\">\n",
       "  <thead>\n",
       "    <tr style=\"text-align: right;\">\n",
       "      <th></th>\n",
       "      <th>frame</th>\n",
       "      <th>idx</th>\n",
       "      <th>hdim_1</th>\n",
       "      <th>hdim_2</th>\n",
       "      <th>num</th>\n",
       "      <th>threshold_value</th>\n",
       "      <th>feature</th>\n",
       "      <th>time</th>\n",
       "      <th>timestr</th>\n",
       "      <th>projection_x_coordinate</th>\n",
       "      <th>projection_y_coordinate</th>\n",
       "      <th>latitude</th>\n",
       "      <th>longitude</th>\n",
       "      <th>ncells</th>\n",
       "      <th>area</th>\n",
       "    </tr>\n",
       "  </thead>\n",
       "  <tbody>\n",
       "    <tr>\n",
       "      <th>0</th>\n",
       "      <td>0</td>\n",
       "      <td>1</td>\n",
       "      <td>14.272026</td>\n",
       "      <td>14.272026</td>\n",
       "      <td>908</td>\n",
       "      <td>1</td>\n",
       "      <td>1</td>\n",
       "      <td>2000-01-01 12:00:00</td>\n",
       "      <td>2000-01-01 12:00:00</td>\n",
       "      <td>14272.026432</td>\n",
       "      <td>14272.026432</td>\n",
       "      <td>[24.14272026431718]</td>\n",
       "      <td>[150.14272026431718]</td>\n",
       "      <td>904.0</td>\n",
       "      <td>9.040000e+08</td>\n",
       "    </tr>\n",
       "    <tr>\n",
       "      <th>1</th>\n",
       "      <td>1</td>\n",
       "      <td>1</td>\n",
       "      <td>15.228659</td>\n",
       "      <td>14.670732</td>\n",
       "      <td>984</td>\n",
       "      <td>1</td>\n",
       "      <td>2</td>\n",
       "      <td>2000-01-01 12:01:00</td>\n",
       "      <td>2000-01-01 12:01:00</td>\n",
       "      <td>15228.658537</td>\n",
       "      <td>14670.731707</td>\n",
       "      <td>[24.15228658536585]</td>\n",
       "      <td>[150.14670731707318]</td>\n",
       "      <td>983.0</td>\n",
       "      <td>9.830000e+08</td>\n",
       "    </tr>\n",
       "    <tr>\n",
       "      <th>2</th>\n",
       "      <td>2</td>\n",
       "      <td>1</td>\n",
       "      <td>16.162111</td>\n",
       "      <td>15.055608</td>\n",
       "      <td>1061</td>\n",
       "      <td>1</td>\n",
       "      <td>3</td>\n",
       "      <td>2000-01-01 12:02:00</td>\n",
       "      <td>2000-01-01 12:02:00</td>\n",
       "      <td>16162.111216</td>\n",
       "      <td>15055.607917</td>\n",
       "      <td>[24.16162111215834]</td>\n",
       "      <td>[150.1505560791706]</td>\n",
       "      <td>1059.0</td>\n",
       "      <td>1.059000e+09</td>\n",
       "    </tr>\n",
       "    <tr>\n",
       "      <th>3</th>\n",
       "      <td>3</td>\n",
       "      <td>1</td>\n",
       "      <td>17.130396</td>\n",
       "      <td>15.406167</td>\n",
       "      <td>1135</td>\n",
       "      <td>1</td>\n",
       "      <td>4</td>\n",
       "      <td>2000-01-01 12:03:00</td>\n",
       "      <td>2000-01-01 12:03:00</td>\n",
       "      <td>17130.396476</td>\n",
       "      <td>15406.167401</td>\n",
       "      <td>[24.171303964757712]</td>\n",
       "      <td>[150.15406167400883]</td>\n",
       "      <td>1135.0</td>\n",
       "      <td>1.135000e+09</td>\n",
       "    </tr>\n",
       "    <tr>\n",
       "      <th>4</th>\n",
       "      <td>4</td>\n",
       "      <td>1</td>\n",
       "      <td>18.143802</td>\n",
       "      <td>15.751240</td>\n",
       "      <td>1210</td>\n",
       "      <td>1</td>\n",
       "      <td>5</td>\n",
       "      <td>2000-01-01 12:04:00</td>\n",
       "      <td>2000-01-01 12:04:00</td>\n",
       "      <td>18143.801653</td>\n",
       "      <td>15751.239669</td>\n",
       "      <td>[24.181438016528926]</td>\n",
       "      <td>[150.15751239669422]</td>\n",
       "      <td>1208.0</td>\n",
       "      <td>1.208000e+09</td>\n",
       "    </tr>\n",
       "    <tr>\n",
       "      <th>...</th>\n",
       "      <td>...</td>\n",
       "      <td>...</td>\n",
       "      <td>...</td>\n",
       "      <td>...</td>\n",
       "      <td>...</td>\n",
       "      <td>...</td>\n",
       "      <td>...</td>\n",
       "      <td>...</td>\n",
       "      <td>...</td>\n",
       "      <td>...</td>\n",
       "      <td>...</td>\n",
       "      <td>...</td>\n",
       "      <td>...</td>\n",
       "      <td>...</td>\n",
       "      <td>...</td>\n",
       "    </tr>\n",
       "    <tr>\n",
       "      <th>105</th>\n",
       "      <td>67</td>\n",
       "      <td>2</td>\n",
       "      <td>85.393745</td>\n",
       "      <td>130.422614</td>\n",
       "      <td>1247</td>\n",
       "      <td>1</td>\n",
       "      <td>106</td>\n",
       "      <td>2000-01-01 13:07:00</td>\n",
       "      <td>2000-01-01 13:07:00</td>\n",
       "      <td>85393.744988</td>\n",
       "      <td>130422.614274</td>\n",
       "      <td>[24.853937449879712]</td>\n",
       "      <td>[151.3042261427426]</td>\n",
       "      <td>1247.0</td>\n",
       "      <td>1.247000e+09</td>\n",
       "    </tr>\n",
       "    <tr>\n",
       "      <th>106</th>\n",
       "      <td>68</td>\n",
       "      <td>1</td>\n",
       "      <td>83.326203</td>\n",
       "      <td>30.149733</td>\n",
       "      <td>1496</td>\n",
       "      <td>1</td>\n",
       "      <td>107</td>\n",
       "      <td>2000-01-01 13:08:00</td>\n",
       "      <td>2000-01-01 13:08:00</td>\n",
       "      <td>83326.203209</td>\n",
       "      <td>30149.732620</td>\n",
       "      <td>[24.83326203208556]</td>\n",
       "      <td>[150.30149732620322]</td>\n",
       "      <td>1127.0</td>\n",
       "      <td>1.496000e+09</td>\n",
       "    </tr>\n",
       "    <tr>\n",
       "      <th>107</th>\n",
       "      <td>68</td>\n",
       "      <td>2</td>\n",
       "      <td>86.731211</td>\n",
       "      <td>131.549072</td>\n",
       "      <td>1131</td>\n",
       "      <td>1</td>\n",
       "      <td>108</td>\n",
       "      <td>2000-01-01 13:08:00</td>\n",
       "      <td>2000-01-01 13:08:00</td>\n",
       "      <td>86731.211317</td>\n",
       "      <td>131549.071618</td>\n",
       "      <td>[24.867312113174183]</td>\n",
       "      <td>[151.31549071618036]</td>\n",
       "      <td>1127.0</td>\n",
       "      <td>1.127000e+09</td>\n",
       "    </tr>\n",
       "    <tr>\n",
       "      <th>108</th>\n",
       "      <td>69</td>\n",
       "      <td>1</td>\n",
       "      <td>85.863315</td>\n",
       "      <td>30.864101</td>\n",
       "      <td>1273</td>\n",
       "      <td>1</td>\n",
       "      <td>109</td>\n",
       "      <td>2000-01-01 13:09:00</td>\n",
       "      <td>2000-01-01 13:09:00</td>\n",
       "      <td>85863.315004</td>\n",
       "      <td>30864.100550</td>\n",
       "      <td>[24.858633150039275]</td>\n",
       "      <td>[150.30864100549883]</td>\n",
       "      <td>1015.0</td>\n",
       "      <td>1.273000e+09</td>\n",
       "    </tr>\n",
       "    <tr>\n",
       "      <th>109</th>\n",
       "      <td>69</td>\n",
       "      <td>2</td>\n",
       "      <td>87.981336</td>\n",
       "      <td>132.798625</td>\n",
       "      <td>1018</td>\n",
       "      <td>1</td>\n",
       "      <td>110</td>\n",
       "      <td>2000-01-01 13:09:00</td>\n",
       "      <td>2000-01-01 13:09:00</td>\n",
       "      <td>87981.335953</td>\n",
       "      <td>132798.624754</td>\n",
       "      <td>[24.879813359528487]</td>\n",
       "      <td>[151.3279862475442]</td>\n",
       "      <td>1015.0</td>\n",
       "      <td>1.015000e+09</td>\n",
       "    </tr>\n",
       "  </tbody>\n",
       "</table>\n",
       "<p>110 rows × 15 columns</p>\n",
       "</div>"
      ],
      "text/plain": [
       "     frame  idx     hdim_1      hdim_2   num  threshold_value  feature  \\\n",
       "0        0    1  14.272026   14.272026   908                1        1   \n",
       "1        1    1  15.228659   14.670732   984                1        2   \n",
       "2        2    1  16.162111   15.055608  1061                1        3   \n",
       "3        3    1  17.130396   15.406167  1135                1        4   \n",
       "4        4    1  18.143802   15.751240  1210                1        5   \n",
       "..     ...  ...        ...         ...   ...              ...      ...   \n",
       "105     67    2  85.393745  130.422614  1247                1      106   \n",
       "106     68    1  83.326203   30.149733  1496                1      107   \n",
       "107     68    2  86.731211  131.549072  1131                1      108   \n",
       "108     69    1  85.863315   30.864101  1273                1      109   \n",
       "109     69    2  87.981336  132.798625  1018                1      110   \n",
       "\n",
       "                    time              timestr  projection_x_coordinate  \\\n",
       "0    2000-01-01 12:00:00  2000-01-01 12:00:00             14272.026432   \n",
       "1    2000-01-01 12:01:00  2000-01-01 12:01:00             15228.658537   \n",
       "2    2000-01-01 12:02:00  2000-01-01 12:02:00             16162.111216   \n",
       "3    2000-01-01 12:03:00  2000-01-01 12:03:00             17130.396476   \n",
       "4    2000-01-01 12:04:00  2000-01-01 12:04:00             18143.801653   \n",
       "..                   ...                  ...                      ...   \n",
       "105  2000-01-01 13:07:00  2000-01-01 13:07:00             85393.744988   \n",
       "106  2000-01-01 13:08:00  2000-01-01 13:08:00             83326.203209   \n",
       "107  2000-01-01 13:08:00  2000-01-01 13:08:00             86731.211317   \n",
       "108  2000-01-01 13:09:00  2000-01-01 13:09:00             85863.315004   \n",
       "109  2000-01-01 13:09:00  2000-01-01 13:09:00             87981.335953   \n",
       "\n",
       "     projection_y_coordinate              latitude             longitude  \\\n",
       "0               14272.026432   [24.14272026431718]  [150.14272026431718]   \n",
       "1               14670.731707   [24.15228658536585]  [150.14670731707318]   \n",
       "2               15055.607917   [24.16162111215834]   [150.1505560791706]   \n",
       "3               15406.167401  [24.171303964757712]  [150.15406167400883]   \n",
       "4               15751.239669  [24.181438016528926]  [150.15751239669422]   \n",
       "..                       ...                   ...                   ...   \n",
       "105            130422.614274  [24.853937449879712]   [151.3042261427426]   \n",
       "106             30149.732620   [24.83326203208556]  [150.30149732620322]   \n",
       "107            131549.071618  [24.867312113174183]  [151.31549071618036]   \n",
       "108             30864.100550  [24.858633150039275]  [150.30864100549883]   \n",
       "109            132798.624754  [24.879813359528487]   [151.3279862475442]   \n",
       "\n",
       "     ncells          area  \n",
       "0     904.0  9.040000e+08  \n",
       "1     983.0  9.830000e+08  \n",
       "2    1059.0  1.059000e+09  \n",
       "3    1135.0  1.135000e+09  \n",
       "4    1208.0  1.208000e+09  \n",
       "..      ...           ...  \n",
       "105  1247.0  1.247000e+09  \n",
       "106  1127.0  1.496000e+09  \n",
       "107  1127.0  1.127000e+09  \n",
       "108  1015.0  1.273000e+09  \n",
       "109  1015.0  1.015000e+09  \n",
       "\n",
       "[110 rows x 15 columns]"
      ]
     },
     "execution_count": 139,
     "metadata": {},
     "output_type": "execute_result"
    }
   ],
   "source": [
    "features = tobac.analysis.calculate_area(features, mask)\n",
    "features"
   ]
  },
  {
   "cell_type": "code",
   "execution_count": 143,
   "id": "2c782e4b",
   "metadata": {},
   "outputs": [
    {
     "data": {
      "text/plain": [
       "(array([6.8500e+08, 7.3100e+08, 1.6510e+09, 1.4840e+09, 3.6710e+09,\n",
       "        7.5730e+09, 1.0151e+10, 6.1815e+10, 3.3434e+10, 3.1262e+10]),\n",
       " array([8.8000e+07, 2.6790e+08, 4.4780e+08, 6.2770e+08, 8.0760e+08,\n",
       "        9.8750e+08, 1.1674e+09, 1.3473e+09, 1.5272e+09, 1.7071e+09,\n",
       "        1.8870e+09]),\n",
       " array([1.77950e+08, 3.57850e+08, 5.37750e+08, 7.17650e+08, 8.97550e+08,\n",
       "        1.07745e+09, 1.25735e+09, 1.43725e+09, 1.61715e+09, 1.79705e+09]))"
      ]
     },
     "execution_count": 143,
     "metadata": {},
     "output_type": "execute_result"
    }
   ],
   "source": [
    "tobac.analysis.area_histogram(features, mask, bin_edges = 10, representative_area = True)"
   ]
  },
  {
   "cell_type": "code",
   "execution_count": 144,
   "id": "6cf30a91",
   "metadata": {},
   "outputs": [
    {
     "data": {
      "text/plain": [
       "(array([ 4,  2,  3,  2,  4,  7,  8, 43, 20, 17]),\n",
       " array([8.8000e+07, 2.6790e+08, 4.4780e+08, 6.2770e+08, 8.0760e+08,\n",
       "        9.8750e+08, 1.1674e+09, 1.3473e+09, 1.5272e+09, 1.7071e+09,\n",
       "        1.8870e+09]),\n",
       " array([1.77950e+08, 3.57850e+08, 5.37750e+08, 7.17650e+08, 8.97550e+08,\n",
       "        1.07745e+09, 1.25735e+09, 1.43725e+09, 1.61715e+09, 1.79705e+09]))"
      ]
     },
     "execution_count": 144,
     "metadata": {},
     "output_type": "execute_result"
    }
   ],
   "source": [
    "tobac.analysis.area_histogram(features, mask, bin_edges = 10)"
   ]
  },
  {
   "cell_type": "markdown",
   "id": "86e42e9d",
   "metadata": {},
   "source": [
    "## map_track"
   ]
  },
  {
   "cell_type": "code",
   "execution_count": 98,
   "id": "8d351e2e",
   "metadata": {},
   "outputs": [
    {
     "data": {
      "text/plain": [
       "<cartopy.mpl.feature_artist.FeatureArtist at 0x7f14bc35dc30>"
      ]
     },
     "execution_count": 98,
     "metadata": {},
     "output_type": "execute_result"
    },
    {
     "data": {
      "image/png": "[encoded data removed]",
      "text/plain": [
       "<Figure size 720x720 with 1 Axes>"
      ]
     },
     "metadata": {
      "needs_background": "light"
     },
     "output_type": "display_data"
    }
   ],
   "source": [
    "fig = plt.figure(figsize = (10, 10))\n",
    "ax = fig.add_subplot(projection=cartopy.crs.PlateCarree())\n",
    "tobac.map_tracks(track, axis_extent=[145, 155, 20, 30], axes=ax)\n",
    "ax.add_feature(cartopy.feature.OCEAN)"
   ]
  },
  {
   "cell_type": "markdown",
   "id": "4a959161",
   "metadata": {},
   "source": [
    "# calculate area"
   ]
  },
  {
   "cell_type": "code",
   "execution_count": 110,
   "id": "db8e3af8",
   "metadata": {},
   "outputs": [
    {
     "data": {
      "text/html": [
       "<div>\n",
       "<style scoped>\n",
       "    .dataframe tbody tr th:only-of-type {\n",
       "        vertical-align: middle;\n",
       "    }\n",
       "\n",
       "    .dataframe tbody tr th {\n",
       "        vertical-align: top;\n",
       "    }\n",
       "\n",
       "    .dataframe thead th {\n",
       "        text-align: right;\n",
       "    }\n",
       "</style>\n",
       "<table border=\"1\" class=\"dataframe\">\n",
       "  <thead>\n",
       "    <tr style=\"text-align: right;\">\n",
       "      <th></th>\n",
       "      <th>frame</th>\n",
       "      <th>idx</th>\n",
       "      <th>hdim_1</th>\n",
       "      <th>hdim_2</th>\n",
       "      <th>num</th>\n",
       "      <th>threshold_value</th>\n",
       "      <th>feature</th>\n",
       "      <th>time</th>\n",
       "      <th>timestr</th>\n",
       "      <th>projection_x_coordinate</th>\n",
       "      <th>projection_y_coordinate</th>\n",
       "      <th>latitude</th>\n",
       "      <th>longitude</th>\n",
       "      <th>area</th>\n",
       "    </tr>\n",
       "  </thead>\n",
       "  <tbody>\n",
       "    <tr>\n",
       "      <th>0</th>\n",
       "      <td>0</td>\n",
       "      <td>1</td>\n",
       "      <td>14.272026</td>\n",
       "      <td>14.272026</td>\n",
       "      <td>908</td>\n",
       "      <td>1</td>\n",
       "      <td>1</td>\n",
       "      <td>2000-01-01 12:00:00</td>\n",
       "      <td>2000-01-01 12:00:00</td>\n",
       "      <td>14272.026432</td>\n",
       "      <td>14272.026432</td>\n",
       "      <td>[24.14272026431718]</td>\n",
       "      <td>[150.14272026431718]</td>\n",
       "      <td>0.0</td>\n",
       "    </tr>\n",
       "    <tr>\n",
       "      <th>1</th>\n",
       "      <td>1</td>\n",
       "      <td>1</td>\n",
       "      <td>15.228659</td>\n",
       "      <td>14.670732</td>\n",
       "      <td>984</td>\n",
       "      <td>1</td>\n",
       "      <td>2</td>\n",
       "      <td>2000-01-01 12:01:00</td>\n",
       "      <td>2000-01-01 12:01:00</td>\n",
       "      <td>15228.658537</td>\n",
       "      <td>14670.731707</td>\n",
       "      <td>[24.15228658536585]</td>\n",
       "      <td>[150.14670731707318]</td>\n",
       "      <td>67000000.0</td>\n",
       "    </tr>\n",
       "    <tr>\n",
       "      <th>2</th>\n",
       "      <td>2</td>\n",
       "      <td>1</td>\n",
       "      <td>16.162111</td>\n",
       "      <td>15.055608</td>\n",
       "      <td>1061</td>\n",
       "      <td>1</td>\n",
       "      <td>3</td>\n",
       "      <td>2000-01-01 12:02:00</td>\n",
       "      <td>2000-01-01 12:02:00</td>\n",
       "      <td>16162.111216</td>\n",
       "      <td>15055.607917</td>\n",
       "      <td>[24.16162111215834]</td>\n",
       "      <td>[150.1505560791706]</td>\n",
       "      <td>65000000.0</td>\n",
       "    </tr>\n",
       "    <tr>\n",
       "      <th>3</th>\n",
       "      <td>3</td>\n",
       "      <td>1</td>\n",
       "      <td>17.130396</td>\n",
       "      <td>15.406167</td>\n",
       "      <td>1135</td>\n",
       "      <td>1</td>\n",
       "      <td>4</td>\n",
       "      <td>2000-01-01 12:03:00</td>\n",
       "      <td>2000-01-01 12:03:00</td>\n",
       "      <td>17130.396476</td>\n",
       "      <td>15406.167401</td>\n",
       "      <td>[24.171303964757712]</td>\n",
       "      <td>[150.15406167400883]</td>\n",
       "      <td>66000000.0</td>\n",
       "    </tr>\n",
       "    <tr>\n",
       "      <th>4</th>\n",
       "      <td>4</td>\n",
       "      <td>1</td>\n",
       "      <td>18.143802</td>\n",
       "      <td>15.751240</td>\n",
       "      <td>1210</td>\n",
       "      <td>1</td>\n",
       "      <td>5</td>\n",
       "      <td>2000-01-01 12:04:00</td>\n",
       "      <td>2000-01-01 12:04:00</td>\n",
       "      <td>18143.801653</td>\n",
       "      <td>15751.239669</td>\n",
       "      <td>[24.181438016528926]</td>\n",
       "      <td>[150.15751239669422]</td>\n",
       "      <td>65000000.0</td>\n",
       "    </tr>\n",
       "    <tr>\n",
       "      <th>...</th>\n",
       "      <td>...</td>\n",
       "      <td>...</td>\n",
       "      <td>...</td>\n",
       "      <td>...</td>\n",
       "      <td>...</td>\n",
       "      <td>...</td>\n",
       "      <td>...</td>\n",
       "      <td>...</td>\n",
       "      <td>...</td>\n",
       "      <td>...</td>\n",
       "      <td>...</td>\n",
       "      <td>...</td>\n",
       "      <td>...</td>\n",
       "      <td>...</td>\n",
       "    </tr>\n",
       "    <tr>\n",
       "      <th>105</th>\n",
       "      <td>67</td>\n",
       "      <td>2</td>\n",
       "      <td>85.393745</td>\n",
       "      <td>130.422614</td>\n",
       "      <td>1247</td>\n",
       "      <td>1</td>\n",
       "      <td>106</td>\n",
       "      <td>2000-01-01 13:07:00</td>\n",
       "      <td>2000-01-01 13:07:00</td>\n",
       "      <td>85393.744988</td>\n",
       "      <td>130422.614274</td>\n",
       "      <td>[24.853937449879712]</td>\n",
       "      <td>[151.3042261427426]</td>\n",
       "      <td>312000000.0</td>\n",
       "    </tr>\n",
       "    <tr>\n",
       "      <th>106</th>\n",
       "      <td>68</td>\n",
       "      <td>1</td>\n",
       "      <td>83.326203</td>\n",
       "      <td>30.149733</td>\n",
       "      <td>1496</td>\n",
       "      <td>1</td>\n",
       "      <td>107</td>\n",
       "      <td>2000-01-01 13:08:00</td>\n",
       "      <td>2000-01-01 13:08:00</td>\n",
       "      <td>83326.203209</td>\n",
       "      <td>30149.732620</td>\n",
       "      <td>[24.83326203208556]</td>\n",
       "      <td>[150.30149732620322]</td>\n",
       "      <td>494000000.0</td>\n",
       "    </tr>\n",
       "    <tr>\n",
       "      <th>107</th>\n",
       "      <td>68</td>\n",
       "      <td>2</td>\n",
       "      <td>86.731211</td>\n",
       "      <td>131.549072</td>\n",
       "      <td>1131</td>\n",
       "      <td>1</td>\n",
       "      <td>108</td>\n",
       "      <td>2000-01-01 13:08:00</td>\n",
       "      <td>2000-01-01 13:08:00</td>\n",
       "      <td>86731.211317</td>\n",
       "      <td>131549.071618</td>\n",
       "      <td>[24.867312113174183]</td>\n",
       "      <td>[151.31549071618036]</td>\n",
       "      <td>277000000.0</td>\n",
       "    </tr>\n",
       "    <tr>\n",
       "      <th>108</th>\n",
       "      <td>69</td>\n",
       "      <td>1</td>\n",
       "      <td>85.863315</td>\n",
       "      <td>30.864101</td>\n",
       "      <td>1273</td>\n",
       "      <td>1</td>\n",
       "      <td>109</td>\n",
       "      <td>2000-01-01 13:09:00</td>\n",
       "      <td>2000-01-01 13:09:00</td>\n",
       "      <td>85863.315004</td>\n",
       "      <td>30864.100550</td>\n",
       "      <td>[24.858633150039275]</td>\n",
       "      <td>[150.30864100549883]</td>\n",
       "      <td>412000000.0</td>\n",
       "    </tr>\n",
       "    <tr>\n",
       "      <th>109</th>\n",
       "      <td>69</td>\n",
       "      <td>2</td>\n",
       "      <td>87.981336</td>\n",
       "      <td>132.798625</td>\n",
       "      <td>1018</td>\n",
       "      <td>1</td>\n",
       "      <td>110</td>\n",
       "      <td>2000-01-01 13:09:00</td>\n",
       "      <td>2000-01-01 13:09:00</td>\n",
       "      <td>87981.335953</td>\n",
       "      <td>132798.624754</td>\n",
       "      <td>[24.879813359528487]</td>\n",
       "      <td>[151.3279862475442]</td>\n",
       "      <td>229000000.0</td>\n",
       "    </tr>\n",
       "  </tbody>\n",
       "</table>\n",
       "<p>110 rows × 14 columns</p>\n",
       "</div>"
      ],
      "text/plain": [
       "     frame  idx     hdim_1      hdim_2   num  threshold_value  feature  \\\n",
       "0        0    1  14.272026   14.272026   908                1        1   \n",
       "1        1    1  15.228659   14.670732   984                1        2   \n",
       "2        2    1  16.162111   15.055608  1061                1        3   \n",
       "3        3    1  17.130396   15.406167  1135                1        4   \n",
       "4        4    1  18.143802   15.751240  1210                1        5   \n",
       "..     ...  ...        ...         ...   ...              ...      ...   \n",
       "105     67    2  85.393745  130.422614  1247                1      106   \n",
       "106     68    1  83.326203   30.149733  1496                1      107   \n",
       "107     68    2  86.731211  131.549072  1131                1      108   \n",
       "108     69    1  85.863315   30.864101  1273                1      109   \n",
       "109     69    2  87.981336  132.798625  1018                1      110   \n",
       "\n",
       "                    time              timestr  projection_x_coordinate  \\\n",
       "0    2000-01-01 12:00:00  2000-01-01 12:00:00             14272.026432   \n",
       "1    2000-01-01 12:01:00  2000-01-01 12:01:00             15228.658537   \n",
       "2    2000-01-01 12:02:00  2000-01-01 12:02:00             16162.111216   \n",
       "3    2000-01-01 12:03:00  2000-01-01 12:03:00             17130.396476   \n",
       "4    2000-01-01 12:04:00  2000-01-01 12:04:00             18143.801653   \n",
       "..                   ...                  ...                      ...   \n",
       "105  2000-01-01 13:07:00  2000-01-01 13:07:00             85393.744988   \n",
       "106  2000-01-01 13:08:00  2000-01-01 13:08:00             83326.203209   \n",
       "107  2000-01-01 13:08:00  2000-01-01 13:08:00             86731.211317   \n",
       "108  2000-01-01 13:09:00  2000-01-01 13:09:00             85863.315004   \n",
       "109  2000-01-01 13:09:00  2000-01-01 13:09:00             87981.335953   \n",
       "\n",
       "     projection_y_coordinate              latitude             longitude  \\\n",
       "0               14272.026432   [24.14272026431718]  [150.14272026431718]   \n",
       "1               14670.731707   [24.15228658536585]  [150.14670731707318]   \n",
       "2               15055.607917   [24.16162111215834]   [150.1505560791706]   \n",
       "3               15406.167401  [24.171303964757712]  [150.15406167400883]   \n",
       "4               15751.239669  [24.181438016528926]  [150.15751239669422]   \n",
       "..                       ...                   ...                   ...   \n",
       "105            130422.614274  [24.853937449879712]   [151.3042261427426]   \n",
       "106             30149.732620   [24.83326203208556]  [150.30149732620322]   \n",
       "107            131549.071618  [24.867312113174183]  [151.31549071618036]   \n",
       "108             30864.100550  [24.858633150039275]  [150.30864100549883]   \n",
       "109            132798.624754  [24.879813359528487]   [151.3279862475442]   \n",
       "\n",
       "            area  \n",
       "0            0.0  \n",
       "1     67000000.0  \n",
       "2     65000000.0  \n",
       "3     66000000.0  \n",
       "4     65000000.0  \n",
       "..           ...  \n",
       "105  312000000.0  \n",
       "106  494000000.0  \n",
       "107  277000000.0  \n",
       "108  412000000.0  \n",
       "109  229000000.0  \n",
       "\n",
       "[110 rows x 14 columns]"
      ]
     },
     "execution_count": 110,
     "metadata": {},
     "output_type": "execute_result"
    }
   ],
   "source": [
    "tobac.analysis.calculate_area(features, mask)"
   ]
  },
  {
   "cell_type": "code",
   "execution_count": 134,
   "id": "652c8022",
   "metadata": {},
   "outputs": [
    {
     "name": "stdout",
     "output_type": "stream",
     "text": [
      "[[1000.]\n",
      " [1000.]\n",
      " [1000.]\n",
      " [1000.]\n",
      " [1000.]\n",
      " [1000.]\n",
      " [1000.]\n",
      " [1000.]\n",
      " [1000.]\n",
      " [1000.]\n",
      " [1000.]\n",
      " [1000.]\n",
      " [1000.]\n",
      " [1000.]\n",
      " [1000.]\n",
      " [1000.]\n",
      " [1000.]\n",
      " [1000.]\n",
      " [1000.]\n",
      " [1000.]\n",
      " [1000.]\n",
      " [1000.]\n",
      " [1000.]\n",
      " [1000.]\n",
      " [1000.]\n",
      " [1000.]\n",
      " [1000.]\n",
      " [1000.]\n",
      " [1000.]\n",
      " [1000.]\n",
      " [1000.]\n",
      " [1000.]\n",
      " [1000.]\n",
      " [1000.]\n",
      " [1000.]\n",
      " [1000.]\n",
      " [1000.]\n",
      " [1000.]\n",
      " [1000.]\n",
      " [1000.]\n",
      " [1000.]\n",
      " [1000.]\n",
      " [1000.]\n",
      " [1000.]\n",
      " [1000.]\n",
      " [1000.]\n",
      " [1000.]\n",
      " [1000.]\n",
      " [1000.]\n",
      " [1000.]\n",
      " [1000.]\n",
      " [1000.]\n",
      " [1000.]\n",
      " [1000.]\n",
      " [1000.]\n",
      " [1000.]\n",
      " [1000.]\n",
      " [1000.]\n",
      " [1000.]\n",
      " [1000.]\n",
      " [1000.]\n",
      " [1000.]\n",
      " [1000.]\n",
      " [1000.]\n",
      " [1000.]\n",
      " [1000.]\n",
      " [1000.]\n",
      " [1000.]\n",
      " [1000.]\n",
      " [1000.]\n",
      " [1000.]\n",
      " [1000.]\n",
      " [1000.]\n",
      " [1000.]\n",
      " [1000.]\n",
      " [1000.]\n",
      " [1000.]\n",
      " [1000.]\n",
      " [1000.]\n",
      " [1000.]\n",
      " [1000.]\n",
      " [1000.]\n",
      " [1000.]\n",
      " [1000.]\n",
      " [1000.]\n",
      " [1000.]\n",
      " [1000.]\n",
      " [1000.]\n",
      " [1000.]\n",
      " [1000.]\n",
      " [1000.]\n",
      " [1000.]\n",
      " [1000.]\n",
      " [1000.]\n",
      " [1000.]\n",
      " [1000.]\n",
      " [1000.]\n",
      " [1000.]\n",
      " [1000.]\n",
      " [1000.]]\n",
      "[[1000.]\n",
      " [1000.]\n",
      " [1000.]\n",
      " [1000.]\n",
      " [1000.]\n",
      " [1000.]\n",
      " [1000.]\n",
      " [1000.]\n",
      " [1000.]\n",
      " [1000.]\n",
      " [1000.]\n",
      " [1000.]\n",
      " [1000.]\n",
      " [1000.]\n",
      " [1000.]\n",
      " [1000.]\n",
      " [1000.]\n",
      " [1000.]\n",
      " [1000.]\n",
      " [1000.]\n",
      " [1000.]\n",
      " [1000.]\n",
      " [1000.]\n",
      " [1000.]\n",
      " [1000.]\n",
      " [1000.]\n",
      " [1000.]\n",
      " [1000.]\n",
      " [1000.]\n",
      " [1000.]\n",
      " [1000.]\n",
      " [1000.]\n",
      " [1000.]\n",
      " [1000.]\n",
      " [1000.]\n",
      " [1000.]\n",
      " [1000.]\n",
      " [1000.]\n",
      " [1000.]\n",
      " [1000.]\n",
      " [1000.]\n",
      " [1000.]\n",
      " [1000.]\n",
      " [1000.]\n",
      " [1000.]\n",
      " [1000.]\n",
      " [1000.]\n",
      " [1000.]\n",
      " [1000.]\n",
      " [1000.]\n",
      " [1000.]\n",
      " [1000.]\n",
      " [1000.]\n",
      " [1000.]\n",
      " [1000.]\n",
      " [1000.]\n",
      " [1000.]\n",
      " [1000.]\n",
      " [1000.]\n",
      " [1000.]\n",
      " [1000.]\n",
      " [1000.]\n",
      " [1000.]\n",
      " [1000.]\n",
      " [1000.]\n",
      " [1000.]\n",
      " [1000.]\n",
      " [1000.]\n",
      " [1000.]\n",
      " [1000.]\n",
      " [1000.]\n",
      " [1000.]\n",
      " [1000.]\n",
      " [1000.]\n",
      " [1000.]\n",
      " [1000.]\n",
      " [1000.]\n",
      " [1000.]\n",
      " [1000.]\n",
      " [1000.]\n",
      " [1000.]\n",
      " [1000.]\n",
      " [1000.]\n",
      " [1000.]\n",
      " [1000.]\n",
      " [1000.]\n",
      " [1000.]\n",
      " [1000.]\n",
      " [1000.]\n",
      " [1000.]\n",
      " [1000.]\n",
      " [1000.]\n",
      " [1000.]\n",
      " [1000.]\n",
      " [1000.]\n",
      " [1000.]\n",
      " [1000.]\n",
      " [1000.]\n",
      " [1000.]\n",
      " [1000.]\n",
      " [1000.]\n",
      " [1000.]\n",
      " [1000.]\n",
      " [1000.]\n",
      " [1000.]\n",
      " [1000.]\n",
      " [1000.]\n",
      " [1000.]\n",
      " [1000.]\n",
      " [1000.]\n",
      " [1000.]\n",
      " [1000.]\n",
      " [1000.]\n",
      " [1000.]\n",
      " [1000.]\n",
      " [1000.]\n",
      " [1000.]\n",
      " [1000.]\n",
      " [1000.]\n",
      " [1000.]\n",
      " [1000.]\n",
      " [1000.]\n",
      " [1000.]\n",
      " [1000.]\n",
      " [1000.]\n",
      " [1000.]\n",
      " [1000.]\n",
      " [1000.]\n",
      " [1000.]\n",
      " [1000.]\n",
      " [1000.]\n",
      " [1000.]\n",
      " [1000.]\n",
      " [1000.]\n",
      " [1000.]\n",
      " [1000.]\n",
      " [1000.]\n",
      " [1000.]\n",
      " [1000.]\n",
      " [1000.]\n",
      " [1000.]\n",
      " [1000.]\n",
      " [1000.]\n",
      " [1000.]\n",
      " [1000.]\n",
      " [1000.]\n",
      " [1000.]\n",
      " [1000.]\n",
      " [1000.]\n",
      " [1000.]\n",
      " [1000.]\n",
      " [1000.]\n",
      " [1000.]\n",
      " [1000.]\n",
      " [1000.]\n",
      " [1000.]\n",
      " [1000.]\n",
      " [1000.]\n",
      " [1000.]\n",
      " [1000.]\n",
      " [1000.]\n",
      " [1000.]\n",
      " [1000.]\n",
      " [1000.]\n",
      " [1000.]\n",
      " [1000.]\n",
      " [1000.]\n",
      " [1000.]\n",
      " [1000.]\n",
      " [1000.]\n",
      " [1000.]\n",
      " [1000.]\n",
      " [1000.]\n",
      " [1000.]\n",
      " [1000.]\n",
      " [1000.]\n",
      " [1000.]\n",
      " [1000.]\n",
      " [1000.]\n",
      " [1000.]\n",
      " [1000.]\n",
      " [1000.]\n",
      " [1000.]\n",
      " [1000.]\n",
      " [1000.]\n",
      " [1000.]\n",
      " [1000.]\n",
      " [1000.]\n",
      " [1000.]\n",
      " [1000.]\n",
      " [1000.]\n",
      " [1000.]\n",
      " [1000.]\n",
      " [1000.]\n",
      " [1000.]\n",
      " [1000.]\n",
      " [1000.]\n",
      " [1000.]\n",
      " [1000.]\n",
      " [1000.]]\n"
     ]
    }
   ],
   "source": [
    "for coord in mask.coords():\n",
    "    if coord.has_bounds():\n",
    "        print(np.diff(coord.bounds))"
   ]
  },
  {
   "cell_type": "code",
   "execution_count": 121,
   "id": "a7a1b178",
   "metadata": {},
   "outputs": [],
   "source": [
    "test = np.diff(mask.coord('projection_x_coordinate').bounds)"
   ]
  },
  {
   "cell_type": "code",
   "execution_count": 126,
   "id": "f5f3b69f",
   "metadata": {},
   "outputs": [
    {
     "data": {
      "text/plain": [
       "(100, 100)"
      ]
     },
     "execution_count": 126,
     "metadata": {},
     "output_type": "execute_result"
    }
   ],
   "source": [
    "np.outer(test, test).shape"
   ]
  },
  {
   "cell_type": "code",
   "execution_count": 138,
   "id": "67c3e2f4",
   "metadata": {},
   "outputs": [
    {
     "data": {
      "text/plain": [
       "<DimCoord: projection_x_coordinate / (m)  [ 0., 1000., ..., 98000., 99000.]+bounds  shape(100,)>"
      ]
     },
     "execution_count": 138,
     "metadata": {},
     "output_type": "execute_result"
    }
   ],
   "source": [
    "mask.coord('projection_x_coordinate')"
   ]
  },
  {
   "cell_type": "code",
   "execution_count": 117,
   "id": "4e7c48e1",
   "metadata": {},
   "outputs": [
    {
     "data": {
      "text/html": [
       "\n",
       "<style>\n",
       "  a.iris {\n",
       "      text-decoration: none !important;\n",
       "  }\n",
       "  table.iris {\n",
       "      white-space: pre;\n",
       "      border: 1px solid;\n",
       "      border-color: #9c9c9c;\n",
       "      font-family: monaco, monospace;\n",
       "  }\n",
       "  th.iris {\n",
       "      background: #303f3f;\n",
       "      color: #e0e0e0;\n",
       "      border-left: 1px solid;\n",
       "      border-color: #9c9c9c;\n",
       "      font-size: 1.05em;\n",
       "      min-width: 50px;\n",
       "      max-width: 125px;\n",
       "  }\n",
       "  tr.iris :first-child {\n",
       "      border-right: 1px solid #9c9c9c !important;\n",
       "  }\n",
       "  td.iris-title {\n",
       "      background: #d5dcdf;\n",
       "      border-top: 1px solid #9c9c9c;\n",
       "      font-weight: bold;\n",
       "  }\n",
       "  .iris-word-cell {\n",
       "      text-align: left !important;\n",
       "      white-space: pre;\n",
       "  }\n",
       "  .iris-subheading-cell {\n",
       "      padding-left: 2em !important;\n",
       "  }\n",
       "  .iris-inclusion-cell {\n",
       "      padding-right: 1em !important;\n",
       "  }\n",
       "  .iris-panel-body {\n",
       "      padding-top: 0px;\n",
       "  }\n",
       "  .iris-panel-title {\n",
       "      padding-left: 3em;\n",
       "  }\n",
       "  .iris-panel-title {\n",
       "      margin-top: 7px;\n",
       "  }\n",
       "</style>\n",
       "<table class=\"iris\" id=\"140011103251440\">\n",
       "    <tr class=\"iris\">\n",
       "<th class=\"iris iris-word-cell\">Segmentation Mask (1)</th>\n",
       "<th class=\"iris iris-word-cell\">time</th>\n",
       "<th class=\"iris iris-word-cell\">projection_x_coordinate</th>\n",
       "<th class=\"iris iris-word-cell\">projection_y_coordinate</th>\n",
       "</tr>\n",
       "    <tr class=\"iris\">\n",
       "<td class=\"iris-word-cell iris-subheading-cell\">Shape</td>\n",
       "<td class=\"iris iris-inclusion-cell\">100</td>\n",
       "<td class=\"iris iris-inclusion-cell\">100</td>\n",
       "<td class=\"iris iris-inclusion-cell\">200</td>\n",
       "</tr>\n",
       "    <tr class=\"iris\">\n",
       "    <td class=\"iris-title iris-word-cell\">Dimension coordinates</td>\n",
       "    <td class=\"iris-title\"></td>\n",
       "    <td class=\"iris-title\"></td>\n",
       "    <td class=\"iris-title\"></td>\n",
       "</tr>\n",
       "<tr class=\"iris\">\n",
       "    <td class=\"iris-word-cell iris-subheading-cell\">\ttime</td>\n",
       "    <td class=\"iris-inclusion-cell\">x</td>\n",
       "    <td class=\"iris-inclusion-cell\">-</td>\n",
       "    <td class=\"iris-inclusion-cell\">-</td>\n",
       "</tr>\n",
       "<tr class=\"iris\">\n",
       "    <td class=\"iris-word-cell iris-subheading-cell\">\tprojection_x_coordinate</td>\n",
       "    <td class=\"iris-inclusion-cell\">-</td>\n",
       "    <td class=\"iris-inclusion-cell\">x</td>\n",
       "    <td class=\"iris-inclusion-cell\">-</td>\n",
       "</tr>\n",
       "<tr class=\"iris\">\n",
       "    <td class=\"iris-word-cell iris-subheading-cell\">\tprojection_y_coordinate</td>\n",
       "    <td class=\"iris-inclusion-cell\">-</td>\n",
       "    <td class=\"iris-inclusion-cell\">-</td>\n",
       "    <td class=\"iris-inclusion-cell\">x</td>\n",
       "</tr>\n",
       "<tr class=\"iris\">\n",
       "    <td class=\"iris-title iris-word-cell\">Auxiliary coordinates</td>\n",
       "    <td class=\"iris-title\"></td>\n",
       "    <td class=\"iris-title\"></td>\n",
       "    <td class=\"iris-title\"></td>\n",
       "</tr>\n",
       "<tr class=\"iris\">\n",
       "    <td class=\"iris-word-cell iris-subheading-cell\">\tlatitude</td>\n",
       "    <td class=\"iris-inclusion-cell\">-</td>\n",
       "    <td class=\"iris-inclusion-cell\">x</td>\n",
       "    <td class=\"iris-inclusion-cell\">x</td>\n",
       "</tr>\n",
       "<tr class=\"iris\">\n",
       "    <td class=\"iris-word-cell iris-subheading-cell\">\tlongitude</td>\n",
       "    <td class=\"iris-inclusion-cell\">-</td>\n",
       "    <td class=\"iris-inclusion-cell\">x</td>\n",
       "    <td class=\"iris-inclusion-cell\">x</td>\n",
       "</tr>\n",
       "</table>\n",
       "        "
      ],
      "text/plain": [
       "<iris 'Cube' of segmentation_mask / (1) (time: 100; projection_x_coordinate: 100; projection_y_coordinate: 200)>"
      ]
     },
     "execution_count": 117,
     "metadata": {},
     "output_type": "execute_result"
    }
   ],
   "source": [
    "mask"
   ]
  },
  {
   "cell_type": "markdown",
   "id": "e390dd63",
   "metadata": {},
   "source": [
    "# calculate_nearestneighbordistance"
   ]
  },
  {
   "cell_type": "code",
   "execution_count": 3,
   "id": "0507f0a0",
   "metadata": {},
   "outputs": [
    {
     "data": {
      "text/html": [
       "<div>\n",
       "<style scoped>\n",
       "    .dataframe tbody tr th:only-of-type {\n",
       "        vertical-align: middle;\n",
       "    }\n",
       "\n",
       "    .dataframe tbody tr th {\n",
       "        vertical-align: top;\n",
       "    }\n",
       "\n",
       "    .dataframe thead th {\n",
       "        text-align: right;\n",
       "    }\n",
       "</style>\n",
       "<table border=\"1\" class=\"dataframe\">\n",
       "  <thead>\n",
       "    <tr style=\"text-align: right;\">\n",
       "      <th></th>\n",
       "      <th>frame</th>\n",
       "      <th>idx</th>\n",
       "      <th>hdim_1</th>\n",
       "      <th>hdim_2</th>\n",
       "      <th>num</th>\n",
       "      <th>threshold_value</th>\n",
       "      <th>feature</th>\n",
       "      <th>time</th>\n",
       "      <th>timestr</th>\n",
       "      <th>projection_x_coordinate</th>\n",
       "      <th>projection_y_coordinate</th>\n",
       "      <th>latitude</th>\n",
       "      <th>longitude</th>\n",
       "      <th>min_distance</th>\n",
       "    </tr>\n",
       "  </thead>\n",
       "  <tbody>\n",
       "    <tr>\n",
       "      <th>0</th>\n",
       "      <td>0</td>\n",
       "      <td>1</td>\n",
       "      <td>14.272026</td>\n",
       "      <td>14.272026</td>\n",
       "      <td>908</td>\n",
       "      <td>1</td>\n",
       "      <td>1</td>\n",
       "      <td>2000-01-01 12:00:00</td>\n",
       "      <td>2000-01-01 12:00:00</td>\n",
       "      <td>14272.026432</td>\n",
       "      <td>14272.026432</td>\n",
       "      <td>[24.14272026431718]</td>\n",
       "      <td>[150.14272026431718]</td>\n",
       "      <td>NaN</td>\n",
       "    </tr>\n",
       "    <tr>\n",
       "      <th>1</th>\n",
       "      <td>1</td>\n",
       "      <td>1</td>\n",
       "      <td>15.228659</td>\n",
       "      <td>14.670732</td>\n",
       "      <td>984</td>\n",
       "      <td>1</td>\n",
       "      <td>2</td>\n",
       "      <td>2000-01-01 12:01:00</td>\n",
       "      <td>2000-01-01 12:01:00</td>\n",
       "      <td>15228.658537</td>\n",
       "      <td>14670.731707</td>\n",
       "      <td>[24.15228658536585]</td>\n",
       "      <td>[150.14670731707318]</td>\n",
       "      <td>NaN</td>\n",
       "    </tr>\n",
       "    <tr>\n",
       "      <th>2</th>\n",
       "      <td>2</td>\n",
       "      <td>1</td>\n",
       "      <td>16.162111</td>\n",
       "      <td>15.055608</td>\n",
       "      <td>1061</td>\n",
       "      <td>1</td>\n",
       "      <td>3</td>\n",
       "      <td>2000-01-01 12:02:00</td>\n",
       "      <td>2000-01-01 12:02:00</td>\n",
       "      <td>16162.111216</td>\n",
       "      <td>15055.607917</td>\n",
       "      <td>[24.16162111215834]</td>\n",
       "      <td>[150.1505560791706]</td>\n",
       "      <td>NaN</td>\n",
       "    </tr>\n",
       "    <tr>\n",
       "      <th>3</th>\n",
       "      <td>3</td>\n",
       "      <td>1</td>\n",
       "      <td>17.130396</td>\n",
       "      <td>15.406167</td>\n",
       "      <td>1135</td>\n",
       "      <td>1</td>\n",
       "      <td>4</td>\n",
       "      <td>2000-01-01 12:03:00</td>\n",
       "      <td>2000-01-01 12:03:00</td>\n",
       "      <td>17130.396476</td>\n",
       "      <td>15406.167401</td>\n",
       "      <td>[24.171303964757712]</td>\n",
       "      <td>[150.15406167400883]</td>\n",
       "      <td>NaN</td>\n",
       "    </tr>\n",
       "    <tr>\n",
       "      <th>4</th>\n",
       "      <td>4</td>\n",
       "      <td>1</td>\n",
       "      <td>18.143802</td>\n",
       "      <td>15.751240</td>\n",
       "      <td>1210</td>\n",
       "      <td>1</td>\n",
       "      <td>5</td>\n",
       "      <td>2000-01-01 12:04:00</td>\n",
       "      <td>2000-01-01 12:04:00</td>\n",
       "      <td>18143.801653</td>\n",
       "      <td>15751.239669</td>\n",
       "      <td>[24.181438016528926]</td>\n",
       "      <td>[150.15751239669422]</td>\n",
       "      <td>NaN</td>\n",
       "    </tr>\n",
       "    <tr>\n",
       "      <th>...</th>\n",
       "      <td>...</td>\n",
       "      <td>...</td>\n",
       "      <td>...</td>\n",
       "      <td>...</td>\n",
       "      <td>...</td>\n",
       "      <td>...</td>\n",
       "      <td>...</td>\n",
       "      <td>...</td>\n",
       "      <td>...</td>\n",
       "      <td>...</td>\n",
       "      <td>...</td>\n",
       "      <td>...</td>\n",
       "      <td>...</td>\n",
       "      <td>...</td>\n",
       "    </tr>\n",
       "    <tr>\n",
       "      <th>105</th>\n",
       "      <td>67</td>\n",
       "      <td>2</td>\n",
       "      <td>85.393745</td>\n",
       "      <td>130.422614</td>\n",
       "      <td>1247</td>\n",
       "      <td>1</td>\n",
       "      <td>106</td>\n",
       "      <td>2000-01-01 13:07:00</td>\n",
       "      <td>2000-01-01 13:07:00</td>\n",
       "      <td>85393.744988</td>\n",
       "      <td>130422.614274</td>\n",
       "      <td>[24.853937449879712]</td>\n",
       "      <td>[151.3042261427426]</td>\n",
       "      <td>101132.420828</td>\n",
       "    </tr>\n",
       "    <tr>\n",
       "      <th>106</th>\n",
       "      <td>68</td>\n",
       "      <td>1</td>\n",
       "      <td>83.326203</td>\n",
       "      <td>30.149733</td>\n",
       "      <td>1496</td>\n",
       "      <td>1</td>\n",
       "      <td>107</td>\n",
       "      <td>2000-01-01 13:08:00</td>\n",
       "      <td>2000-01-01 13:08:00</td>\n",
       "      <td>83326.203209</td>\n",
       "      <td>30149.732620</td>\n",
       "      <td>[24.83326203208556]</td>\n",
       "      <td>[150.30149732620322]</td>\n",
       "      <td>101456.493284</td>\n",
       "    </tr>\n",
       "    <tr>\n",
       "      <th>107</th>\n",
       "      <td>68</td>\n",
       "      <td>2</td>\n",
       "      <td>86.731211</td>\n",
       "      <td>131.549072</td>\n",
       "      <td>1131</td>\n",
       "      <td>1</td>\n",
       "      <td>108</td>\n",
       "      <td>2000-01-01 13:08:00</td>\n",
       "      <td>2000-01-01 13:08:00</td>\n",
       "      <td>86731.211317</td>\n",
       "      <td>131549.071618</td>\n",
       "      <td>[24.867312113174183]</td>\n",
       "      <td>[151.31549071618036]</td>\n",
       "      <td>101456.493284</td>\n",
       "    </tr>\n",
       "    <tr>\n",
       "      <th>108</th>\n",
       "      <td>69</td>\n",
       "      <td>1</td>\n",
       "      <td>85.863315</td>\n",
       "      <td>30.864101</td>\n",
       "      <td>1273</td>\n",
       "      <td>1</td>\n",
       "      <td>109</td>\n",
       "      <td>2000-01-01 13:09:00</td>\n",
       "      <td>2000-01-01 13:09:00</td>\n",
       "      <td>85863.315004</td>\n",
       "      <td>30864.100550</td>\n",
       "      <td>[24.858633150039275]</td>\n",
       "      <td>[150.30864100549883]</td>\n",
       "      <td>101956.526214</td>\n",
       "    </tr>\n",
       "    <tr>\n",
       "      <th>109</th>\n",
       "      <td>69</td>\n",
       "      <td>2</td>\n",
       "      <td>87.981336</td>\n",
       "      <td>132.798625</td>\n",
       "      <td>1018</td>\n",
       "      <td>1</td>\n",
       "      <td>110</td>\n",
       "      <td>2000-01-01 13:09:00</td>\n",
       "      <td>2000-01-01 13:09:00</td>\n",
       "      <td>87981.335953</td>\n",
       "      <td>132798.624754</td>\n",
       "      <td>[24.879813359528487]</td>\n",
       "      <td>[151.3279862475442]</td>\n",
       "      <td>101956.526214</td>\n",
       "    </tr>\n",
       "  </tbody>\n",
       "</table>\n",
       "<p>110 rows × 14 columns</p>\n",
       "</div>"
      ],
      "text/plain": [
       "     frame  idx     hdim_1      hdim_2   num  threshold_value  feature  \\\n",
       "0        0    1  14.272026   14.272026   908                1        1   \n",
       "1        1    1  15.228659   14.670732   984                1        2   \n",
       "2        2    1  16.162111   15.055608  1061                1        3   \n",
       "3        3    1  17.130396   15.406167  1135                1        4   \n",
       "4        4    1  18.143802   15.751240  1210                1        5   \n",
       "..     ...  ...        ...         ...   ...              ...      ...   \n",
       "105     67    2  85.393745  130.422614  1247                1      106   \n",
       "106     68    1  83.326203   30.149733  1496                1      107   \n",
       "107     68    2  86.731211  131.549072  1131                1      108   \n",
       "108     69    1  85.863315   30.864101  1273                1      109   \n",
       "109     69    2  87.981336  132.798625  1018                1      110   \n",
       "\n",
       "                    time              timestr  projection_x_coordinate  \\\n",
       "0    2000-01-01 12:00:00  2000-01-01 12:00:00             14272.026432   \n",
       "1    2000-01-01 12:01:00  2000-01-01 12:01:00             15228.658537   \n",
       "2    2000-01-01 12:02:00  2000-01-01 12:02:00             16162.111216   \n",
       "3    2000-01-01 12:03:00  2000-01-01 12:03:00             17130.396476   \n",
       "4    2000-01-01 12:04:00  2000-01-01 12:04:00             18143.801653   \n",
       "..                   ...                  ...                      ...   \n",
       "105  2000-01-01 13:07:00  2000-01-01 13:07:00             85393.744988   \n",
       "106  2000-01-01 13:08:00  2000-01-01 13:08:00             83326.203209   \n",
       "107  2000-01-01 13:08:00  2000-01-01 13:08:00             86731.211317   \n",
       "108  2000-01-01 13:09:00  2000-01-01 13:09:00             85863.315004   \n",
       "109  2000-01-01 13:09:00  2000-01-01 13:09:00             87981.335953   \n",
       "\n",
       "     projection_y_coordinate              latitude             longitude  \\\n",
       "0               14272.026432   [24.14272026431718]  [150.14272026431718]   \n",
       "1               14670.731707   [24.15228658536585]  [150.14670731707318]   \n",
       "2               15055.607917   [24.16162111215834]   [150.1505560791706]   \n",
       "3               15406.167401  [24.171303964757712]  [150.15406167400883]   \n",
       "4               15751.239669  [24.181438016528926]  [150.15751239669422]   \n",
       "..                       ...                   ...                   ...   \n",
       "105            130422.614274  [24.853937449879712]   [151.3042261427426]   \n",
       "106             30149.732620   [24.83326203208556]  [150.30149732620322]   \n",
       "107            131549.071618  [24.867312113174183]  [151.31549071618036]   \n",
       "108             30864.100550  [24.858633150039275]  [150.30864100549883]   \n",
       "109            132798.624754  [24.879813359528487]   [151.3279862475442]   \n",
       "\n",
       "      min_distance  \n",
       "0              NaN  \n",
       "1              NaN  \n",
       "2              NaN  \n",
       "3              NaN  \n",
       "4              NaN  \n",
       "..             ...  \n",
       "105  101132.420828  \n",
       "106  101456.493284  \n",
       "107  101456.493284  \n",
       "108  101956.526214  \n",
       "109  101956.526214  \n",
       "\n",
       "[110 rows x 14 columns]"
      ]
     },
     "execution_count": 3,
     "metadata": {},
     "output_type": "execute_result"
    }
   ],
   "source": [
    "tobac.calculate_nearestneighbordistance(features)"
   ]
  },
  {
   "cell_type": "markdown",
   "id": "f2dcdd5f",
   "metadata": {},
   "source": [
    "# calculate_distance"
   ]
  },
  {
   "cell_type": "code",
   "execution_count": 7,
   "id": "67f9d02f",
   "metadata": {},
   "outputs": [
    {
     "data": {
      "text/plain": [
       "numpy.float64"
      ]
     },
     "execution_count": 7,
     "metadata": {},
     "output_type": "execute_result"
    }
   ],
   "source": [
    "type(tobac.calculate_distance(features.loc[1], features.loc[2]))"
   ]
  },
  {
   "cell_type": "code",
   "execution_count": 79,
   "id": "f2d5ae5d",
   "metadata": {},
   "outputs": [
    {
     "data": {
      "text/plain": [
       "1009.6849019482667"
      ]
     },
     "execution_count": 79,
     "metadata": {},
     "output_type": "execute_result"
    }
   ],
   "source": [
    "tobac.analysis.calculate_distance(features.loc[1], features.loc[2])"
   ]
  },
  {
   "cell_type": "code",
   "execution_count": 72,
   "id": "d1bb0d1c",
   "metadata": {},
   "outputs": [
    {
     "data": {
      "text/plain": [
       "0    1036.393208\n",
       "1       0.000000\n",
       "2    1009.684902\n",
       "3    2038.988192\n",
       "dtype: float64"
      ]
     },
     "execution_count": 72,
     "metadata": {},
     "output_type": "execute_result"
    }
   ],
   "source": [
    "tobac.calculate_distance(features.loc[1], features[0:4])"
   ]
  },
  {
   "cell_type": "code",
   "execution_count": 54,
   "id": "2f5deec9",
   "metadata": {},
   "outputs": [
    {
     "data": {
      "text/plain": [
       "0    1036.393208\n",
       "1       0.000000\n",
       "2    1009.684902\n",
       "3    2038.988192\n",
       "dtype: float64"
      ]
     },
     "execution_count": 54,
     "metadata": {},
     "output_type": "execute_result"
    }
   ],
   "source": [
    "tobac.calculate_distance(features[0:4], features.loc[1])"
   ]
  },
  {
   "cell_type": "code",
   "execution_count": 65,
   "id": "4d799434",
   "metadata": {},
   "outputs": [
    {
     "data": {
      "text/plain": [
       "0    0.0\n",
       "1    0.0\n",
       "2    0.0\n",
       "3    0.0\n",
       "dtype: float64"
      ]
     },
     "execution_count": 65,
     "metadata": {},
     "output_type": "execute_result"
    }
   ],
   "source": [
    "tobac.calculate_distance(features[0:4], features[0:4])"
   ]
  },
  {
   "cell_type": "code",
   "execution_count": 67,
   "id": "f18bcb6c",
   "metadata": {},
   "outputs": [
    {
     "data": {
      "text/plain": [
       "0      NaN\n",
       "1      0.0\n",
       "2      0.0\n",
       "3      0.0\n",
       "4      NaN\n",
       "      ... \n",
       "105    NaN\n",
       "106    NaN\n",
       "107    NaN\n",
       "108    NaN\n",
       "109    NaN\n",
       "Length: 110, dtype: float64"
      ]
     },
     "execution_count": 67,
     "metadata": {},
     "output_type": "execute_result"
    }
   ],
   "source": [
    "tobac.calculate_distance(features[1:4], features)"
   ]
  },
  {
   "cell_type": "markdown",
   "id": "7245cb89",
   "metadata": {},
   "source": [
    "# calculate_velocity"
   ]
  },
  {
   "cell_type": "code",
   "execution_count": 6,
   "id": "71716b66",
   "metadata": {},
   "outputs": [
    {
     "name": "stderr",
     "output_type": "stream",
     "text": [
      "/home/nils/anaconda3/envs/tobac/lib/python3.10/site-packages/tobac/analysis.py:212: SettingWithCopyWarning: \n",
      "A value is trying to be set on a copy of a slice from a DataFrame.\n",
      "Try using .loc[row_indexer,col_indexer] = value instead\n",
      "\n",
      "See the caveats in the documentation: https://pandas.pydata.org/pandas-docs/stable/user_guide/indexing.html#returning-a-view-versus-a-copy\n",
      "  track.at[index_i,'v']=velocity\n"
     ]
    },
    {
     "data": {
      "text/html": [
       "<div>\n",
       "<style scoped>\n",
       "    .dataframe tbody tr th:only-of-type {\n",
       "        vertical-align: middle;\n",
       "    }\n",
       "\n",
       "    .dataframe tbody tr th {\n",
       "        vertical-align: top;\n",
       "    }\n",
       "\n",
       "    .dataframe thead th {\n",
       "        text-align: right;\n",
       "    }\n",
       "</style>\n",
       "<table border=\"1\" class=\"dataframe\">\n",
       "  <thead>\n",
       "    <tr style=\"text-align: right;\">\n",
       "      <th></th>\n",
       "      <th>frame</th>\n",
       "      <th>idx</th>\n",
       "      <th>hdim_1</th>\n",
       "      <th>hdim_2</th>\n",
       "      <th>num</th>\n",
       "      <th>threshold_value</th>\n",
       "      <th>feature</th>\n",
       "      <th>time</th>\n",
       "      <th>timestr</th>\n",
       "      <th>projection_x_coordinate</th>\n",
       "      <th>projection_y_coordinate</th>\n",
       "      <th>latitude</th>\n",
       "      <th>longitude</th>\n",
       "      <th>ncells</th>\n",
       "      <th>cell</th>\n",
       "      <th>time_cell</th>\n",
       "      <th>v</th>\n",
       "    </tr>\n",
       "  </thead>\n",
       "  <tbody>\n",
       "    <tr>\n",
       "      <th>107</th>\n",
       "      <td>68</td>\n",
       "      <td>2</td>\n",
       "      <td>86.731211</td>\n",
       "      <td>131.549072</td>\n",
       "      <td>1131</td>\n",
       "      <td>1</td>\n",
       "      <td>108</td>\n",
       "      <td>2000-01-01 13:08:00</td>\n",
       "      <td>2000-01-01 13:08:00</td>\n",
       "      <td>86731.211317</td>\n",
       "      <td>131549.071618</td>\n",
       "      <td>[24.867312113174183]</td>\n",
       "      <td>[151.31549071618036]</td>\n",
       "      <td>1127.0</td>\n",
       "      <td>3</td>\n",
       "      <td>0 days 00:18:00</td>\n",
       "      <td>29.458986</td>\n",
       "    </tr>\n",
       "    <tr>\n",
       "      <th>108</th>\n",
       "      <td>69</td>\n",
       "      <td>1</td>\n",
       "      <td>85.863315</td>\n",
       "      <td>30.864101</td>\n",
       "      <td>1273</td>\n",
       "      <td>1</td>\n",
       "      <td>109</td>\n",
       "      <td>2000-01-01 13:09:00</td>\n",
       "      <td>2000-01-01 13:09:00</td>\n",
       "      <td>85863.315004</td>\n",
       "      <td>30864.100550</td>\n",
       "      <td>[24.858633150039275]</td>\n",
       "      <td>[150.30864100549883]</td>\n",
       "      <td>1015.0</td>\n",
       "      <td>2</td>\n",
       "      <td>0 days 00:29:00</td>\n",
       "      <td>NaN</td>\n",
       "    </tr>\n",
       "    <tr>\n",
       "      <th>109</th>\n",
       "      <td>69</td>\n",
       "      <td>2</td>\n",
       "      <td>87.981336</td>\n",
       "      <td>132.798625</td>\n",
       "      <td>1018</td>\n",
       "      <td>1</td>\n",
       "      <td>110</td>\n",
       "      <td>2000-01-01 13:09:00</td>\n",
       "      <td>2000-01-01 13:09:00</td>\n",
       "      <td>87981.335953</td>\n",
       "      <td>132798.624754</td>\n",
       "      <td>[24.879813359528487]</td>\n",
       "      <td>[151.3279862475442]</td>\n",
       "      <td>1015.0</td>\n",
       "      <td>3</td>\n",
       "      <td>0 days 00:19:00</td>\n",
       "      <td>NaN</td>\n",
       "    </tr>\n",
       "  </tbody>\n",
       "</table>\n",
       "</div>"
      ],
      "text/plain": [
       "     frame  idx     hdim_1      hdim_2   num  threshold_value  feature  \\\n",
       "107     68    2  86.731211  131.549072  1131                1      108   \n",
       "108     69    1  85.863315   30.864101  1273                1      109   \n",
       "109     69    2  87.981336  132.798625  1018                1      110   \n",
       "\n",
       "                    time              timestr  projection_x_coordinate  \\\n",
       "107  2000-01-01 13:08:00  2000-01-01 13:08:00             86731.211317   \n",
       "108  2000-01-01 13:09:00  2000-01-01 13:09:00             85863.315004   \n",
       "109  2000-01-01 13:09:00  2000-01-01 13:09:00             87981.335953   \n",
       "\n",
       "     projection_y_coordinate              latitude             longitude  \\\n",
       "107            131549.071618  [24.867312113174183]  [151.31549071618036]   \n",
       "108             30864.100550  [24.858633150039275]  [150.30864100549883]   \n",
       "109            132798.624754  [24.879813359528487]   [151.3279862475442]   \n",
       "\n",
       "     ncells cell       time_cell          v  \n",
       "107  1127.0    3 0 days 00:18:00  29.458986  \n",
       "108  1015.0    2 0 days 00:29:00        NaN  \n",
       "109  1015.0    3 0 days 00:19:00        NaN  "
      ]
     },
     "execution_count": 6,
     "metadata": {},
     "output_type": "execute_result"
    }
   ],
   "source": [
    "tobac.calculate_velocity(track[-3:])"
   ]
  },
  {
   "cell_type": "markdown",
   "id": "5b1ec342",
   "metadata": {},
   "source": [
    "# calculate_velocity_individual"
   ]
  },
  {
   "cell_type": "code",
   "execution_count": 9,
   "id": "a0b26655",
   "metadata": {},
   "outputs": [
    {
     "data": {
      "text/plain": [
       "17.273220127421794"
      ]
     },
     "execution_count": 9,
     "metadata": {},
     "output_type": "execute_result"
    }
   ],
   "source": [
    "mask = track['cell'] == 1\n",
    "track_cell = track.where(mask)\n",
    "\n",
    "tobac.analysis.calculate_velocity_individual(track_cell.loc[0], track_cell.loc[1])"
   ]
  },
  {
   "cell_type": "code",
   "execution_count": 12,
   "id": "539d958f",
   "metadata": {},
   "outputs": [
    {
     "data": {
      "text/plain": [
       "frame                                       0.0\n",
       "idx                                         1.0\n",
       "hdim_1                                14.272026\n",
       "hdim_2                                14.272026\n",
       "num                                       908.0\n",
       "threshold_value                             1.0\n",
       "feature                                     1.0\n",
       "time                        2000-01-01 12:00:00\n",
       "timestr                     2000-01-01 12:00:00\n",
       "projection_x_coordinate            14272.026432\n",
       "projection_y_coordinate            14272.026432\n",
       "latitude                    [24.14272026431718]\n",
       "longitude                  [150.14272026431718]\n",
       "ncells                                    904.0\n",
       "cell                                          1\n",
       "time_cell                       0 days 00:00:00\n",
       "Name: 0, dtype: object"
      ]
     },
     "execution_count": 12,
     "metadata": {},
     "output_type": "execute_result"
    }
   ],
   "source": [
    "track_cell.loc[0]"
   ]
  },
  {
   "cell_type": "code",
   "execution_count": 25,
   "id": "6b45068d",
   "metadata": {},
   "outputs": [
    {
     "data": {
      "text/plain": [
       "120.0"
      ]
     },
     "execution_count": 25,
     "metadata": {},
     "output_type": "execute_result"
    }
   ],
   "source": [
    "(track_cell.loc[2][\"time\"] - track_cell.loc[0][\"time\"]).total_seconds()"
   ]
  },
  {
   "cell_type": "code",
   "execution_count": 26,
   "id": "dde118a5",
   "metadata": {},
   "outputs": [
    {
     "data": {
      "text/plain": [
       "datetime.timedelta"
      ]
     },
     "execution_count": 26,
     "metadata": {},
     "output_type": "execute_result"
    }
   ],
   "source": [
    "type(track_cell.loc[2][\"time\"] - track_cell.loc[0][\"time\"])"
   ]
  },
  {
   "cell_type": "code",
   "execution_count": 7,
   "id": "5f6f8b87",
   "metadata": {},
   "outputs": [
    {
     "data": {
      "text/html": [
       "<div>\n",
       "<style scoped>\n",
       "    .dataframe tbody tr th:only-of-type {\n",
       "        vertical-align: middle;\n",
       "    }\n",
       "\n",
       "    .dataframe tbody tr th {\n",
       "        vertical-align: top;\n",
       "    }\n",
       "\n",
       "    .dataframe thead th {\n",
       "        text-align: right;\n",
       "    }\n",
       "</style>\n",
       "<table border=\"1\" class=\"dataframe\">\n",
       "  <thead>\n",
       "    <tr style=\"text-align: right;\">\n",
       "      <th></th>\n",
       "      <th>frame</th>\n",
       "      <th>idx</th>\n",
       "      <th>hdim_1</th>\n",
       "      <th>hdim_2</th>\n",
       "      <th>num</th>\n",
       "      <th>threshold_value</th>\n",
       "      <th>feature</th>\n",
       "      <th>time</th>\n",
       "      <th>timestr</th>\n",
       "      <th>projection_x_coordinate</th>\n",
       "      <th>projection_y_coordinate</th>\n",
       "      <th>latitude</th>\n",
       "      <th>longitude</th>\n",
       "      <th>ncells</th>\n",
       "      <th>cell</th>\n",
       "      <th>time_cell</th>\n",
       "      <th>v</th>\n",
       "    </tr>\n",
       "  </thead>\n",
       "  <tbody>\n",
       "    <tr>\n",
       "      <th>0</th>\n",
       "      <td>0</td>\n",
       "      <td>1</td>\n",
       "      <td>14.272026</td>\n",
       "      <td>14.272026</td>\n",
       "      <td>908</td>\n",
       "      <td>1</td>\n",
       "      <td>1</td>\n",
       "      <td>2000-01-01 12:00:00</td>\n",
       "      <td>2000-01-01 12:00:00</td>\n",
       "      <td>14272.026432</td>\n",
       "      <td>14272.026432</td>\n",
       "      <td>[24.14272026431718]</td>\n",
       "      <td>[150.14272026431718]</td>\n",
       "      <td>904.0</td>\n",
       "      <td>1</td>\n",
       "      <td>0 days 00:00:00</td>\n",
       "      <td>17.273220</td>\n",
       "    </tr>\n",
       "    <tr>\n",
       "      <th>1</th>\n",
       "      <td>1</td>\n",
       "      <td>1</td>\n",
       "      <td>15.228659</td>\n",
       "      <td>14.670732</td>\n",
       "      <td>984</td>\n",
       "      <td>1</td>\n",
       "      <td>2</td>\n",
       "      <td>2000-01-01 12:01:00</td>\n",
       "      <td>2000-01-01 12:01:00</td>\n",
       "      <td>15228.658537</td>\n",
       "      <td>14670.731707</td>\n",
       "      <td>[24.15228658536585]</td>\n",
       "      <td>[150.14670731707318]</td>\n",
       "      <td>983.0</td>\n",
       "      <td>1</td>\n",
       "      <td>0 days 00:01:00</td>\n",
       "      <td>16.828082</td>\n",
       "    </tr>\n",
       "    <tr>\n",
       "      <th>2</th>\n",
       "      <td>2</td>\n",
       "      <td>1</td>\n",
       "      <td>16.162111</td>\n",
       "      <td>15.055608</td>\n",
       "      <td>1061</td>\n",
       "      <td>1</td>\n",
       "      <td>3</td>\n",
       "      <td>2000-01-01 12:02:00</td>\n",
       "      <td>2000-01-01 12:02:00</td>\n",
       "      <td>16162.111216</td>\n",
       "      <td>15055.607917</td>\n",
       "      <td>[24.16162111215834]</td>\n",
       "      <td>[150.1505560791706]</td>\n",
       "      <td>1059.0</td>\n",
       "      <td>1</td>\n",
       "      <td>0 days 00:02:00</td>\n",
       "      <td>17.163174</td>\n",
       "    </tr>\n",
       "    <tr>\n",
       "      <th>3</th>\n",
       "      <td>3</td>\n",
       "      <td>1</td>\n",
       "      <td>17.130396</td>\n",
       "      <td>15.406167</td>\n",
       "      <td>1135</td>\n",
       "      <td>1</td>\n",
       "      <td>4</td>\n",
       "      <td>2000-01-01 12:03:00</td>\n",
       "      <td>2000-01-01 12:03:00</td>\n",
       "      <td>17130.396476</td>\n",
       "      <td>15406.167401</td>\n",
       "      <td>[24.171303964757712]</td>\n",
       "      <td>[150.15406167400883]</td>\n",
       "      <td>1135.0</td>\n",
       "      <td>1</td>\n",
       "      <td>0 days 00:03:00</td>\n",
       "      <td>17.842404</td>\n",
       "    </tr>\n",
       "    <tr>\n",
       "      <th>4</th>\n",
       "      <td>4</td>\n",
       "      <td>1</td>\n",
       "      <td>18.143802</td>\n",
       "      <td>15.751240</td>\n",
       "      <td>1210</td>\n",
       "      <td>1</td>\n",
       "      <td>5</td>\n",
       "      <td>2000-01-01 12:04:00</td>\n",
       "      <td>2000-01-01 12:04:00</td>\n",
       "      <td>18143.801653</td>\n",
       "      <td>15751.239669</td>\n",
       "      <td>[24.181438016528926]</td>\n",
       "      <td>[150.15751239669422]</td>\n",
       "      <td>1208.0</td>\n",
       "      <td>1</td>\n",
       "      <td>0 days 00:04:00</td>\n",
       "      <td>22.389333</td>\n",
       "    </tr>\n",
       "    <tr>\n",
       "      <th>...</th>\n",
       "      <td>...</td>\n",
       "      <td>...</td>\n",
       "      <td>...</td>\n",
       "      <td>...</td>\n",
       "      <td>...</td>\n",
       "      <td>...</td>\n",
       "      <td>...</td>\n",
       "      <td>...</td>\n",
       "      <td>...</td>\n",
       "      <td>...</td>\n",
       "      <td>...</td>\n",
       "      <td>...</td>\n",
       "      <td>...</td>\n",
       "      <td>...</td>\n",
       "      <td>...</td>\n",
       "      <td>...</td>\n",
       "      <td>...</td>\n",
       "    </tr>\n",
       "    <tr>\n",
       "      <th>105</th>\n",
       "      <td>67</td>\n",
       "      <td>2</td>\n",
       "      <td>85.393745</td>\n",
       "      <td>130.422614</td>\n",
       "      <td>1247</td>\n",
       "      <td>1</td>\n",
       "      <td>106</td>\n",
       "      <td>2000-01-01 13:07:00</td>\n",
       "      <td>2000-01-01 13:07:00</td>\n",
       "      <td>85393.744988</td>\n",
       "      <td>130422.614274</td>\n",
       "      <td>[24.853937449879712]</td>\n",
       "      <td>[151.3042261427426]</td>\n",
       "      <td>1247.0</td>\n",
       "      <td>3</td>\n",
       "      <td>0 days 00:17:00</td>\n",
       "      <td>29.143907</td>\n",
       "    </tr>\n",
       "    <tr>\n",
       "      <th>106</th>\n",
       "      <td>68</td>\n",
       "      <td>1</td>\n",
       "      <td>83.326203</td>\n",
       "      <td>30.149733</td>\n",
       "      <td>1496</td>\n",
       "      <td>1</td>\n",
       "      <td>107</td>\n",
       "      <td>2000-01-01 13:08:00</td>\n",
       "      <td>2000-01-01 13:08:00</td>\n",
       "      <td>83326.203209</td>\n",
       "      <td>30149.732620</td>\n",
       "      <td>[24.83326203208556]</td>\n",
       "      <td>[150.30149732620322]</td>\n",
       "      <td>1127.0</td>\n",
       "      <td>2</td>\n",
       "      <td>0 days 00:28:00</td>\n",
       "      <td>43.929419</td>\n",
       "    </tr>\n",
       "    <tr>\n",
       "      <th>107</th>\n",
       "      <td>68</td>\n",
       "      <td>2</td>\n",
       "      <td>86.731211</td>\n",
       "      <td>131.549072</td>\n",
       "      <td>1131</td>\n",
       "      <td>1</td>\n",
       "      <td>108</td>\n",
       "      <td>2000-01-01 13:08:00</td>\n",
       "      <td>2000-01-01 13:08:00</td>\n",
       "      <td>86731.211317</td>\n",
       "      <td>131549.071618</td>\n",
       "      <td>[24.867312113174183]</td>\n",
       "      <td>[151.31549071618036]</td>\n",
       "      <td>1127.0</td>\n",
       "      <td>3</td>\n",
       "      <td>0 days 00:18:00</td>\n",
       "      <td>29.458986</td>\n",
       "    </tr>\n",
       "    <tr>\n",
       "      <th>108</th>\n",
       "      <td>69</td>\n",
       "      <td>1</td>\n",
       "      <td>85.863315</td>\n",
       "      <td>30.864101</td>\n",
       "      <td>1273</td>\n",
       "      <td>1</td>\n",
       "      <td>109</td>\n",
       "      <td>2000-01-01 13:09:00</td>\n",
       "      <td>2000-01-01 13:09:00</td>\n",
       "      <td>85863.315004</td>\n",
       "      <td>30864.100550</td>\n",
       "      <td>[24.858633150039275]</td>\n",
       "      <td>[150.30864100549883]</td>\n",
       "      <td>1015.0</td>\n",
       "      <td>2</td>\n",
       "      <td>0 days 00:29:00</td>\n",
       "      <td>NaN</td>\n",
       "    </tr>\n",
       "    <tr>\n",
       "      <th>109</th>\n",
       "      <td>69</td>\n",
       "      <td>2</td>\n",
       "      <td>87.981336</td>\n",
       "      <td>132.798625</td>\n",
       "      <td>1018</td>\n",
       "      <td>1</td>\n",
       "      <td>110</td>\n",
       "      <td>2000-01-01 13:09:00</td>\n",
       "      <td>2000-01-01 13:09:00</td>\n",
       "      <td>87981.335953</td>\n",
       "      <td>132798.624754</td>\n",
       "      <td>[24.879813359528487]</td>\n",
       "      <td>[151.3279862475442]</td>\n",
       "      <td>1015.0</td>\n",
       "      <td>3</td>\n",
       "      <td>0 days 00:19:00</td>\n",
       "      <td>NaN</td>\n",
       "    </tr>\n",
       "  </tbody>\n",
       "</table>\n",
       "<p>110 rows × 17 columns</p>\n",
       "</div>"
      ],
      "text/plain": [
       "     frame  idx     hdim_1      hdim_2   num  threshold_value  feature  \\\n",
       "0        0    1  14.272026   14.272026   908                1        1   \n",
       "1        1    1  15.228659   14.670732   984                1        2   \n",
       "2        2    1  16.162111   15.055608  1061                1        3   \n",
       "3        3    1  17.130396   15.406167  1135                1        4   \n",
       "4        4    1  18.143802   15.751240  1210                1        5   \n",
       "..     ...  ...        ...         ...   ...              ...      ...   \n",
       "105     67    2  85.393745  130.422614  1247                1      106   \n",
       "106     68    1  83.326203   30.149733  1496                1      107   \n",
       "107     68    2  86.731211  131.549072  1131                1      108   \n",
       "108     69    1  85.863315   30.864101  1273                1      109   \n",
       "109     69    2  87.981336  132.798625  1018                1      110   \n",
       "\n",
       "                    time              timestr  projection_x_coordinate  \\\n",
       "0    2000-01-01 12:00:00  2000-01-01 12:00:00             14272.026432   \n",
       "1    2000-01-01 12:01:00  2000-01-01 12:01:00             15228.658537   \n",
       "2    2000-01-01 12:02:00  2000-01-01 12:02:00             16162.111216   \n",
       "3    2000-01-01 12:03:00  2000-01-01 12:03:00             17130.396476   \n",
       "4    2000-01-01 12:04:00  2000-01-01 12:04:00             18143.801653   \n",
       "..                   ...                  ...                      ...   \n",
       "105  2000-01-01 13:07:00  2000-01-01 13:07:00             85393.744988   \n",
       "106  2000-01-01 13:08:00  2000-01-01 13:08:00             83326.203209   \n",
       "107  2000-01-01 13:08:00  2000-01-01 13:08:00             86731.211317   \n",
       "108  2000-01-01 13:09:00  2000-01-01 13:09:00             85863.315004   \n",
       "109  2000-01-01 13:09:00  2000-01-01 13:09:00             87981.335953   \n",
       "\n",
       "     projection_y_coordinate              latitude             longitude  \\\n",
       "0               14272.026432   [24.14272026431718]  [150.14272026431718]   \n",
       "1               14670.731707   [24.15228658536585]  [150.14670731707318]   \n",
       "2               15055.607917   [24.16162111215834]   [150.1505560791706]   \n",
       "3               15406.167401  [24.171303964757712]  [150.15406167400883]   \n",
       "4               15751.239669  [24.181438016528926]  [150.15751239669422]   \n",
       "..                       ...                   ...                   ...   \n",
       "105            130422.614274  [24.853937449879712]   [151.3042261427426]   \n",
       "106             30149.732620   [24.83326203208556]  [150.30149732620322]   \n",
       "107            131549.071618  [24.867312113174183]  [151.31549071618036]   \n",
       "108             30864.100550  [24.858633150039275]  [150.30864100549883]   \n",
       "109            132798.624754  [24.879813359528487]   [151.3279862475442]   \n",
       "\n",
       "     ncells cell       time_cell          v  \n",
       "0     904.0    1 0 days 00:00:00  17.273220  \n",
       "1     983.0    1 0 days 00:01:00  16.828082  \n",
       "2    1059.0    1 0 days 00:02:00  17.163174  \n",
       "3    1135.0    1 0 days 00:03:00  17.842404  \n",
       "4    1208.0    1 0 days 00:04:00  22.389333  \n",
       "..      ...  ...             ...        ...  \n",
       "105  1247.0    3 0 days 00:17:00  29.143907  \n",
       "106  1127.0    2 0 days 00:28:00  43.929419  \n",
       "107  1127.0    3 0 days 00:18:00  29.458986  \n",
       "108  1015.0    2 0 days 00:29:00        NaN  \n",
       "109  1015.0    3 0 days 00:19:00        NaN  \n",
       "\n",
       "[110 rows x 17 columns]"
      ]
     },
     "execution_count": 7,
     "metadata": {},
     "output_type": "execute_result"
    }
   ],
   "source": [
    "tobac.calculate_velocity(track)"
   ]
  },
  {
   "cell_type": "code",
   "execution_count": 15,
   "id": "989e06c5",
   "metadata": {},
   "outputs": [
    {
     "data": {
      "text/plain": [
       "(array([0, 0, 0, 0, 0, 1, 1, 1, 1, 0, 0, 1, 0, 1, 0, 0, 3, 3, 4, 6, 6, 1,\n",
       "        6, 1, 4, 2, 2, 3, 5]),\n",
       " array([ 0,  1,  2,  3,  4,  5,  6,  7,  8,  9, 10, 11, 12, 13, 14, 15, 16,\n",
       "        17, 18, 19, 20, 21, 22, 23, 24, 25, 26, 27, 28, 29]))"
      ]
     },
     "execution_count": 15,
     "metadata": {},
     "output_type": "execute_result"
    }
   ],
   "source": [
    "tobac.velocity_histogram(track)"
   ]
  },
  {
   "cell_type": "code",
   "execution_count": 27,
   "id": "7c4b59aa",
   "metadata": {},
   "outputs": [
    {
     "data": {
      "text/plain": [
       "array([7285.56919657, 7285.56919657, 7285.56919657, 7285.56919657,\n",
       "       7285.56919657, 7285.56919657, 7285.56919657, 7285.56919657,\n",
       "       7285.56919657, 7285.56919657])"
      ]
     },
     "execution_count": 27,
     "metadata": {},
     "output_type": "execute_result"
    }
   ],
   "source": [
    "import numpy as np\n",
    "n = 10\n",
    "input_array = np.ones(n)\n",
    "tobac.analysis.haversine(-input_array*10, input_array*24.15228658536585, input_array*150.14272026431718, input_array*150.14670731707318)"
   ]
  },
  {
   "cell_type": "code",
   "execution_count": 20,
   "id": "9fe611cf",
   "metadata": {},
   "outputs": [
    {
     "data": {
      "text/plain": [
       "array([1.06489511])"
      ]
     },
     "execution_count": 20,
     "metadata": {},
     "output_type": "execute_result"
    }
   ],
   "source": [
    "tobac.analysis.haversine(track.loc[0]['latitude'], track.loc[0]['longitude'], track.loc[1]['latitude'], track.loc[0]['longitude'])\n"
   ]
  },
  {
   "cell_type": "code",
   "execution_count": 19,
   "id": "2d7605eb",
   "metadata": {},
   "outputs": [
    {
     "data": {
      "text/plain": [
       "array([24.14272026])"
      ]
     },
     "execution_count": 19,
     "metadata": {},
     "output_type": "execute_result"
    }
   ],
   "source": [
    "track.loc[0]['latitude']"
   ]
  },
  {
   "cell_type": "code",
   "execution_count": 21,
   "id": "182246b0",
   "metadata": {},
   "outputs": [
    {
     "name": "stderr",
     "output_type": "stream",
     "text": [
      "/home/nils/anaconda3/envs/tobac/lib/python3.10/site-packages/tobac/analysis.py:89: SyntaxWarning: \"is not\" with a literal. Did you mean \"!=\"?\n",
      "  if coordinate.name() is not 'time':\n",
      "/home/nils/anaconda3/envs/tobac/lib/python3.10/site-packages/tobac/analysis.py:89: SyntaxWarning: \"is not\" with a literal. Did you mean \"!=\"?\n",
      "  if coordinate.name() is not 'time':\n"
     ]
    },
    {
     "ename": "TypeError",
     "evalue": "loop of ufunc does not support argument 0 of type numpy.int64 which has no callable radians method",
     "output_type": "error",
     "traceback": [
      "\u001b[0;31m---------------------------------------------------------------------------\u001b[0m",
      "\u001b[0;31mAttributeError\u001b[0m                            Traceback (most recent call last)",
      "\u001b[0;31mAttributeError\u001b[0m: 'numpy.int64' object has no attribute 'radians'",
      "\nThe above exception was the direct cause of the following exception:\n",
      "\u001b[0;31mTypeError\u001b[0m                                 Traceback (most recent call last)",
      "Input \u001b[0;32mIn [21]\u001b[0m, in \u001b[0;36m<cell line: 1>\u001b[0;34m()\u001b[0m\n\u001b[0;32m----> 1\u001b[0m \u001b[43mtobac\u001b[49m\u001b[38;5;241;43m.\u001b[39;49m\u001b[43manalysis\u001b[49m\u001b[38;5;241;43m.\u001b[39;49m\u001b[43mhaversine\u001b[49m\u001b[43m(\u001b[49m\u001b[43mtrack\u001b[49m\u001b[38;5;241;43m.\u001b[39;49m\u001b[43mloc\u001b[49m\u001b[43m[\u001b[49m\u001b[38;5;241;43m0\u001b[39;49m\u001b[43m]\u001b[49m\u001b[43m,\u001b[49m\u001b[43m \u001b[49m\u001b[43mtrack\u001b[49m\u001b[38;5;241;43m.\u001b[39;49m\u001b[43mloc\u001b[49m\u001b[43m[\u001b[49m\u001b[38;5;241;43m0\u001b[39;49m\u001b[43m]\u001b[49m\u001b[43m,\u001b[49m\u001b[43m \u001b[49m\u001b[43mtrack\u001b[49m\u001b[38;5;241;43m.\u001b[39;49m\u001b[43mloc\u001b[49m\u001b[43m[\u001b[49m\u001b[38;5;241;43m1\u001b[39;49m\u001b[43m]\u001b[49m\u001b[43m,\u001b[49m\u001b[43m \u001b[49m\u001b[43mtrack\u001b[49m\u001b[38;5;241;43m.\u001b[39;49m\u001b[43mloc\u001b[49m\u001b[43m[\u001b[49m\u001b[38;5;241;43m0\u001b[39;49m\u001b[43m]\u001b[49m\u001b[43m)\u001b[49m\n",
      "File \u001b[0;32m~/anaconda3/envs/tobac/lib/python3.10/site-packages/tobac/analysis.py:170\u001b[0m, in \u001b[0;36mhaversine\u001b[0;34m(lat1, lon1, lat2, lon2)\u001b[0m\n\u001b[1;32m    162\u001b[0m \u001b[38;5;124;03m\"\"\"Computes the Haversine distance in kilometres between two points (based on implementation CIS https://github.com/cedadev/cis)\u001b[39;00m\n\u001b[1;32m    163\u001b[0m \u001b[38;5;124;03m:param lat1: first point or points as array, each as array of latitude in degrees\u001b[39;00m\n\u001b[1;32m    164\u001b[0m \u001b[38;5;124;03m:param lon1: first point or points as array, each as array of longitude in degrees\u001b[39;00m\n\u001b[0;32m   (...)\u001b[0m\n\u001b[1;32m    167\u001b[0m \u001b[38;5;124;03m:return: distance between the two points in kilometres\u001b[39;00m\n\u001b[1;32m    168\u001b[0m \u001b[38;5;124;03m\"\"\"\u001b[39;00m\n\u001b[1;32m    169\u001b[0m RADIUS_EARTH \u001b[38;5;241m=\u001b[39m \u001b[38;5;241m6378.0\u001b[39m\n\u001b[0;32m--> 170\u001b[0m lat1 \u001b[38;5;241m=\u001b[39m \u001b[43mnp\u001b[49m\u001b[38;5;241;43m.\u001b[39;49m\u001b[43mradians\u001b[49m\u001b[43m(\u001b[49m\u001b[43mlat1\u001b[49m\u001b[43m)\u001b[49m\n\u001b[1;32m    171\u001b[0m lat2 \u001b[38;5;241m=\u001b[39m np\u001b[38;5;241m.\u001b[39mradians(lat2)\n\u001b[1;32m    172\u001b[0m lon1 \u001b[38;5;241m=\u001b[39m np\u001b[38;5;241m.\u001b[39mradians(lon1)\n",
      "File \u001b[0;32m~/anaconda3/envs/tobac/lib/python3.10/site-packages/pandas/core/generic.py:2113\u001b[0m, in \u001b[0;36mNDFrame.__array_ufunc__\u001b[0;34m(self, ufunc, method, *inputs, **kwargs)\u001b[0m\n\u001b[1;32m   2109\u001b[0m \u001b[38;5;129m@final\u001b[39m\n\u001b[1;32m   2110\u001b[0m \u001b[38;5;28;01mdef\u001b[39;00m \u001b[38;5;21m__array_ufunc__\u001b[39m(\n\u001b[1;32m   2111\u001b[0m     \u001b[38;5;28mself\u001b[39m, ufunc: np\u001b[38;5;241m.\u001b[39mufunc, method: \u001b[38;5;28mstr\u001b[39m, \u001b[38;5;241m*\u001b[39minputs: Any, \u001b[38;5;241m*\u001b[39m\u001b[38;5;241m*\u001b[39mkwargs: Any\n\u001b[1;32m   2112\u001b[0m ):\n\u001b[0;32m-> 2113\u001b[0m     \u001b[38;5;28;01mreturn\u001b[39;00m \u001b[43marraylike\u001b[49m\u001b[38;5;241;43m.\u001b[39;49m\u001b[43marray_ufunc\u001b[49m\u001b[43m(\u001b[49m\u001b[38;5;28;43mself\u001b[39;49m\u001b[43m,\u001b[49m\u001b[43m \u001b[49m\u001b[43mufunc\u001b[49m\u001b[43m,\u001b[49m\u001b[43m \u001b[49m\u001b[43mmethod\u001b[49m\u001b[43m,\u001b[49m\u001b[43m \u001b[49m\u001b[38;5;241;43m*\u001b[39;49m\u001b[43minputs\u001b[49m\u001b[43m,\u001b[49m\u001b[43m \u001b[49m\u001b[38;5;241;43m*\u001b[39;49m\u001b[38;5;241;43m*\u001b[39;49m\u001b[43mkwargs\u001b[49m\u001b[43m)\u001b[49m\n",
      "File \u001b[0;32m~/anaconda3/envs/tobac/lib/python3.10/site-packages/pandas/core/arraylike.py:397\u001b[0m, in \u001b[0;36marray_ufunc\u001b[0;34m(self, ufunc, method, *inputs, **kwargs)\u001b[0m\n\u001b[1;32m    394\u001b[0m \u001b[38;5;28;01melif\u001b[39;00m \u001b[38;5;28mself\u001b[39m\u001b[38;5;241m.\u001b[39mndim \u001b[38;5;241m==\u001b[39m \u001b[38;5;241m1\u001b[39m:\n\u001b[1;32m    395\u001b[0m     \u001b[38;5;66;03m# ufunc(series, ...)\u001b[39;00m\n\u001b[1;32m    396\u001b[0m     inputs \u001b[38;5;241m=\u001b[39m \u001b[38;5;28mtuple\u001b[39m(extract_array(x, extract_numpy\u001b[38;5;241m=\u001b[39m\u001b[38;5;28;01mTrue\u001b[39;00m) \u001b[38;5;28;01mfor\u001b[39;00m x \u001b[38;5;129;01min\u001b[39;00m inputs)\n\u001b[0;32m--> 397\u001b[0m     result \u001b[38;5;241m=\u001b[39m \u001b[38;5;28;43mgetattr\u001b[39;49m\u001b[43m(\u001b[49m\u001b[43mufunc\u001b[49m\u001b[43m,\u001b[49m\u001b[43m \u001b[49m\u001b[43mmethod\u001b[49m\u001b[43m)\u001b[49m\u001b[43m(\u001b[49m\u001b[38;5;241;43m*\u001b[39;49m\u001b[43minputs\u001b[49m\u001b[43m,\u001b[49m\u001b[43m \u001b[49m\u001b[38;5;241;43m*\u001b[39;49m\u001b[38;5;241;43m*\u001b[39;49m\u001b[43mkwargs\u001b[49m\u001b[43m)\u001b[49m\n\u001b[1;32m    398\u001b[0m \u001b[38;5;28;01melse\u001b[39;00m:\n\u001b[1;32m    399\u001b[0m     \u001b[38;5;66;03m# ufunc(dataframe)\u001b[39;00m\n\u001b[1;32m    400\u001b[0m     \u001b[38;5;28;01mif\u001b[39;00m method \u001b[38;5;241m==\u001b[39m \u001b[38;5;124m\"\u001b[39m\u001b[38;5;124m__call__\u001b[39m\u001b[38;5;124m\"\u001b[39m \u001b[38;5;129;01mand\u001b[39;00m \u001b[38;5;129;01mnot\u001b[39;00m kwargs:\n\u001b[1;32m    401\u001b[0m         \u001b[38;5;66;03m# for np.<ufunc>(..) calls\u001b[39;00m\n\u001b[1;32m    402\u001b[0m         \u001b[38;5;66;03m# kwargs cannot necessarily be handled block-by-block, so only\u001b[39;00m\n\u001b[1;32m    403\u001b[0m         \u001b[38;5;66;03m# take this path if there are no kwargs\u001b[39;00m\n",
      "\u001b[0;31mTypeError\u001b[0m: loop of ufunc does not support argument 0 of type numpy.int64 which has no callable radians method"
     ]
    }
   ],
   "source": [
    "tobac.analysis.haversine(track.loc[0], track.loc[0], track.loc[1], track.loc[0])\n"
   ]
  },
  {
   "cell_type": "code",
   "execution_count": 29,
   "id": "4e0eb795",
   "metadata": {},
   "outputs": [
    {
     "data": {
      "text/plain": [
       "(array([1, 1, 1, 0, 0, 0, 0, 0, 0]),\n",
       " array([  0,  20,  40,  60,  80, 100, 120, 140, 160, 180]),\n",
       " array([ 10.,  30.,  50.,  70.,  90., 110., 130., 150., 170.]),\n",
       " array([59., 29., 19.]))"
      ]
     },
     "execution_count": 29,
     "metadata": {},
     "output_type": "execute_result"
    }
   ],
   "source": [
    "tobac.analysis.lifetime_histogram(track, return_values=True)"
   ]
  },
  {
   "cell_type": "code",
   "execution_count": 35,
   "id": "399c999b",
   "metadata": {},
   "outputs": [
    {
     "name": "stderr",
     "output_type": "stream",
     "text": [
      "/home/nils/anaconda3/envs/tobac/lib/python3.10/site-packages/tobac/analysis.py:89: SyntaxWarning: \"is not\" with a literal. Did you mean \"!=\"?\n",
      "  if coordinate.name() is not 'time':\n",
      "/home/nils/anaconda3/envs/tobac/lib/python3.10/site-packages/tobac/analysis.py:89: SyntaxWarning: \"is not\" with a literal. Did you mean \"!=\"?\n",
      "  if coordinate.name() is not 'time':\n",
      "/home/nils/anaconda3/envs/tobac/lib/python3.10/site-packages/tobac/analysis.py:89: SyntaxWarning: \"is not\" with a literal. Did you mean \"!=\"?\n",
      "  if coordinate.name() is not 'time':\n",
      "/home/nils/anaconda3/envs/tobac/lib/python3.10/site-packages/tobac/analysis.py:89: SyntaxWarning: \"is not\" with a literal. Did you mean \"!=\"?\n",
      "  if coordinate.name() is not 'time':\n",
      "/home/nils/anaconda3/envs/tobac/lib/python3.10/site-packages/tobac/analysis.py:89: SyntaxWarning: \"is not\" with a literal. Did you mean \"!=\"?\n",
      "  if coordinate.name() is not 'time':\n"
     ]
    },
    {
     "ename": "IndexError",
     "evalue": "index 0 is out of bounds for axis 0 with size 0",
     "output_type": "error",
     "traceback": [
      "\u001b[0;31m---------------------------------------------------------------------------\u001b[0m",
      "\u001b[0;31mIndexError\u001b[0m                                Traceback (most recent call last)",
      "Input \u001b[0;32mIn [35]\u001b[0m, in \u001b[0;36m<cell line: 1>\u001b[0;34m()\u001b[0m\n\u001b[0;32m----> 1\u001b[0m \u001b[43mtobac\u001b[49m\u001b[38;5;241;43m.\u001b[39;49m\u001b[43manalysis\u001b[49m\u001b[38;5;241;43m.\u001b[39;49m\u001b[43mcog_cell\u001b[49m\u001b[43m(\u001b[49m\u001b[38;5;241;43m0\u001b[39;49m\u001b[43m,\u001b[49m\u001b[43m \u001b[49m\u001b[43mTracks\u001b[49m\u001b[38;5;241;43m=\u001b[39;49m\u001b[43mtrack\u001b[49m\u001b[43m,\u001b[49m\u001b[43m \u001b[49m\u001b[43mM_total\u001b[49m\u001b[38;5;241;43m=\u001b[39;49m\u001b[43mdata\u001b[49m\u001b[43m,\u001b[49m\u001b[43m \u001b[49m\u001b[43mM_frozen\u001b[49m\u001b[38;5;241;43m=\u001b[39;49m\u001b[43mdata\u001b[49m\u001b[43m,\u001b[49m\u001b[43m \u001b[49m\u001b[43mM_liquid\u001b[49m\u001b[43m \u001b[49m\u001b[38;5;241;43m=\u001b[39;49m\u001b[43m \u001b[49m\u001b[43mdata\u001b[49m\u001b[43m)\u001b[49m\n",
      "File \u001b[0;32m~/anaconda3/envs/tobac/lib/python3.10/site-packages/tobac/analysis.py:123\u001b[0m, in \u001b[0;36mcog_cell\u001b[0;34m(cell, Tracks, M_total, M_liquid, M_frozen, Mask, savedir)\u001b[0m\n\u001b[1;32m    121\u001b[0m Track\u001b[38;5;241m=\u001b[39mTracks[Tracks[\u001b[38;5;124m'\u001b[39m\u001b[38;5;124mcell\u001b[39m\u001b[38;5;124m'\u001b[39m]\u001b[38;5;241m==\u001b[39mcell]\n\u001b[1;32m    122\u001b[0m constraint_time\u001b[38;5;241m=\u001b[39mConstraint(time\u001b[38;5;241m=\u001b[39m\u001b[38;5;28;01mlambda\u001b[39;00m cell: Track\u001b[38;5;241m.\u001b[39mhead(\u001b[38;5;241m1\u001b[39m)[\u001b[38;5;124m'\u001b[39m\u001b[38;5;124mtime\u001b[39m\u001b[38;5;124m'\u001b[39m]\u001b[38;5;241m.\u001b[39mvalues[\u001b[38;5;241m0\u001b[39m] \u001b[38;5;241m<\u001b[39m\u001b[38;5;241m=\u001b[39m cell \u001b[38;5;241m<\u001b[39m\u001b[38;5;241m=\u001b[39m Track\u001b[38;5;241m.\u001b[39mtail(\u001b[38;5;241m1\u001b[39m)[\u001b[38;5;124m'\u001b[39m\u001b[38;5;124mtime\u001b[39m\u001b[38;5;124m'\u001b[39m]\u001b[38;5;241m.\u001b[39mvalues[\u001b[38;5;241m0\u001b[39m])\n\u001b[0;32m--> 123\u001b[0m M_total_i\u001b[38;5;241m=\u001b[39m\u001b[43mM_total\u001b[49m\u001b[38;5;241;43m.\u001b[39;49m\u001b[43mextract\u001b[49m\u001b[43m(\u001b[49m\u001b[43mconstraint_time\u001b[49m\u001b[43m)\u001b[49m\n\u001b[1;32m    124\u001b[0m M_liquid_i\u001b[38;5;241m=\u001b[39mM_liquid\u001b[38;5;241m.\u001b[39mextract(constraint_time)\n\u001b[1;32m    125\u001b[0m M_frozen_i\u001b[38;5;241m=\u001b[39mM_frozen\u001b[38;5;241m.\u001b[39mextract(constraint_time)\n",
      "File \u001b[0;32m~/anaconda3/envs/tobac/lib/python3.10/site-packages/iris/cube.py:2615\u001b[0m, in \u001b[0;36mCube.extract\u001b[0;34m(self, constraint)\u001b[0m\n\u001b[1;32m   2613\u001b[0m \u001b[38;5;66;03m# Cast the constraint into a proper constraint if it is not so already\u001b[39;00m\n\u001b[1;32m   2614\u001b[0m constraint \u001b[38;5;241m=\u001b[39m iris\u001b[38;5;241m.\u001b[39m_constraints\u001b[38;5;241m.\u001b[39mas_constraint(constraint)\n\u001b[0;32m-> 2615\u001b[0m \u001b[38;5;28;01mreturn\u001b[39;00m \u001b[43mconstraint\u001b[49m\u001b[38;5;241;43m.\u001b[39;49m\u001b[43mextract\u001b[49m\u001b[43m(\u001b[49m\u001b[38;5;28;43mself\u001b[39;49m\u001b[43m)\u001b[49m\n",
      "File \u001b[0;32m~/anaconda3/envs/tobac/lib/python3.10/site-packages/iris/_constraints.py:165\u001b[0m, in \u001b[0;36mConstraint.extract\u001b[0;34m(self, cube)\u001b[0m\n\u001b[1;32m    159\u001b[0m \u001b[38;5;28;01mdef\u001b[39;00m \u001b[38;5;21mextract\u001b[39m(\u001b[38;5;28mself\u001b[39m, cube):\n\u001b[1;32m    160\u001b[0m     \u001b[38;5;124;03m\"\"\"\u001b[39;00m\n\u001b[1;32m    161\u001b[0m \u001b[38;5;124;03m    Return the subset of the given cube which matches this constraint,\u001b[39;00m\n\u001b[1;32m    162\u001b[0m \u001b[38;5;124;03m    else return None.\u001b[39;00m\n\u001b[1;32m    163\u001b[0m \n\u001b[1;32m    164\u001b[0m \u001b[38;5;124;03m    \"\"\"\u001b[39;00m\n\u001b[0;32m--> 165\u001b[0m     resultant_CIM \u001b[38;5;241m=\u001b[39m \u001b[38;5;28;43mself\u001b[39;49m\u001b[38;5;241;43m.\u001b[39;49m\u001b[43m_CIM_extract\u001b[49m\u001b[43m(\u001b[49m\u001b[43mcube\u001b[49m\u001b[43m)\u001b[49m\n\u001b[1;32m    166\u001b[0m     slice_tuple \u001b[38;5;241m=\u001b[39m resultant_CIM\u001b[38;5;241m.\u001b[39mas_slice()\n\u001b[1;32m    167\u001b[0m     result \u001b[38;5;241m=\u001b[39m \u001b[38;5;28;01mNone\u001b[39;00m\n",
      "File \u001b[0;32m~/anaconda3/envs/tobac/lib/python3.10/site-packages/iris/_constraints.py:189\u001b[0m, in \u001b[0;36mConstraint._CIM_extract\u001b[0;34m(self, cube)\u001b[0m\n\u001b[1;32m    187\u001b[0m \u001b[38;5;28;01melse\u001b[39;00m:\n\u001b[1;32m    188\u001b[0m     \u001b[38;5;28;01mfor\u001b[39;00m coord_constraint \u001b[38;5;129;01min\u001b[39;00m \u001b[38;5;28mself\u001b[39m\u001b[38;5;241m.\u001b[39m_coord_constraints:\n\u001b[0;32m--> 189\u001b[0m         resultant_CIM \u001b[38;5;241m=\u001b[39m resultant_CIM \u001b[38;5;241m&\u001b[39m \u001b[43mcoord_constraint\u001b[49m\u001b[38;5;241;43m.\u001b[39;49m\u001b[43mextract\u001b[49m\u001b[43m(\u001b[49m\u001b[43mcube\u001b[49m\u001b[43m)\u001b[49m\n\u001b[1;32m    191\u001b[0m \u001b[38;5;28;01mreturn\u001b[39;00m resultant_CIM\n",
      "File \u001b[0;32m~/anaconda3/envs/tobac/lib/python3.10/site-packages/iris/_constraints.py:323\u001b[0m, in \u001b[0;36m_CoordConstraint.extract\u001b[0;34m(self, cube)\u001b[0m\n\u001b[1;32m    321\u001b[0m         r[i] \u001b[38;5;241m=\u001b[39m \u001b[38;5;28;01mTrue\u001b[39;00m\n\u001b[1;32m    322\u001b[0m \u001b[38;5;28;01melse\u001b[39;00m:\n\u001b[0;32m--> 323\u001b[0m     r \u001b[38;5;241m=\u001b[39m np\u001b[38;5;241m.\u001b[39marray([call_func(cell) \u001b[38;5;28;01mfor\u001b[39;00m cell \u001b[38;5;129;01min\u001b[39;00m coord\u001b[38;5;241m.\u001b[39mcells()])\n\u001b[1;32m    324\u001b[0m \u001b[38;5;28;01mif\u001b[39;00m dims:\n\u001b[1;32m    325\u001b[0m     cube_cim[dims[\u001b[38;5;241m0\u001b[39m]] \u001b[38;5;241m=\u001b[39m r\n",
      "File \u001b[0;32m~/anaconda3/envs/tobac/lib/python3.10/site-packages/iris/_constraints.py:323\u001b[0m, in \u001b[0;36m<listcomp>\u001b[0;34m(.0)\u001b[0m\n\u001b[1;32m    321\u001b[0m         r[i] \u001b[38;5;241m=\u001b[39m \u001b[38;5;28;01mTrue\u001b[39;00m\n\u001b[1;32m    322\u001b[0m \u001b[38;5;28;01melse\u001b[39;00m:\n\u001b[0;32m--> 323\u001b[0m     r \u001b[38;5;241m=\u001b[39m np\u001b[38;5;241m.\u001b[39marray([\u001b[43mcall_func\u001b[49m\u001b[43m(\u001b[49m\u001b[43mcell\u001b[49m\u001b[43m)\u001b[49m \u001b[38;5;28;01mfor\u001b[39;00m cell \u001b[38;5;129;01min\u001b[39;00m coord\u001b[38;5;241m.\u001b[39mcells()])\n\u001b[1;32m    324\u001b[0m \u001b[38;5;28;01mif\u001b[39;00m dims:\n\u001b[1;32m    325\u001b[0m     cube_cim[dims[\u001b[38;5;241m0\u001b[39m]] \u001b[38;5;241m=\u001b[39m r\n",
      "File \u001b[0;32m~/anaconda3/envs/tobac/lib/python3.10/site-packages/tobac/analysis.py:122\u001b[0m, in \u001b[0;36mcog_cell.<locals>.<lambda>\u001b[0;34m(cell)\u001b[0m\n\u001b[1;32m    120\u001b[0m logging\u001b[38;5;241m.\u001b[39mdebug(\u001b[38;5;124m'\u001b[39m\u001b[38;5;124mStart calculating COG for \u001b[39m\u001b[38;5;124m'\u001b[39m\u001b[38;5;241m+\u001b[39m\u001b[38;5;28mstr\u001b[39m(cell))\n\u001b[1;32m    121\u001b[0m Track\u001b[38;5;241m=\u001b[39mTracks[Tracks[\u001b[38;5;124m'\u001b[39m\u001b[38;5;124mcell\u001b[39m\u001b[38;5;124m'\u001b[39m]\u001b[38;5;241m==\u001b[39mcell]\n\u001b[0;32m--> 122\u001b[0m constraint_time\u001b[38;5;241m=\u001b[39mConstraint(time\u001b[38;5;241m=\u001b[39m\u001b[38;5;28;01mlambda\u001b[39;00m cell: \u001b[43mTrack\u001b[49m\u001b[38;5;241;43m.\u001b[39;49m\u001b[43mhead\u001b[49m\u001b[43m(\u001b[49m\u001b[38;5;241;43m1\u001b[39;49m\u001b[43m)\u001b[49m\u001b[43m[\u001b[49m\u001b[38;5;124;43m'\u001b[39;49m\u001b[38;5;124;43mtime\u001b[39;49m\u001b[38;5;124;43m'\u001b[39;49m\u001b[43m]\u001b[49m\u001b[38;5;241;43m.\u001b[39;49m\u001b[43mvalues\u001b[49m\u001b[43m[\u001b[49m\u001b[38;5;241;43m0\u001b[39;49m\u001b[43m]\u001b[49m \u001b[38;5;241m<\u001b[39m\u001b[38;5;241m=\u001b[39m cell \u001b[38;5;241m<\u001b[39m\u001b[38;5;241m=\u001b[39m Track\u001b[38;5;241m.\u001b[39mtail(\u001b[38;5;241m1\u001b[39m)[\u001b[38;5;124m'\u001b[39m\u001b[38;5;124mtime\u001b[39m\u001b[38;5;124m'\u001b[39m]\u001b[38;5;241m.\u001b[39mvalues[\u001b[38;5;241m0\u001b[39m])\n\u001b[1;32m    123\u001b[0m M_total_i\u001b[38;5;241m=\u001b[39mM_total\u001b[38;5;241m.\u001b[39mextract(constraint_time)\n\u001b[1;32m    124\u001b[0m M_liquid_i\u001b[38;5;241m=\u001b[39mM_liquid\u001b[38;5;241m.\u001b[39mextract(constraint_time)\n",
      "\u001b[0;31mIndexError\u001b[0m: index 0 is out of bounds for axis 0 with size 0"
     ]
    }
   ],
   "source": [
    "tobac.analysis.cog_cell(0, Tracks=track, M_total=data, M_frozen=data, M_liquid = data)"
   ]
  },
  {
   "cell_type": "code",
   "execution_count": 40,
   "id": "a24e50ed",
   "metadata": {},
   "outputs": [],
   "source": [
    "from iris import Constraint\n",
    "constraint_time = Constraint(time=lambda cell: track.head(1)[\"time\"].values[0]<= cell<= track.tail(1)[\"time\"].values[0])"
   ]
  },
  {
   "cell_type": "code",
   "execution_count": 41,
   "id": "12d737c4",
   "metadata": {},
   "outputs": [
    {
     "data": {
      "text/plain": [
       "Constraint(coord_values={'time': <function <lambda> at 0x7f0e600dd990>})"
      ]
     },
     "execution_count": 41,
     "metadata": {},
     "output_type": "execute_result"
    }
   ],
   "source": [
    "constraint_time"
   ]
  },
  {
   "cell_type": "code",
   "execution_count": 42,
   "id": "8effed67",
   "metadata": {},
   "outputs": [
    {
     "ename": "TypeError",
     "evalue": "Cannot determine the order of cftime.datetime objects",
     "output_type": "error",
     "traceback": [
      "\u001b[0;31m---------------------------------------------------------------------------\u001b[0m",
      "\u001b[0;31mTypeError\u001b[0m                                 Traceback (most recent call last)",
      "Input \u001b[0;32mIn [42]\u001b[0m, in \u001b[0;36m<cell line: 1>\u001b[0;34m()\u001b[0m\n\u001b[0;32m----> 1\u001b[0m \u001b[43mdata\u001b[49m\u001b[38;5;241;43m.\u001b[39;49m\u001b[43mextract\u001b[49m\u001b[43m(\u001b[49m\u001b[43mconstraint_time\u001b[49m\u001b[43m)\u001b[49m\n",
      "File \u001b[0;32m~/anaconda3/envs/tobac/lib/python3.10/site-packages/iris/cube.py:2615\u001b[0m, in \u001b[0;36mCube.extract\u001b[0;34m(self, constraint)\u001b[0m\n\u001b[1;32m   2613\u001b[0m \u001b[38;5;66;03m# Cast the constraint into a proper constraint if it is not so already\u001b[39;00m\n\u001b[1;32m   2614\u001b[0m constraint \u001b[38;5;241m=\u001b[39m iris\u001b[38;5;241m.\u001b[39m_constraints\u001b[38;5;241m.\u001b[39mas_constraint(constraint)\n\u001b[0;32m-> 2615\u001b[0m \u001b[38;5;28;01mreturn\u001b[39;00m \u001b[43mconstraint\u001b[49m\u001b[38;5;241;43m.\u001b[39;49m\u001b[43mextract\u001b[49m\u001b[43m(\u001b[49m\u001b[38;5;28;43mself\u001b[39;49m\u001b[43m)\u001b[49m\n",
      "File \u001b[0;32m~/anaconda3/envs/tobac/lib/python3.10/site-packages/iris/_constraints.py:165\u001b[0m, in \u001b[0;36mConstraint.extract\u001b[0;34m(self, cube)\u001b[0m\n\u001b[1;32m    159\u001b[0m \u001b[38;5;28;01mdef\u001b[39;00m \u001b[38;5;21mextract\u001b[39m(\u001b[38;5;28mself\u001b[39m, cube):\n\u001b[1;32m    160\u001b[0m     \u001b[38;5;124;03m\"\"\"\u001b[39;00m\n\u001b[1;32m    161\u001b[0m \u001b[38;5;124;03m    Return the subset of the given cube which matches this constraint,\u001b[39;00m\n\u001b[1;32m    162\u001b[0m \u001b[38;5;124;03m    else return None.\u001b[39;00m\n\u001b[1;32m    163\u001b[0m \n\u001b[1;32m    164\u001b[0m \u001b[38;5;124;03m    \"\"\"\u001b[39;00m\n\u001b[0;32m--> 165\u001b[0m     resultant_CIM \u001b[38;5;241m=\u001b[39m \u001b[38;5;28;43mself\u001b[39;49m\u001b[38;5;241;43m.\u001b[39;49m\u001b[43m_CIM_extract\u001b[49m\u001b[43m(\u001b[49m\u001b[43mcube\u001b[49m\u001b[43m)\u001b[49m\n\u001b[1;32m    166\u001b[0m     slice_tuple \u001b[38;5;241m=\u001b[39m resultant_CIM\u001b[38;5;241m.\u001b[39mas_slice()\n\u001b[1;32m    167\u001b[0m     result \u001b[38;5;241m=\u001b[39m \u001b[38;5;28;01mNone\u001b[39;00m\n",
      "File \u001b[0;32m~/anaconda3/envs/tobac/lib/python3.10/site-packages/iris/_constraints.py:189\u001b[0m, in \u001b[0;36mConstraint._CIM_extract\u001b[0;34m(self, cube)\u001b[0m\n\u001b[1;32m    187\u001b[0m \u001b[38;5;28;01melse\u001b[39;00m:\n\u001b[1;32m    188\u001b[0m     \u001b[38;5;28;01mfor\u001b[39;00m coord_constraint \u001b[38;5;129;01min\u001b[39;00m \u001b[38;5;28mself\u001b[39m\u001b[38;5;241m.\u001b[39m_coord_constraints:\n\u001b[0;32m--> 189\u001b[0m         resultant_CIM \u001b[38;5;241m=\u001b[39m resultant_CIM \u001b[38;5;241m&\u001b[39m \u001b[43mcoord_constraint\u001b[49m\u001b[38;5;241;43m.\u001b[39;49m\u001b[43mextract\u001b[49m\u001b[43m(\u001b[49m\u001b[43mcube\u001b[49m\u001b[43m)\u001b[49m\n\u001b[1;32m    191\u001b[0m \u001b[38;5;28;01mreturn\u001b[39;00m resultant_CIM\n",
      "File \u001b[0;32m~/anaconda3/envs/tobac/lib/python3.10/site-packages/iris/_constraints.py:323\u001b[0m, in \u001b[0;36m_CoordConstraint.extract\u001b[0;34m(self, cube)\u001b[0m\n\u001b[1;32m    321\u001b[0m         r[i] \u001b[38;5;241m=\u001b[39m \u001b[38;5;28;01mTrue\u001b[39;00m\n\u001b[1;32m    322\u001b[0m \u001b[38;5;28;01melse\u001b[39;00m:\n\u001b[0;32m--> 323\u001b[0m     r \u001b[38;5;241m=\u001b[39m np\u001b[38;5;241m.\u001b[39marray([call_func(cell) \u001b[38;5;28;01mfor\u001b[39;00m cell \u001b[38;5;129;01min\u001b[39;00m coord\u001b[38;5;241m.\u001b[39mcells()])\n\u001b[1;32m    324\u001b[0m \u001b[38;5;28;01mif\u001b[39;00m dims:\n\u001b[1;32m    325\u001b[0m     cube_cim[dims[\u001b[38;5;241m0\u001b[39m]] \u001b[38;5;241m=\u001b[39m r\n",
      "File \u001b[0;32m~/anaconda3/envs/tobac/lib/python3.10/site-packages/iris/_constraints.py:323\u001b[0m, in \u001b[0;36m<listcomp>\u001b[0;34m(.0)\u001b[0m\n\u001b[1;32m    321\u001b[0m         r[i] \u001b[38;5;241m=\u001b[39m \u001b[38;5;28;01mTrue\u001b[39;00m\n\u001b[1;32m    322\u001b[0m \u001b[38;5;28;01melse\u001b[39;00m:\n\u001b[0;32m--> 323\u001b[0m     r \u001b[38;5;241m=\u001b[39m np\u001b[38;5;241m.\u001b[39marray([\u001b[43mcall_func\u001b[49m\u001b[43m(\u001b[49m\u001b[43mcell\u001b[49m\u001b[43m)\u001b[49m \u001b[38;5;28;01mfor\u001b[39;00m cell \u001b[38;5;129;01min\u001b[39;00m coord\u001b[38;5;241m.\u001b[39mcells()])\n\u001b[1;32m    324\u001b[0m \u001b[38;5;28;01mif\u001b[39;00m dims:\n\u001b[1;32m    325\u001b[0m     cube_cim[dims[\u001b[38;5;241m0\u001b[39m]] \u001b[38;5;241m=\u001b[39m r\n",
      "Input \u001b[0;32mIn [40]\u001b[0m, in \u001b[0;36m<lambda>\u001b[0;34m(cell)\u001b[0m\n\u001b[1;32m      1\u001b[0m \u001b[38;5;28;01mfrom\u001b[39;00m \u001b[38;5;21;01miris\u001b[39;00m \u001b[38;5;28;01mimport\u001b[39;00m Constraint\n\u001b[0;32m----> 2\u001b[0m constraint_time \u001b[38;5;241m=\u001b[39m Constraint(time\u001b[38;5;241m=\u001b[39m\u001b[38;5;28;01mlambda\u001b[39;00m cell: track\u001b[38;5;241m.\u001b[39mhead(\u001b[38;5;241m1\u001b[39m)[\u001b[38;5;124m\"\u001b[39m\u001b[38;5;124mtime\u001b[39m\u001b[38;5;124m\"\u001b[39m]\u001b[38;5;241m.\u001b[39mvalues[\u001b[38;5;241m0\u001b[39m]\u001b[38;5;241m<\u001b[39m\u001b[38;5;241m=\u001b[39m cell\u001b[38;5;241m<\u001b[39m\u001b[38;5;241m=\u001b[39m track\u001b[38;5;241m.\u001b[39mtail(\u001b[38;5;241m1\u001b[39m)[\u001b[38;5;124m\"\u001b[39m\u001b[38;5;124mtime\u001b[39m\u001b[38;5;124m\"\u001b[39m]\u001b[38;5;241m.\u001b[39mvalues[\u001b[38;5;241m0\u001b[39m])\n",
      "File \u001b[0;32m~/anaconda3/envs/tobac/lib/python3.10/site-packages/iris/coords.py:1502\u001b[0m, in \u001b[0;36mCell.__ge__\u001b[0;34m(self, other)\u001b[0m\n\u001b[1;32m   1501\u001b[0m \u001b[38;5;28;01mdef\u001b[39;00m \u001b[38;5;21m__ge__\u001b[39m(\u001b[38;5;28mself\u001b[39m, other):\n\u001b[0;32m-> 1502\u001b[0m     \u001b[38;5;28;01mreturn\u001b[39;00m \u001b[38;5;28;43mself\u001b[39;49m\u001b[38;5;241;43m.\u001b[39;49m\u001b[43m__common_cmp__\u001b[49m\u001b[43m(\u001b[49m\u001b[43mother\u001b[49m\u001b[43m,\u001b[49m\u001b[43m \u001b[49m\u001b[43moperator\u001b[49m\u001b[38;5;241;43m.\u001b[39;49m\u001b[43mge\u001b[49m\u001b[43m)\u001b[49m\n",
      "File \u001b[0;32m~/anaconda3/envs/tobac/lib/python3.10/site-packages/iris/coords.py:1417\u001b[0m, in \u001b[0;36mCell.__common_cmp__\u001b[0;34m(self, other, operator_method)\u001b[0m\n\u001b[1;32m   1411\u001b[0m \u001b[38;5;66;03m# Prevent silent errors resulting from missing cftime\u001b[39;00m\n\u001b[1;32m   1412\u001b[0m \u001b[38;5;66;03m# behaviour.\u001b[39;00m\n\u001b[1;32m   1413\u001b[0m \u001b[38;5;28;01mif\u001b[39;00m \u001b[38;5;28misinstance\u001b[39m(other, cftime\u001b[38;5;241m.\u001b[39mdatetime) \u001b[38;5;129;01mor\u001b[39;00m (\n\u001b[1;32m   1414\u001b[0m     \u001b[38;5;28misinstance\u001b[39m(\u001b[38;5;28mself\u001b[39m\u001b[38;5;241m.\u001b[39mpoint, cftime\u001b[38;5;241m.\u001b[39mdatetime)\n\u001b[1;32m   1415\u001b[0m     \u001b[38;5;129;01mand\u001b[39;00m \u001b[38;5;129;01mnot\u001b[39;00m \u001b[38;5;28misinstance\u001b[39m(other, iris\u001b[38;5;241m.\u001b[39mtime\u001b[38;5;241m.\u001b[39mPartialDateTime)\n\u001b[1;32m   1416\u001b[0m ):\n\u001b[0;32m-> 1417\u001b[0m     \u001b[38;5;28;01mraise\u001b[39;00m \u001b[38;5;167;01mTypeError\u001b[39;00m(\n\u001b[1;32m   1418\u001b[0m         \u001b[38;5;124m\"\u001b[39m\u001b[38;5;124mCannot determine the order of \u001b[39m\u001b[38;5;124m\"\u001b[39m \u001b[38;5;124m\"\u001b[39m\u001b[38;5;124mcftime.datetime objects\u001b[39m\u001b[38;5;124m\"\u001b[39m\n\u001b[1;32m   1419\u001b[0m     )\n\u001b[1;32m   1421\u001b[0m \u001b[38;5;28;01mif\u001b[39;00m \u001b[38;5;28misinstance\u001b[39m(other, Cell):\n\u001b[1;32m   1422\u001b[0m     \u001b[38;5;66;03m# Cell vs Cell comparison for providing a strict sort order\u001b[39;00m\n\u001b[1;32m   1423\u001b[0m     \u001b[38;5;28;01mif\u001b[39;00m \u001b[38;5;28mself\u001b[39m\u001b[38;5;241m.\u001b[39mbound \u001b[38;5;129;01mis\u001b[39;00m \u001b[38;5;28;01mNone\u001b[39;00m:\n",
      "\u001b[0;31mTypeError\u001b[0m: Cannot determine the order of cftime.datetime objects"
     ]
    }
   ],
   "source": [
    "data.extract(constraint_time)"
   ]
  },
  {
   "cell_type": "code",
   "execution_count": 43,
   "id": "45786a22",
   "metadata": {},
   "outputs": [
    {
     "name": "stdout",
     "output_type": "stream",
     "text": [
      "Help on function feature_detection_multithreshold in module tobac.feature_detection:\n",
      "\n",
      "feature_detection_multithreshold(field_in, dxy, threshold=None, min_num=0, target='maximum', position_threshold='center', sigma_threshold=0.5, n_erosion_threshold=0, n_min_threshold=0, min_distance=0, feature_number_start=1)\n",
      "    Function to perform feature detection based on contiguous regions above/below a threshold\n",
      "    Input:\n",
      "    field_in:      iris.cube.Cube\n",
      "                   2D field to perform the tracking on (needs to have coordinate 'time' along one of its dimensions)\n",
      "    \n",
      "    thresholds:    list of floats\n",
      "                   threshold values used to select target regions to track\n",
      "    dxy:           float\n",
      "                   grid spacing of the input data (m)\n",
      "    target:        str ('minimum' or 'maximum')\n",
      "                   flag to determine if tracking is targetting minima or maxima in the data\n",
      "    position_threshold: str('extreme', 'weighted_diff', 'weighted_abs' or 'center')\n",
      "                      flag choosing method used for the position of the tracked feature\n",
      "    sigma_threshold: float\n",
      "                     standard deviation for intial filtering step\n",
      "    n_erosion_threshold: int\n",
      "                         number of pixel by which to erode the identified features\n",
      "    n_min_threshold: int\n",
      "                     minimum number of identified features\n",
      "    min_distance:  float\n",
      "                   minimum distance between detected features (m)\n",
      "    Output:\n",
      "    features:      pandas DataFrame \n",
      "                   detected features\n",
      "\n"
     ]
    }
   ],
   "source": [
    "help(tobac.feature_detection.feature_detection_multithreshold)"
   ]
  },
  {
   "cell_type": "markdown",
   "id": "18ff2c3f",
   "metadata": {},
   "source": [
    "## plot_tracks_mask_field_loop"
   ]
  },
  {
   "cell_type": "code",
   "execution_count": 4,
   "id": "a3cfba1e",
   "metadata": {},
   "outputs": [
    {
     "name": "stdout",
     "output_type": "stream",
     "text": [
      "Frame 69: 2 trajectories present.\n"
     ]
    },
    {
     "name": "stderr",
     "output_type": "stream",
     "text": [
      "/home/nils/anaconda3/envs/tobac/lib/python3.10/site-packages/tobac/plotting.py:106: UserWarning: When using tobac plotting functions that render a figure, you may need to set the Matplotlib backend to 'agg' by `matplotlib.use('agg').\n",
      "  warnings.warn(\n",
      "/home/nils/anaconda3/envs/tobac/lib/python3.10/site-packages/cartopy/mpl/gridliner.py:451: UserWarning: The .xlabels_top attribute is deprecated. Please use .top_labels to toggle visibility instead.\n",
      "  warnings.warn('The .xlabels_top attribute is deprecated. Please '\n",
      "/home/nils/anaconda3/envs/tobac/lib/python3.10/site-packages/cartopy/mpl/gridliner.py:487: UserWarning: The .ylabels_right attribute is deprecated. Please use .right_labels to toggle visibility instead.\n",
      "  warnings.warn('The .ylabels_right attribute is deprecated. Please '\n",
      "/home/nils/anaconda3/envs/tobac/lib/python3.10/site-packages/cartopy/mpl/geoaxes.py:1666: UserWarning: No contour levels were found within the data range.\n",
      "  result = matplotlib.axes.Axes.contour(self, *args, **kwargs)\n",
      "/home/nils/anaconda3/envs/tobac/lib/python3.10/site-packages/cartopy/mpl/gridliner.py:451: UserWarning: The .xlabels_top attribute is deprecated. Please use .top_labels to toggle visibility instead.\n",
      "  warnings.warn('The .xlabels_top attribute is deprecated. Please '\n",
      "/home/nils/anaconda3/envs/tobac/lib/python3.10/site-packages/cartopy/mpl/gridliner.py:487: UserWarning: The .ylabels_right attribute is deprecated. Please use .right_labels to toggle visibility instead.\n",
      "  warnings.warn('The .ylabels_right attribute is deprecated. Please '\n",
      "/home/nils/anaconda3/envs/tobac/lib/python3.10/site-packages/cartopy/mpl/geoaxes.py:1666: UserWarning: No contour levels were found within the data range.\n",
      "  result = matplotlib.axes.Axes.contour(self, *args, **kwargs)\n",
      "/home/nils/anaconda3/envs/tobac/lib/python3.10/site-packages/cartopy/mpl/gridliner.py:451: UserWarning: The .xlabels_top attribute is deprecated. Please use .top_labels to toggle visibility instead.\n",
      "  warnings.warn('The .xlabels_top attribute is deprecated. Please '\n",
      "/home/nils/anaconda3/envs/tobac/lib/python3.10/site-packages/cartopy/mpl/gridliner.py:487: UserWarning: The .ylabels_right attribute is deprecated. Please use .right_labels to toggle visibility instead.\n",
      "  warnings.warn('The .ylabels_right attribute is deprecated. Please '\n",
      "/home/nils/anaconda3/envs/tobac/lib/python3.10/site-packages/cartopy/mpl/geoaxes.py:1666: UserWarning: No contour levels were found within the data range.\n",
      "  result = matplotlib.axes.Axes.contour(self, *args, **kwargs)\n",
      "/home/nils/anaconda3/envs/tobac/lib/python3.10/site-packages/cartopy/mpl/gridliner.py:451: UserWarning: The .xlabels_top attribute is deprecated. Please use .top_labels to toggle visibility instead.\n",
      "  warnings.warn('The .xlabels_top attribute is deprecated. Please '\n",
      "/home/nils/anaconda3/envs/tobac/lib/python3.10/site-packages/cartopy/mpl/gridliner.py:487: UserWarning: The .ylabels_right attribute is deprecated. Please use .right_labels to toggle visibility instead.\n",
      "  warnings.warn('The .ylabels_right attribute is deprecated. Please '\n",
      "/home/nils/anaconda3/envs/tobac/lib/python3.10/site-packages/cartopy/mpl/geoaxes.py:1666: UserWarning: No contour levels were found within the data range.\n",
      "  result = matplotlib.axes.Axes.contour(self, *args, **kwargs)\n",
      "/home/nils/anaconda3/envs/tobac/lib/python3.10/site-packages/cartopy/mpl/gridliner.py:451: UserWarning: The .xlabels_top attribute is deprecated. Please use .top_labels to toggle visibility instead.\n",
      "  warnings.warn('The .xlabels_top attribute is deprecated. Please '\n",
      "/home/nils/anaconda3/envs/tobac/lib/python3.10/site-packages/cartopy/mpl/gridliner.py:487: UserWarning: The .ylabels_right attribute is deprecated. Please use .right_labels to toggle visibility instead.\n",
      "  warnings.warn('The .ylabels_right attribute is deprecated. Please '\n",
      "/home/nils/anaconda3/envs/tobac/lib/python3.10/site-packages/cartopy/mpl/geoaxes.py:1666: UserWarning: No contour levels were found within the data range.\n",
      "  result = matplotlib.axes.Axes.contour(self, *args, **kwargs)\n",
      "/home/nils/anaconda3/envs/tobac/lib/python3.10/site-packages/cartopy/mpl/gridliner.py:451: UserWarning: The .xlabels_top attribute is deprecated. Please use .top_labels to toggle visibility instead.\n",
      "  warnings.warn('The .xlabels_top attribute is deprecated. Please '\n",
      "/home/nils/anaconda3/envs/tobac/lib/python3.10/site-packages/cartopy/mpl/gridliner.py:487: UserWarning: The .ylabels_right attribute is deprecated. Please use .right_labels to toggle visibility instead.\n",
      "  warnings.warn('The .ylabels_right attribute is deprecated. Please '\n",
      "/home/nils/anaconda3/envs/tobac/lib/python3.10/site-packages/cartopy/mpl/geoaxes.py:1666: UserWarning: No contour levels were found within the data range.\n",
      "  result = matplotlib.axes.Axes.contour(self, *args, **kwargs)\n",
      "/home/nils/anaconda3/envs/tobac/lib/python3.10/site-packages/cartopy/mpl/gridliner.py:451: UserWarning: The .xlabels_top attribute is deprecated. Please use .top_labels to toggle visibility instead.\n",
      "  warnings.warn('The .xlabels_top attribute is deprecated. Please '\n",
      "/home/nils/anaconda3/envs/tobac/lib/python3.10/site-packages/cartopy/mpl/gridliner.py:487: UserWarning: The .ylabels_right attribute is deprecated. Please use .right_labels to toggle visibility instead.\n",
      "  warnings.warn('The .ylabels_right attribute is deprecated. Please '\n",
      "/home/nils/anaconda3/envs/tobac/lib/python3.10/site-packages/cartopy/mpl/geoaxes.py:1666: UserWarning: No contour levels were found within the data range.\n",
      "  result = matplotlib.axes.Axes.contour(self, *args, **kwargs)\n",
      "/home/nils/anaconda3/envs/tobac/lib/python3.10/site-packages/cartopy/mpl/gridliner.py:451: UserWarning: The .xlabels_top attribute is deprecated. Please use .top_labels to toggle visibility instead.\n",
      "  warnings.warn('The .xlabels_top attribute is deprecated. Please '\n",
      "/home/nils/anaconda3/envs/tobac/lib/python3.10/site-packages/cartopy/mpl/gridliner.py:487: UserWarning: The .ylabels_right attribute is deprecated. Please use .right_labels to toggle visibility instead.\n",
      "  warnings.warn('The .ylabels_right attribute is deprecated. Please '\n",
      "/home/nils/anaconda3/envs/tobac/lib/python3.10/site-packages/cartopy/mpl/geoaxes.py:1666: UserWarning: No contour levels were found within the data range.\n",
      "  result = matplotlib.axes.Axes.contour(self, *args, **kwargs)\n",
      "/home/nils/anaconda3/envs/tobac/lib/python3.10/site-packages/cartopy/mpl/gridliner.py:451: UserWarning: The .xlabels_top attribute is deprecated. Please use .top_labels to toggle visibility instead.\n",
      "  warnings.warn('The .xlabels_top attribute is deprecated. Please '\n",
      "/home/nils/anaconda3/envs/tobac/lib/python3.10/site-packages/cartopy/mpl/gridliner.py:487: UserWarning: The .ylabels_right attribute is deprecated. Please use .right_labels to toggle visibility instead.\n",
      "  warnings.warn('The .ylabels_right attribute is deprecated. Please '\n",
      "/home/nils/anaconda3/envs/tobac/lib/python3.10/site-packages/cartopy/mpl/geoaxes.py:1666: UserWarning: No contour levels were found within the data range.\n",
      "  result = matplotlib.axes.Axes.contour(self, *args, **kwargs)\n",
      "/home/nils/anaconda3/envs/tobac/lib/python3.10/site-packages/cartopy/mpl/gridliner.py:451: UserWarning: The .xlabels_top attribute is deprecated. Please use .top_labels to toggle visibility instead.\n",
      "  warnings.warn('The .xlabels_top attribute is deprecated. Please '\n",
      "/home/nils/anaconda3/envs/tobac/lib/python3.10/site-packages/cartopy/mpl/gridliner.py:487: UserWarning: The .ylabels_right attribute is deprecated. Please use .right_labels to toggle visibility instead.\n",
      "  warnings.warn('The .ylabels_right attribute is deprecated. Please '\n",
      "/home/nils/anaconda3/envs/tobac/lib/python3.10/site-packages/cartopy/mpl/geoaxes.py:1666: UserWarning: No contour levels were found within the data range.\n",
      "  result = matplotlib.axes.Axes.contour(self, *args, **kwargs)\n",
      "/home/nils/anaconda3/envs/tobac/lib/python3.10/site-packages/cartopy/mpl/gridliner.py:451: UserWarning: The .xlabels_top attribute is deprecated. Please use .top_labels to toggle visibility instead.\n",
      "  warnings.warn('The .xlabels_top attribute is deprecated. Please '\n",
      "/home/nils/anaconda3/envs/tobac/lib/python3.10/site-packages/cartopy/mpl/gridliner.py:487: UserWarning: The .ylabels_right attribute is deprecated. Please use .right_labels to toggle visibility instead.\n",
      "  warnings.warn('The .ylabels_right attribute is deprecated. Please '\n"
     ]
    },
    {
     "name": "stderr",
     "output_type": "stream",
     "text": [
      "/home/nils/anaconda3/envs/tobac/lib/python3.10/site-packages/cartopy/mpl/geoaxes.py:1666: UserWarning: No contour levels were found within the data range.\n",
      "  result = matplotlib.axes.Axes.contour(self, *args, **kwargs)\n",
      "/home/nils/anaconda3/envs/tobac/lib/python3.10/site-packages/cartopy/mpl/gridliner.py:451: UserWarning: The .xlabels_top attribute is deprecated. Please use .top_labels to toggle visibility instead.\n",
      "  warnings.warn('The .xlabels_top attribute is deprecated. Please '\n",
      "/home/nils/anaconda3/envs/tobac/lib/python3.10/site-packages/cartopy/mpl/gridliner.py:487: UserWarning: The .ylabels_right attribute is deprecated. Please use .right_labels to toggle visibility instead.\n",
      "  warnings.warn('The .ylabels_right attribute is deprecated. Please '\n",
      "/home/nils/anaconda3/envs/tobac/lib/python3.10/site-packages/cartopy/mpl/geoaxes.py:1666: UserWarning: No contour levels were found within the data range.\n",
      "  result = matplotlib.axes.Axes.contour(self, *args, **kwargs)\n",
      "/home/nils/anaconda3/envs/tobac/lib/python3.10/site-packages/cartopy/mpl/gridliner.py:451: UserWarning: The .xlabels_top attribute is deprecated. Please use .top_labels to toggle visibility instead.\n",
      "  warnings.warn('The .xlabels_top attribute is deprecated. Please '\n",
      "/home/nils/anaconda3/envs/tobac/lib/python3.10/site-packages/cartopy/mpl/gridliner.py:487: UserWarning: The .ylabels_right attribute is deprecated. Please use .right_labels to toggle visibility instead.\n",
      "  warnings.warn('The .ylabels_right attribute is deprecated. Please '\n",
      "/home/nils/anaconda3/envs/tobac/lib/python3.10/site-packages/cartopy/mpl/geoaxes.py:1666: UserWarning: No contour levels were found within the data range.\n",
      "  result = matplotlib.axes.Axes.contour(self, *args, **kwargs)\n",
      "/home/nils/anaconda3/envs/tobac/lib/python3.10/site-packages/cartopy/mpl/gridliner.py:451: UserWarning: The .xlabels_top attribute is deprecated. Please use .top_labels to toggle visibility instead.\n",
      "  warnings.warn('The .xlabels_top attribute is deprecated. Please '\n",
      "/home/nils/anaconda3/envs/tobac/lib/python3.10/site-packages/cartopy/mpl/gridliner.py:487: UserWarning: The .ylabels_right attribute is deprecated. Please use .right_labels to toggle visibility instead.\n",
      "  warnings.warn('The .ylabels_right attribute is deprecated. Please '\n",
      "/home/nils/anaconda3/envs/tobac/lib/python3.10/site-packages/cartopy/mpl/geoaxes.py:1666: UserWarning: No contour levels were found within the data range.\n",
      "  result = matplotlib.axes.Axes.contour(self, *args, **kwargs)\n",
      "/home/nils/anaconda3/envs/tobac/lib/python3.10/site-packages/cartopy/mpl/gridliner.py:451: UserWarning: The .xlabels_top attribute is deprecated. Please use .top_labels to toggle visibility instead.\n",
      "  warnings.warn('The .xlabels_top attribute is deprecated. Please '\n",
      "/home/nils/anaconda3/envs/tobac/lib/python3.10/site-packages/cartopy/mpl/gridliner.py:487: UserWarning: The .ylabels_right attribute is deprecated. Please use .right_labels to toggle visibility instead.\n",
      "  warnings.warn('The .ylabels_right attribute is deprecated. Please '\n",
      "/home/nils/anaconda3/envs/tobac/lib/python3.10/site-packages/cartopy/mpl/geoaxes.py:1666: UserWarning: No contour levels were found within the data range.\n",
      "  result = matplotlib.axes.Axes.contour(self, *args, **kwargs)\n",
      "/home/nils/anaconda3/envs/tobac/lib/python3.10/site-packages/cartopy/mpl/gridliner.py:451: UserWarning: The .xlabels_top attribute is deprecated. Please use .top_labels to toggle visibility instead.\n",
      "  warnings.warn('The .xlabels_top attribute is deprecated. Please '\n",
      "/home/nils/anaconda3/envs/tobac/lib/python3.10/site-packages/cartopy/mpl/gridliner.py:487: UserWarning: The .ylabels_right attribute is deprecated. Please use .right_labels to toggle visibility instead.\n",
      "  warnings.warn('The .ylabels_right attribute is deprecated. Please '\n",
      "/home/nils/anaconda3/envs/tobac/lib/python3.10/site-packages/cartopy/mpl/geoaxes.py:1666: UserWarning: No contour levels were found within the data range.\n",
      "  result = matplotlib.axes.Axes.contour(self, *args, **kwargs)\n",
      "/home/nils/anaconda3/envs/tobac/lib/python3.10/site-packages/cartopy/mpl/gridliner.py:451: UserWarning: The .xlabels_top attribute is deprecated. Please use .top_labels to toggle visibility instead.\n",
      "  warnings.warn('The .xlabels_top attribute is deprecated. Please '\n",
      "/home/nils/anaconda3/envs/tobac/lib/python3.10/site-packages/cartopy/mpl/gridliner.py:487: UserWarning: The .ylabels_right attribute is deprecated. Please use .right_labels to toggle visibility instead.\n",
      "  warnings.warn('The .ylabels_right attribute is deprecated. Please '\n",
      "/home/nils/anaconda3/envs/tobac/lib/python3.10/site-packages/cartopy/mpl/geoaxes.py:1666: UserWarning: No contour levels were found within the data range.\n",
      "  result = matplotlib.axes.Axes.contour(self, *args, **kwargs)\n",
      "/home/nils/anaconda3/envs/tobac/lib/python3.10/site-packages/cartopy/mpl/gridliner.py:451: UserWarning: The .xlabels_top attribute is deprecated. Please use .top_labels to toggle visibility instead.\n",
      "  warnings.warn('The .xlabels_top attribute is deprecated. Please '\n",
      "/home/nils/anaconda3/envs/tobac/lib/python3.10/site-packages/cartopy/mpl/gridliner.py:487: UserWarning: The .ylabels_right attribute is deprecated. Please use .right_labels to toggle visibility instead.\n",
      "  warnings.warn('The .ylabels_right attribute is deprecated. Please '\n",
      "/home/nils/anaconda3/envs/tobac/lib/python3.10/site-packages/cartopy/mpl/geoaxes.py:1666: UserWarning: No contour levels were found within the data range.\n",
      "  result = matplotlib.axes.Axes.contour(self, *args, **kwargs)\n",
      "/home/nils/anaconda3/envs/tobac/lib/python3.10/site-packages/cartopy/mpl/gridliner.py:451: UserWarning: The .xlabels_top attribute is deprecated. Please use .top_labels to toggle visibility instead.\n",
      "  warnings.warn('The .xlabels_top attribute is deprecated. Please '\n",
      "/home/nils/anaconda3/envs/tobac/lib/python3.10/site-packages/cartopy/mpl/gridliner.py:487: UserWarning: The .ylabels_right attribute is deprecated. Please use .right_labels to toggle visibility instead.\n",
      "  warnings.warn('The .ylabels_right attribute is deprecated. Please '\n",
      "/home/nils/anaconda3/envs/tobac/lib/python3.10/site-packages/cartopy/mpl/geoaxes.py:1666: UserWarning: No contour levels were found within the data range.\n",
      "  result = matplotlib.axes.Axes.contour(self, *args, **kwargs)\n",
      "/home/nils/anaconda3/envs/tobac/lib/python3.10/site-packages/cartopy/mpl/gridliner.py:451: UserWarning: The .xlabels_top attribute is deprecated. Please use .top_labels to toggle visibility instead.\n",
      "  warnings.warn('The .xlabels_top attribute is deprecated. Please '\n",
      "/home/nils/anaconda3/envs/tobac/lib/python3.10/site-packages/cartopy/mpl/gridliner.py:487: UserWarning: The .ylabels_right attribute is deprecated. Please use .right_labels to toggle visibility instead.\n",
      "  warnings.warn('The .ylabels_right attribute is deprecated. Please '\n",
      "/home/nils/anaconda3/envs/tobac/lib/python3.10/site-packages/cartopy/mpl/geoaxes.py:1666: UserWarning: No contour levels were found within the data range.\n",
      "  result = matplotlib.axes.Axes.contour(self, *args, **kwargs)\n",
      "/home/nils/anaconda3/envs/tobac/lib/python3.10/site-packages/cartopy/mpl/gridliner.py:451: UserWarning: The .xlabels_top attribute is deprecated. Please use .top_labels to toggle visibility instead.\n",
      "  warnings.warn('The .xlabels_top attribute is deprecated. Please '\n",
      "/home/nils/anaconda3/envs/tobac/lib/python3.10/site-packages/cartopy/mpl/gridliner.py:487: UserWarning: The .ylabels_right attribute is deprecated. Please use .right_labels to toggle visibility instead.\n",
      "  warnings.warn('The .ylabels_right attribute is deprecated. Please '\n",
      "/home/nils/anaconda3/envs/tobac/lib/python3.10/site-packages/cartopy/mpl/geoaxes.py:1666: UserWarning: No contour levels were found within the data range.\n",
      "  result = matplotlib.axes.Axes.contour(self, *args, **kwargs)\n",
      "/home/nils/anaconda3/envs/tobac/lib/python3.10/site-packages/cartopy/mpl/gridliner.py:451: UserWarning: The .xlabels_top attribute is deprecated. Please use .top_labels to toggle visibility instead.\n",
      "  warnings.warn('The .xlabels_top attribute is deprecated. Please '\n",
      "/home/nils/anaconda3/envs/tobac/lib/python3.10/site-packages/cartopy/mpl/gridliner.py:487: UserWarning: The .ylabels_right attribute is deprecated. Please use .right_labels to toggle visibility instead.\n",
      "  warnings.warn('The .ylabels_right attribute is deprecated. Please '\n"
     ]
    },
    {
     "name": "stderr",
     "output_type": "stream",
     "text": [
      "/home/nils/anaconda3/envs/tobac/lib/python3.10/site-packages/cartopy/mpl/geoaxes.py:1666: UserWarning: No contour levels were found within the data range.\n",
      "  result = matplotlib.axes.Axes.contour(self, *args, **kwargs)\n",
      "/home/nils/anaconda3/envs/tobac/lib/python3.10/site-packages/cartopy/mpl/gridliner.py:451: UserWarning: The .xlabels_top attribute is deprecated. Please use .top_labels to toggle visibility instead.\n",
      "  warnings.warn('The .xlabels_top attribute is deprecated. Please '\n",
      "/home/nils/anaconda3/envs/tobac/lib/python3.10/site-packages/cartopy/mpl/gridliner.py:487: UserWarning: The .ylabels_right attribute is deprecated. Please use .right_labels to toggle visibility instead.\n",
      "  warnings.warn('The .ylabels_right attribute is deprecated. Please '\n",
      "/home/nils/anaconda3/envs/tobac/lib/python3.10/site-packages/cartopy/mpl/geoaxes.py:1666: UserWarning: No contour levels were found within the data range.\n",
      "  result = matplotlib.axes.Axes.contour(self, *args, **kwargs)\n",
      "/home/nils/anaconda3/envs/tobac/lib/python3.10/site-packages/cartopy/mpl/gridliner.py:451: UserWarning: The .xlabels_top attribute is deprecated. Please use .top_labels to toggle visibility instead.\n",
      "  warnings.warn('The .xlabels_top attribute is deprecated. Please '\n",
      "/home/nils/anaconda3/envs/tobac/lib/python3.10/site-packages/cartopy/mpl/gridliner.py:487: UserWarning: The .ylabels_right attribute is deprecated. Please use .right_labels to toggle visibility instead.\n",
      "  warnings.warn('The .ylabels_right attribute is deprecated. Please '\n",
      "/home/nils/anaconda3/envs/tobac/lib/python3.10/site-packages/cartopy/mpl/geoaxes.py:1666: UserWarning: No contour levels were found within the data range.\n",
      "  result = matplotlib.axes.Axes.contour(self, *args, **kwargs)\n",
      "/home/nils/anaconda3/envs/tobac/lib/python3.10/site-packages/cartopy/mpl/gridliner.py:451: UserWarning: The .xlabels_top attribute is deprecated. Please use .top_labels to toggle visibility instead.\n",
      "  warnings.warn('The .xlabels_top attribute is deprecated. Please '\n",
      "/home/nils/anaconda3/envs/tobac/lib/python3.10/site-packages/cartopy/mpl/gridliner.py:487: UserWarning: The .ylabels_right attribute is deprecated. Please use .right_labels to toggle visibility instead.\n",
      "  warnings.warn('The .ylabels_right attribute is deprecated. Please '\n",
      "/home/nils/anaconda3/envs/tobac/lib/python3.10/site-packages/cartopy/mpl/geoaxes.py:1666: UserWarning: No contour levels were found within the data range.\n",
      "  result = matplotlib.axes.Axes.contour(self, *args, **kwargs)\n",
      "/home/nils/anaconda3/envs/tobac/lib/python3.10/site-packages/cartopy/mpl/gridliner.py:451: UserWarning: The .xlabels_top attribute is deprecated. Please use .top_labels to toggle visibility instead.\n",
      "  warnings.warn('The .xlabels_top attribute is deprecated. Please '\n",
      "/home/nils/anaconda3/envs/tobac/lib/python3.10/site-packages/cartopy/mpl/gridliner.py:487: UserWarning: The .ylabels_right attribute is deprecated. Please use .right_labels to toggle visibility instead.\n",
      "  warnings.warn('The .ylabels_right attribute is deprecated. Please '\n",
      "/home/nils/anaconda3/envs/tobac/lib/python3.10/site-packages/cartopy/mpl/geoaxes.py:1666: UserWarning: No contour levels were found within the data range.\n",
      "  result = matplotlib.axes.Axes.contour(self, *args, **kwargs)\n",
      "/home/nils/anaconda3/envs/tobac/lib/python3.10/site-packages/cartopy/mpl/gridliner.py:451: UserWarning: The .xlabels_top attribute is deprecated. Please use .top_labels to toggle visibility instead.\n",
      "  warnings.warn('The .xlabels_top attribute is deprecated. Please '\n",
      "/home/nils/anaconda3/envs/tobac/lib/python3.10/site-packages/cartopy/mpl/gridliner.py:487: UserWarning: The .ylabels_right attribute is deprecated. Please use .right_labels to toggle visibility instead.\n",
      "  warnings.warn('The .ylabels_right attribute is deprecated. Please '\n",
      "/home/nils/anaconda3/envs/tobac/lib/python3.10/site-packages/cartopy/mpl/geoaxes.py:1666: UserWarning: No contour levels were found within the data range.\n",
      "  result = matplotlib.axes.Axes.contour(self, *args, **kwargs)\n",
      "/home/nils/anaconda3/envs/tobac/lib/python3.10/site-packages/cartopy/mpl/gridliner.py:451: UserWarning: The .xlabels_top attribute is deprecated. Please use .top_labels to toggle visibility instead.\n",
      "  warnings.warn('The .xlabels_top attribute is deprecated. Please '\n",
      "/home/nils/anaconda3/envs/tobac/lib/python3.10/site-packages/cartopy/mpl/gridliner.py:487: UserWarning: The .ylabels_right attribute is deprecated. Please use .right_labels to toggle visibility instead.\n",
      "  warnings.warn('The .ylabels_right attribute is deprecated. Please '\n",
      "/home/nils/anaconda3/envs/tobac/lib/python3.10/site-packages/cartopy/mpl/geoaxes.py:1666: UserWarning: No contour levels were found within the data range.\n",
      "  result = matplotlib.axes.Axes.contour(self, *args, **kwargs)\n",
      "/home/nils/anaconda3/envs/tobac/lib/python3.10/site-packages/cartopy/mpl/gridliner.py:451: UserWarning: The .xlabels_top attribute is deprecated. Please use .top_labels to toggle visibility instead.\n",
      "  warnings.warn('The .xlabels_top attribute is deprecated. Please '\n",
      "/home/nils/anaconda3/envs/tobac/lib/python3.10/site-packages/cartopy/mpl/gridliner.py:487: UserWarning: The .ylabels_right attribute is deprecated. Please use .right_labels to toggle visibility instead.\n",
      "  warnings.warn('The .ylabels_right attribute is deprecated. Please '\n",
      "/home/nils/anaconda3/envs/tobac/lib/python3.10/site-packages/cartopy/mpl/geoaxes.py:1666: UserWarning: No contour levels were found within the data range.\n",
      "  result = matplotlib.axes.Axes.contour(self, *args, **kwargs)\n",
      "/home/nils/anaconda3/envs/tobac/lib/python3.10/site-packages/cartopy/mpl/gridliner.py:451: UserWarning: The .xlabels_top attribute is deprecated. Please use .top_labels to toggle visibility instead.\n",
      "  warnings.warn('The .xlabels_top attribute is deprecated. Please '\n",
      "/home/nils/anaconda3/envs/tobac/lib/python3.10/site-packages/cartopy/mpl/gridliner.py:487: UserWarning: The .ylabels_right attribute is deprecated. Please use .right_labels to toggle visibility instead.\n",
      "  warnings.warn('The .ylabels_right attribute is deprecated. Please '\n",
      "/home/nils/anaconda3/envs/tobac/lib/python3.10/site-packages/cartopy/mpl/geoaxes.py:1666: UserWarning: No contour levels were found within the data range.\n",
      "  result = matplotlib.axes.Axes.contour(self, *args, **kwargs)\n",
      "/home/nils/anaconda3/envs/tobac/lib/python3.10/site-packages/cartopy/mpl/gridliner.py:451: UserWarning: The .xlabels_top attribute is deprecated. Please use .top_labels to toggle visibility instead.\n",
      "  warnings.warn('The .xlabels_top attribute is deprecated. Please '\n",
      "/home/nils/anaconda3/envs/tobac/lib/python3.10/site-packages/cartopy/mpl/gridliner.py:487: UserWarning: The .ylabels_right attribute is deprecated. Please use .right_labels to toggle visibility instead.\n",
      "  warnings.warn('The .ylabels_right attribute is deprecated. Please '\n",
      "/home/nils/anaconda3/envs/tobac/lib/python3.10/site-packages/cartopy/mpl/geoaxes.py:1666: UserWarning: No contour levels were found within the data range.\n",
      "  result = matplotlib.axes.Axes.contour(self, *args, **kwargs)\n",
      "/home/nils/anaconda3/envs/tobac/lib/python3.10/site-packages/cartopy/mpl/gridliner.py:451: UserWarning: The .xlabels_top attribute is deprecated. Please use .top_labels to toggle visibility instead.\n",
      "  warnings.warn('The .xlabels_top attribute is deprecated. Please '\n",
      "/home/nils/anaconda3/envs/tobac/lib/python3.10/site-packages/cartopy/mpl/gridliner.py:487: UserWarning: The .ylabels_right attribute is deprecated. Please use .right_labels to toggle visibility instead.\n",
      "  warnings.warn('The .ylabels_right attribute is deprecated. Please '\n",
      "/home/nils/anaconda3/envs/tobac/lib/python3.10/site-packages/cartopy/mpl/geoaxes.py:1666: UserWarning: No contour levels were found within the data range.\n",
      "  result = matplotlib.axes.Axes.contour(self, *args, **kwargs)\n",
      "/home/nils/anaconda3/envs/tobac/lib/python3.10/site-packages/cartopy/mpl/gridliner.py:451: UserWarning: The .xlabels_top attribute is deprecated. Please use .top_labels to toggle visibility instead.\n",
      "  warnings.warn('The .xlabels_top attribute is deprecated. Please '\n",
      "/home/nils/anaconda3/envs/tobac/lib/python3.10/site-packages/cartopy/mpl/gridliner.py:487: UserWarning: The .ylabels_right attribute is deprecated. Please use .right_labels to toggle visibility instead.\n",
      "  warnings.warn('The .ylabels_right attribute is deprecated. Please '\n",
      "/home/nils/anaconda3/envs/tobac/lib/python3.10/site-packages/cartopy/mpl/geoaxes.py:1666: UserWarning: No contour levels were found within the data range.\n",
      "  result = matplotlib.axes.Axes.contour(self, *args, **kwargs)\n"
     ]
    },
    {
     "name": "stderr",
     "output_type": "stream",
     "text": [
      "/home/nils/anaconda3/envs/tobac/lib/python3.10/site-packages/cartopy/mpl/gridliner.py:451: UserWarning: The .xlabels_top attribute is deprecated. Please use .top_labels to toggle visibility instead.\n",
      "  warnings.warn('The .xlabels_top attribute is deprecated. Please '\n",
      "/home/nils/anaconda3/envs/tobac/lib/python3.10/site-packages/cartopy/mpl/gridliner.py:487: UserWarning: The .ylabels_right attribute is deprecated. Please use .right_labels to toggle visibility instead.\n",
      "  warnings.warn('The .ylabels_right attribute is deprecated. Please '\n",
      "/home/nils/anaconda3/envs/tobac/lib/python3.10/site-packages/cartopy/mpl/geoaxes.py:1666: UserWarning: No contour levels were found within the data range.\n",
      "  result = matplotlib.axes.Axes.contour(self, *args, **kwargs)\n",
      "/home/nils/anaconda3/envs/tobac/lib/python3.10/site-packages/cartopy/mpl/gridliner.py:451: UserWarning: The .xlabels_top attribute is deprecated. Please use .top_labels to toggle visibility instead.\n",
      "  warnings.warn('The .xlabels_top attribute is deprecated. Please '\n",
      "/home/nils/anaconda3/envs/tobac/lib/python3.10/site-packages/cartopy/mpl/gridliner.py:487: UserWarning: The .ylabels_right attribute is deprecated. Please use .right_labels to toggle visibility instead.\n",
      "  warnings.warn('The .ylabels_right attribute is deprecated. Please '\n",
      "/home/nils/anaconda3/envs/tobac/lib/python3.10/site-packages/cartopy/mpl/geoaxes.py:1666: UserWarning: No contour levels were found within the data range.\n",
      "  result = matplotlib.axes.Axes.contour(self, *args, **kwargs)\n",
      "/home/nils/anaconda3/envs/tobac/lib/python3.10/site-packages/cartopy/mpl/gridliner.py:451: UserWarning: The .xlabels_top attribute is deprecated. Please use .top_labels to toggle visibility instead.\n",
      "  warnings.warn('The .xlabels_top attribute is deprecated. Please '\n",
      "/home/nils/anaconda3/envs/tobac/lib/python3.10/site-packages/cartopy/mpl/gridliner.py:487: UserWarning: The .ylabels_right attribute is deprecated. Please use .right_labels to toggle visibility instead.\n",
      "  warnings.warn('The .ylabels_right attribute is deprecated. Please '\n",
      "/home/nils/anaconda3/envs/tobac/lib/python3.10/site-packages/cartopy/mpl/geoaxes.py:1666: UserWarning: No contour levels were found within the data range.\n",
      "  result = matplotlib.axes.Axes.contour(self, *args, **kwargs)\n",
      "/home/nils/anaconda3/envs/tobac/lib/python3.10/site-packages/cartopy/mpl/gridliner.py:451: UserWarning: The .xlabels_top attribute is deprecated. Please use .top_labels to toggle visibility instead.\n",
      "  warnings.warn('The .xlabels_top attribute is deprecated. Please '\n",
      "/home/nils/anaconda3/envs/tobac/lib/python3.10/site-packages/cartopy/mpl/gridliner.py:487: UserWarning: The .ylabels_right attribute is deprecated. Please use .right_labels to toggle visibility instead.\n",
      "  warnings.warn('The .ylabels_right attribute is deprecated. Please '\n",
      "/home/nils/anaconda3/envs/tobac/lib/python3.10/site-packages/cartopy/mpl/geoaxes.py:1666: UserWarning: No contour levels were found within the data range.\n",
      "  result = matplotlib.axes.Axes.contour(self, *args, **kwargs)\n",
      "/home/nils/anaconda3/envs/tobac/lib/python3.10/site-packages/cartopy/mpl/gridliner.py:451: UserWarning: The .xlabels_top attribute is deprecated. Please use .top_labels to toggle visibility instead.\n",
      "  warnings.warn('The .xlabels_top attribute is deprecated. Please '\n",
      "/home/nils/anaconda3/envs/tobac/lib/python3.10/site-packages/cartopy/mpl/gridliner.py:487: UserWarning: The .ylabels_right attribute is deprecated. Please use .right_labels to toggle visibility instead.\n",
      "  warnings.warn('The .ylabels_right attribute is deprecated. Please '\n",
      "/home/nils/anaconda3/envs/tobac/lib/python3.10/site-packages/cartopy/mpl/geoaxes.py:1666: UserWarning: No contour levels were found within the data range.\n",
      "  result = matplotlib.axes.Axes.contour(self, *args, **kwargs)\n",
      "/home/nils/anaconda3/envs/tobac/lib/python3.10/site-packages/cartopy/mpl/gridliner.py:451: UserWarning: The .xlabels_top attribute is deprecated. Please use .top_labels to toggle visibility instead.\n",
      "  warnings.warn('The .xlabels_top attribute is deprecated. Please '\n",
      "/home/nils/anaconda3/envs/tobac/lib/python3.10/site-packages/cartopy/mpl/gridliner.py:487: UserWarning: The .ylabels_right attribute is deprecated. Please use .right_labels to toggle visibility instead.\n",
      "  warnings.warn('The .ylabels_right attribute is deprecated. Please '\n",
      "/home/nils/anaconda3/envs/tobac/lib/python3.10/site-packages/cartopy/mpl/geoaxes.py:1666: UserWarning: No contour levels were found within the data range.\n",
      "  result = matplotlib.axes.Axes.contour(self, *args, **kwargs)\n",
      "/home/nils/anaconda3/envs/tobac/lib/python3.10/site-packages/cartopy/mpl/gridliner.py:451: UserWarning: The .xlabels_top attribute is deprecated. Please use .top_labels to toggle visibility instead.\n",
      "  warnings.warn('The .xlabels_top attribute is deprecated. Please '\n",
      "/home/nils/anaconda3/envs/tobac/lib/python3.10/site-packages/cartopy/mpl/gridliner.py:487: UserWarning: The .ylabels_right attribute is deprecated. Please use .right_labels to toggle visibility instead.\n",
      "  warnings.warn('The .ylabels_right attribute is deprecated. Please '\n",
      "/home/nils/anaconda3/envs/tobac/lib/python3.10/site-packages/cartopy/mpl/geoaxes.py:1666: UserWarning: No contour levels were found within the data range.\n",
      "  result = matplotlib.axes.Axes.contour(self, *args, **kwargs)\n",
      "/home/nils/anaconda3/envs/tobac/lib/python3.10/site-packages/cartopy/mpl/gridliner.py:451: UserWarning: The .xlabels_top attribute is deprecated. Please use .top_labels to toggle visibility instead.\n",
      "  warnings.warn('The .xlabels_top attribute is deprecated. Please '\n",
      "/home/nils/anaconda3/envs/tobac/lib/python3.10/site-packages/cartopy/mpl/gridliner.py:487: UserWarning: The .ylabels_right attribute is deprecated. Please use .right_labels to toggle visibility instead.\n",
      "  warnings.warn('The .ylabels_right attribute is deprecated. Please '\n",
      "/home/nils/anaconda3/envs/tobac/lib/python3.10/site-packages/cartopy/mpl/geoaxes.py:1666: UserWarning: No contour levels were found within the data range.\n",
      "  result = matplotlib.axes.Axes.contour(self, *args, **kwargs)\n",
      "/home/nils/anaconda3/envs/tobac/lib/python3.10/site-packages/cartopy/mpl/geoaxes.py:1666: UserWarning: No contour levels were found within the data range.\n",
      "  result = matplotlib.axes.Axes.contour(self, *args, **kwargs)\n",
      "/home/nils/anaconda3/envs/tobac/lib/python3.10/site-packages/cartopy/mpl/gridliner.py:451: UserWarning: The .xlabels_top attribute is deprecated. Please use .top_labels to toggle visibility instead.\n",
      "  warnings.warn('The .xlabels_top attribute is deprecated. Please '\n",
      "/home/nils/anaconda3/envs/tobac/lib/python3.10/site-packages/cartopy/mpl/gridliner.py:487: UserWarning: The .ylabels_right attribute is deprecated. Please use .right_labels to toggle visibility instead.\n",
      "  warnings.warn('The .ylabels_right attribute is deprecated. Please '\n",
      "/home/nils/anaconda3/envs/tobac/lib/python3.10/site-packages/cartopy/mpl/geoaxes.py:1666: UserWarning: No contour levels were found within the data range.\n",
      "  result = matplotlib.axes.Axes.contour(self, *args, **kwargs)\n",
      "/home/nils/anaconda3/envs/tobac/lib/python3.10/site-packages/cartopy/mpl/geoaxes.py:1666: UserWarning: No contour levels were found within the data range.\n",
      "  result = matplotlib.axes.Axes.contour(self, *args, **kwargs)\n",
      "/home/nils/anaconda3/envs/tobac/lib/python3.10/site-packages/cartopy/mpl/gridliner.py:451: UserWarning: The .xlabels_top attribute is deprecated. Please use .top_labels to toggle visibility instead.\n",
      "  warnings.warn('The .xlabels_top attribute is deprecated. Please '\n",
      "/home/nils/anaconda3/envs/tobac/lib/python3.10/site-packages/cartopy/mpl/gridliner.py:487: UserWarning: The .ylabels_right attribute is deprecated. Please use .right_labels to toggle visibility instead.\n",
      "  warnings.warn('The .ylabels_right attribute is deprecated. Please '\n",
      "/home/nils/anaconda3/envs/tobac/lib/python3.10/site-packages/cartopy/mpl/geoaxes.py:1666: UserWarning: No contour levels were found within the data range.\n",
      "  result = matplotlib.axes.Axes.contour(self, *args, **kwargs)\n",
      "/home/nils/anaconda3/envs/tobac/lib/python3.10/site-packages/cartopy/mpl/geoaxes.py:1666: UserWarning: No contour levels were found within the data range.\n",
      "  result = matplotlib.axes.Axes.contour(self, *args, **kwargs)\n"
     ]
    },
    {
     "name": "stderr",
     "output_type": "stream",
     "text": [
      "/home/nils/anaconda3/envs/tobac/lib/python3.10/site-packages/cartopy/mpl/gridliner.py:451: UserWarning: The .xlabels_top attribute is deprecated. Please use .top_labels to toggle visibility instead.\n",
      "  warnings.warn('The .xlabels_top attribute is deprecated. Please '\n",
      "/home/nils/anaconda3/envs/tobac/lib/python3.10/site-packages/cartopy/mpl/gridliner.py:487: UserWarning: The .ylabels_right attribute is deprecated. Please use .right_labels to toggle visibility instead.\n",
      "  warnings.warn('The .ylabels_right attribute is deprecated. Please '\n",
      "/home/nils/anaconda3/envs/tobac/lib/python3.10/site-packages/cartopy/mpl/geoaxes.py:1666: UserWarning: No contour levels were found within the data range.\n",
      "  result = matplotlib.axes.Axes.contour(self, *args, **kwargs)\n",
      "/home/nils/anaconda3/envs/tobac/lib/python3.10/site-packages/cartopy/mpl/geoaxes.py:1666: UserWarning: No contour levels were found within the data range.\n",
      "  result = matplotlib.axes.Axes.contour(self, *args, **kwargs)\n",
      "/home/nils/anaconda3/envs/tobac/lib/python3.10/site-packages/cartopy/mpl/gridliner.py:451: UserWarning: The .xlabels_top attribute is deprecated. Please use .top_labels to toggle visibility instead.\n",
      "  warnings.warn('The .xlabels_top attribute is deprecated. Please '\n",
      "/home/nils/anaconda3/envs/tobac/lib/python3.10/site-packages/cartopy/mpl/gridliner.py:487: UserWarning: The .ylabels_right attribute is deprecated. Please use .right_labels to toggle visibility instead.\n",
      "  warnings.warn('The .ylabels_right attribute is deprecated. Please '\n",
      "/home/nils/anaconda3/envs/tobac/lib/python3.10/site-packages/cartopy/mpl/geoaxes.py:1666: UserWarning: No contour levels were found within the data range.\n",
      "  result = matplotlib.axes.Axes.contour(self, *args, **kwargs)\n",
      "/home/nils/anaconda3/envs/tobac/lib/python3.10/site-packages/cartopy/mpl/geoaxes.py:1666: UserWarning: No contour levels were found within the data range.\n",
      "  result = matplotlib.axes.Axes.contour(self, *args, **kwargs)\n",
      "/home/nils/anaconda3/envs/tobac/lib/python3.10/site-packages/cartopy/mpl/gridliner.py:451: UserWarning: The .xlabels_top attribute is deprecated. Please use .top_labels to toggle visibility instead.\n",
      "  warnings.warn('The .xlabels_top attribute is deprecated. Please '\n",
      "/home/nils/anaconda3/envs/tobac/lib/python3.10/site-packages/cartopy/mpl/gridliner.py:487: UserWarning: The .ylabels_right attribute is deprecated. Please use .right_labels to toggle visibility instead.\n",
      "  warnings.warn('The .ylabels_right attribute is deprecated. Please '\n",
      "/home/nils/anaconda3/envs/tobac/lib/python3.10/site-packages/cartopy/mpl/geoaxes.py:1666: UserWarning: No contour levels were found within the data range.\n",
      "  result = matplotlib.axes.Axes.contour(self, *args, **kwargs)\n",
      "/home/nils/anaconda3/envs/tobac/lib/python3.10/site-packages/cartopy/mpl/geoaxes.py:1666: UserWarning: No contour levels were found within the data range.\n",
      "  result = matplotlib.axes.Axes.contour(self, *args, **kwargs)\n",
      "/home/nils/anaconda3/envs/tobac/lib/python3.10/site-packages/cartopy/mpl/gridliner.py:451: UserWarning: The .xlabels_top attribute is deprecated. Please use .top_labels to toggle visibility instead.\n",
      "  warnings.warn('The .xlabels_top attribute is deprecated. Please '\n",
      "/home/nils/anaconda3/envs/tobac/lib/python3.10/site-packages/cartopy/mpl/gridliner.py:487: UserWarning: The .ylabels_right attribute is deprecated. Please use .right_labels to toggle visibility instead.\n",
      "  warnings.warn('The .ylabels_right attribute is deprecated. Please '\n",
      "/home/nils/anaconda3/envs/tobac/lib/python3.10/site-packages/cartopy/mpl/geoaxes.py:1666: UserWarning: No contour levels were found within the data range.\n",
      "  result = matplotlib.axes.Axes.contour(self, *args, **kwargs)\n",
      "/home/nils/anaconda3/envs/tobac/lib/python3.10/site-packages/cartopy/mpl/geoaxes.py:1666: UserWarning: No contour levels were found within the data range.\n",
      "  result = matplotlib.axes.Axes.contour(self, *args, **kwargs)\n",
      "/home/nils/anaconda3/envs/tobac/lib/python3.10/site-packages/cartopy/mpl/gridliner.py:451: UserWarning: The .xlabels_top attribute is deprecated. Please use .top_labels to toggle visibility instead.\n",
      "  warnings.warn('The .xlabels_top attribute is deprecated. Please '\n",
      "/home/nils/anaconda3/envs/tobac/lib/python3.10/site-packages/cartopy/mpl/gridliner.py:487: UserWarning: The .ylabels_right attribute is deprecated. Please use .right_labels to toggle visibility instead.\n",
      "  warnings.warn('The .ylabels_right attribute is deprecated. Please '\n",
      "/home/nils/anaconda3/envs/tobac/lib/python3.10/site-packages/cartopy/mpl/geoaxes.py:1666: UserWarning: No contour levels were found within the data range.\n",
      "  result = matplotlib.axes.Axes.contour(self, *args, **kwargs)\n",
      "/home/nils/anaconda3/envs/tobac/lib/python3.10/site-packages/cartopy/mpl/geoaxes.py:1666: UserWarning: No contour levels were found within the data range.\n",
      "  result = matplotlib.axes.Axes.contour(self, *args, **kwargs)\n",
      "/home/nils/anaconda3/envs/tobac/lib/python3.10/site-packages/cartopy/mpl/gridliner.py:451: UserWarning: The .xlabels_top attribute is deprecated. Please use .top_labels to toggle visibility instead.\n",
      "  warnings.warn('The .xlabels_top attribute is deprecated. Please '\n",
      "/home/nils/anaconda3/envs/tobac/lib/python3.10/site-packages/cartopy/mpl/gridliner.py:487: UserWarning: The .ylabels_right attribute is deprecated. Please use .right_labels to toggle visibility instead.\n",
      "  warnings.warn('The .ylabels_right attribute is deprecated. Please '\n",
      "/home/nils/anaconda3/envs/tobac/lib/python3.10/site-packages/cartopy/mpl/geoaxes.py:1666: UserWarning: No contour levels were found within the data range.\n",
      "  result = matplotlib.axes.Axes.contour(self, *args, **kwargs)\n",
      "/home/nils/anaconda3/envs/tobac/lib/python3.10/site-packages/cartopy/mpl/geoaxes.py:1666: UserWarning: No contour levels were found within the data range.\n",
      "  result = matplotlib.axes.Axes.contour(self, *args, **kwargs)\n",
      "/home/nils/anaconda3/envs/tobac/lib/python3.10/site-packages/cartopy/mpl/gridliner.py:451: UserWarning: The .xlabels_top attribute is deprecated. Please use .top_labels to toggle visibility instead.\n",
      "  warnings.warn('The .xlabels_top attribute is deprecated. Please '\n",
      "/home/nils/anaconda3/envs/tobac/lib/python3.10/site-packages/cartopy/mpl/gridliner.py:487: UserWarning: The .ylabels_right attribute is deprecated. Please use .right_labels to toggle visibility instead.\n",
      "  warnings.warn('The .ylabels_right attribute is deprecated. Please '\n",
      "/home/nils/anaconda3/envs/tobac/lib/python3.10/site-packages/cartopy/mpl/geoaxes.py:1666: UserWarning: No contour levels were found within the data range.\n",
      "  result = matplotlib.axes.Axes.contour(self, *args, **kwargs)\n",
      "/home/nils/anaconda3/envs/tobac/lib/python3.10/site-packages/cartopy/mpl/geoaxes.py:1666: UserWarning: No contour levels were found within the data range.\n",
      "  result = matplotlib.axes.Axes.contour(self, *args, **kwargs)\n",
      "/home/nils/anaconda3/envs/tobac/lib/python3.10/site-packages/cartopy/mpl/gridliner.py:451: UserWarning: The .xlabels_top attribute is deprecated. Please use .top_labels to toggle visibility instead.\n",
      "  warnings.warn('The .xlabels_top attribute is deprecated. Please '\n",
      "/home/nils/anaconda3/envs/tobac/lib/python3.10/site-packages/cartopy/mpl/gridliner.py:487: UserWarning: The .ylabels_right attribute is deprecated. Please use .right_labels to toggle visibility instead.\n",
      "  warnings.warn('The .ylabels_right attribute is deprecated. Please '\n",
      "/home/nils/anaconda3/envs/tobac/lib/python3.10/site-packages/cartopy/mpl/geoaxes.py:1666: UserWarning: No contour levels were found within the data range.\n",
      "  result = matplotlib.axes.Axes.contour(self, *args, **kwargs)\n",
      "/home/nils/anaconda3/envs/tobac/lib/python3.10/site-packages/cartopy/mpl/geoaxes.py:1666: UserWarning: No contour levels were found within the data range.\n",
      "  result = matplotlib.axes.Axes.contour(self, *args, **kwargs)\n",
      "/home/nils/anaconda3/envs/tobac/lib/python3.10/site-packages/cartopy/mpl/geoaxes.py:1666: UserWarning: No contour levels were found within the data range.\n",
      "  result = matplotlib.axes.Axes.contour(self, *args, **kwargs)\n",
      "/home/nils/anaconda3/envs/tobac/lib/python3.10/site-packages/cartopy/mpl/gridliner.py:451: UserWarning: The .xlabels_top attribute is deprecated. Please use .top_labels to toggle visibility instead.\n",
      "  warnings.warn('The .xlabels_top attribute is deprecated. Please '\n",
      "/home/nils/anaconda3/envs/tobac/lib/python3.10/site-packages/cartopy/mpl/gridliner.py:487: UserWarning: The .ylabels_right attribute is deprecated. Please use .right_labels to toggle visibility instead.\n",
      "  warnings.warn('The .ylabels_right attribute is deprecated. Please '\n",
      "/home/nils/anaconda3/envs/tobac/lib/python3.10/site-packages/cartopy/mpl/geoaxes.py:1666: UserWarning: No contour levels were found within the data range.\n",
      "  result = matplotlib.axes.Axes.contour(self, *args, **kwargs)\n",
      "/home/nils/anaconda3/envs/tobac/lib/python3.10/site-packages/cartopy/mpl/geoaxes.py:1666: UserWarning: No contour levels were found within the data range.\n",
      "  result = matplotlib.axes.Axes.contour(self, *args, **kwargs)\n",
      "/home/nils/anaconda3/envs/tobac/lib/python3.10/site-packages/cartopy/mpl/geoaxes.py:1666: UserWarning: No contour levels were found within the data range.\n",
      "  result = matplotlib.axes.Axes.contour(self, *args, **kwargs)\n"
     ]
    },
    {
     "name": "stderr",
     "output_type": "stream",
     "text": [
      "/home/nils/anaconda3/envs/tobac/lib/python3.10/site-packages/cartopy/mpl/gridliner.py:451: UserWarning: The .xlabels_top attribute is deprecated. Please use .top_labels to toggle visibility instead.\n",
      "  warnings.warn('The .xlabels_top attribute is deprecated. Please '\n",
      "/home/nils/anaconda3/envs/tobac/lib/python3.10/site-packages/cartopy/mpl/gridliner.py:487: UserWarning: The .ylabels_right attribute is deprecated. Please use .right_labels to toggle visibility instead.\n",
      "  warnings.warn('The .ylabels_right attribute is deprecated. Please '\n",
      "/home/nils/anaconda3/envs/tobac/lib/python3.10/site-packages/cartopy/mpl/geoaxes.py:1666: UserWarning: No contour levels were found within the data range.\n",
      "  result = matplotlib.axes.Axes.contour(self, *args, **kwargs)\n",
      "/home/nils/anaconda3/envs/tobac/lib/python3.10/site-packages/cartopy/mpl/geoaxes.py:1666: UserWarning: No contour levels were found within the data range.\n",
      "  result = matplotlib.axes.Axes.contour(self, *args, **kwargs)\n",
      "/home/nils/anaconda3/envs/tobac/lib/python3.10/site-packages/cartopy/mpl/geoaxes.py:1666: UserWarning: No contour levels were found within the data range.\n",
      "  result = matplotlib.axes.Axes.contour(self, *args, **kwargs)\n",
      "/home/nils/anaconda3/envs/tobac/lib/python3.10/site-packages/cartopy/mpl/gridliner.py:451: UserWarning: The .xlabels_top attribute is deprecated. Please use .top_labels to toggle visibility instead.\n",
      "  warnings.warn('The .xlabels_top attribute is deprecated. Please '\n",
      "/home/nils/anaconda3/envs/tobac/lib/python3.10/site-packages/cartopy/mpl/gridliner.py:487: UserWarning: The .ylabels_right attribute is deprecated. Please use .right_labels to toggle visibility instead.\n",
      "  warnings.warn('The .ylabels_right attribute is deprecated. Please '\n",
      "/home/nils/anaconda3/envs/tobac/lib/python3.10/site-packages/cartopy/mpl/geoaxes.py:1666: UserWarning: No contour levels were found within the data range.\n",
      "  result = matplotlib.axes.Axes.contour(self, *args, **kwargs)\n",
      "/home/nils/anaconda3/envs/tobac/lib/python3.10/site-packages/cartopy/mpl/geoaxes.py:1666: UserWarning: No contour levels were found within the data range.\n",
      "  result = matplotlib.axes.Axes.contour(self, *args, **kwargs)\n",
      "/home/nils/anaconda3/envs/tobac/lib/python3.10/site-packages/cartopy/mpl/geoaxes.py:1666: UserWarning: No contour levels were found within the data range.\n",
      "  result = matplotlib.axes.Axes.contour(self, *args, **kwargs)\n",
      "/home/nils/anaconda3/envs/tobac/lib/python3.10/site-packages/cartopy/mpl/gridliner.py:451: UserWarning: The .xlabels_top attribute is deprecated. Please use .top_labels to toggle visibility instead.\n",
      "  warnings.warn('The .xlabels_top attribute is deprecated. Please '\n",
      "/home/nils/anaconda3/envs/tobac/lib/python3.10/site-packages/cartopy/mpl/gridliner.py:487: UserWarning: The .ylabels_right attribute is deprecated. Please use .right_labels to toggle visibility instead.\n",
      "  warnings.warn('The .ylabels_right attribute is deprecated. Please '\n",
      "/home/nils/anaconda3/envs/tobac/lib/python3.10/site-packages/cartopy/mpl/geoaxes.py:1666: UserWarning: No contour levels were found within the data range.\n",
      "  result = matplotlib.axes.Axes.contour(self, *args, **kwargs)\n",
      "/home/nils/anaconda3/envs/tobac/lib/python3.10/site-packages/cartopy/mpl/geoaxes.py:1666: UserWarning: No contour levels were found within the data range.\n",
      "  result = matplotlib.axes.Axes.contour(self, *args, **kwargs)\n",
      "/home/nils/anaconda3/envs/tobac/lib/python3.10/site-packages/cartopy/mpl/geoaxes.py:1666: UserWarning: No contour levels were found within the data range.\n",
      "  result = matplotlib.axes.Axes.contour(self, *args, **kwargs)\n",
      "/home/nils/anaconda3/envs/tobac/lib/python3.10/site-packages/cartopy/mpl/gridliner.py:451: UserWarning: The .xlabels_top attribute is deprecated. Please use .top_labels to toggle visibility instead.\n",
      "  warnings.warn('The .xlabels_top attribute is deprecated. Please '\n",
      "/home/nils/anaconda3/envs/tobac/lib/python3.10/site-packages/cartopy/mpl/gridliner.py:487: UserWarning: The .ylabels_right attribute is deprecated. Please use .right_labels to toggle visibility instead.\n",
      "  warnings.warn('The .ylabels_right attribute is deprecated. Please '\n",
      "/home/nils/anaconda3/envs/tobac/lib/python3.10/site-packages/cartopy/mpl/geoaxes.py:1666: UserWarning: No contour levels were found within the data range.\n",
      "  result = matplotlib.axes.Axes.contour(self, *args, **kwargs)\n",
      "/home/nils/anaconda3/envs/tobac/lib/python3.10/site-packages/cartopy/mpl/geoaxes.py:1666: UserWarning: No contour levels were found within the data range.\n",
      "  result = matplotlib.axes.Axes.contour(self, *args, **kwargs)\n",
      "/home/nils/anaconda3/envs/tobac/lib/python3.10/site-packages/cartopy/mpl/geoaxes.py:1666: UserWarning: No contour levels were found within the data range.\n",
      "  result = matplotlib.axes.Axes.contour(self, *args, **kwargs)\n",
      "/home/nils/anaconda3/envs/tobac/lib/python3.10/site-packages/cartopy/mpl/gridliner.py:451: UserWarning: The .xlabels_top attribute is deprecated. Please use .top_labels to toggle visibility instead.\n",
      "  warnings.warn('The .xlabels_top attribute is deprecated. Please '\n",
      "/home/nils/anaconda3/envs/tobac/lib/python3.10/site-packages/cartopy/mpl/gridliner.py:487: UserWarning: The .ylabels_right attribute is deprecated. Please use .right_labels to toggle visibility instead.\n",
      "  warnings.warn('The .ylabels_right attribute is deprecated. Please '\n",
      "/home/nils/anaconda3/envs/tobac/lib/python3.10/site-packages/cartopy/mpl/geoaxes.py:1666: UserWarning: No contour levels were found within the data range.\n",
      "  result = matplotlib.axes.Axes.contour(self, *args, **kwargs)\n",
      "/home/nils/anaconda3/envs/tobac/lib/python3.10/site-packages/cartopy/mpl/geoaxes.py:1666: UserWarning: No contour levels were found within the data range.\n",
      "  result = matplotlib.axes.Axes.contour(self, *args, **kwargs)\n",
      "/home/nils/anaconda3/envs/tobac/lib/python3.10/site-packages/cartopy/mpl/geoaxes.py:1666: UserWarning: No contour levels were found within the data range.\n",
      "  result = matplotlib.axes.Axes.contour(self, *args, **kwargs)\n",
      "/home/nils/anaconda3/envs/tobac/lib/python3.10/site-packages/cartopy/mpl/gridliner.py:451: UserWarning: The .xlabels_top attribute is deprecated. Please use .top_labels to toggle visibility instead.\n",
      "  warnings.warn('The .xlabels_top attribute is deprecated. Please '\n",
      "/home/nils/anaconda3/envs/tobac/lib/python3.10/site-packages/cartopy/mpl/gridliner.py:487: UserWarning: The .ylabels_right attribute is deprecated. Please use .right_labels to toggle visibility instead.\n",
      "  warnings.warn('The .ylabels_right attribute is deprecated. Please '\n",
      "/home/nils/anaconda3/envs/tobac/lib/python3.10/site-packages/cartopy/mpl/geoaxes.py:1666: UserWarning: No contour levels were found within the data range.\n",
      "  result = matplotlib.axes.Axes.contour(self, *args, **kwargs)\n",
      "/home/nils/anaconda3/envs/tobac/lib/python3.10/site-packages/cartopy/mpl/geoaxes.py:1666: UserWarning: No contour levels were found within the data range.\n",
      "  result = matplotlib.axes.Axes.contour(self, *args, **kwargs)\n",
      "/home/nils/anaconda3/envs/tobac/lib/python3.10/site-packages/cartopy/mpl/geoaxes.py:1666: UserWarning: No contour levels were found within the data range.\n",
      "  result = matplotlib.axes.Axes.contour(self, *args, **kwargs)\n",
      "/home/nils/anaconda3/envs/tobac/lib/python3.10/site-packages/cartopy/mpl/gridliner.py:451: UserWarning: The .xlabels_top attribute is deprecated. Please use .top_labels to toggle visibility instead.\n",
      "  warnings.warn('The .xlabels_top attribute is deprecated. Please '\n",
      "/home/nils/anaconda3/envs/tobac/lib/python3.10/site-packages/cartopy/mpl/gridliner.py:487: UserWarning: The .ylabels_right attribute is deprecated. Please use .right_labels to toggle visibility instead.\n",
      "  warnings.warn('The .ylabels_right attribute is deprecated. Please '\n",
      "/home/nils/anaconda3/envs/tobac/lib/python3.10/site-packages/cartopy/mpl/geoaxes.py:1666: UserWarning: No contour levels were found within the data range.\n",
      "  result = matplotlib.axes.Axes.contour(self, *args, **kwargs)\n",
      "/home/nils/anaconda3/envs/tobac/lib/python3.10/site-packages/cartopy/mpl/geoaxes.py:1666: UserWarning: No contour levels were found within the data range.\n",
      "  result = matplotlib.axes.Axes.contour(self, *args, **kwargs)\n",
      "/home/nils/anaconda3/envs/tobac/lib/python3.10/site-packages/cartopy/mpl/geoaxes.py:1666: UserWarning: No contour levels were found within the data range.\n",
      "  result = matplotlib.axes.Axes.contour(self, *args, **kwargs)\n"
     ]
    },
    {
     "name": "stderr",
     "output_type": "stream",
     "text": [
      "/home/nils/anaconda3/envs/tobac/lib/python3.10/site-packages/cartopy/mpl/gridliner.py:451: UserWarning: The .xlabels_top attribute is deprecated. Please use .top_labels to toggle visibility instead.\n",
      "  warnings.warn('The .xlabels_top attribute is deprecated. Please '\n",
      "/home/nils/anaconda3/envs/tobac/lib/python3.10/site-packages/cartopy/mpl/gridliner.py:487: UserWarning: The .ylabels_right attribute is deprecated. Please use .right_labels to toggle visibility instead.\n",
      "  warnings.warn('The .ylabels_right attribute is deprecated. Please '\n",
      "/home/nils/anaconda3/envs/tobac/lib/python3.10/site-packages/cartopy/mpl/geoaxes.py:1666: UserWarning: No contour levels were found within the data range.\n",
      "  result = matplotlib.axes.Axes.contour(self, *args, **kwargs)\n",
      "/home/nils/anaconda3/envs/tobac/lib/python3.10/site-packages/cartopy/mpl/geoaxes.py:1666: UserWarning: No contour levels were found within the data range.\n",
      "  result = matplotlib.axes.Axes.contour(self, *args, **kwargs)\n",
      "/home/nils/anaconda3/envs/tobac/lib/python3.10/site-packages/cartopy/mpl/geoaxes.py:1666: UserWarning: No contour levels were found within the data range.\n",
      "  result = matplotlib.axes.Axes.contour(self, *args, **kwargs)\n",
      "/home/nils/anaconda3/envs/tobac/lib/python3.10/site-packages/cartopy/mpl/gridliner.py:451: UserWarning: The .xlabels_top attribute is deprecated. Please use .top_labels to toggle visibility instead.\n",
      "  warnings.warn('The .xlabels_top attribute is deprecated. Please '\n",
      "/home/nils/anaconda3/envs/tobac/lib/python3.10/site-packages/cartopy/mpl/gridliner.py:487: UserWarning: The .ylabels_right attribute is deprecated. Please use .right_labels to toggle visibility instead.\n",
      "  warnings.warn('The .ylabels_right attribute is deprecated. Please '\n",
      "/home/nils/anaconda3/envs/tobac/lib/python3.10/site-packages/cartopy/mpl/geoaxes.py:1666: UserWarning: No contour levels were found within the data range.\n",
      "  result = matplotlib.axes.Axes.contour(self, *args, **kwargs)\n",
      "/home/nils/anaconda3/envs/tobac/lib/python3.10/site-packages/cartopy/mpl/geoaxes.py:1666: UserWarning: No contour levels were found within the data range.\n",
      "  result = matplotlib.axes.Axes.contour(self, *args, **kwargs)\n",
      "/home/nils/anaconda3/envs/tobac/lib/python3.10/site-packages/cartopy/mpl/gridliner.py:451: UserWarning: The .xlabels_top attribute is deprecated. Please use .top_labels to toggle visibility instead.\n",
      "  warnings.warn('The .xlabels_top attribute is deprecated. Please '\n",
      "/home/nils/anaconda3/envs/tobac/lib/python3.10/site-packages/cartopy/mpl/gridliner.py:487: UserWarning: The .ylabels_right attribute is deprecated. Please use .right_labels to toggle visibility instead.\n",
      "  warnings.warn('The .ylabels_right attribute is deprecated. Please '\n",
      "/home/nils/anaconda3/envs/tobac/lib/python3.10/site-packages/cartopy/mpl/geoaxes.py:1666: UserWarning: No contour levels were found within the data range.\n",
      "  result = matplotlib.axes.Axes.contour(self, *args, **kwargs)\n",
      "/home/nils/anaconda3/envs/tobac/lib/python3.10/site-packages/cartopy/mpl/geoaxes.py:1666: UserWarning: No contour levels were found within the data range.\n",
      "  result = matplotlib.axes.Axes.contour(self, *args, **kwargs)\n",
      "/home/nils/anaconda3/envs/tobac/lib/python3.10/site-packages/cartopy/mpl/gridliner.py:451: UserWarning: The .xlabels_top attribute is deprecated. Please use .top_labels to toggle visibility instead.\n",
      "  warnings.warn('The .xlabels_top attribute is deprecated. Please '\n",
      "/home/nils/anaconda3/envs/tobac/lib/python3.10/site-packages/cartopy/mpl/gridliner.py:487: UserWarning: The .ylabels_right attribute is deprecated. Please use .right_labels to toggle visibility instead.\n",
      "  warnings.warn('The .ylabels_right attribute is deprecated. Please '\n",
      "/home/nils/anaconda3/envs/tobac/lib/python3.10/site-packages/cartopy/mpl/geoaxes.py:1666: UserWarning: No contour levels were found within the data range.\n",
      "  result = matplotlib.axes.Axes.contour(self, *args, **kwargs)\n",
      "/home/nils/anaconda3/envs/tobac/lib/python3.10/site-packages/cartopy/mpl/geoaxes.py:1666: UserWarning: No contour levels were found within the data range.\n",
      "  result = matplotlib.axes.Axes.contour(self, *args, **kwargs)\n",
      "/home/nils/anaconda3/envs/tobac/lib/python3.10/site-packages/cartopy/mpl/gridliner.py:451: UserWarning: The .xlabels_top attribute is deprecated. Please use .top_labels to toggle visibility instead.\n",
      "  warnings.warn('The .xlabels_top attribute is deprecated. Please '\n",
      "/home/nils/anaconda3/envs/tobac/lib/python3.10/site-packages/cartopy/mpl/gridliner.py:487: UserWarning: The .ylabels_right attribute is deprecated. Please use .right_labels to toggle visibility instead.\n",
      "  warnings.warn('The .ylabels_right attribute is deprecated. Please '\n",
      "/home/nils/anaconda3/envs/tobac/lib/python3.10/site-packages/cartopy/mpl/geoaxes.py:1666: UserWarning: No contour levels were found within the data range.\n",
      "  result = matplotlib.axes.Axes.contour(self, *args, **kwargs)\n",
      "/home/nils/anaconda3/envs/tobac/lib/python3.10/site-packages/cartopy/mpl/geoaxes.py:1666: UserWarning: No contour levels were found within the data range.\n",
      "  result = matplotlib.axes.Axes.contour(self, *args, **kwargs)\n",
      "/home/nils/anaconda3/envs/tobac/lib/python3.10/site-packages/cartopy/mpl/gridliner.py:451: UserWarning: The .xlabels_top attribute is deprecated. Please use .top_labels to toggle visibility instead.\n",
      "  warnings.warn('The .xlabels_top attribute is deprecated. Please '\n",
      "/home/nils/anaconda3/envs/tobac/lib/python3.10/site-packages/cartopy/mpl/gridliner.py:487: UserWarning: The .ylabels_right attribute is deprecated. Please use .right_labels to toggle visibility instead.\n",
      "  warnings.warn('The .ylabels_right attribute is deprecated. Please '\n",
      "/home/nils/anaconda3/envs/tobac/lib/python3.10/site-packages/cartopy/mpl/geoaxes.py:1666: UserWarning: No contour levels were found within the data range.\n",
      "  result = matplotlib.axes.Axes.contour(self, *args, **kwargs)\n",
      "/home/nils/anaconda3/envs/tobac/lib/python3.10/site-packages/cartopy/mpl/geoaxes.py:1666: UserWarning: No contour levels were found within the data range.\n",
      "  result = matplotlib.axes.Axes.contour(self, *args, **kwargs)\n",
      "/home/nils/anaconda3/envs/tobac/lib/python3.10/site-packages/cartopy/mpl/gridliner.py:451: UserWarning: The .xlabels_top attribute is deprecated. Please use .top_labels to toggle visibility instead.\n",
      "  warnings.warn('The .xlabels_top attribute is deprecated. Please '\n",
      "/home/nils/anaconda3/envs/tobac/lib/python3.10/site-packages/cartopy/mpl/gridliner.py:487: UserWarning: The .ylabels_right attribute is deprecated. Please use .right_labels to toggle visibility instead.\n",
      "  warnings.warn('The .ylabels_right attribute is deprecated. Please '\n",
      "/home/nils/anaconda3/envs/tobac/lib/python3.10/site-packages/cartopy/mpl/geoaxes.py:1666: UserWarning: No contour levels were found within the data range.\n",
      "  result = matplotlib.axes.Axes.contour(self, *args, **kwargs)\n",
      "/home/nils/anaconda3/envs/tobac/lib/python3.10/site-packages/cartopy/mpl/geoaxes.py:1666: UserWarning: No contour levels were found within the data range.\n",
      "  result = matplotlib.axes.Axes.contour(self, *args, **kwargs)\n",
      "/home/nils/anaconda3/envs/tobac/lib/python3.10/site-packages/cartopy/mpl/gridliner.py:451: UserWarning: The .xlabels_top attribute is deprecated. Please use .top_labels to toggle visibility instead.\n",
      "  warnings.warn('The .xlabels_top attribute is deprecated. Please '\n",
      "/home/nils/anaconda3/envs/tobac/lib/python3.10/site-packages/cartopy/mpl/gridliner.py:487: UserWarning: The .ylabels_right attribute is deprecated. Please use .right_labels to toggle visibility instead.\n",
      "  warnings.warn('The .ylabels_right attribute is deprecated. Please '\n",
      "/home/nils/anaconda3/envs/tobac/lib/python3.10/site-packages/cartopy/mpl/geoaxes.py:1666: UserWarning: No contour levels were found within the data range.\n",
      "  result = matplotlib.axes.Axes.contour(self, *args, **kwargs)\n",
      "/home/nils/anaconda3/envs/tobac/lib/python3.10/site-packages/cartopy/mpl/geoaxes.py:1666: UserWarning: No contour levels were found within the data range.\n",
      "  result = matplotlib.axes.Axes.contour(self, *args, **kwargs)\n",
      "/home/nils/anaconda3/envs/tobac/lib/python3.10/site-packages/cartopy/mpl/gridliner.py:451: UserWarning: The .xlabels_top attribute is deprecated. Please use .top_labels to toggle visibility instead.\n",
      "  warnings.warn('The .xlabels_top attribute is deprecated. Please '\n",
      "/home/nils/anaconda3/envs/tobac/lib/python3.10/site-packages/cartopy/mpl/gridliner.py:487: UserWarning: The .ylabels_right attribute is deprecated. Please use .right_labels to toggle visibility instead.\n",
      "  warnings.warn('The .ylabels_right attribute is deprecated. Please '\n",
      "/home/nils/anaconda3/envs/tobac/lib/python3.10/site-packages/cartopy/mpl/geoaxes.py:1666: UserWarning: No contour levels were found within the data range.\n",
      "  result = matplotlib.axes.Axes.contour(self, *args, **kwargs)\n",
      "/home/nils/anaconda3/envs/tobac/lib/python3.10/site-packages/cartopy/mpl/geoaxes.py:1666: UserWarning: No contour levels were found within the data range.\n",
      "  result = matplotlib.axes.Axes.contour(self, *args, **kwargs)\n"
     ]
    },
    {
     "name": "stderr",
     "output_type": "stream",
     "text": [
      "/home/nils/anaconda3/envs/tobac/lib/python3.10/site-packages/cartopy/mpl/gridliner.py:451: UserWarning: The .xlabels_top attribute is deprecated. Please use .top_labels to toggle visibility instead.\n",
      "  warnings.warn('The .xlabels_top attribute is deprecated. Please '\n",
      "/home/nils/anaconda3/envs/tobac/lib/python3.10/site-packages/cartopy/mpl/gridliner.py:487: UserWarning: The .ylabels_right attribute is deprecated. Please use .right_labels to toggle visibility instead.\n",
      "  warnings.warn('The .ylabels_right attribute is deprecated. Please '\n",
      "/home/nils/anaconda3/envs/tobac/lib/python3.10/site-packages/cartopy/mpl/geoaxes.py:1666: UserWarning: No contour levels were found within the data range.\n",
      "  result = matplotlib.axes.Axes.contour(self, *args, **kwargs)\n",
      "/home/nils/anaconda3/envs/tobac/lib/python3.10/site-packages/cartopy/mpl/geoaxes.py:1666: UserWarning: No contour levels were found within the data range.\n",
      "  result = matplotlib.axes.Axes.contour(self, *args, **kwargs)\n",
      "/home/nils/anaconda3/envs/tobac/lib/python3.10/site-packages/cartopy/mpl/gridliner.py:451: UserWarning: The .xlabels_top attribute is deprecated. Please use .top_labels to toggle visibility instead.\n",
      "  warnings.warn('The .xlabels_top attribute is deprecated. Please '\n",
      "/home/nils/anaconda3/envs/tobac/lib/python3.10/site-packages/cartopy/mpl/gridliner.py:487: UserWarning: The .ylabels_right attribute is deprecated. Please use .right_labels to toggle visibility instead.\n",
      "  warnings.warn('The .ylabels_right attribute is deprecated. Please '\n",
      "/home/nils/anaconda3/envs/tobac/lib/python3.10/site-packages/cartopy/mpl/geoaxes.py:1666: UserWarning: No contour levels were found within the data range.\n",
      "  result = matplotlib.axes.Axes.contour(self, *args, **kwargs)\n",
      "/home/nils/anaconda3/envs/tobac/lib/python3.10/site-packages/cartopy/mpl/geoaxes.py:1666: UserWarning: No contour levels were found within the data range.\n",
      "  result = matplotlib.axes.Axes.contour(self, *args, **kwargs)\n",
      "/home/nils/anaconda3/envs/tobac/lib/python3.10/site-packages/cartopy/mpl/gridliner.py:451: UserWarning: The .xlabels_top attribute is deprecated. Please use .top_labels to toggle visibility instead.\n",
      "  warnings.warn('The .xlabels_top attribute is deprecated. Please '\n",
      "/home/nils/anaconda3/envs/tobac/lib/python3.10/site-packages/cartopy/mpl/gridliner.py:487: UserWarning: The .ylabels_right attribute is deprecated. Please use .right_labels to toggle visibility instead.\n",
      "  warnings.warn('The .ylabels_right attribute is deprecated. Please '\n"
     ]
    }
   ],
   "source": [
    "import tobac\n",
    "import tobac.testing\n",
    "#%%capture\n",
    "\n",
    "data = tobac.testing.make_sample_data_2D_3blobs_inv()\n",
    "dxy, dt = tobac.utils.get_spacings(data)\n",
    "features = tobac.feature_detection.feature_detection_multithreshold(data, dxy, threshold = 1)\n",
    "mask, features = tobac.segmentation.segmentation(features, data, dxy, threshold = 1)\n",
    "track = tobac.tracking.linking_trackpy(features, data, dt, dxy, v_max=100)\n",
    "\n",
    "kwargs = {\n",
    "    'vmin' : 0.0,\n",
    "    'vmax' : 15.0,\n",
    "    'axis_extent' : [150, 152, 24, 25]}\n",
    "\n",
    "tobac.plot_tracks_mask_field_loop(track, data, mask, features, **kwargs)"
   ]
  },
  {
   "cell_type": "markdown",
   "id": "6e5f442d",
   "metadata": {},
   "source": [
    "## plot_tracks_mask_field"
   ]
  },
  {
   "cell_type": "code",
   "execution_count": 10,
   "id": "34516cdb",
   "metadata": {},
   "outputs": [
    {
     "data": {
      "text/plain": [
       "<GeoAxesSubplot:xlabel='longitude', ylabel='latitude'>"
      ]
     },
     "execution_count": 10,
     "metadata": {},
     "output_type": "execute_result"
    },
    {
     "data": {
      "image/png": "[encoded data removed]",
      "text/plain": [
       "<Figure size 720x720 with 2 Axes>"
      ]
     },
     "metadata": {
      "needs_background": "light"
     },
     "output_type": "display_data"
    }
   ],
   "source": [
    "import warnings\n",
    "warnings.filterwarnings('ignore')\n",
    "\n",
    "import cartopy\n",
    "import matplotlib.pyplot as plt\n",
    "n = 40\n",
    "%matplotlib inline\n",
    "fig, geo_axes = plt.subplots(\n",
    "            ncols=1,\n",
    "            nrows=1,\n",
    "            figsize=(10, 10),\n",
    "            subplot_kw={\"projection\": cartopy.crs.PlateCarree()},\n",
    "        )\n",
    "\n",
    "tobac.plot_tracks_mask_field(track.where(track[\"frame\"] == n), data[n], mask[n], features, axes=geo_axes,linewidth_contour = 0.3, axis_extent = [150, 152, 24, 25], vmin = 0, vmax = 10)"
   ]
  },
  {
   "cell_type": "code",
   "execution_count": 71,
   "id": "2129a894",
   "metadata": {},
   "outputs": [
    {
     "data": {
      "text/plain": [
       "<AuxCoord: latitude / (degree)  [[24., 24., ..., 24., 24.], ...]  shape(100, 200)>"
      ]
     },
     "execution_count": 71,
     "metadata": {},
     "output_type": "execute_result"
    }
   ],
   "source": [
    "data[0].coord('latitude')"
   ]
  },
  {
   "cell_type": "code",
   "execution_count": 33,
   "id": "1d2b6eba",
   "metadata": {},
   "outputs": [
    {
     "data": {
      "text/plain": [
       "0      [150.14272026431718]\n",
       "1      [150.14670731707318]\n",
       "2       [150.1505560791706]\n",
       "3      [150.15406167400883]\n",
       "4      [150.15751239669422]\n",
       "               ...         \n",
       "105     [151.3042261427426]\n",
       "106    [150.30149732620322]\n",
       "107    [151.31549071618036]\n",
       "108    [150.30864100549883]\n",
       "109     [151.3279862475442]\n",
       "Name: longitude, Length: 110, dtype: object"
      ]
     },
     "execution_count": 33,
     "metadata": {},
     "output_type": "execute_result"
    }
   ],
   "source": [
    "track[\"longitude\"]"
   ]
  },
  {
   "cell_type": "code",
   "execution_count": 36,
   "id": "58eb914b",
   "metadata": {},
   "outputs": [
    {
     "data": {
      "text/html": [
       "\n",
       "<style>\n",
       "  a.iris {\n",
       "      text-decoration: none !important;\n",
       "  }\n",
       "  table.iris {\n",
       "      white-space: pre;\n",
       "      border: 1px solid;\n",
       "      border-color: #9c9c9c;\n",
       "      font-family: monaco, monospace;\n",
       "  }\n",
       "  th.iris {\n",
       "      background: #303f3f;\n",
       "      color: #e0e0e0;\n",
       "      border-left: 1px solid;\n",
       "      border-color: #9c9c9c;\n",
       "      font-size: 1.05em;\n",
       "      min-width: 50px;\n",
       "      max-width: 125px;\n",
       "  }\n",
       "  tr.iris :first-child {\n",
       "      border-right: 1px solid #9c9c9c !important;\n",
       "  }\n",
       "  td.iris-title {\n",
       "      background: #d5dcdf;\n",
       "      border-top: 1px solid #9c9c9c;\n",
       "      font-weight: bold;\n",
       "  }\n",
       "  .iris-word-cell {\n",
       "      text-align: left !important;\n",
       "      white-space: pre;\n",
       "  }\n",
       "  .iris-subheading-cell {\n",
       "      padding-left: 2em !important;\n",
       "  }\n",
       "  .iris-inclusion-cell {\n",
       "      padding-right: 1em !important;\n",
       "  }\n",
       "  .iris-panel-body {\n",
       "      padding-top: 0px;\n",
       "  }\n",
       "  .iris-panel-title {\n",
       "      padding-left: 3em;\n",
       "  }\n",
       "  .iris-panel-title {\n",
       "      margin-top: 7px;\n",
       "  }\n",
       "</style>\n",
       "<table class=\"iris\" id=\"140562024880816\">\n",
       "    <tr class=\"iris\">\n",
       "<th class=\"iris iris-word-cell\">Segmentation Mask (1)</th>\n",
       "<th class=\"iris iris-word-cell\">time</th>\n",
       "<th class=\"iris iris-word-cell\">projection_x_coordinate</th>\n",
       "<th class=\"iris iris-word-cell\">projection_y_coordinate</th>\n",
       "</tr>\n",
       "    <tr class=\"iris\">\n",
       "<td class=\"iris-word-cell iris-subheading-cell\">Shape</td>\n",
       "<td class=\"iris iris-inclusion-cell\">100</td>\n",
       "<td class=\"iris iris-inclusion-cell\">100</td>\n",
       "<td class=\"iris iris-inclusion-cell\">200</td>\n",
       "</tr>\n",
       "    <tr class=\"iris\">\n",
       "    <td class=\"iris-title iris-word-cell\">Dimension coordinates</td>\n",
       "    <td class=\"iris-title\"></td>\n",
       "    <td class=\"iris-title\"></td>\n",
       "    <td class=\"iris-title\"></td>\n",
       "</tr>\n",
       "<tr class=\"iris\">\n",
       "    <td class=\"iris-word-cell iris-subheading-cell\">\ttime</td>\n",
       "    <td class=\"iris-inclusion-cell\">x</td>\n",
       "    <td class=\"iris-inclusion-cell\">-</td>\n",
       "    <td class=\"iris-inclusion-cell\">-</td>\n",
       "</tr>\n",
       "<tr class=\"iris\">\n",
       "    <td class=\"iris-word-cell iris-subheading-cell\">\tprojection_x_coordinate</td>\n",
       "    <td class=\"iris-inclusion-cell\">-</td>\n",
       "    <td class=\"iris-inclusion-cell\">x</td>\n",
       "    <td class=\"iris-inclusion-cell\">-</td>\n",
       "</tr>\n",
       "<tr class=\"iris\">\n",
       "    <td class=\"iris-word-cell iris-subheading-cell\">\tprojection_y_coordinate</td>\n",
       "    <td class=\"iris-inclusion-cell\">-</td>\n",
       "    <td class=\"iris-inclusion-cell\">-</td>\n",
       "    <td class=\"iris-inclusion-cell\">x</td>\n",
       "</tr>\n",
       "<tr class=\"iris\">\n",
       "    <td class=\"iris-title iris-word-cell\">Auxiliary coordinates</td>\n",
       "    <td class=\"iris-title\"></td>\n",
       "    <td class=\"iris-title\"></td>\n",
       "    <td class=\"iris-title\"></td>\n",
       "</tr>\n",
       "<tr class=\"iris\">\n",
       "    <td class=\"iris-word-cell iris-subheading-cell\">\tlatitude</td>\n",
       "    <td class=\"iris-inclusion-cell\">-</td>\n",
       "    <td class=\"iris-inclusion-cell\">x</td>\n",
       "    <td class=\"iris-inclusion-cell\">x</td>\n",
       "</tr>\n",
       "<tr class=\"iris\">\n",
       "    <td class=\"iris-word-cell iris-subheading-cell\">\tlongitude</td>\n",
       "    <td class=\"iris-inclusion-cell\">-</td>\n",
       "    <td class=\"iris-inclusion-cell\">x</td>\n",
       "    <td class=\"iris-inclusion-cell\">x</td>\n",
       "</tr>\n",
       "</table>\n",
       "        "
      ],
      "text/plain": [
       "<iris 'Cube' of segmentation_mask / (1) (time: 100; projection_x_coordinate: 100; projection_y_coordinate: 200)>"
      ]
     },
     "execution_count": 36,
     "metadata": {},
     "output_type": "execute_result"
    }
   ],
   "source": [
    "mask"
   ]
  },
  {
   "cell_type": "code",
   "execution_count": 88,
   "id": "fa222ce7",
   "metadata": {},
   "outputs": [
    {
     "data": {
      "text/plain": [
       "pandas.core.frame.DataFrame"
      ]
     },
     "execution_count": 88,
     "metadata": {},
     "output_type": "execute_result"
    }
   ],
   "source": [
    "type(track)"
   ]
  },
  {
   "cell_type": "markdown",
   "id": "a0715ac0",
   "metadata": {},
   "source": [
    "## animation_mask_field"
   ]
  },
  {
   "cell_type": "code",
   "execution_count": 181,
   "id": "214d70a5",
   "metadata": {},
   "outputs": [],
   "source": [
    "kwargs = {\n",
    "    'vmin' : 0.0,\n",
    "    'vmax' : 15.0,\n",
    "    'axis_extent' : [150, 152, 24, 25]}\n",
    "anim = tobac.animation_mask_field(track, features, data, mask, **kwargs)"
   ]
  },
  {
   "cell_type": "code",
   "execution_count": 182,
   "id": "f25c3381",
   "metadata": {},
   "outputs": [
    {
     "data": {
      "image/png": "[encoded data removed]",
      "text/plain": [
       "<Figure size 432x288 with 1 Axes>"
      ]
     },
     "metadata": {
      "needs_background": "light"
     },
     "output_type": "display_data"
    }
   ],
   "source": [
    "anim.save('vid.mp4')"
   ]
  },
  {
   "cell_type": "code",
   "execution_count": 183,
   "id": "c8ebee16",
   "metadata": {},
   "outputs": [
    {
     "data": {
      "text/plain": [
       "<matplotlib.animation.FuncAnimation at 0x7fd6bd6e3640>"
      ]
     },
     "execution_count": 183,
     "metadata": {},
     "output_type": "execute_result"
    }
   ],
   "source": [
    "tobac.animation_mask_field(track, features, data, mask, **kwargs)"
   ]
  },
  {
   "cell_type": "markdown",
   "id": "d02c7911",
   "metadata": {},
   "source": [
    "## plot_mask_cell_track_follow\n",
    "broken?\n",
    "Entries of track['time_cell'] are already timedeltas."
   ]
  },
  {
   "cell_type": "code",
   "execution_count": 3,
   "id": "0b753718",
   "metadata": {},
   "outputs": [
    {
     "name": "stderr",
     "output_type": "stream",
     "text": [
      "/home/nils/anaconda3/envs/tobac/lib/python3.10/site-packages/tobac/plotting.py:617: UserWarning: When using tobac plotting functions that render a figure, you may need to set the Matplotlib backend to 'agg' by `matplotlib.use('agg').\n",
      "  warnings.warn(\n"
     ]
    },
    {
     "ename": "AttributeError",
     "evalue": "'Timedelta' object has no attribute 'dt'",
     "output_type": "error",
     "traceback": [
      "\u001b[0;31m---------------------------------------------------------------------------\u001b[0m",
      "\u001b[0;31mAttributeError\u001b[0m                            Traceback (most recent call last)",
      "Input \u001b[0;32mIn [3]\u001b[0m, in \u001b[0;36m<cell line: 1>\u001b[0;34m()\u001b[0m\n\u001b[0;32m----> 1\u001b[0m \u001b[43mtobac\u001b[49m\u001b[38;5;241;43m.\u001b[39;49m\u001b[43mplot_mask_cell_track_follow\u001b[49m\u001b[43m(\u001b[49m\u001b[38;5;241;43m1\u001b[39;49m\u001b[43m,\u001b[49m\u001b[43m \u001b[49m\u001b[43mtrack\u001b[49m\u001b[43m,\u001b[49m\u001b[43m \u001b[49m\u001b[38;5;28;43;01mNone\u001b[39;49;00m\u001b[43m,\u001b[49m\u001b[43m \u001b[49m\u001b[43mfeatures\u001b[49m\u001b[43m,\u001b[49m\u001b[43m \u001b[49m\u001b[43mmask\u001b[49m\u001b[43m,\u001b[49m\u001b[43m \u001b[49m\u001b[38;5;28;43;01mNone\u001b[39;49;00m\u001b[43m,\u001b[49m\u001b[43m \u001b[49m\u001b[38;5;28;43;01mNone\u001b[39;49;00m\u001b[43m)\u001b[49m\n",
      "File \u001b[0;32m~/anaconda3/envs/tobac/lib/python3.10/site-packages/tobac/plotting.py:675\u001b[0m, in \u001b[0;36mplot_mask_cell_track_follow\u001b[0;34m(cell, track, cog, features, mask_total, field_contour, field_filled, width, name, plotdir, file_format, figsize, dpi, **kwargs)\u001b[0m\n\u001b[1;32m    671\u001b[0m fig1\u001b[38;5;241m.\u001b[39msubplots_adjust(left\u001b[38;5;241m=\u001b[39m\u001b[38;5;241m0.2\u001b[39m, bottom\u001b[38;5;241m=\u001b[39m\u001b[38;5;241m0.15\u001b[39m, right\u001b[38;5;241m=\u001b[39m\u001b[38;5;241m0.85\u001b[39m, top\u001b[38;5;241m=\u001b[39m\u001b[38;5;241m0.80\u001b[39m)\n\u001b[1;32m    673\u001b[0m datestring_stamp \u001b[38;5;241m=\u001b[39m row[\u001b[38;5;124m\"\u001b[39m\u001b[38;5;124mtime\u001b[39m\u001b[38;5;124m\"\u001b[39m]\u001b[38;5;241m.\u001b[39mstrftime(\u001b[38;5;124m\"\u001b[39m\u001b[38;5;124m%\u001b[39m\u001b[38;5;124mY-\u001b[39m\u001b[38;5;124m%\u001b[39m\u001b[38;5;124mm-\u001b[39m\u001b[38;5;132;01m%d\u001b[39;00m\u001b[38;5;124m \u001b[39m\u001b[38;5;124m%\u001b[39m\u001b[38;5;124mH:\u001b[39m\u001b[38;5;124m%\u001b[39m\u001b[38;5;124mM:\u001b[39m\u001b[38;5;124m%\u001b[39m\u001b[38;5;124mS\u001b[39m\u001b[38;5;124m\"\u001b[39m)\n\u001b[1;32m    674\u001b[0m celltime_stamp \u001b[38;5;241m=\u001b[39m \u001b[38;5;124m\"\u001b[39m\u001b[38;5;132;01m%02d\u001b[39;00m\u001b[38;5;124m:\u001b[39m\u001b[38;5;132;01m%02d\u001b[39;00m\u001b[38;5;124m:\u001b[39m\u001b[38;5;132;01m%02d\u001b[39;00m\u001b[38;5;124m\"\u001b[39m \u001b[38;5;241m%\u001b[39m (\n\u001b[0;32m--> 675\u001b[0m     \u001b[43mrow\u001b[49m\u001b[43m[\u001b[49m\u001b[38;5;124;43m\"\u001b[39;49m\u001b[38;5;124;43mtime_cell\u001b[39;49m\u001b[38;5;124;43m\"\u001b[39;49m\u001b[43m]\u001b[49m\u001b[38;5;241;43m.\u001b[39;49m\u001b[43mdt\u001b[49m\u001b[38;5;241m.\u001b[39mtotal_seconds() \u001b[38;5;241m/\u001b[39m\u001b[38;5;241m/\u001b[39m \u001b[38;5;241m3600\u001b[39m,\n\u001b[1;32m    676\u001b[0m     (row[\u001b[38;5;124m\"\u001b[39m\u001b[38;5;124mtime_cell\u001b[39m\u001b[38;5;124m\"\u001b[39m]\u001b[38;5;241m.\u001b[39mdt\u001b[38;5;241m.\u001b[39mtotal_seconds() \u001b[38;5;241m%\u001b[39m \u001b[38;5;241m3600\u001b[39m) \u001b[38;5;241m/\u001b[39m\u001b[38;5;241m/\u001b[39m \u001b[38;5;241m60\u001b[39m,\n\u001b[1;32m    677\u001b[0m     row[\u001b[38;5;124m\"\u001b[39m\u001b[38;5;124mtime_cell\u001b[39m\u001b[38;5;124m\"\u001b[39m]\u001b[38;5;241m.\u001b[39mdt\u001b[38;5;241m.\u001b[39mtotal_seconds() \u001b[38;5;241m%\u001b[39m \u001b[38;5;241m60\u001b[39m,\n\u001b[1;32m    678\u001b[0m )\n\u001b[1;32m    679\u001b[0m title \u001b[38;5;241m=\u001b[39m datestring_stamp \u001b[38;5;241m+\u001b[39m \u001b[38;5;124m\"\u001b[39m\u001b[38;5;124m , \u001b[39m\u001b[38;5;124m\"\u001b[39m \u001b[38;5;241m+\u001b[39m celltime_stamp\n\u001b[1;32m    680\u001b[0m datestring_file \u001b[38;5;241m=\u001b[39m row[\u001b[38;5;124m\"\u001b[39m\u001b[38;5;124mtime\u001b[39m\u001b[38;5;124m\"\u001b[39m]\u001b[38;5;241m.\u001b[39mstrftime(\u001b[38;5;124m\"\u001b[39m\u001b[38;5;124m%\u001b[39m\u001b[38;5;124mY-\u001b[39m\u001b[38;5;124m%\u001b[39m\u001b[38;5;124mm-\u001b[39m\u001b[38;5;132;01m%d\u001b[39;00m\u001b[38;5;124m_\u001b[39m\u001b[38;5;124m%\u001b[39m\u001b[38;5;124mH\u001b[39m\u001b[38;5;124m%\u001b[39m\u001b[38;5;124mM\u001b[39m\u001b[38;5;124m%\u001b[39m\u001b[38;5;124mS\u001b[39m\u001b[38;5;124m\"\u001b[39m)\n",
      "\u001b[0;31mAttributeError\u001b[0m: 'Timedelta' object has no attribute 'dt'"
     ]
    },
    {
     "data": {
      "image/png": "[encoded data removed]",
      "text/plain": [
       "<Figure size 283.465x283.465 with 1 Axes>"
      ]
     },
     "metadata": {
      "needs_background": "light"
     },
     "output_type": "display_data"
    }
   ],
   "source": [
    "tobac.plot_mask_cell_track_follow(1, track, None, features, mask, None, None)"
   ]
  },
  {
   "cell_type": "code",
   "execution_count": 6,
   "id": "94f4db17",
   "metadata": {},
   "outputs": [
    {
     "data": {
      "text/plain": [
       "Timedelta('0 days 00:00:00')"
      ]
     },
     "execution_count": 6,
     "metadata": {},
     "output_type": "execute_result"
    }
   ],
   "source": [
    "track['time_cell'][0]"
   ]
  },
  {
   "cell_type": "markdown",
   "id": "6c5f4f6d",
   "metadata": {},
   "source": [
    "## plot_mask_cell_individual_follow\n",
    "broken?\n",
    "Applying .item() to an array with size > 1"
   ]
  },
  {
   "cell_type": "code",
   "execution_count": 16,
   "id": "ba33d6a4",
   "metadata": {},
   "outputs": [
    {
     "ename": "TypeError",
     "evalue": "Cannot index by location index with a non-integer key",
     "output_type": "error",
     "traceback": [
      "\u001b[0;31m---------------------------------------------------------------------------\u001b[0m",
      "\u001b[0;31mTypeError\u001b[0m                                 Traceback (most recent call last)",
      "Input \u001b[0;32mIn [16]\u001b[0m, in \u001b[0;36m<cell line: 13>\u001b[0;34m()\u001b[0m\n\u001b[1;32m      5\u001b[0m get_ipython()\u001b[38;5;241m.\u001b[39mrun_line_magic(\u001b[38;5;124m'\u001b[39m\u001b[38;5;124mmatplotlib\u001b[39m\u001b[38;5;124m'\u001b[39m, \u001b[38;5;124m'\u001b[39m\u001b[38;5;124minline\u001b[39m\u001b[38;5;124m'\u001b[39m)\n\u001b[1;32m      6\u001b[0m fig, geo_axes \u001b[38;5;241m=\u001b[39m plt\u001b[38;5;241m.\u001b[39msubplots(\n\u001b[1;32m      7\u001b[0m             ncols\u001b[38;5;241m=\u001b[39m\u001b[38;5;241m1\u001b[39m,\n\u001b[1;32m      8\u001b[0m             nrows\u001b[38;5;241m=\u001b[39m\u001b[38;5;241m1\u001b[39m,\n\u001b[1;32m      9\u001b[0m             figsize\u001b[38;5;241m=\u001b[39m(\u001b[38;5;241m10\u001b[39m, \u001b[38;5;241m10\u001b[39m),\n\u001b[1;32m     10\u001b[0m             subplot_kw\u001b[38;5;241m=\u001b[39m{\u001b[38;5;124m\"\u001b[39m\u001b[38;5;124mprojection\u001b[39m\u001b[38;5;124m\"\u001b[39m: cartopy\u001b[38;5;241m.\u001b[39mcrs\u001b[38;5;241m.\u001b[39mPlateCarree()},\n\u001b[1;32m     11\u001b[0m         )\n\u001b[0;32m---> 13\u001b[0m \u001b[43mtobac\u001b[49m\u001b[38;5;241;43m.\u001b[39;49m\u001b[43mplotting\u001b[49m\u001b[38;5;241;43m.\u001b[39;49m\u001b[43mplot_mask_cell_individual_follow\u001b[49m\u001b[43m(\u001b[49m\u001b[38;5;241;43m1\u001b[39;49m\u001b[43m,\u001b[49m\u001b[43m \u001b[49m\u001b[43mtrack\u001b[49m\u001b[38;5;241;43m.\u001b[39;49m\u001b[43miloc\u001b[49m\u001b[43m(\u001b[49m\u001b[38;5;241;43m1\u001b[39;49m\u001b[43m)\u001b[49m\u001b[43m,\u001b[49m\u001b[43m \u001b[49m\u001b[43mtrack\u001b[49m\u001b[43m,\u001b[49m\u001b[43m \u001b[49m\u001b[43mfeatures\u001b[49m\u001b[43m,\u001b[49m\u001b[43m \u001b[49m\u001b[43mmask\u001b[49m\u001b[43m,\u001b[49m\u001b[43m \u001b[49m\u001b[38;5;28;43;01mNone\u001b[39;49;00m\u001b[43m,\u001b[49m\u001b[43m \u001b[49m\u001b[38;5;28;43;01mNone\u001b[39;49;00m\u001b[43m,\u001b[49m\u001b[43m \u001b[49m\u001b[43maxes\u001b[49m\u001b[38;5;241;43m=\u001b[39;49m\u001b[43mgeo_axes\u001b[49m\u001b[43m)\u001b[49m\n",
      "File \u001b[0;32m~/anaconda3/envs/tobac/lib/python3.10/site-packages/tobac/plotting.py:756\u001b[0m, in \u001b[0;36mplot_mask_cell_individual_follow\u001b[0;34m(cell_i, track, cog, features, mask_total, field_contour, field_filled, axes, width, label_field_contour, cmap_field_contour, norm_field_contour, linewidths_contour, contour_labels, vmin_field_contour, vmax_field_contour, levels_field_contour, nlevels_field_contour, label_field_filled, cmap_field_filled, norm_field_filled, vmin_field_filled, vmax_field_filled, levels_field_filled, nlevels_field_filled, title)\u001b[0m\n\u001b[1;32m    752\u001b[0m \u001b[38;5;28;01mfrom\u001b[39;00m \u001b[38;5;21;01mmatplotlib\u001b[39;00m\u001b[38;5;21;01m.\u001b[39;00m\u001b[38;5;21;01mcolors\u001b[39;00m \u001b[38;5;28;01mimport\u001b[39;00m Normalize\n\u001b[1;32m    754\u001b[0m divider \u001b[38;5;241m=\u001b[39m make_axes_locatable(axes)\n\u001b[0;32m--> 756\u001b[0m x_pos \u001b[38;5;241m=\u001b[39m track[\u001b[43mtrack\u001b[49m\u001b[43m[\u001b[49m\u001b[38;5;124;43m\"\u001b[39;49m\u001b[38;5;124;43mcell\u001b[39;49m\u001b[38;5;124;43m\"\u001b[39;49m\u001b[43m]\u001b[49m \u001b[38;5;241m==\u001b[39m cell_i][\u001b[38;5;124m\"\u001b[39m\u001b[38;5;124mprojection_x_coordinate\u001b[39m\u001b[38;5;124m\"\u001b[39m]\u001b[38;5;241m.\u001b[39mitem()\n\u001b[1;32m    757\u001b[0m y_pos \u001b[38;5;241m=\u001b[39m track[track[\u001b[38;5;124m\"\u001b[39m\u001b[38;5;124mcell\u001b[39m\u001b[38;5;124m\"\u001b[39m] \u001b[38;5;241m==\u001b[39m cell_i][\u001b[38;5;124m\"\u001b[39m\u001b[38;5;124mprojection_y_coordinate\u001b[39m\u001b[38;5;124m\"\u001b[39m]\u001b[38;5;241m.\u001b[39mitem()\n\u001b[1;32m    758\u001b[0m \u001b[38;5;28;01mif\u001b[39;00m field_filled \u001b[38;5;129;01mis\u001b[39;00m \u001b[38;5;129;01mnot\u001b[39;00m \u001b[38;5;28;01mNone\u001b[39;00m:\n",
      "File \u001b[0;32m~/anaconda3/envs/tobac/lib/python3.10/site-packages/pandas/core/indexing.py:967\u001b[0m, in \u001b[0;36m_LocationIndexer.__getitem__\u001b[0;34m(self, key)\u001b[0m\n\u001b[1;32m    964\u001b[0m axis \u001b[38;5;241m=\u001b[39m \u001b[38;5;28mself\u001b[39m\u001b[38;5;241m.\u001b[39maxis \u001b[38;5;129;01mor\u001b[39;00m \u001b[38;5;241m0\u001b[39m\n\u001b[1;32m    966\u001b[0m maybe_callable \u001b[38;5;241m=\u001b[39m com\u001b[38;5;241m.\u001b[39mapply_if_callable(key, \u001b[38;5;28mself\u001b[39m\u001b[38;5;241m.\u001b[39mobj)\n\u001b[0;32m--> 967\u001b[0m \u001b[38;5;28;01mreturn\u001b[39;00m \u001b[38;5;28;43mself\u001b[39;49m\u001b[38;5;241;43m.\u001b[39;49m\u001b[43m_getitem_axis\u001b[49m\u001b[43m(\u001b[49m\u001b[43mmaybe_callable\u001b[49m\u001b[43m,\u001b[49m\u001b[43m \u001b[49m\u001b[43maxis\u001b[49m\u001b[38;5;241;43m=\u001b[39;49m\u001b[43maxis\u001b[49m\u001b[43m)\u001b[49m\n",
      "File \u001b[0;32m~/anaconda3/envs/tobac/lib/python3.10/site-packages/pandas/core/indexing.py:1517\u001b[0m, in \u001b[0;36m_iLocIndexer._getitem_axis\u001b[0;34m(self, key, axis)\u001b[0m\n\u001b[1;32m   1515\u001b[0m key \u001b[38;5;241m=\u001b[39m item_from_zerodim(key)\n\u001b[1;32m   1516\u001b[0m \u001b[38;5;28;01mif\u001b[39;00m \u001b[38;5;129;01mnot\u001b[39;00m is_integer(key):\n\u001b[0;32m-> 1517\u001b[0m     \u001b[38;5;28;01mraise\u001b[39;00m \u001b[38;5;167;01mTypeError\u001b[39;00m(\u001b[38;5;124m\"\u001b[39m\u001b[38;5;124mCannot index by location index with a non-integer key\u001b[39m\u001b[38;5;124m\"\u001b[39m)\n\u001b[1;32m   1519\u001b[0m \u001b[38;5;66;03m# validate the location\u001b[39;00m\n\u001b[1;32m   1520\u001b[0m \u001b[38;5;28mself\u001b[39m\u001b[38;5;241m.\u001b[39m_validate_integer(key, axis)\n",
      "\u001b[0;31mTypeError\u001b[0m: Cannot index by location index with a non-integer key"
     ]
    },
    {
     "data": {
      "image/png": "[encoded data removed]",
      "text/plain": [
       "<Figure size 720x720 with 1 Axes>"
      ]
     },
     "metadata": {
      "needs_background": "light"
     },
     "output_type": "display_data"
    }
   ],
   "source": [
    "import cartopy\n",
    "import matplotlib.pyplot as plt\n",
    "import numpy as np\n",
    "n = 40\n",
    "%matplotlib inline\n",
    "fig, geo_axes = plt.subplots(\n",
    "            ncols=1,\n",
    "            nrows=1,\n",
    "            figsize=(10, 10),\n",
    "            subplot_kw={\"projection\": cartopy.crs.PlateCarree()},\n",
    "        )\n",
    "\n",
    "tobac.plotting.plot_mask_cell_individual_follow(1, track.iloc(1), track, features, mask, None, None, axes=geo_axes)"
   ]
  },
  {
   "cell_type": "code",
   "execution_count": 23,
   "id": "3acd2043",
   "metadata": {},
   "outputs": [
    {
     "ename": "ValueError",
     "evalue": "can only convert an array of size 1 to a Python scalar",
     "output_type": "error",
     "traceback": [
      "\u001b[0;31m---------------------------------------------------------------------------\u001b[0m",
      "\u001b[0;31mValueError\u001b[0m                                Traceback (most recent call last)",
      "Input \u001b[0;32mIn [23]\u001b[0m, in \u001b[0;36m<cell line: 1>\u001b[0;34m()\u001b[0m\n\u001b[0;32m----> 1\u001b[0m \u001b[43mtrack\u001b[49m\u001b[43m[\u001b[49m\u001b[43mtrack\u001b[49m\u001b[43m[\u001b[49m\u001b[38;5;124;43m\"\u001b[39;49m\u001b[38;5;124;43mcell\u001b[39;49m\u001b[38;5;124;43m\"\u001b[39;49m\u001b[43m]\u001b[49m\u001b[43m \u001b[49m\u001b[38;5;241;43m==\u001b[39;49m\u001b[43m \u001b[49m\u001b[38;5;241;43m1\u001b[39;49m\u001b[43m]\u001b[49m\u001b[43m[\u001b[49m\u001b[38;5;124;43m\"\u001b[39;49m\u001b[38;5;124;43mprojection_x_coordinate\u001b[39;49m\u001b[38;5;124;43m\"\u001b[39;49m\u001b[43m]\u001b[49m\u001b[38;5;241;43m.\u001b[39;49m\u001b[43mitem\u001b[49m\u001b[43m(\u001b[49m\u001b[43m)\u001b[49m\n",
      "File \u001b[0;32m~/anaconda3/envs/tobac/lib/python3.10/site-packages/pandas/core/base.py:349\u001b[0m, in \u001b[0;36mIndexOpsMixin.item\u001b[0;34m(self)\u001b[0m\n\u001b[1;32m    347\u001b[0m \u001b[38;5;28;01mif\u001b[39;00m \u001b[38;5;28mlen\u001b[39m(\u001b[38;5;28mself\u001b[39m) \u001b[38;5;241m==\u001b[39m \u001b[38;5;241m1\u001b[39m:\n\u001b[1;32m    348\u001b[0m     \u001b[38;5;28;01mreturn\u001b[39;00m \u001b[38;5;28mnext\u001b[39m(\u001b[38;5;28miter\u001b[39m(\u001b[38;5;28mself\u001b[39m))\n\u001b[0;32m--> 349\u001b[0m \u001b[38;5;28;01mraise\u001b[39;00m \u001b[38;5;167;01mValueError\u001b[39;00m(\u001b[38;5;124m\"\u001b[39m\u001b[38;5;124mcan only convert an array of size 1 to a Python scalar\u001b[39m\u001b[38;5;124m\"\u001b[39m)\n",
      "\u001b[0;31mValueError\u001b[0m: can only convert an array of size 1 to a Python scalar"
     ]
    }
   ],
   "source": [
    "track[track[\"cell\"] == 1][\"projection_x_coordinate\"].item()"
   ]
  },
  {
   "cell_type": "code",
   "execution_count": 110,
   "id": "9c150e6a",
   "metadata": {},
   "outputs": [
    {
     "data": {
      "text/plain": [
       "0     13534.969325\n",
       "1     15506.198347\n",
       "2     17665.457842\n",
       "3     20779.675491\n",
       "4     24406.430338\n",
       "5     28000.000000\n",
       "6     31553.054662\n",
       "7     35219.101124\n",
       "8     38810.248199\n",
       "9     42447.030498\n",
       "10    46000.000000\n",
       "11    49654.429370\n",
       "12    53232.558140\n",
       "13    56767.441860\n",
       "14    60345.570630\n",
       "15    64000.000000\n",
       "16    67552.969502\n",
       "17    71189.751801\n",
       "18    74780.898876\n",
       "19    78446.945338\n",
       "21    81574.835526\n",
       "23    83870.141343\n",
       "25    85926.805143\n",
       "27    87840.857788\n",
       "29    89594.125501\n",
       "Name: projection_x_coordinate, dtype: float64"
      ]
     },
     "execution_count": 110,
     "metadata": {},
     "output_type": "execute_result"
    }
   ],
   "source": [
    "track[track[\"cell\"] == 1][\"projection_x_coordinate\"].item()"
   ]
  },
  {
   "cell_type": "markdown",
   "id": "cfe2a9cd",
   "metadata": {},
   "source": [
    "## plot_mask_cell_track_static\n",
    "\n",
    "broken?\n",
    "\n",
    "2d: mask_features() has no z_coord keyword"
   ]
  },
  {
   "cell_type": "code",
   "execution_count": 64,
   "id": "e3782b20",
   "metadata": {},
   "outputs": [],
   "source": [
    "%%capture\n",
    "\n",
    "data = tobac.testing.make_sample_data_2D_3blobs_inv()\n",
    "dxy, dt = tobac.utils.get_spacings(data)\n",
    "features = tobac.feature_detection.feature_detection_multithreshold(data, dxy, threshold = 1)\n",
    "mask, features = tobac.segmentation.segmentation(features, data, dxy, threshold = 1)\n",
    "track = tobac.tracking.linking_trackpy(features, data, dt, dxy, v_max=100)"
   ]
  },
  {
   "cell_type": "code",
   "execution_count": 65,
   "id": "f9ff579a",
   "metadata": {},
   "outputs": [
    {
     "name": "stderr",
     "output_type": "stream",
     "text": [
      "/home/nils/anaconda3/envs/tobac/lib/python3.10/site-packages/tobac/plotting.py:942: UserWarning: When using tobac plotting functions that render a figure, you may need to set the Matplotlib backend to 'agg' by `matplotlib.use('agg').\n",
      "  warnings.warn(\n"
     ]
    },
    {
     "ename": "TypeError",
     "evalue": "mask_features() got an unexpected keyword argument 'z_coord'",
     "output_type": "error",
     "traceback": [
      "\u001b[0;31m---------------------------------------------------------------------------\u001b[0m",
      "\u001b[0;31mTypeError\u001b[0m                                 Traceback (most recent call last)",
      "Input \u001b[0;32mIn [65]\u001b[0m, in \u001b[0;36m<cell line: 1>\u001b[0;34m()\u001b[0m\n\u001b[0;32m----> 1\u001b[0m \u001b[43mtobac\u001b[49m\u001b[38;5;241;43m.\u001b[39;49m\u001b[43mplotting\u001b[49m\u001b[38;5;241;43m.\u001b[39;49m\u001b[43mplot_mask_cell_track_static\u001b[49m\u001b[43m(\u001b[49m\u001b[38;5;241;43m1\u001b[39;49m\u001b[43m,\u001b[49m\u001b[43m \u001b[49m\u001b[43mtrack\u001b[49m\u001b[43m,\u001b[49m\u001b[43m \u001b[49m\u001b[43mtrack\u001b[49m\u001b[43m,\u001b[49m\u001b[43m \u001b[49m\u001b[43mfeatures\u001b[49m\u001b[43m,\u001b[49m\u001b[43m \u001b[49m\u001b[43mmask\u001b[49m\u001b[43m,\u001b[49m\u001b[43m \u001b[49m\u001b[38;5;28;43;01mNone\u001b[39;49;00m\u001b[43m,\u001b[49m\u001b[43m \u001b[49m\u001b[38;5;28;43;01mNone\u001b[39;49;00m\u001b[43m)\u001b[49m\n",
      "File \u001b[0;32m~/anaconda3/envs/tobac/lib/python3.10/site-packages/tobac/plotting.py:1036\u001b[0m, in \u001b[0;36mplot_mask_cell_track_static\u001b[0;34m(cell, track, cog, features, mask_total, field_contour, field_filled, width, n_extend, name, plotdir, file_format, figsize, dpi, **kwargs)\u001b[0m\n\u001b[1;32m   1033\u001b[0m title \u001b[38;5;241m=\u001b[39m datestring_stamp \u001b[38;5;241m+\u001b[39m \u001b[38;5;124m\"\u001b[39m\u001b[38;5;124m , \u001b[39m\u001b[38;5;124m\"\u001b[39m \u001b[38;5;241m+\u001b[39m celltime_stamp\n\u001b[1;32m   1034\u001b[0m datestring_file \u001b[38;5;241m=\u001b[39m time_i\u001b[38;5;241m.\u001b[39mstrftime(\u001b[38;5;124m\"\u001b[39m\u001b[38;5;124m%\u001b[39m\u001b[38;5;124mY-\u001b[39m\u001b[38;5;124m%\u001b[39m\u001b[38;5;124mm-\u001b[39m\u001b[38;5;132;01m%d\u001b[39;00m\u001b[38;5;124m_\u001b[39m\u001b[38;5;124m%\u001b[39m\u001b[38;5;124mH\u001b[39m\u001b[38;5;124m%\u001b[39m\u001b[38;5;124mM\u001b[39m\u001b[38;5;124m%\u001b[39m\u001b[38;5;124mS\u001b[39m\u001b[38;5;124m\"\u001b[39m)\n\u001b[0;32m-> 1036\u001b[0m ax1 \u001b[38;5;241m=\u001b[39m \u001b[43mplot_mask_cell_individual_static\u001b[49m\u001b[43m(\u001b[49m\n\u001b[1;32m   1037\u001b[0m \u001b[43m    \u001b[49m\u001b[43mcell_i\u001b[49m\u001b[38;5;241;43m=\u001b[39;49m\u001b[43mcell\u001b[49m\u001b[43m,\u001b[49m\n\u001b[1;32m   1038\u001b[0m \u001b[43m    \u001b[49m\u001b[43mtrack\u001b[49m\u001b[38;5;241;43m=\u001b[39;49m\u001b[43mtrack_i\u001b[49m\u001b[43m,\u001b[49m\n\u001b[1;32m   1039\u001b[0m \u001b[43m    \u001b[49m\u001b[43mcog\u001b[49m\u001b[38;5;241;43m=\u001b[39;49m\u001b[43mcog_i\u001b[49m\u001b[43m,\u001b[49m\n\u001b[1;32m   1040\u001b[0m \u001b[43m    \u001b[49m\u001b[43mfeatures\u001b[49m\u001b[38;5;241;43m=\u001b[39;49m\u001b[43mfeatures_i\u001b[49m\u001b[43m,\u001b[49m\n\u001b[1;32m   1041\u001b[0m \u001b[43m    \u001b[49m\u001b[43mmask_total\u001b[49m\u001b[38;5;241;43m=\u001b[39;49m\u001b[43mmask_total_i\u001b[49m\u001b[43m,\u001b[49m\n\u001b[1;32m   1042\u001b[0m \u001b[43m    \u001b[49m\u001b[43mfield_contour\u001b[49m\u001b[38;5;241;43m=\u001b[39;49m\u001b[43mfield_contour_i\u001b[49m\u001b[43m,\u001b[49m\n\u001b[1;32m   1043\u001b[0m \u001b[43m    \u001b[49m\u001b[43mfield_filled\u001b[49m\u001b[38;5;241;43m=\u001b[39;49m\u001b[43mfield_filled_i\u001b[49m\u001b[43m,\u001b[49m\n\u001b[1;32m   1044\u001b[0m \u001b[43m    \u001b[49m\u001b[43mxlim\u001b[49m\u001b[38;5;241;43m=\u001b[39;49m\u001b[43m[\u001b[49m\u001b[43mx_min\u001b[49m\u001b[43m \u001b[49m\u001b[38;5;241;43m/\u001b[39;49m\u001b[43m \u001b[49m\u001b[38;5;241;43m1000\u001b[39;49m\u001b[43m,\u001b[49m\u001b[43m \u001b[49m\u001b[43mx_max\u001b[49m\u001b[43m \u001b[49m\u001b[38;5;241;43m/\u001b[39;49m\u001b[43m \u001b[49m\u001b[38;5;241;43m1000\u001b[39;49m\u001b[43m]\u001b[49m\u001b[43m,\u001b[49m\n\u001b[1;32m   1045\u001b[0m \u001b[43m    \u001b[49m\u001b[43mylim\u001b[49m\u001b[38;5;241;43m=\u001b[39;49m\u001b[43m[\u001b[49m\u001b[43my_min\u001b[49m\u001b[43m \u001b[49m\u001b[38;5;241;43m/\u001b[39;49m\u001b[43m \u001b[49m\u001b[38;5;241;43m1000\u001b[39;49m\u001b[43m,\u001b[49m\u001b[43m \u001b[49m\u001b[43my_max\u001b[49m\u001b[43m \u001b[49m\u001b[38;5;241;43m/\u001b[39;49m\u001b[43m \u001b[49m\u001b[38;5;241;43m1000\u001b[39;49m\u001b[43m]\u001b[49m\u001b[43m,\u001b[49m\n\u001b[1;32m   1046\u001b[0m \u001b[43m    \u001b[49m\u001b[43maxes\u001b[49m\u001b[38;5;241;43m=\u001b[39;49m\u001b[43max1\u001b[49m\u001b[43m,\u001b[49m\n\u001b[1;32m   1047\u001b[0m \u001b[43m    \u001b[49m\u001b[43mtitle\u001b[49m\u001b[38;5;241;43m=\u001b[39;49m\u001b[43mtitle\u001b[49m\u001b[43m,\u001b[49m\n\u001b[1;32m   1048\u001b[0m \u001b[43m    \u001b[49m\u001b[38;5;241;43m*\u001b[39;49m\u001b[38;5;241;43m*\u001b[39;49m\u001b[43mkwargs\u001b[49m\n\u001b[1;32m   1049\u001b[0m \u001b[43m\u001b[49m\u001b[43m)\u001b[49m\n\u001b[1;32m   1051\u001b[0m out_dir \u001b[38;5;241m=\u001b[39m os\u001b[38;5;241m.\u001b[39mpath\u001b[38;5;241m.\u001b[39mjoin(plotdir, name)\n\u001b[1;32m   1052\u001b[0m os\u001b[38;5;241m.\u001b[39mmakedirs(out_dir, exist_ok\u001b[38;5;241m=\u001b[39m\u001b[38;5;28;01mTrue\u001b[39;00m)\n",
      "File \u001b[0;32m~/anaconda3/envs/tobac/lib/python3.10/site-packages/tobac/plotting.py:1224\u001b[0m, in \u001b[0;36mplot_mask_cell_individual_static\u001b[0;34m(cell_i, track, cog, features, mask_total, field_contour, field_filled, axes, xlim, ylim, label_field_contour, cmap_field_contour, norm_field_contour, linewidths_contour, contour_labels, vmin_field_contour, vmax_field_contour, levels_field_contour, nlevels_field_contour, label_field_filled, cmap_field_filled, norm_field_filled, vmin_field_filled, vmax_field_filled, levels_field_filled, nlevels_field_filled, title, feature_number)\u001b[0m\n\u001b[1;32m   1220\u001b[0m         mask_total_i_surface \u001b[38;5;241m=\u001b[39m mask_features_surface(\n\u001b[1;32m   1221\u001b[0m             mask_total, feature, masked\u001b[38;5;241m=\u001b[39m\u001b[38;5;28;01mFalse\u001b[39;00m, z_coord\u001b[38;5;241m=\u001b[39mz_coord\n\u001b[1;32m   1222\u001b[0m         )\n\u001b[1;32m   1223\u001b[0m     \u001b[38;5;28;01melif\u001b[39;00m \u001b[38;5;28mlen\u001b[39m(mask_total\u001b[38;5;241m.\u001b[39mshape) \u001b[38;5;241m==\u001b[39m \u001b[38;5;241m2\u001b[39m:\n\u001b[0;32m-> 1224\u001b[0m         mask_total_i_surface \u001b[38;5;241m=\u001b[39m \u001b[43mmask_features\u001b[49m\u001b[43m(\u001b[49m\n\u001b[1;32m   1225\u001b[0m \u001b[43m            \u001b[49m\u001b[43mmask_total\u001b[49m\u001b[43m,\u001b[49m\u001b[43m \u001b[49m\u001b[43mfeature\u001b[49m\u001b[43m,\u001b[49m\u001b[43m \u001b[49m\u001b[43mmasked\u001b[49m\u001b[38;5;241;43m=\u001b[39;49m\u001b[38;5;28;43;01mFalse\u001b[39;49;00m\u001b[43m,\u001b[49m\u001b[43m \u001b[49m\u001b[43mz_coord\u001b[49m\u001b[38;5;241;43m=\u001b[39;49m\u001b[43mz_coord\u001b[49m\n\u001b[1;32m   1226\u001b[0m \u001b[43m        \u001b[49m\u001b[43m)\u001b[49m\n\u001b[1;32m   1227\u001b[0m     axes\u001b[38;5;241m.\u001b[39mcontour(\n\u001b[1;32m   1228\u001b[0m         mask_total_i_surface\u001b[38;5;241m.\u001b[39mcoord(\u001b[38;5;124m\"\u001b[39m\u001b[38;5;124mprojection_x_coordinate\u001b[39m\u001b[38;5;124m\"\u001b[39m)\u001b[38;5;241m.\u001b[39mpoints \u001b[38;5;241m/\u001b[39m \u001b[38;5;241m1000\u001b[39m,\n\u001b[1;32m   1229\u001b[0m         mask_total_i_surface\u001b[38;5;241m.\u001b[39mcoord(\u001b[38;5;124m\"\u001b[39m\u001b[38;5;124mprojection_y_coordinate\u001b[39m\u001b[38;5;124m\"\u001b[39m)\u001b[38;5;241m.\u001b[39mpoints \u001b[38;5;241m/\u001b[39m \u001b[38;5;241m1000\u001b[39m,\n\u001b[0;32m   (...)\u001b[0m\n\u001b[1;32m   1234\u001b[0m         linewidth\u001b[38;5;241m=\u001b[39m\u001b[38;5;241m1\u001b[39m,\n\u001b[1;32m   1235\u001b[0m     )\n\u001b[1;32m   1236\u001b[0m \u001b[38;5;28;01mif\u001b[39;00m cog \u001b[38;5;129;01mis\u001b[39;00m \u001b[38;5;129;01mnot\u001b[39;00m \u001b[38;5;28;01mNone\u001b[39;00m:\n",
      "\u001b[0;31mTypeError\u001b[0m: mask_features() got an unexpected keyword argument 'z_coord'"
     ]
    },
    {
     "data": {
      "image/png": "[encoded data removed]",
      "text/plain": [
       "<Figure size 283.465x283.465 with 1 Axes>"
      ]
     },
     "metadata": {
      "needs_background": "light"
     },
     "output_type": "display_data"
    }
   ],
   "source": [
    "tobac.plotting.plot_mask_cell_track_static(1, track, track, features, mask, None, None)"
   ]
  },
  {
   "cell_type": "markdown",
   "id": "8f72a6c7",
   "metadata": {},
   "source": [
    "## plot_mask_cell_individual_static\n",
    "\n",
    "broken?\n",
    "\n",
    "2d doesnt work since no z_coord\n",
    "\n",
    "3d mask shape doenst match"
   ]
  },
  {
   "cell_type": "code",
   "execution_count": 120,
   "id": "2f091e7c",
   "metadata": {},
   "outputs": [
    {
     "data": {
      "text/plain": [
       "<pandas.core.indexing._iLocIndexer at 0x7f569a64c770>"
      ]
     },
     "execution_count": 120,
     "metadata": {},
     "output_type": "execute_result"
    }
   ],
   "source": [
    "features.iloc(0)"
   ]
  },
  {
   "cell_type": "code",
   "execution_count": 70,
   "id": "385479d6",
   "metadata": {},
   "outputs": [],
   "source": [
    "%%capture\n",
    "\n",
    "data = tobac.testing.make_sample_data_3D_3blobs()\n",
    "dxy, dt = tobac.utils.get_spacings(data)\n",
    "features = tobac.feature_detection.feature_detection_multithreshold(data[:, 0], dxy, threshold = 1)\n",
    "mask, features = tobac.segmentation.segmentation(features, data, dxy, threshold = 1)\n",
    "track = tobac.tracking.linking_trackpy(features, data, dt, dxy, v_max=100)"
   ]
  },
  {
   "cell_type": "code",
   "execution_count": 123,
   "id": "f0740419",
   "metadata": {},
   "outputs": [
    {
     "ename": "UnboundLocalError",
     "evalue": "local variable 'mask_total_i_surface' referenced before assignment",
     "output_type": "error",
     "traceback": [
      "\u001b[0;31m---------------------------------------------------------------------------\u001b[0m",
      "\u001b[0;31mUnboundLocalError\u001b[0m                         Traceback (most recent call last)",
      "Input \u001b[0;32mIn [123]\u001b[0m, in \u001b[0;36m<cell line: 12>\u001b[0;34m()\u001b[0m\n\u001b[1;32m      4\u001b[0m get_ipython()\u001b[38;5;241m.\u001b[39mrun_line_magic(\u001b[38;5;124m'\u001b[39m\u001b[38;5;124mmatplotlib\u001b[39m\u001b[38;5;124m'\u001b[39m, \u001b[38;5;124m'\u001b[39m\u001b[38;5;124minline\u001b[39m\u001b[38;5;124m'\u001b[39m)\n\u001b[1;32m      5\u001b[0m fig, geo_axes \u001b[38;5;241m=\u001b[39m plt\u001b[38;5;241m.\u001b[39msubplots(\n\u001b[1;32m      6\u001b[0m             ncols\u001b[38;5;241m=\u001b[39m\u001b[38;5;241m1\u001b[39m,\n\u001b[1;32m      7\u001b[0m             nrows\u001b[38;5;241m=\u001b[39m\u001b[38;5;241m1\u001b[39m,\n\u001b[1;32m      8\u001b[0m             figsize\u001b[38;5;241m=\u001b[39m(\u001b[38;5;241m10\u001b[39m, \u001b[38;5;241m10\u001b[39m),\n\u001b[1;32m      9\u001b[0m             subplot_kw\u001b[38;5;241m=\u001b[39m{\u001b[38;5;124m\"\u001b[39m\u001b[38;5;124mprojection\u001b[39m\u001b[38;5;124m\"\u001b[39m: cartopy\u001b[38;5;241m.\u001b[39mcrs\u001b[38;5;241m.\u001b[39mPlateCarree()},\n\u001b[1;32m     10\u001b[0m         )\n\u001b[0;32m---> 12\u001b[0m \u001b[43mtobac\u001b[49m\u001b[38;5;241;43m.\u001b[39;49m\u001b[43mplotting\u001b[49m\u001b[38;5;241;43m.\u001b[39;49m\u001b[43mplot_mask_cell_individual_static\u001b[49m\u001b[43m(\u001b[49m\u001b[38;5;241;43m1\u001b[39;49m\u001b[43m,\u001b[49m\u001b[43m \u001b[49m\u001b[43mtrack\u001b[49m\u001b[43m,\u001b[49m\u001b[43m \u001b[49m\u001b[38;5;241;43m1\u001b[39;49m\u001b[43m,\u001b[49m\u001b[43m \u001b[49m\u001b[43mfeatures\u001b[49m\u001b[43m,\u001b[49m\u001b[43m \u001b[49m\u001b[43mmask\u001b[49m\u001b[43m,\u001b[49m\u001b[43m \u001b[49m\u001b[38;5;28;43;01mNone\u001b[39;49;00m\u001b[43m,\u001b[49m\u001b[43m \u001b[49m\u001b[38;5;28;43;01mNone\u001b[39;49;00m\u001b[43m,\u001b[49m\u001b[43m \u001b[49m\u001b[43maxes\u001b[49m\u001b[43m \u001b[49m\u001b[38;5;241;43m=\u001b[39;49m\u001b[43m \u001b[49m\u001b[43mgeo_axes\u001b[49m\u001b[43m)\u001b[49m\n",
      "File \u001b[0;32m~/anaconda3/envs/tobac/lib/python3.10/site-packages/tobac/plotting.py:1228\u001b[0m, in \u001b[0;36mplot_mask_cell_individual_static\u001b[0;34m(cell_i, track, cog, features, mask_total, field_contour, field_filled, axes, xlim, ylim, label_field_contour, cmap_field_contour, norm_field_contour, linewidths_contour, contour_labels, vmin_field_contour, vmax_field_contour, levels_field_contour, nlevels_field_contour, label_field_filled, cmap_field_filled, norm_field_filled, vmin_field_filled, vmax_field_filled, levels_field_filled, nlevels_field_filled, title, feature_number)\u001b[0m\n\u001b[1;32m   1223\u001b[0m     \u001b[38;5;28;01melif\u001b[39;00m \u001b[38;5;28mlen\u001b[39m(mask_total\u001b[38;5;241m.\u001b[39mshape) \u001b[38;5;241m==\u001b[39m \u001b[38;5;241m2\u001b[39m:\n\u001b[1;32m   1224\u001b[0m         mask_total_i_surface \u001b[38;5;241m=\u001b[39m mask_features(\n\u001b[1;32m   1225\u001b[0m             mask_total, feature, masked\u001b[38;5;241m=\u001b[39m\u001b[38;5;28;01mFalse\u001b[39;00m, z_coord\u001b[38;5;241m=\u001b[39mz_coord\n\u001b[1;32m   1226\u001b[0m         )\n\u001b[1;32m   1227\u001b[0m     axes\u001b[38;5;241m.\u001b[39mcontour(\n\u001b[0;32m-> 1228\u001b[0m         \u001b[43mmask_total_i_surface\u001b[49m\u001b[38;5;241m.\u001b[39mcoord(\u001b[38;5;124m\"\u001b[39m\u001b[38;5;124mprojection_x_coordinate\u001b[39m\u001b[38;5;124m\"\u001b[39m)\u001b[38;5;241m.\u001b[39mpoints \u001b[38;5;241m/\u001b[39m \u001b[38;5;241m1000\u001b[39m,\n\u001b[1;32m   1229\u001b[0m         mask_total_i_surface\u001b[38;5;241m.\u001b[39mcoord(\u001b[38;5;124m\"\u001b[39m\u001b[38;5;124mprojection_y_coordinate\u001b[39m\u001b[38;5;124m\"\u001b[39m)\u001b[38;5;241m.\u001b[39mpoints \u001b[38;5;241m/\u001b[39m \u001b[38;5;241m1000\u001b[39m,\n\u001b[1;32m   1230\u001b[0m         mask_total_i_surface\u001b[38;5;241m.\u001b[39mdata,\n\u001b[1;32m   1231\u001b[0m         levels\u001b[38;5;241m=\u001b[39m[\u001b[38;5;241m0\u001b[39m, feature],\n\u001b[1;32m   1232\u001b[0m         colors\u001b[38;5;241m=\u001b[39mcolor,\n\u001b[1;32m   1233\u001b[0m         linestyles\u001b[38;5;241m=\u001b[39m\u001b[38;5;124m\"\u001b[39m\u001b[38;5;124m:\u001b[39m\u001b[38;5;124m\"\u001b[39m,\n\u001b[1;32m   1234\u001b[0m         linewidth\u001b[38;5;241m=\u001b[39m\u001b[38;5;241m1\u001b[39m,\n\u001b[1;32m   1235\u001b[0m     )\n\u001b[1;32m   1236\u001b[0m \u001b[38;5;28;01mif\u001b[39;00m cog \u001b[38;5;129;01mis\u001b[39;00m \u001b[38;5;129;01mnot\u001b[39;00m \u001b[38;5;28;01mNone\u001b[39;00m:\n\u001b[1;32m   1238\u001b[0m     \u001b[38;5;28;01mfor\u001b[39;00m i_row, row \u001b[38;5;129;01min\u001b[39;00m cog\u001b[38;5;241m.\u001b[39miterrows():\n",
      "\u001b[0;31mUnboundLocalError\u001b[0m: local variable 'mask_total_i_surface' referenced before assignment"
     ]
    },
    {
     "data": {
      "image/png": "[encoded data removed]",
      "text/plain": [
       "<Figure size 720x720 with 1 Axes>"
      ]
     },
     "metadata": {
      "needs_background": "light"
     },
     "output_type": "display_data"
    }
   ],
   "source": [
    "import cartopy\n",
    "import matplotlib.pyplot as plt\n",
    "n = 40\n",
    "%matplotlib inline\n",
    "fig, geo_axes = plt.subplots(\n",
    "            ncols=1,\n",
    "            nrows=1,\n",
    "            figsize=(10, 10),\n",
    "            subplot_kw={\"projection\": cartopy.crs.PlateCarree()},\n",
    "        )\n",
    "\n",
    "tobac.plotting.plot_mask_cell_individual_static(1, track, 1, features, mask, None, None, axes = geo_axes)"
   ]
  },
  {
   "cell_type": "code",
   "execution_count": 73,
   "id": "050e528f",
   "metadata": {},
   "outputs": [],
   "source": [
    "%%capture\n",
    "\n",
    "data = tobac.testing.make_sample_data_2D_3blobs_inv()\n",
    "dxy, dt = tobac.utils.get_spacings(data)\n",
    "features = tobac.feature_detection.feature_detection_multithreshold(data, dxy, threshold = 1)\n",
    "mask, features = tobac.segmentation.segmentation(features, data, dxy, threshold = 1)\n",
    "track = tobac.tracking.linking_trackpy(features, data, dt, dxy, v_max=100)"
   ]
  },
  {
   "cell_type": "code",
   "execution_count": 74,
   "id": "913f162d",
   "metadata": {},
   "outputs": [
    {
     "ename": "CoordinateNotFoundError",
     "evalue": "\"Expected to find exactly 1 'model_level_number' coordinate, but found none.\"",
     "output_type": "error",
     "traceback": [
      "\u001b[0;31m---------------------------------------------------------------------------\u001b[0m",
      "\u001b[0;31mCoordinateNotFoundError\u001b[0m                   Traceback (most recent call last)",
      "Input \u001b[0;32mIn [74]\u001b[0m, in \u001b[0;36m<cell line: 13>\u001b[0;34m()\u001b[0m\n\u001b[1;32m      4\u001b[0m get_ipython()\u001b[38;5;241m.\u001b[39mrun_line_magic(\u001b[38;5;124m'\u001b[39m\u001b[38;5;124mmatplotlib\u001b[39m\u001b[38;5;124m'\u001b[39m, \u001b[38;5;124m'\u001b[39m\u001b[38;5;124minline\u001b[39m\u001b[38;5;124m'\u001b[39m)\n\u001b[1;32m      5\u001b[0m fig, geo_axes \u001b[38;5;241m=\u001b[39m plt\u001b[38;5;241m.\u001b[39msubplots(\n\u001b[1;32m      6\u001b[0m             ncols\u001b[38;5;241m=\u001b[39m\u001b[38;5;241m1\u001b[39m,\n\u001b[1;32m      7\u001b[0m             nrows\u001b[38;5;241m=\u001b[39m\u001b[38;5;241m1\u001b[39m,\n\u001b[1;32m      8\u001b[0m             figsize\u001b[38;5;241m=\u001b[39m(\u001b[38;5;241m10\u001b[39m, \u001b[38;5;241m10\u001b[39m),\n\u001b[1;32m      9\u001b[0m             subplot_kw\u001b[38;5;241m=\u001b[39m{\u001b[38;5;124m\"\u001b[39m\u001b[38;5;124mprojection\u001b[39m\u001b[38;5;124m\"\u001b[39m: cartopy\u001b[38;5;241m.\u001b[39mcrs\u001b[38;5;241m.\u001b[39mPlateCarree()},\n\u001b[1;32m     10\u001b[0m         )\n\u001b[0;32m---> 13\u001b[0m \u001b[43mtobac\u001b[49m\u001b[38;5;241;43m.\u001b[39;49m\u001b[43mplotting\u001b[49m\u001b[38;5;241;43m.\u001b[39;49m\u001b[43mplot_mask_cell_individual_static\u001b[49m\u001b[43m(\u001b[49m\u001b[38;5;241;43m1\u001b[39;49m\u001b[43m,\u001b[49m\u001b[43m \u001b[49m\u001b[43mtrack\u001b[49m\u001b[43m,\u001b[49m\u001b[43m \u001b[49m\u001b[38;5;241;43m1\u001b[39;49m\u001b[43m,\u001b[49m\u001b[43m \u001b[49m\u001b[43mfeatures\u001b[49m\u001b[43m,\u001b[49m\u001b[43m \u001b[49m\u001b[43mmask\u001b[49m\u001b[43m,\u001b[49m\u001b[43m \u001b[49m\u001b[38;5;28;43;01mNone\u001b[39;49;00m\u001b[43m,\u001b[49m\u001b[43m \u001b[49m\u001b[38;5;28;43;01mNone\u001b[39;49;00m\u001b[43m,\u001b[49m\u001b[43m \u001b[49m\u001b[43maxes\u001b[49m\u001b[43m \u001b[49m\u001b[38;5;241;43m=\u001b[39;49m\u001b[43m \u001b[49m\u001b[43mgeo_axes\u001b[49m\u001b[43m)\u001b[49m\n",
      "File \u001b[0;32m~/anaconda3/envs/tobac/lib/python3.10/site-packages/tobac/plotting.py:1220\u001b[0m, in \u001b[0;36mplot_mask_cell_individual_static\u001b[0;34m(cell_i, track, cog, features, mask_total, field_contour, field_filled, axes, xlim, ylim, label_field_contour, cmap_field_contour, norm_field_contour, linewidths_contour, contour_labels, vmin_field_contour, vmax_field_contour, levels_field_contour, nlevels_field_contour, label_field_filled, cmap_field_filled, norm_field_filled, vmin_field_filled, vmax_field_filled, levels_field_filled, nlevels_field_filled, title, feature_number)\u001b[0m\n\u001b[1;32m   1218\u001b[0m z_coord \u001b[38;5;241m=\u001b[39m \u001b[38;5;124m\"\u001b[39m\u001b[38;5;124mmodel_level_number\u001b[39m\u001b[38;5;124m\"\u001b[39m\n\u001b[1;32m   1219\u001b[0m \u001b[38;5;28;01mif\u001b[39;00m \u001b[38;5;28mlen\u001b[39m(mask_total\u001b[38;5;241m.\u001b[39mshape) \u001b[38;5;241m==\u001b[39m \u001b[38;5;241m3\u001b[39m:\n\u001b[0;32m-> 1220\u001b[0m     mask_total_i_surface \u001b[38;5;241m=\u001b[39m \u001b[43mmask_features_surface\u001b[49m\u001b[43m(\u001b[49m\n\u001b[1;32m   1221\u001b[0m \u001b[43m        \u001b[49m\u001b[43mmask_total\u001b[49m\u001b[43m,\u001b[49m\u001b[43m \u001b[49m\u001b[43mfeature\u001b[49m\u001b[43m,\u001b[49m\u001b[43m \u001b[49m\u001b[43mmasked\u001b[49m\u001b[38;5;241;43m=\u001b[39;49m\u001b[38;5;28;43;01mFalse\u001b[39;49;00m\u001b[43m,\u001b[49m\u001b[43m \u001b[49m\u001b[43mz_coord\u001b[49m\u001b[38;5;241;43m=\u001b[39;49m\u001b[43mz_coord\u001b[49m\n\u001b[1;32m   1222\u001b[0m \u001b[43m    \u001b[49m\u001b[43m)\u001b[49m\n\u001b[1;32m   1223\u001b[0m \u001b[38;5;28;01melif\u001b[39;00m \u001b[38;5;28mlen\u001b[39m(mask_total\u001b[38;5;241m.\u001b[39mshape) \u001b[38;5;241m==\u001b[39m \u001b[38;5;241m2\u001b[39m:\n\u001b[1;32m   1224\u001b[0m     mask_total_i_surface \u001b[38;5;241m=\u001b[39m mask_features(\n\u001b[1;32m   1225\u001b[0m         mask_total, feature, masked\u001b[38;5;241m=\u001b[39m\u001b[38;5;28;01mFalse\u001b[39;00m, z_coord\u001b[38;5;241m=\u001b[39mz_coord\n\u001b[1;32m   1226\u001b[0m     )\n",
      "File \u001b[0;32m~/anaconda3/envs/tobac/lib/python3.10/site-packages/tobac/utils.py:218\u001b[0m, in \u001b[0;36mmask_features_surface\u001b[0;34m(mask, feature_ids, masked, z_coord)\u001b[0m\n\u001b[1;32m    216\u001b[0m mask_i_data \u001b[38;5;241m=\u001b[39m mask_i\u001b[38;5;241m.\u001b[39mcore_data()\n\u001b[1;32m    217\u001b[0m mask_i_data[\u001b[38;5;241m~\u001b[39misin(mask_i\u001b[38;5;241m.\u001b[39mcore_data(), feature_ids)] \u001b[38;5;241m=\u001b[39m \u001b[38;5;241m0\u001b[39m\n\u001b[0;32m--> 218\u001b[0m mask_i_surface \u001b[38;5;241m=\u001b[39m \u001b[43mmask_i\u001b[49m\u001b[38;5;241;43m.\u001b[39;49m\u001b[43mcollapsed\u001b[49m\u001b[43m(\u001b[49m\u001b[43mz_coord\u001b[49m\u001b[43m,\u001b[49m\u001b[43m \u001b[49m\u001b[43mMAX\u001b[49m\u001b[43m)\u001b[49m\n\u001b[1;32m    219\u001b[0m \u001b[38;5;28;01mif\u001b[39;00m masked:\n\u001b[1;32m    220\u001b[0m     mask_i_surface\u001b[38;5;241m.\u001b[39mdata \u001b[38;5;241m=\u001b[39m ma\u001b[38;5;241m.\u001b[39mmasked_equal(mask_i_surface\u001b[38;5;241m.\u001b[39mcore_data(), \u001b[38;5;241m0\u001b[39m)\n",
      "File \u001b[0;32m~/anaconda3/envs/tobac/lib/python3.10/site-packages/iris/cube.py:3685\u001b[0m, in \u001b[0;36mCube.collapsed\u001b[0;34m(self, coords, aggregator, **kwargs)\u001b[0m\n\u001b[1;32m   3591\u001b[0m \u001b[38;5;124;03m\"\"\"\u001b[39;00m\n\u001b[1;32m   3592\u001b[0m \u001b[38;5;124;03mCollapse one or more dimensions over the cube given the coordinate/s\u001b[39;00m\n\u001b[1;32m   3593\u001b[0m \u001b[38;5;124;03mand an aggregation.\u001b[39;00m\n\u001b[0;32m   (...)\u001b[0m\n\u001b[1;32m   3682\u001b[0m \u001b[38;5;124;03m                       iris.analysis.VARIANCE)\u001b[39;00m\n\u001b[1;32m   3683\u001b[0m \u001b[38;5;124;03m\"\"\"\u001b[39;00m\n\u001b[1;32m   3684\u001b[0m \u001b[38;5;66;03m# Convert any coordinate names to coordinates\u001b[39;00m\n\u001b[0;32m-> 3685\u001b[0m coords \u001b[38;5;241m=\u001b[39m \u001b[38;5;28;43mself\u001b[39;49m\u001b[38;5;241;43m.\u001b[39;49m\u001b[43m_as_list_of_coords\u001b[49m\u001b[43m(\u001b[49m\u001b[43mcoords\u001b[49m\u001b[43m)\u001b[49m\n\u001b[1;32m   3687\u001b[0m \u001b[38;5;28;01mif\u001b[39;00m \u001b[38;5;28misinstance\u001b[39m(\n\u001b[1;32m   3688\u001b[0m     aggregator, iris\u001b[38;5;241m.\u001b[39manalysis\u001b[38;5;241m.\u001b[39mWeightedAggregator\n\u001b[1;32m   3689\u001b[0m ) \u001b[38;5;129;01mand\u001b[39;00m \u001b[38;5;129;01mnot\u001b[39;00m aggregator\u001b[38;5;241m.\u001b[39muses_weighting(\u001b[38;5;241m*\u001b[39m\u001b[38;5;241m*\u001b[39mkwargs):\n\u001b[1;32m   3690\u001b[0m     msg \u001b[38;5;241m=\u001b[39m \u001b[38;5;124m\"\u001b[39m\u001b[38;5;124mCollapsing spatial coordinate \u001b[39m\u001b[38;5;132;01m{!r}\u001b[39;00m\u001b[38;5;124m without weighting\u001b[39m\u001b[38;5;124m\"\u001b[39m\n",
      "File \u001b[0;32m~/anaconda3/envs/tobac/lib/python3.10/site-packages/iris/cube.py:3023\u001b[0m, in \u001b[0;36mCube._as_list_of_coords\u001b[0;34m(self, names_or_coords)\u001b[0m\n\u001b[1;32m   3019\u001b[0m \u001b[38;5;28;01mfor\u001b[39;00m name_or_coord \u001b[38;5;129;01min\u001b[39;00m names_or_coords:\n\u001b[1;32m   3020\u001b[0m     \u001b[38;5;28;01mif\u001b[39;00m \u001b[38;5;28misinstance\u001b[39m(name_or_coord, \u001b[38;5;28mstr\u001b[39m) \u001b[38;5;129;01mor\u001b[39;00m \u001b[38;5;28misinstance\u001b[39m(\n\u001b[1;32m   3021\u001b[0m         name_or_coord, iris\u001b[38;5;241m.\u001b[39mcoords\u001b[38;5;241m.\u001b[39mCoord\n\u001b[1;32m   3022\u001b[0m     ):\n\u001b[0;32m-> 3023\u001b[0m         coords\u001b[38;5;241m.\u001b[39mappend(\u001b[38;5;28;43mself\u001b[39;49m\u001b[38;5;241;43m.\u001b[39;49m\u001b[43mcoord\u001b[49m\u001b[43m(\u001b[49m\u001b[43mname_or_coord\u001b[49m\u001b[43m)\u001b[49m)\n\u001b[1;32m   3024\u001b[0m     \u001b[38;5;28;01melse\u001b[39;00m:\n\u001b[1;32m   3025\u001b[0m         \u001b[38;5;66;03m# Don't know how to handle this type\u001b[39;00m\n\u001b[1;32m   3026\u001b[0m         msg \u001b[38;5;241m=\u001b[39m (\n\u001b[1;32m   3027\u001b[0m             \u001b[38;5;124m\"\u001b[39m\u001b[38;5;124mDon\u001b[39m\u001b[38;5;124m'\u001b[39m\u001b[38;5;124mt know how to handle coordinate of type \u001b[39m\u001b[38;5;132;01m%s\u001b[39;00m\u001b[38;5;124m. \u001b[39m\u001b[38;5;124m\"\u001b[39m\n\u001b[1;32m   3028\u001b[0m             \u001b[38;5;124m\"\u001b[39m\u001b[38;5;124mEnsure all coordinates are of type str \u001b[39m\u001b[38;5;124m\"\u001b[39m\n\u001b[1;32m   3029\u001b[0m             \u001b[38;5;124m\"\u001b[39m\u001b[38;5;124mor iris.coords.Coord.\u001b[39m\u001b[38;5;124m\"\u001b[39m\n\u001b[1;32m   3030\u001b[0m         ) \u001b[38;5;241m%\u001b[39m (\u001b[38;5;28mtype\u001b[39m(name_or_coord),)\n",
      "File \u001b[0;32m~/anaconda3/envs/tobac/lib/python3.10/site-packages/iris/cube.py:1919\u001b[0m, in \u001b[0;36mCube.coord\u001b[0;34m(self, name_or_coord, standard_name, long_name, var_name, attributes, axis, contains_dimension, dimensions, coord_system, dim_coords, mesh_coords)\u001b[0m\n\u001b[1;32m   1914\u001b[0m     bad_name \u001b[38;5;241m=\u001b[39m _name \u001b[38;5;129;01mor\u001b[39;00m standard_name \u001b[38;5;129;01mor\u001b[39;00m long_name \u001b[38;5;129;01mor\u001b[39;00m \u001b[38;5;124m\"\u001b[39m\u001b[38;5;124m\"\u001b[39m\n\u001b[1;32m   1915\u001b[0m     emsg \u001b[38;5;241m=\u001b[39m (\n\u001b[1;32m   1916\u001b[0m         \u001b[38;5;124mf\u001b[39m\u001b[38;5;124m\"\u001b[39m\u001b[38;5;124mExpected to find exactly 1 \u001b[39m\u001b[38;5;132;01m{\u001b[39;00mbad_name\u001b[38;5;132;01m!r}\u001b[39;00m\u001b[38;5;124m coordinate, \u001b[39m\u001b[38;5;124m\"\u001b[39m\n\u001b[1;32m   1917\u001b[0m         \u001b[38;5;124m\"\u001b[39m\u001b[38;5;124mbut found none.\u001b[39m\u001b[38;5;124m\"\u001b[39m\n\u001b[1;32m   1918\u001b[0m     )\n\u001b[0;32m-> 1919\u001b[0m     \u001b[38;5;28;01mraise\u001b[39;00m iris\u001b[38;5;241m.\u001b[39mexceptions\u001b[38;5;241m.\u001b[39mCoordinateNotFoundError(emsg)\n\u001b[1;32m   1921\u001b[0m \u001b[38;5;28;01mreturn\u001b[39;00m coords[\u001b[38;5;241m0\u001b[39m]\n",
      "\u001b[0;31mCoordinateNotFoundError\u001b[0m: \"Expected to find exactly 1 'model_level_number' coordinate, but found none.\""
     ]
    },
    {
     "data": {
      "image/png": "[encoded data removed]",
      "text/plain": [
       "<Figure size 720x720 with 1 Axes>"
      ]
     },
     "metadata": {
      "needs_background": "light"
     },
     "output_type": "display_data"
    }
   ],
   "source": [
    "import cartopy\n",
    "import matplotlib.pyplot as plt\n",
    "n = 40\n",
    "%matplotlib inline\n",
    "fig, geo_axes = plt.subplots(\n",
    "            ncols=1,\n",
    "            nrows=1,\n",
    "            figsize=(10, 10),\n",
    "            subplot_kw={\"projection\": cartopy.crs.PlateCarree()},\n",
    "        )\n",
    "\n",
    "\n",
    "tobac.plotting.plot_mask_cell_individual_static(1, track, 1, features, mask, None, None, axes = geo_axes)"
   ]
  },
  {
   "cell_type": "markdown",
   "id": "88e9ab8b",
   "metadata": {},
   "source": [
    "## plot_mask_cell_track_2D3Dstatic"
   ]
  },
  {
   "cell_type": "code",
   "execution_count": 78,
   "id": "a20b3609",
   "metadata": {},
   "outputs": [],
   "source": [
    "%%capture\n",
    "\n",
    "data = tobac.testing.make_sample_data_2D_3blobs_inv()\n",
    "dxy, dt = tobac.utils.get_spacings(data)\n",
    "features = tobac.feature_detection.feature_detection_multithreshold(data, dxy, threshold = 1)\n",
    "mask, features = tobac.segmentation.segmentation(features, data, dxy, threshold = 1)\n",
    "track = tobac.tracking.linking_trackpy(features, data, dt, dxy, v_max=100)"
   ]
  },
  {
   "cell_type": "code",
   "execution_count": 79,
   "id": "161b25ae",
   "metadata": {},
   "outputs": [
    {
     "name": "stderr",
     "output_type": "stream",
     "text": [
      "/home/nils/anaconda3/envs/tobac/lib/python3.10/site-packages/tobac/plotting.py:1303: UserWarning: When using tobac plotting functions that render a figure, you may need to set the Matplotlib backend to 'agg' by `matplotlib.use('agg').\n",
      "  warnings.warn(\n"
     ]
    },
    {
     "ename": "TypeError",
     "evalue": "mask_features() got an unexpected keyword argument 'z_coord'",
     "output_type": "error",
     "traceback": [
      "\u001b[0;31m---------------------------------------------------------------------------\u001b[0m",
      "\u001b[0;31mTypeError\u001b[0m                                 Traceback (most recent call last)",
      "Input \u001b[0;32mIn [79]\u001b[0m, in \u001b[0;36m<cell line: 1>\u001b[0;34m()\u001b[0m\n\u001b[0;32m----> 1\u001b[0m \u001b[43mtobac\u001b[49m\u001b[38;5;241;43m.\u001b[39;49m\u001b[43mplotting\u001b[49m\u001b[38;5;241;43m.\u001b[39;49m\u001b[43mplot_mask_cell_track_2D3Dstatic\u001b[49m\u001b[43m(\u001b[49m\u001b[38;5;241;43m1\u001b[39;49m\u001b[43m,\u001b[49m\u001b[43m \u001b[49m\u001b[43mtrack\u001b[49m\u001b[43m,\u001b[49m\u001b[43m \u001b[49m\u001b[43mtrack\u001b[49m\u001b[43m,\u001b[49m\u001b[43m \u001b[49m\u001b[43mfeatures\u001b[49m\u001b[43m,\u001b[49m\u001b[43m \u001b[49m\u001b[43mmask\u001b[49m\u001b[43m,\u001b[49m\u001b[43m \u001b[49m\u001b[38;5;28;43;01mNone\u001b[39;49;00m\u001b[43m,\u001b[49m\u001b[43m \u001b[49m\u001b[38;5;28;43;01mNone\u001b[39;49;00m\u001b[43m)\u001b[49m\n",
      "File \u001b[0;32m~/anaconda3/envs/tobac/lib/python3.10/site-packages/tobac/plotting.py:1408\u001b[0m, in \u001b[0;36mplot_mask_cell_track_2D3Dstatic\u001b[0;34m(cell, track, cog, features, mask_total, field_contour, field_filled, width, n_extend, name, plotdir, file_format, figsize, dpi, ele, azim, **kwargs)\u001b[0m\n\u001b[1;32m   1405\u001b[0m title \u001b[38;5;241m=\u001b[39m datestring_stamp \u001b[38;5;241m+\u001b[39m \u001b[38;5;124m\"\u001b[39m\u001b[38;5;124m , \u001b[39m\u001b[38;5;124m\"\u001b[39m \u001b[38;5;241m+\u001b[39m celltime_stamp\n\u001b[1;32m   1406\u001b[0m datestring_file \u001b[38;5;241m=\u001b[39m time_i\u001b[38;5;241m.\u001b[39mstrftime(\u001b[38;5;124m\"\u001b[39m\u001b[38;5;124m%\u001b[39m\u001b[38;5;124mY-\u001b[39m\u001b[38;5;124m%\u001b[39m\u001b[38;5;124mm-\u001b[39m\u001b[38;5;132;01m%d\u001b[39;00m\u001b[38;5;124m_\u001b[39m\u001b[38;5;124m%\u001b[39m\u001b[38;5;124mH\u001b[39m\u001b[38;5;124m%\u001b[39m\u001b[38;5;124mM\u001b[39m\u001b[38;5;124m%\u001b[39m\u001b[38;5;124mS\u001b[39m\u001b[38;5;124m\"\u001b[39m)\n\u001b[0;32m-> 1408\u001b[0m ax1[\u001b[38;5;241m0\u001b[39m] \u001b[38;5;241m=\u001b[39m \u001b[43mplot_mask_cell_individual_static\u001b[49m\u001b[43m(\u001b[49m\n\u001b[1;32m   1409\u001b[0m \u001b[43m    \u001b[49m\u001b[43mcell_i\u001b[49m\u001b[38;5;241;43m=\u001b[39;49m\u001b[43mcell\u001b[49m\u001b[43m,\u001b[49m\n\u001b[1;32m   1410\u001b[0m \u001b[43m    \u001b[49m\u001b[43mtrack\u001b[49m\u001b[38;5;241;43m=\u001b[39;49m\u001b[43mtrack_i\u001b[49m\u001b[43m,\u001b[49m\n\u001b[1;32m   1411\u001b[0m \u001b[43m    \u001b[49m\u001b[43mcog\u001b[49m\u001b[38;5;241;43m=\u001b[39;49m\u001b[43mcog_i\u001b[49m\u001b[43m,\u001b[49m\n\u001b[1;32m   1412\u001b[0m \u001b[43m    \u001b[49m\u001b[43mfeatures\u001b[49m\u001b[38;5;241;43m=\u001b[39;49m\u001b[43mfeatures_i\u001b[49m\u001b[43m,\u001b[49m\n\u001b[1;32m   1413\u001b[0m \u001b[43m    \u001b[49m\u001b[43mmask_total\u001b[49m\u001b[38;5;241;43m=\u001b[39;49m\u001b[43mmask_total_i\u001b[49m\u001b[43m,\u001b[49m\n\u001b[1;32m   1414\u001b[0m \u001b[43m    \u001b[49m\u001b[43mfield_contour\u001b[49m\u001b[38;5;241;43m=\u001b[39;49m\u001b[43mfield_contour_i\u001b[49m\u001b[43m,\u001b[49m\n\u001b[1;32m   1415\u001b[0m \u001b[43m    \u001b[49m\u001b[43mfield_filled\u001b[49m\u001b[38;5;241;43m=\u001b[39;49m\u001b[43mfield_filled_i\u001b[49m\u001b[43m,\u001b[49m\n\u001b[1;32m   1416\u001b[0m \u001b[43m    \u001b[49m\u001b[43mxlim\u001b[49m\u001b[38;5;241;43m=\u001b[39;49m\u001b[43m[\u001b[49m\u001b[43mx_min\u001b[49m\u001b[43m \u001b[49m\u001b[38;5;241;43m/\u001b[39;49m\u001b[43m \u001b[49m\u001b[38;5;241;43m1000\u001b[39;49m\u001b[43m,\u001b[49m\u001b[43m \u001b[49m\u001b[43mx_max\u001b[49m\u001b[43m \u001b[49m\u001b[38;5;241;43m/\u001b[39;49m\u001b[43m \u001b[49m\u001b[38;5;241;43m1000\u001b[39;49m\u001b[43m]\u001b[49m\u001b[43m,\u001b[49m\n\u001b[1;32m   1417\u001b[0m \u001b[43m    \u001b[49m\u001b[43mylim\u001b[49m\u001b[38;5;241;43m=\u001b[39;49m\u001b[43m[\u001b[49m\u001b[43my_min\u001b[49m\u001b[43m \u001b[49m\u001b[38;5;241;43m/\u001b[39;49m\u001b[43m \u001b[49m\u001b[38;5;241;43m1000\u001b[39;49m\u001b[43m,\u001b[49m\u001b[43m \u001b[49m\u001b[43my_max\u001b[49m\u001b[43m \u001b[49m\u001b[38;5;241;43m/\u001b[39;49m\u001b[43m \u001b[49m\u001b[38;5;241;43m1000\u001b[39;49m\u001b[43m]\u001b[49m\u001b[43m,\u001b[49m\n\u001b[1;32m   1418\u001b[0m \u001b[43m    \u001b[49m\u001b[43maxes\u001b[49m\u001b[38;5;241;43m=\u001b[39;49m\u001b[43max1\u001b[49m\u001b[43m[\u001b[49m\u001b[38;5;241;43m0\u001b[39;49m\u001b[43m]\u001b[49m\u001b[43m,\u001b[49m\n\u001b[1;32m   1419\u001b[0m \u001b[43m    \u001b[49m\u001b[43mtitle\u001b[49m\u001b[38;5;241;43m=\u001b[39;49m\u001b[43mtitle\u001b[49m\u001b[43m,\u001b[49m\n\u001b[1;32m   1420\u001b[0m \u001b[43m    \u001b[49m\u001b[38;5;241;43m*\u001b[39;49m\u001b[38;5;241;43m*\u001b[39;49m\u001b[43mkwargs\u001b[49m\n\u001b[1;32m   1421\u001b[0m \u001b[43m\u001b[49m\u001b[43m)\u001b[49m\n\u001b[1;32m   1423\u001b[0m ax1[\u001b[38;5;241m1\u001b[39m] \u001b[38;5;241m=\u001b[39m plot_mask_cell_individual_3Dstatic(\n\u001b[1;32m   1424\u001b[0m     cell_i\u001b[38;5;241m=\u001b[39mcell,\n\u001b[1;32m   1425\u001b[0m     track\u001b[38;5;241m=\u001b[39mtrack_i,\n\u001b[0;32m   (...)\u001b[0m\n\u001b[1;32m   1437\u001b[0m     \u001b[38;5;241m*\u001b[39m\u001b[38;5;241m*\u001b[39mkwargs\n\u001b[1;32m   1438\u001b[0m )\n\u001b[1;32m   1440\u001b[0m out_dir \u001b[38;5;241m=\u001b[39m os\u001b[38;5;241m.\u001b[39mpath\u001b[38;5;241m.\u001b[39mjoin(plotdir, name)\n",
      "File \u001b[0;32m~/anaconda3/envs/tobac/lib/python3.10/site-packages/tobac/plotting.py:1224\u001b[0m, in \u001b[0;36mplot_mask_cell_individual_static\u001b[0;34m(cell_i, track, cog, features, mask_total, field_contour, field_filled, axes, xlim, ylim, label_field_contour, cmap_field_contour, norm_field_contour, linewidths_contour, contour_labels, vmin_field_contour, vmax_field_contour, levels_field_contour, nlevels_field_contour, label_field_filled, cmap_field_filled, norm_field_filled, vmin_field_filled, vmax_field_filled, levels_field_filled, nlevels_field_filled, title, feature_number)\u001b[0m\n\u001b[1;32m   1220\u001b[0m         mask_total_i_surface \u001b[38;5;241m=\u001b[39m mask_features_surface(\n\u001b[1;32m   1221\u001b[0m             mask_total, feature, masked\u001b[38;5;241m=\u001b[39m\u001b[38;5;28;01mFalse\u001b[39;00m, z_coord\u001b[38;5;241m=\u001b[39mz_coord\n\u001b[1;32m   1222\u001b[0m         )\n\u001b[1;32m   1223\u001b[0m     \u001b[38;5;28;01melif\u001b[39;00m \u001b[38;5;28mlen\u001b[39m(mask_total\u001b[38;5;241m.\u001b[39mshape) \u001b[38;5;241m==\u001b[39m \u001b[38;5;241m2\u001b[39m:\n\u001b[0;32m-> 1224\u001b[0m         mask_total_i_surface \u001b[38;5;241m=\u001b[39m \u001b[43mmask_features\u001b[49m\u001b[43m(\u001b[49m\n\u001b[1;32m   1225\u001b[0m \u001b[43m            \u001b[49m\u001b[43mmask_total\u001b[49m\u001b[43m,\u001b[49m\u001b[43m \u001b[49m\u001b[43mfeature\u001b[49m\u001b[43m,\u001b[49m\u001b[43m \u001b[49m\u001b[43mmasked\u001b[49m\u001b[38;5;241;43m=\u001b[39;49m\u001b[38;5;28;43;01mFalse\u001b[39;49;00m\u001b[43m,\u001b[49m\u001b[43m \u001b[49m\u001b[43mz_coord\u001b[49m\u001b[38;5;241;43m=\u001b[39;49m\u001b[43mz_coord\u001b[49m\n\u001b[1;32m   1226\u001b[0m \u001b[43m        \u001b[49m\u001b[43m)\u001b[49m\n\u001b[1;32m   1227\u001b[0m     axes\u001b[38;5;241m.\u001b[39mcontour(\n\u001b[1;32m   1228\u001b[0m         mask_total_i_surface\u001b[38;5;241m.\u001b[39mcoord(\u001b[38;5;124m\"\u001b[39m\u001b[38;5;124mprojection_x_coordinate\u001b[39m\u001b[38;5;124m\"\u001b[39m)\u001b[38;5;241m.\u001b[39mpoints \u001b[38;5;241m/\u001b[39m \u001b[38;5;241m1000\u001b[39m,\n\u001b[1;32m   1229\u001b[0m         mask_total_i_surface\u001b[38;5;241m.\u001b[39mcoord(\u001b[38;5;124m\"\u001b[39m\u001b[38;5;124mprojection_y_coordinate\u001b[39m\u001b[38;5;124m\"\u001b[39m)\u001b[38;5;241m.\u001b[39mpoints \u001b[38;5;241m/\u001b[39m \u001b[38;5;241m1000\u001b[39m,\n\u001b[0;32m   (...)\u001b[0m\n\u001b[1;32m   1234\u001b[0m         linewidth\u001b[38;5;241m=\u001b[39m\u001b[38;5;241m1\u001b[39m,\n\u001b[1;32m   1235\u001b[0m     )\n\u001b[1;32m   1236\u001b[0m \u001b[38;5;28;01mif\u001b[39;00m cog \u001b[38;5;129;01mis\u001b[39;00m \u001b[38;5;129;01mnot\u001b[39;00m \u001b[38;5;28;01mNone\u001b[39;00m:\n",
      "\u001b[0;31mTypeError\u001b[0m: mask_features() got an unexpected keyword argument 'z_coord'"
     ]
    },
    {
     "data": {
      "image/png": "[encoded data removed]",
      "text/plain": [
       "<Figure size 566.929x283.465 with 2 Axes>"
      ]
     },
     "metadata": {
      "needs_background": "light"
     },
     "output_type": "display_data"
    }
   ],
   "source": [
    "tobac.plotting.plot_mask_cell_track_2D3Dstatic(1, track, track, features, mask, None, None)"
   ]
  },
  {
   "cell_type": "code",
   "execution_count": 80,
   "id": "3ace989f",
   "metadata": {},
   "outputs": [],
   "source": [
    "%%capture\n",
    "\n",
    "data = tobac.testing.make_sample_data_3D_3blobs()\n",
    "dxy, dt = tobac.utils.get_spacings(data)\n",
    "features = tobac.feature_detection.feature_detection_multithreshold(data[:, 0], dxy, threshold = 1)\n",
    "mask, features = tobac.segmentation.segmentation(features, data, dxy, threshold = 1)\n",
    "track = tobac.tracking.linking_trackpy(features, data, dt, dxy, v_max=100)"
   ]
  },
  {
   "cell_type": "code",
   "execution_count": 81,
   "id": "3bae5b5b",
   "metadata": {
    "scrolled": true
   },
   "outputs": [
    {
     "name": "stderr",
     "output_type": "stream",
     "text": [
      "/home/nils/anaconda3/envs/tobac/lib/python3.10/site-packages/tobac/plotting.py:1303: UserWarning: When using tobac plotting functions that render a figure, you may need to set the Matplotlib backend to 'agg' by `matplotlib.use('agg').\n",
      "  warnings.warn(\n",
      "/home/nils/anaconda3/envs/tobac/lib/python3.10/site-packages/tobac/utils.py:217: FutureWarning: Using a non-tuple sequence for multidimensional indexing is deprecated; use `arr[tuple(seq)]` instead of `arr[seq]`. In the future this will be interpreted as an array index, `arr[np.array(seq)]`, which will result either in an error or a different result.\n",
      "  mask_i_data[~isin(mask_i.core_data(), feature_ids)] = 0\n"
     ]
    },
    {
     "ename": "IndexError",
     "evalue": "too many indices for array: array is 3-dimensional, but 40 were indexed",
     "output_type": "error",
     "traceback": [
      "\u001b[0;31m---------------------------------------------------------------------------\u001b[0m",
      "\u001b[0;31mIndexError\u001b[0m                                Traceback (most recent call last)",
      "Input \u001b[0;32mIn [81]\u001b[0m, in \u001b[0;36m<cell line: 1>\u001b[0;34m()\u001b[0m\n\u001b[0;32m----> 1\u001b[0m \u001b[43mtobac\u001b[49m\u001b[38;5;241;43m.\u001b[39;49m\u001b[43mplotting\u001b[49m\u001b[38;5;241;43m.\u001b[39;49m\u001b[43mplot_mask_cell_track_2D3Dstatic\u001b[49m\u001b[43m(\u001b[49m\u001b[38;5;241;43m1\u001b[39;49m\u001b[43m,\u001b[49m\u001b[43m \u001b[49m\u001b[43mtrack\u001b[49m\u001b[43m,\u001b[49m\u001b[43m \u001b[49m\u001b[43mtrack\u001b[49m\u001b[43m,\u001b[49m\u001b[43m \u001b[49m\u001b[43mfeatures\u001b[49m\u001b[43m,\u001b[49m\u001b[43m \u001b[49m\u001b[43mmask\u001b[49m\u001b[43m,\u001b[49m\u001b[43m \u001b[49m\u001b[38;5;28;43;01mNone\u001b[39;49;00m\u001b[43m,\u001b[49m\u001b[43m \u001b[49m\u001b[38;5;28;43;01mNone\u001b[39;49;00m\u001b[43m)\u001b[49m\n",
      "File \u001b[0;32m~/anaconda3/envs/tobac/lib/python3.10/site-packages/tobac/plotting.py:1408\u001b[0m, in \u001b[0;36mplot_mask_cell_track_2D3Dstatic\u001b[0;34m(cell, track, cog, features, mask_total, field_contour, field_filled, width, n_extend, name, plotdir, file_format, figsize, dpi, ele, azim, **kwargs)\u001b[0m\n\u001b[1;32m   1405\u001b[0m title \u001b[38;5;241m=\u001b[39m datestring_stamp \u001b[38;5;241m+\u001b[39m \u001b[38;5;124m\"\u001b[39m\u001b[38;5;124m , \u001b[39m\u001b[38;5;124m\"\u001b[39m \u001b[38;5;241m+\u001b[39m celltime_stamp\n\u001b[1;32m   1406\u001b[0m datestring_file \u001b[38;5;241m=\u001b[39m time_i\u001b[38;5;241m.\u001b[39mstrftime(\u001b[38;5;124m\"\u001b[39m\u001b[38;5;124m%\u001b[39m\u001b[38;5;124mY-\u001b[39m\u001b[38;5;124m%\u001b[39m\u001b[38;5;124mm-\u001b[39m\u001b[38;5;132;01m%d\u001b[39;00m\u001b[38;5;124m_\u001b[39m\u001b[38;5;124m%\u001b[39m\u001b[38;5;124mH\u001b[39m\u001b[38;5;124m%\u001b[39m\u001b[38;5;124mM\u001b[39m\u001b[38;5;124m%\u001b[39m\u001b[38;5;124mS\u001b[39m\u001b[38;5;124m\"\u001b[39m)\n\u001b[0;32m-> 1408\u001b[0m ax1[\u001b[38;5;241m0\u001b[39m] \u001b[38;5;241m=\u001b[39m \u001b[43mplot_mask_cell_individual_static\u001b[49m\u001b[43m(\u001b[49m\n\u001b[1;32m   1409\u001b[0m \u001b[43m    \u001b[49m\u001b[43mcell_i\u001b[49m\u001b[38;5;241;43m=\u001b[39;49m\u001b[43mcell\u001b[49m\u001b[43m,\u001b[49m\n\u001b[1;32m   1410\u001b[0m \u001b[43m    \u001b[49m\u001b[43mtrack\u001b[49m\u001b[38;5;241;43m=\u001b[39;49m\u001b[43mtrack_i\u001b[49m\u001b[43m,\u001b[49m\n\u001b[1;32m   1411\u001b[0m \u001b[43m    \u001b[49m\u001b[43mcog\u001b[49m\u001b[38;5;241;43m=\u001b[39;49m\u001b[43mcog_i\u001b[49m\u001b[43m,\u001b[49m\n\u001b[1;32m   1412\u001b[0m \u001b[43m    \u001b[49m\u001b[43mfeatures\u001b[49m\u001b[38;5;241;43m=\u001b[39;49m\u001b[43mfeatures_i\u001b[49m\u001b[43m,\u001b[49m\n\u001b[1;32m   1413\u001b[0m \u001b[43m    \u001b[49m\u001b[43mmask_total\u001b[49m\u001b[38;5;241;43m=\u001b[39;49m\u001b[43mmask_total_i\u001b[49m\u001b[43m,\u001b[49m\n\u001b[1;32m   1414\u001b[0m \u001b[43m    \u001b[49m\u001b[43mfield_contour\u001b[49m\u001b[38;5;241;43m=\u001b[39;49m\u001b[43mfield_contour_i\u001b[49m\u001b[43m,\u001b[49m\n\u001b[1;32m   1415\u001b[0m \u001b[43m    \u001b[49m\u001b[43mfield_filled\u001b[49m\u001b[38;5;241;43m=\u001b[39;49m\u001b[43mfield_filled_i\u001b[49m\u001b[43m,\u001b[49m\n\u001b[1;32m   1416\u001b[0m \u001b[43m    \u001b[49m\u001b[43mxlim\u001b[49m\u001b[38;5;241;43m=\u001b[39;49m\u001b[43m[\u001b[49m\u001b[43mx_min\u001b[49m\u001b[43m \u001b[49m\u001b[38;5;241;43m/\u001b[39;49m\u001b[43m \u001b[49m\u001b[38;5;241;43m1000\u001b[39;49m\u001b[43m,\u001b[49m\u001b[43m \u001b[49m\u001b[43mx_max\u001b[49m\u001b[43m \u001b[49m\u001b[38;5;241;43m/\u001b[39;49m\u001b[43m \u001b[49m\u001b[38;5;241;43m1000\u001b[39;49m\u001b[43m]\u001b[49m\u001b[43m,\u001b[49m\n\u001b[1;32m   1417\u001b[0m \u001b[43m    \u001b[49m\u001b[43mylim\u001b[49m\u001b[38;5;241;43m=\u001b[39;49m\u001b[43m[\u001b[49m\u001b[43my_min\u001b[49m\u001b[43m \u001b[49m\u001b[38;5;241;43m/\u001b[39;49m\u001b[43m \u001b[49m\u001b[38;5;241;43m1000\u001b[39;49m\u001b[43m,\u001b[49m\u001b[43m \u001b[49m\u001b[43my_max\u001b[49m\u001b[43m \u001b[49m\u001b[38;5;241;43m/\u001b[39;49m\u001b[43m \u001b[49m\u001b[38;5;241;43m1000\u001b[39;49m\u001b[43m]\u001b[49m\u001b[43m,\u001b[49m\n\u001b[1;32m   1418\u001b[0m \u001b[43m    \u001b[49m\u001b[43maxes\u001b[49m\u001b[38;5;241;43m=\u001b[39;49m\u001b[43max1\u001b[49m\u001b[43m[\u001b[49m\u001b[38;5;241;43m0\u001b[39;49m\u001b[43m]\u001b[49m\u001b[43m,\u001b[49m\n\u001b[1;32m   1419\u001b[0m \u001b[43m    \u001b[49m\u001b[43mtitle\u001b[49m\u001b[38;5;241;43m=\u001b[39;49m\u001b[43mtitle\u001b[49m\u001b[43m,\u001b[49m\n\u001b[1;32m   1420\u001b[0m \u001b[43m    \u001b[49m\u001b[38;5;241;43m*\u001b[39;49m\u001b[38;5;241;43m*\u001b[39;49m\u001b[43mkwargs\u001b[49m\n\u001b[1;32m   1421\u001b[0m \u001b[43m\u001b[49m\u001b[43m)\u001b[49m\n\u001b[1;32m   1423\u001b[0m ax1[\u001b[38;5;241m1\u001b[39m] \u001b[38;5;241m=\u001b[39m plot_mask_cell_individual_3Dstatic(\n\u001b[1;32m   1424\u001b[0m     cell_i\u001b[38;5;241m=\u001b[39mcell,\n\u001b[1;32m   1425\u001b[0m     track\u001b[38;5;241m=\u001b[39mtrack_i,\n\u001b[0;32m   (...)\u001b[0m\n\u001b[1;32m   1437\u001b[0m     \u001b[38;5;241m*\u001b[39m\u001b[38;5;241m*\u001b[39mkwargs\n\u001b[1;32m   1438\u001b[0m )\n\u001b[1;32m   1440\u001b[0m out_dir \u001b[38;5;241m=\u001b[39m os\u001b[38;5;241m.\u001b[39mpath\u001b[38;5;241m.\u001b[39mjoin(plotdir, name)\n",
      "File \u001b[0;32m~/anaconda3/envs/tobac/lib/python3.10/site-packages/tobac/plotting.py:1220\u001b[0m, in \u001b[0;36mplot_mask_cell_individual_static\u001b[0;34m(cell_i, track, cog, features, mask_total, field_contour, field_filled, axes, xlim, ylim, label_field_contour, cmap_field_contour, norm_field_contour, linewidths_contour, contour_labels, vmin_field_contour, vmax_field_contour, levels_field_contour, nlevels_field_contour, label_field_filled, cmap_field_filled, norm_field_filled, vmin_field_filled, vmax_field_filled, levels_field_filled, nlevels_field_filled, title, feature_number)\u001b[0m\n\u001b[1;32m   1218\u001b[0m z_coord \u001b[38;5;241m=\u001b[39m \u001b[38;5;124m\"\u001b[39m\u001b[38;5;124mmodel_level_number\u001b[39m\u001b[38;5;124m\"\u001b[39m\n\u001b[1;32m   1219\u001b[0m \u001b[38;5;28;01mif\u001b[39;00m \u001b[38;5;28mlen\u001b[39m(mask_total\u001b[38;5;241m.\u001b[39mshape) \u001b[38;5;241m==\u001b[39m \u001b[38;5;241m3\u001b[39m:\n\u001b[0;32m-> 1220\u001b[0m     mask_total_i_surface \u001b[38;5;241m=\u001b[39m \u001b[43mmask_features_surface\u001b[49m\u001b[43m(\u001b[49m\n\u001b[1;32m   1221\u001b[0m \u001b[43m        \u001b[49m\u001b[43mmask_total\u001b[49m\u001b[43m,\u001b[49m\u001b[43m \u001b[49m\u001b[43mfeature\u001b[49m\u001b[43m,\u001b[49m\u001b[43m \u001b[49m\u001b[43mmasked\u001b[49m\u001b[38;5;241;43m=\u001b[39;49m\u001b[38;5;28;43;01mFalse\u001b[39;49;00m\u001b[43m,\u001b[49m\u001b[43m \u001b[49m\u001b[43mz_coord\u001b[49m\u001b[38;5;241;43m=\u001b[39;49m\u001b[43mz_coord\u001b[49m\n\u001b[1;32m   1222\u001b[0m \u001b[43m    \u001b[49m\u001b[43m)\u001b[49m\n\u001b[1;32m   1223\u001b[0m \u001b[38;5;28;01melif\u001b[39;00m \u001b[38;5;28mlen\u001b[39m(mask_total\u001b[38;5;241m.\u001b[39mshape) \u001b[38;5;241m==\u001b[39m \u001b[38;5;241m2\u001b[39m:\n\u001b[1;32m   1224\u001b[0m     mask_total_i_surface \u001b[38;5;241m=\u001b[39m mask_features(\n\u001b[1;32m   1225\u001b[0m         mask_total, feature, masked\u001b[38;5;241m=\u001b[39m\u001b[38;5;28;01mFalse\u001b[39;00m, z_coord\u001b[38;5;241m=\u001b[39mz_coord\n\u001b[1;32m   1226\u001b[0m     )\n",
      "File \u001b[0;32m~/anaconda3/envs/tobac/lib/python3.10/site-packages/tobac/utils.py:217\u001b[0m, in \u001b[0;36mmask_features_surface\u001b[0;34m(mask, feature_ids, masked, z_coord)\u001b[0m\n\u001b[1;32m    215\u001b[0m \u001b[38;5;66;03m#     mask_i.data=[~isin(mask_i.data,feature_ids)]=0\u001b[39;00m\n\u001b[1;32m    216\u001b[0m mask_i_data \u001b[38;5;241m=\u001b[39m mask_i\u001b[38;5;241m.\u001b[39mcore_data()\n\u001b[0;32m--> 217\u001b[0m mask_i_data[\u001b[38;5;241m~\u001b[39misin(mask_i\u001b[38;5;241m.\u001b[39mcore_data(), feature_ids)] \u001b[38;5;241m=\u001b[39m \u001b[38;5;241m0\u001b[39m\n\u001b[1;32m    218\u001b[0m mask_i_surface \u001b[38;5;241m=\u001b[39m mask_i\u001b[38;5;241m.\u001b[39mcollapsed(z_coord, MAX)\n\u001b[1;32m    219\u001b[0m \u001b[38;5;28;01mif\u001b[39;00m masked:\n",
      "\u001b[0;31mIndexError\u001b[0m: too many indices for array: array is 3-dimensional, but 40 were indexed"
     ]
    },
    {
     "data": {
      "image/png": "[encoded data removed]",
      "text/plain": [
       "<Figure size 566.929x283.465 with 2 Axes>"
      ]
     },
     "metadata": {
      "needs_background": "light"
     },
     "output_type": "display_data"
    }
   ],
   "source": [
    "tobac.plotting.plot_mask_cell_track_2D3Dstatic(1, track, track, features, mask, None, None)"
   ]
  },
  {
   "cell_type": "markdown",
   "id": "d387403f",
   "metadata": {},
   "source": [
    "## plot_mask_cell_track_3Dstatic"
   ]
  },
  {
   "cell_type": "code",
   "execution_count": 85,
   "id": "c3eaea75",
   "metadata": {},
   "outputs": [],
   "source": [
    "%%capture\n",
    "\n",
    "data = tobac.testing.make_sample_data_3D_3blobs()\n",
    "dxy, dt = tobac.utils.get_spacings(data)\n",
    "features = tobac.feature_detection.feature_detection_multithreshold(data[:, 0], dxy, threshold = 1)\n",
    "mask, features = tobac.segmentation.segmentation(features, data, dxy, threshold = 1)\n",
    "track = tobac.tracking.linking_trackpy(features, data, dt, dxy, v_max=100)"
   ]
  },
  {
   "cell_type": "code",
   "execution_count": 86,
   "id": "0d1a962e",
   "metadata": {},
   "outputs": [
    {
     "name": "stderr",
     "output_type": "stream",
     "text": [
      "/home/nils/anaconda3/envs/tobac/lib/python3.10/site-packages/tobac/plotting.py:1477: UserWarning: When using tobac plotting functions that render a figure, you may need to set the Matplotlib backend to 'agg' by `matplotlib.use('agg').\n",
      "  warnings.warn(\n"
     ]
    },
    {
     "ename": "CoordinateNotFoundError",
     "evalue": "\"Expected to find exactly 1 'model_level_number' coordinate, but found none.\"",
     "output_type": "error",
     "traceback": [
      "\u001b[0;31m---------------------------------------------------------------------------\u001b[0m",
      "\u001b[0;31mCoordinateNotFoundError\u001b[0m                   Traceback (most recent call last)",
      "Input \u001b[0;32mIn [86]\u001b[0m, in \u001b[0;36m<cell line: 1>\u001b[0;34m()\u001b[0m\n\u001b[0;32m----> 1\u001b[0m \u001b[43mtobac\u001b[49m\u001b[38;5;241;43m.\u001b[39;49m\u001b[43mplotting\u001b[49m\u001b[38;5;241;43m.\u001b[39;49m\u001b[43mplot_mask_cell_track_3Dstatic\u001b[49m\u001b[43m(\u001b[49m\u001b[38;5;241;43m1\u001b[39;49m\u001b[43m,\u001b[49m\u001b[43m \u001b[49m\u001b[43mtrack\u001b[49m\u001b[43m,\u001b[49m\u001b[43m \u001b[49m\u001b[38;5;28;43;01mNone\u001b[39;49;00m\u001b[43m,\u001b[49m\u001b[43m \u001b[49m\u001b[43mfeatures\u001b[49m\u001b[43m,\u001b[49m\u001b[43m \u001b[49m\u001b[43mmask\u001b[49m\u001b[43m,\u001b[49m\u001b[43m \u001b[49m\u001b[38;5;28;43;01mNone\u001b[39;49;00m\u001b[43m,\u001b[49m\u001b[43m \u001b[49m\u001b[38;5;28;43;01mNone\u001b[39;49;00m\u001b[43m)\u001b[49m\n",
      "File \u001b[0;32m~/anaconda3/envs/tobac/lib/python3.10/site-packages/tobac/plotting.py:1578\u001b[0m, in \u001b[0;36mplot_mask_cell_track_3Dstatic\u001b[0;34m(cell, track, cog, features, mask_total, field_contour, field_filled, width, n_extend, name, plotdir, file_format, figsize, dpi, **kwargs)\u001b[0m\n\u001b[1;32m   1575\u001b[0m title \u001b[38;5;241m=\u001b[39m datestring_stamp \u001b[38;5;241m+\u001b[39m \u001b[38;5;124m\"\u001b[39m\u001b[38;5;124m , \u001b[39m\u001b[38;5;124m\"\u001b[39m \u001b[38;5;241m+\u001b[39m celltime_stamp\n\u001b[1;32m   1576\u001b[0m datestring_file \u001b[38;5;241m=\u001b[39m time_i\u001b[38;5;241m.\u001b[39mstrftime(\u001b[38;5;124m\"\u001b[39m\u001b[38;5;124m%\u001b[39m\u001b[38;5;124mY-\u001b[39m\u001b[38;5;124m%\u001b[39m\u001b[38;5;124mm-\u001b[39m\u001b[38;5;132;01m%d\u001b[39;00m\u001b[38;5;124m_\u001b[39m\u001b[38;5;124m%\u001b[39m\u001b[38;5;124mH\u001b[39m\u001b[38;5;124m%\u001b[39m\u001b[38;5;124mM\u001b[39m\u001b[38;5;124m%\u001b[39m\u001b[38;5;124mS\u001b[39m\u001b[38;5;124m\"\u001b[39m)\n\u001b[0;32m-> 1578\u001b[0m ax1 \u001b[38;5;241m=\u001b[39m \u001b[43mplot_mask_cell_individual_3Dstatic\u001b[49m\u001b[43m(\u001b[49m\n\u001b[1;32m   1579\u001b[0m \u001b[43m    \u001b[49m\u001b[43mcell_i\u001b[49m\u001b[38;5;241;43m=\u001b[39;49m\u001b[43mcell\u001b[49m\u001b[43m,\u001b[49m\n\u001b[1;32m   1580\u001b[0m \u001b[43m    \u001b[49m\u001b[43mtrack\u001b[49m\u001b[38;5;241;43m=\u001b[39;49m\u001b[43mtrack_i\u001b[49m\u001b[43m,\u001b[49m\n\u001b[1;32m   1581\u001b[0m \u001b[43m    \u001b[49m\u001b[43mcog\u001b[49m\u001b[38;5;241;43m=\u001b[39;49m\u001b[43mcog_i\u001b[49m\u001b[43m,\u001b[49m\n\u001b[1;32m   1582\u001b[0m \u001b[43m    \u001b[49m\u001b[43mfeatures\u001b[49m\u001b[38;5;241;43m=\u001b[39;49m\u001b[43mfeatures_i\u001b[49m\u001b[43m,\u001b[49m\n\u001b[1;32m   1583\u001b[0m \u001b[43m    \u001b[49m\u001b[43mmask_total\u001b[49m\u001b[38;5;241;43m=\u001b[39;49m\u001b[43mmask_total_i\u001b[49m\u001b[43m,\u001b[49m\n\u001b[1;32m   1584\u001b[0m \u001b[43m    \u001b[49m\u001b[43mfield_contour\u001b[49m\u001b[38;5;241;43m=\u001b[39;49m\u001b[43mfield_contour_i\u001b[49m\u001b[43m,\u001b[49m\n\u001b[1;32m   1585\u001b[0m \u001b[43m    \u001b[49m\u001b[43mfield_filled\u001b[49m\u001b[38;5;241;43m=\u001b[39;49m\u001b[43mfield_filled_i\u001b[49m\u001b[43m,\u001b[49m\n\u001b[1;32m   1586\u001b[0m \u001b[43m    \u001b[49m\u001b[43mxlim\u001b[49m\u001b[38;5;241;43m=\u001b[39;49m\u001b[43m[\u001b[49m\u001b[43mx_min\u001b[49m\u001b[43m \u001b[49m\u001b[38;5;241;43m/\u001b[39;49m\u001b[43m \u001b[49m\u001b[38;5;241;43m1000\u001b[39;49m\u001b[43m,\u001b[49m\u001b[43m \u001b[49m\u001b[43mx_max\u001b[49m\u001b[43m \u001b[49m\u001b[38;5;241;43m/\u001b[39;49m\u001b[43m \u001b[49m\u001b[38;5;241;43m1000\u001b[39;49m\u001b[43m]\u001b[49m\u001b[43m,\u001b[49m\n\u001b[1;32m   1587\u001b[0m \u001b[43m    \u001b[49m\u001b[43mylim\u001b[49m\u001b[38;5;241;43m=\u001b[39;49m\u001b[43m[\u001b[49m\u001b[43my_min\u001b[49m\u001b[43m \u001b[49m\u001b[38;5;241;43m/\u001b[39;49m\u001b[43m \u001b[49m\u001b[38;5;241;43m1000\u001b[39;49m\u001b[43m,\u001b[49m\u001b[43m \u001b[49m\u001b[43my_max\u001b[49m\u001b[43m \u001b[49m\u001b[38;5;241;43m/\u001b[39;49m\u001b[43m \u001b[49m\u001b[38;5;241;43m1000\u001b[39;49m\u001b[43m]\u001b[49m\u001b[43m,\u001b[49m\n\u001b[1;32m   1588\u001b[0m \u001b[43m    \u001b[49m\u001b[43maxes\u001b[49m\u001b[38;5;241;43m=\u001b[39;49m\u001b[43max1\u001b[49m\u001b[43m,\u001b[49m\n\u001b[1;32m   1589\u001b[0m \u001b[43m    \u001b[49m\u001b[43mtitle\u001b[49m\u001b[38;5;241;43m=\u001b[39;49m\u001b[43mtitle\u001b[49m\u001b[43m,\u001b[49m\n\u001b[1;32m   1590\u001b[0m \u001b[43m    \u001b[49m\u001b[38;5;241;43m*\u001b[39;49m\u001b[38;5;241;43m*\u001b[39;49m\u001b[43mkwargs\u001b[49m\n\u001b[1;32m   1591\u001b[0m \u001b[43m\u001b[49m\u001b[43m)\u001b[49m\n\u001b[1;32m   1593\u001b[0m out_dir \u001b[38;5;241m=\u001b[39m os\u001b[38;5;241m.\u001b[39mpath\u001b[38;5;241m.\u001b[39mjoin(plotdir, name)\n\u001b[1;32m   1594\u001b[0m os\u001b[38;5;241m.\u001b[39mmakedirs(out_dir, exist_ok\u001b[38;5;241m=\u001b[39m\u001b[38;5;28;01mTrue\u001b[39;00m)\n",
      "File \u001b[0;32m~/anaconda3/envs/tobac/lib/python3.10/site-packages/tobac/plotting.py:1671\u001b[0m, in \u001b[0;36mplot_mask_cell_individual_3Dstatic\u001b[0;34m(cell_i, track, cog, features, mask_total, field_contour, field_filled, axes, xlim, ylim, label_field_contour, cmap_field_contour, norm_field_contour, linewidths_contour, contour_labels, vmin_field_contour, vmax_field_contour, levels_field_contour, nlevels_field_contour, label_field_filled, cmap_field_filled, norm_field_filled, vmin_field_filled, vmax_field_filled, levels_field_filled, nlevels_field_filled, title, feature_number, ele, azim)\u001b[0m\n\u001b[1;32m   1669\u001b[0m x \u001b[38;5;241m=\u001b[39m mask_total\u001b[38;5;241m.\u001b[39mcoord(\u001b[38;5;124m\"\u001b[39m\u001b[38;5;124mprojection_x_coordinate\u001b[39m\u001b[38;5;124m\"\u001b[39m)\u001b[38;5;241m.\u001b[39mpoints\n\u001b[1;32m   1670\u001b[0m y \u001b[38;5;241m=\u001b[39m mask_total\u001b[38;5;241m.\u001b[39mcoord(\u001b[38;5;124m\"\u001b[39m\u001b[38;5;124mprojection_y_coordinate\u001b[39m\u001b[38;5;124m\"\u001b[39m)\u001b[38;5;241m.\u001b[39mpoints\n\u001b[0;32m-> 1671\u001b[0m z \u001b[38;5;241m=\u001b[39m \u001b[43mmask_total\u001b[49m\u001b[38;5;241;43m.\u001b[39;49m\u001b[43mcoord\u001b[49m\u001b[43m(\u001b[49m\u001b[38;5;124;43m\"\u001b[39;49m\u001b[38;5;124;43mmodel_level_number\u001b[39;49m\u001b[38;5;124;43m\"\u001b[39;49m\u001b[43m)\u001b[49m\u001b[38;5;241m.\u001b[39mpoints\n\u001b[1;32m   1673\u001b[0m \u001b[38;5;66;03m#    z = mask_total.coord('geopotential_height').points\u001b[39;00m\n\u001b[1;32m   1674\u001b[0m zz, yy, xx \u001b[38;5;241m=\u001b[39m np\u001b[38;5;241m.\u001b[39mmeshgrid(z, y, x, indexing\u001b[38;5;241m=\u001b[39m\u001b[38;5;124m\"\u001b[39m\u001b[38;5;124mij\u001b[39m\u001b[38;5;124m\"\u001b[39m)\n",
      "File \u001b[0;32m~/anaconda3/envs/tobac/lib/python3.10/site-packages/iris/cube.py:1919\u001b[0m, in \u001b[0;36mCube.coord\u001b[0;34m(self, name_or_coord, standard_name, long_name, var_name, attributes, axis, contains_dimension, dimensions, coord_system, dim_coords, mesh_coords)\u001b[0m\n\u001b[1;32m   1914\u001b[0m     bad_name \u001b[38;5;241m=\u001b[39m _name \u001b[38;5;129;01mor\u001b[39;00m standard_name \u001b[38;5;129;01mor\u001b[39;00m long_name \u001b[38;5;129;01mor\u001b[39;00m \u001b[38;5;124m\"\u001b[39m\u001b[38;5;124m\"\u001b[39m\n\u001b[1;32m   1915\u001b[0m     emsg \u001b[38;5;241m=\u001b[39m (\n\u001b[1;32m   1916\u001b[0m         \u001b[38;5;124mf\u001b[39m\u001b[38;5;124m\"\u001b[39m\u001b[38;5;124mExpected to find exactly 1 \u001b[39m\u001b[38;5;132;01m{\u001b[39;00mbad_name\u001b[38;5;132;01m!r}\u001b[39;00m\u001b[38;5;124m coordinate, \u001b[39m\u001b[38;5;124m\"\u001b[39m\n\u001b[1;32m   1917\u001b[0m         \u001b[38;5;124m\"\u001b[39m\u001b[38;5;124mbut found none.\u001b[39m\u001b[38;5;124m\"\u001b[39m\n\u001b[1;32m   1918\u001b[0m     )\n\u001b[0;32m-> 1919\u001b[0m     \u001b[38;5;28;01mraise\u001b[39;00m iris\u001b[38;5;241m.\u001b[39mexceptions\u001b[38;5;241m.\u001b[39mCoordinateNotFoundError(emsg)\n\u001b[1;32m   1921\u001b[0m \u001b[38;5;28;01mreturn\u001b[39;00m coords[\u001b[38;5;241m0\u001b[39m]\n",
      "\u001b[0;31mCoordinateNotFoundError\u001b[0m: \"Expected to find exactly 1 'model_level_number' coordinate, but found none.\""
     ]
    },
    {
     "data": {
      "image/png": "[encoded data removed]",
      "text/plain": [
       "<Figure size 283.465x283.465 with 1 Axes>"
      ]
     },
     "metadata": {
      "needs_background": "light"
     },
     "output_type": "display_data"
    }
   ],
   "source": [
    "tobac.plotting.plot_mask_cell_track_3Dstatic(1, track, None, features, mask, None, None)"
   ]
  },
  {
   "cell_type": "code",
   "execution_count": 87,
   "id": "488b2028",
   "metadata": {},
   "outputs": [
    {
     "data": {
      "text/html": [
       "\n",
       "<style>\n",
       "  a.iris {\n",
       "      text-decoration: none !important;\n",
       "  }\n",
       "  table.iris {\n",
       "      white-space: pre;\n",
       "      border: 1px solid;\n",
       "      border-color: #9c9c9c;\n",
       "      font-family: monaco, monospace;\n",
       "  }\n",
       "  th.iris {\n",
       "      background: #303f3f;\n",
       "      color: #e0e0e0;\n",
       "      border-left: 1px solid;\n",
       "      border-color: #9c9c9c;\n",
       "      font-size: 1.05em;\n",
       "      min-width: 50px;\n",
       "      max-width: 125px;\n",
       "  }\n",
       "  tr.iris :first-child {\n",
       "      border-right: 1px solid #9c9c9c !important;\n",
       "  }\n",
       "  td.iris-title {\n",
       "      background: #d5dcdf;\n",
       "      border-top: 1px solid #9c9c9c;\n",
       "      font-weight: bold;\n",
       "  }\n",
       "  .iris-word-cell {\n",
       "      text-align: left !important;\n",
       "      white-space: pre;\n",
       "  }\n",
       "  .iris-subheading-cell {\n",
       "      padding-left: 2em !important;\n",
       "  }\n",
       "  .iris-inclusion-cell {\n",
       "      padding-right: 1em !important;\n",
       "  }\n",
       "  .iris-panel-body {\n",
       "      padding-top: 0px;\n",
       "  }\n",
       "  .iris-panel-title {\n",
       "      padding-left: 3em;\n",
       "  }\n",
       "  .iris-panel-title {\n",
       "      margin-top: 7px;\n",
       "  }\n",
       "</style>\n",
       "<table class=\"iris\" id=\"140010243493216\">\n",
       "    <tr class=\"iris\">\n",
       "<th class=\"iris iris-word-cell\">Segmentation Mask (1)</th>\n",
       "<th class=\"iris iris-word-cell\">time</th>\n",
       "<th class=\"iris iris-word-cell\">geopotential_height</th>\n",
       "<th class=\"iris iris-word-cell\">projection_y_coordinate</th>\n",
       "<th class=\"iris iris-word-cell\">projection_x_coordinate</th>\n",
       "</tr>\n",
       "    <tr class=\"iris\">\n",
       "<td class=\"iris-word-cell iris-subheading-cell\">Shape</td>\n",
       "<td class=\"iris iris-inclusion-cell\">25</td>\n",
       "<td class=\"iris iris-inclusion-cell\">20</td>\n",
       "<td class=\"iris iris-inclusion-cell\">200</td>\n",
       "<td class=\"iris iris-inclusion-cell\">100</td>\n",
       "</tr>\n",
       "    <tr class=\"iris\">\n",
       "    <td class=\"iris-title iris-word-cell\">Dimension coordinates</td>\n",
       "    <td class=\"iris-title\"></td>\n",
       "    <td class=\"iris-title\"></td>\n",
       "    <td class=\"iris-title\"></td>\n",
       "    <td class=\"iris-title\"></td>\n",
       "</tr>\n",
       "<tr class=\"iris\">\n",
       "    <td class=\"iris-word-cell iris-subheading-cell\">\ttime</td>\n",
       "    <td class=\"iris-inclusion-cell\">x</td>\n",
       "    <td class=\"iris-inclusion-cell\">-</td>\n",
       "    <td class=\"iris-inclusion-cell\">-</td>\n",
       "    <td class=\"iris-inclusion-cell\">-</td>\n",
       "</tr>\n",
       "<tr class=\"iris\">\n",
       "    <td class=\"iris-word-cell iris-subheading-cell\">\tgeopotential_height</td>\n",
       "    <td class=\"iris-inclusion-cell\">-</td>\n",
       "    <td class=\"iris-inclusion-cell\">x</td>\n",
       "    <td class=\"iris-inclusion-cell\">-</td>\n",
       "    <td class=\"iris-inclusion-cell\">-</td>\n",
       "</tr>\n",
       "<tr class=\"iris\">\n",
       "    <td class=\"iris-word-cell iris-subheading-cell\">\tprojection_y_coordinate</td>\n",
       "    <td class=\"iris-inclusion-cell\">-</td>\n",
       "    <td class=\"iris-inclusion-cell\">-</td>\n",
       "    <td class=\"iris-inclusion-cell\">x</td>\n",
       "    <td class=\"iris-inclusion-cell\">-</td>\n",
       "</tr>\n",
       "<tr class=\"iris\">\n",
       "    <td class=\"iris-word-cell iris-subheading-cell\">\tprojection_x_coordinate</td>\n",
       "    <td class=\"iris-inclusion-cell\">-</td>\n",
       "    <td class=\"iris-inclusion-cell\">-</td>\n",
       "    <td class=\"iris-inclusion-cell\">-</td>\n",
       "    <td class=\"iris-inclusion-cell\">x</td>\n",
       "</tr>\n",
       "<tr class=\"iris\">\n",
       "    <td class=\"iris-title iris-word-cell\">Auxiliary coordinates</td>\n",
       "    <td class=\"iris-title\"></td>\n",
       "    <td class=\"iris-title\"></td>\n",
       "    <td class=\"iris-title\"></td>\n",
       "    <td class=\"iris-title\"></td>\n",
       "</tr>\n",
       "<tr class=\"iris\">\n",
       "    <td class=\"iris-word-cell iris-subheading-cell\">\tlatitude</td>\n",
       "    <td class=\"iris-inclusion-cell\">-</td>\n",
       "    <td class=\"iris-inclusion-cell\">-</td>\n",
       "    <td class=\"iris-inclusion-cell\">x</td>\n",
       "    <td class=\"iris-inclusion-cell\">x</td>\n",
       "</tr>\n",
       "<tr class=\"iris\">\n",
       "    <td class=\"iris-word-cell iris-subheading-cell\">\tlongitude</td>\n",
       "    <td class=\"iris-inclusion-cell\">-</td>\n",
       "    <td class=\"iris-inclusion-cell\">-</td>\n",
       "    <td class=\"iris-inclusion-cell\">x</td>\n",
       "    <td class=\"iris-inclusion-cell\">x</td>\n",
       "</tr>\n",
       "</table>\n",
       "        "
      ],
      "text/plain": [
       "<iris 'Cube' of segmentation_mask / (1) (time: 25; geopotential_height: 20; projection_y_coordinate: 200; projection_x_coordinate: 100)>"
      ]
     },
     "execution_count": 87,
     "metadata": {},
     "output_type": "execute_result"
    }
   ],
   "source": [
    "mask"
   ]
  },
  {
   "cell_type": "markdown",
   "id": "faea4260",
   "metadata": {},
   "source": [
    "## plot_mask_cell_individual_track_3Dstatic\n",
    "\n",
    "broken?\n",
    "\n"
   ]
  },
  {
   "cell_type": "code",
   "execution_count": 104,
   "id": "2f600659",
   "metadata": {},
   "outputs": [],
   "source": [
    "%%capture\n",
    "\n",
    "data = tobac.testing.make_sample_data_3D_3blobs()\n",
    "dxy, dt = tobac.utils.get_spacings(data)\n",
    "features = tobac.feature_detection.feature_detection_multithreshold(data[:, 0], dxy, threshold = 1)\n",
    "mask, features = tobac.segmentation.segmentation(features, data, dxy, threshold = 1)\n",
    "track = tobac.tracking.linking_trackpy(features, data, dt, dxy, v_max=100)"
   ]
  },
  {
   "cell_type": "code",
   "execution_count": 105,
   "id": "ef9c6577",
   "metadata": {},
   "outputs": [
    {
     "ename": "CoordinateNotFoundError",
     "evalue": "\"Expected to find exactly 1 'model_level_number' coordinate, but found none.\"",
     "output_type": "error",
     "traceback": [
      "\u001b[0;31m---------------------------------------------------------------------------\u001b[0m",
      "\u001b[0;31mCoordinateNotFoundError\u001b[0m                   Traceback (most recent call last)",
      "Input \u001b[0;32mIn [105]\u001b[0m, in \u001b[0;36m<cell line: 11>\u001b[0;34m()\u001b[0m\n\u001b[1;32m      7\u001b[0m fig \u001b[38;5;241m=\u001b[39m plt\u001b[38;5;241m.\u001b[39mfigure()\n\u001b[1;32m      8\u001b[0m ax \u001b[38;5;241m=\u001b[39m fig\u001b[38;5;241m.\u001b[39madd_subplot(\u001b[38;5;241m111\u001b[39m,\n\u001b[1;32m      9\u001b[0m                      projection\u001b[38;5;241m=\u001b[39m\u001b[38;5;124m'\u001b[39m\u001b[38;5;124m3d\u001b[39m\u001b[38;5;124m'\u001b[39m)\n\u001b[0;32m---> 11\u001b[0m \u001b[43mtobac\u001b[49m\u001b[38;5;241;43m.\u001b[39;49m\u001b[43mplotting\u001b[49m\u001b[38;5;241;43m.\u001b[39;49m\u001b[43mplot_mask_cell_individual_3Dstatic\u001b[49m\u001b[43m(\u001b[49m\u001b[38;5;241;43m1\u001b[39;49m\u001b[43m,\u001b[49m\u001b[43m \u001b[49m\u001b[43mtrack\u001b[49m\u001b[43m,\u001b[49m\u001b[43m \u001b[49m\u001b[38;5;28;43;01mNone\u001b[39;49;00m\u001b[43m,\u001b[49m\u001b[43m \u001b[49m\u001b[43mfeatures\u001b[49m\u001b[43m,\u001b[49m\u001b[43m \u001b[49m\u001b[43mmask\u001b[49m\u001b[43m,\u001b[49m\u001b[43m \u001b[49m\u001b[38;5;28;43;01mNone\u001b[39;49;00m\u001b[43m,\u001b[49m\u001b[43m \u001b[49m\u001b[38;5;28;43;01mNone\u001b[39;49;00m\u001b[43m,\u001b[49m\u001b[43m \u001b[49m\u001b[43maxes\u001b[49m\u001b[43m \u001b[49m\u001b[38;5;241;43m=\u001b[39;49m\u001b[43m \u001b[49m\u001b[43max\u001b[49m\u001b[43m)\u001b[49m\n",
      "File \u001b[0;32m~/anaconda3/envs/tobac/lib/python3.10/site-packages/tobac/plotting.py:1671\u001b[0m, in \u001b[0;36mplot_mask_cell_individual_3Dstatic\u001b[0;34m(cell_i, track, cog, features, mask_total, field_contour, field_filled, axes, xlim, ylim, label_field_contour, cmap_field_contour, norm_field_contour, linewidths_contour, contour_labels, vmin_field_contour, vmax_field_contour, levels_field_contour, nlevels_field_contour, label_field_filled, cmap_field_filled, norm_field_filled, vmin_field_filled, vmax_field_filled, levels_field_filled, nlevels_field_filled, title, feature_number, ele, azim)\u001b[0m\n\u001b[1;32m   1669\u001b[0m x \u001b[38;5;241m=\u001b[39m mask_total\u001b[38;5;241m.\u001b[39mcoord(\u001b[38;5;124m\"\u001b[39m\u001b[38;5;124mprojection_x_coordinate\u001b[39m\u001b[38;5;124m\"\u001b[39m)\u001b[38;5;241m.\u001b[39mpoints\n\u001b[1;32m   1670\u001b[0m y \u001b[38;5;241m=\u001b[39m mask_total\u001b[38;5;241m.\u001b[39mcoord(\u001b[38;5;124m\"\u001b[39m\u001b[38;5;124mprojection_y_coordinate\u001b[39m\u001b[38;5;124m\"\u001b[39m)\u001b[38;5;241m.\u001b[39mpoints\n\u001b[0;32m-> 1671\u001b[0m z \u001b[38;5;241m=\u001b[39m \u001b[43mmask_total\u001b[49m\u001b[38;5;241;43m.\u001b[39;49m\u001b[43mcoord\u001b[49m\u001b[43m(\u001b[49m\u001b[38;5;124;43m\"\u001b[39;49m\u001b[38;5;124;43mmodel_level_number\u001b[39;49m\u001b[38;5;124;43m\"\u001b[39;49m\u001b[43m)\u001b[49m\u001b[38;5;241m.\u001b[39mpoints\n\u001b[1;32m   1673\u001b[0m \u001b[38;5;66;03m#    z = mask_total.coord('geopotential_height').points\u001b[39;00m\n\u001b[1;32m   1674\u001b[0m zz, yy, xx \u001b[38;5;241m=\u001b[39m np\u001b[38;5;241m.\u001b[39mmeshgrid(z, y, x, indexing\u001b[38;5;241m=\u001b[39m\u001b[38;5;124m\"\u001b[39m\u001b[38;5;124mij\u001b[39m\u001b[38;5;124m\"\u001b[39m)\n",
      "File \u001b[0;32m~/anaconda3/envs/tobac/lib/python3.10/site-packages/iris/cube.py:1919\u001b[0m, in \u001b[0;36mCube.coord\u001b[0;34m(self, name_or_coord, standard_name, long_name, var_name, attributes, axis, contains_dimension, dimensions, coord_system, dim_coords, mesh_coords)\u001b[0m\n\u001b[1;32m   1914\u001b[0m     bad_name \u001b[38;5;241m=\u001b[39m _name \u001b[38;5;129;01mor\u001b[39;00m standard_name \u001b[38;5;129;01mor\u001b[39;00m long_name \u001b[38;5;129;01mor\u001b[39;00m \u001b[38;5;124m\"\u001b[39m\u001b[38;5;124m\"\u001b[39m\n\u001b[1;32m   1915\u001b[0m     emsg \u001b[38;5;241m=\u001b[39m (\n\u001b[1;32m   1916\u001b[0m         \u001b[38;5;124mf\u001b[39m\u001b[38;5;124m\"\u001b[39m\u001b[38;5;124mExpected to find exactly 1 \u001b[39m\u001b[38;5;132;01m{\u001b[39;00mbad_name\u001b[38;5;132;01m!r}\u001b[39;00m\u001b[38;5;124m coordinate, \u001b[39m\u001b[38;5;124m\"\u001b[39m\n\u001b[1;32m   1917\u001b[0m         \u001b[38;5;124m\"\u001b[39m\u001b[38;5;124mbut found none.\u001b[39m\u001b[38;5;124m\"\u001b[39m\n\u001b[1;32m   1918\u001b[0m     )\n\u001b[0;32m-> 1919\u001b[0m     \u001b[38;5;28;01mraise\u001b[39;00m iris\u001b[38;5;241m.\u001b[39mexceptions\u001b[38;5;241m.\u001b[39mCoordinateNotFoundError(emsg)\n\u001b[1;32m   1921\u001b[0m \u001b[38;5;28;01mreturn\u001b[39;00m coords[\u001b[38;5;241m0\u001b[39m]\n",
      "\u001b[0;31mCoordinateNotFoundError\u001b[0m: \"Expected to find exactly 1 'model_level_number' coordinate, but found none.\""
     ]
    },
    {
     "data": {
      "image/png": "[encoded data removed]",
      "text/plain": [
       "<Figure size 432x288 with 1 Axes>"
      ]
     },
     "metadata": {
      "needs_background": "light"
     },
     "output_type": "display_data"
    }
   ],
   "source": [
    "import cartopy\n",
    "import matplotlib.pyplot as plt\n",
    "from mpl_toolkits.mplot3d import axes3d\n",
    "\n",
    "n = 40\n",
    "%matplotlib inline\n",
    "fig = plt.figure()\n",
    "ax = fig.add_subplot(111,\n",
    "                     projection='3d')\n",
    "\n",
    "tobac.plotting.plot_mask_cell_individual_3Dstatic(1, track, None, features, mask, None, None, axes = ax)"
   ]
  },
  {
   "cell_type": "code",
   "execution_count": 107,
   "id": "a8597547",
   "metadata": {},
   "outputs": [
    {
     "ename": "IndexError",
     "evalue": "only integers, slices (`:`), ellipsis (`...`), numpy.newaxis (`None`) and integer or boolean arrays are valid indices",
     "output_type": "error",
     "traceback": [
      "\u001b[0;31m---------------------------------------------------------------------------\u001b[0m",
      "\u001b[0;31mIndexError\u001b[0m                                Traceback (most recent call last)",
      "Input \u001b[0;32mIn [107]\u001b[0m, in \u001b[0;36m<cell line: 1>\u001b[0;34m()\u001b[0m\n\u001b[0;32m----> 1\u001b[0m \u001b[43mmask\u001b[49m\u001b[43m[\u001b[49m\u001b[38;5;124;43m'\u001b[39;49m\u001b[38;5;124;43mgeopotential_height\u001b[39;49m\u001b[38;5;124;43m'\u001b[39;49m\u001b[43m]\u001b[49m\n",
      "File \u001b[0;32m~/anaconda3/envs/tobac/lib/python3.10/site-packages/iris/cube.py:2469\u001b[0m, in \u001b[0;36mCube.__getitem__\u001b[0;34m(self, keys)\u001b[0m\n\u001b[1;32m   2466\u001b[0m cube_data \u001b[38;5;241m=\u001b[39m \u001b[38;5;28mself\u001b[39m\u001b[38;5;241m.\u001b[39m_data_manager\u001b[38;5;241m.\u001b[39mcore_data()\n\u001b[1;32m   2468\u001b[0m \u001b[38;5;66;03m# Index with the keys, using orthogonal slicing.\u001b[39;00m\n\u001b[0;32m-> 2469\u001b[0m dimension_mapping, data \u001b[38;5;241m=\u001b[39m \u001b[43miris\u001b[49m\u001b[38;5;241;43m.\u001b[39;49m\u001b[43mutil\u001b[49m\u001b[38;5;241;43m.\u001b[39;49m\u001b[43m_slice_data_with_keys\u001b[49m\u001b[43m(\u001b[49m\n\u001b[1;32m   2470\u001b[0m \u001b[43m    \u001b[49m\u001b[43mcube_data\u001b[49m\u001b[43m,\u001b[49m\u001b[43m \u001b[49m\u001b[43mkeys\u001b[49m\n\u001b[1;32m   2471\u001b[0m \u001b[43m\u001b[49m\u001b[43m)\u001b[49m\n\u001b[1;32m   2473\u001b[0m \u001b[38;5;66;03m# We don't want a view of the data, so take a copy of it.\u001b[39;00m\n\u001b[1;32m   2474\u001b[0m data \u001b[38;5;241m=\u001b[39m deepcopy(data)\n",
      "File \u001b[0;32m~/anaconda3/envs/tobac/lib/python3.10/site-packages/iris/util.py:805\u001b[0m, in \u001b[0;36m_slice_data_with_keys\u001b[0;34m(data, keys)\u001b[0m\n\u001b[1;32m    803\u001b[0m dims_mapping, slices_iter \u001b[38;5;241m=\u001b[39m column_slices_generator(full_slice, n_dims)\n\u001b[1;32m    804\u001b[0m \u001b[38;5;28;01mfor\u001b[39;00m this_slice \u001b[38;5;129;01min\u001b[39;00m slices_iter:\n\u001b[0;32m--> 805\u001b[0m     data \u001b[38;5;241m=\u001b[39m \u001b[43mdata\u001b[49m\u001b[43m[\u001b[49m\u001b[43mthis_slice\u001b[49m\u001b[43m]\u001b[49m\n\u001b[1;32m    806\u001b[0m     \u001b[38;5;28;01mif\u001b[39;00m data\u001b[38;5;241m.\u001b[39mndim \u001b[38;5;241m>\u001b[39m \u001b[38;5;241m0\u001b[39m \u001b[38;5;129;01mand\u001b[39;00m \u001b[38;5;28mmin\u001b[39m(data\u001b[38;5;241m.\u001b[39mshape) \u001b[38;5;241m<\u001b[39m \u001b[38;5;241m1\u001b[39m:\n\u001b[1;32m    807\u001b[0m         \u001b[38;5;66;03m# Disallow slicings where a dimension has no points, like \"[5:5]\".\u001b[39;00m\n\u001b[1;32m    808\u001b[0m         \u001b[38;5;28;01mraise\u001b[39;00m \u001b[38;5;167;01mIndexError\u001b[39;00m(\u001b[38;5;124m\"\u001b[39m\u001b[38;5;124mCannot index with zero length slice.\u001b[39m\u001b[38;5;124m\"\u001b[39m)\n",
      "\u001b[0;31mIndexError\u001b[0m: only integers, slices (`:`), ellipsis (`...`), numpy.newaxis (`None`) and integer or boolean arrays are valid indices"
     ]
    }
   ],
   "source": [
    "mask['geopotential_height']"
   ]
  },
  {
   "cell_type": "code",
   "execution_count": 93,
   "id": "3943ce99",
   "metadata": {},
   "outputs": [
    {
     "ename": "CoordinateNotFoundError",
     "evalue": "\"Expected to find exactly 1 'model_level_number' coordinate, but found none.\"",
     "output_type": "error",
     "traceback": [
      "\u001b[0;31m---------------------------------------------------------------------------\u001b[0m",
      "\u001b[0;31mCoordinateNotFoundError\u001b[0m                   Traceback (most recent call last)",
      "Input \u001b[0;32mIn [93]\u001b[0m, in \u001b[0;36m<cell line: 1>\u001b[0;34m()\u001b[0m\n\u001b[0;32m----> 1\u001b[0m \u001b[43mtobac\u001b[49m\u001b[38;5;241;43m.\u001b[39;49m\u001b[43mplotting\u001b[49m\u001b[38;5;241;43m.\u001b[39;49m\u001b[43mplot_mask_cell_individual_3Dstatic\u001b[49m\u001b[43m(\u001b[49m\u001b[38;5;241;43m1\u001b[39;49m\u001b[43m,\u001b[49m\u001b[43m \u001b[49m\u001b[43mtrack\u001b[49m\u001b[43m,\u001b[49m\u001b[43m \u001b[49m\u001b[38;5;28;43;01mNone\u001b[39;49;00m\u001b[43m,\u001b[49m\u001b[43m \u001b[49m\u001b[43mfeatures\u001b[49m\u001b[43m,\u001b[49m\u001b[43m \u001b[49m\u001b[43mmask\u001b[49m\u001b[43m,\u001b[49m\u001b[43m \u001b[49m\u001b[38;5;28;43;01mNone\u001b[39;49;00m\u001b[43m,\u001b[49m\u001b[43m \u001b[49m\u001b[38;5;28;43;01mNone\u001b[39;49;00m\u001b[43m,\u001b[49m\u001b[43m \u001b[49m\u001b[43maxes\u001b[49m\u001b[43m \u001b[49m\u001b[38;5;241;43m=\u001b[39;49m\u001b[43m \u001b[49m\u001b[43max\u001b[49m\u001b[43m)\u001b[49m\n",
      "File \u001b[0;32m~/anaconda3/envs/tobac/lib/python3.10/site-packages/tobac/plotting.py:1671\u001b[0m, in \u001b[0;36mplot_mask_cell_individual_3Dstatic\u001b[0;34m(cell_i, track, cog, features, mask_total, field_contour, field_filled, axes, xlim, ylim, label_field_contour, cmap_field_contour, norm_field_contour, linewidths_contour, contour_labels, vmin_field_contour, vmax_field_contour, levels_field_contour, nlevels_field_contour, label_field_filled, cmap_field_filled, norm_field_filled, vmin_field_filled, vmax_field_filled, levels_field_filled, nlevels_field_filled, title, feature_number, ele, azim)\u001b[0m\n\u001b[1;32m   1669\u001b[0m x \u001b[38;5;241m=\u001b[39m mask_total\u001b[38;5;241m.\u001b[39mcoord(\u001b[38;5;124m\"\u001b[39m\u001b[38;5;124mprojection_x_coordinate\u001b[39m\u001b[38;5;124m\"\u001b[39m)\u001b[38;5;241m.\u001b[39mpoints\n\u001b[1;32m   1670\u001b[0m y \u001b[38;5;241m=\u001b[39m mask_total\u001b[38;5;241m.\u001b[39mcoord(\u001b[38;5;124m\"\u001b[39m\u001b[38;5;124mprojection_y_coordinate\u001b[39m\u001b[38;5;124m\"\u001b[39m)\u001b[38;5;241m.\u001b[39mpoints\n\u001b[0;32m-> 1671\u001b[0m z \u001b[38;5;241m=\u001b[39m \u001b[43mmask_total\u001b[49m\u001b[38;5;241;43m.\u001b[39;49m\u001b[43mcoord\u001b[49m\u001b[43m(\u001b[49m\u001b[38;5;124;43m\"\u001b[39;49m\u001b[38;5;124;43mmodel_level_number\u001b[39;49m\u001b[38;5;124;43m\"\u001b[39;49m\u001b[43m)\u001b[49m\u001b[38;5;241m.\u001b[39mpoints\n\u001b[1;32m   1673\u001b[0m \u001b[38;5;66;03m#    z = mask_total.coord('geopotential_height').points\u001b[39;00m\n\u001b[1;32m   1674\u001b[0m zz, yy, xx \u001b[38;5;241m=\u001b[39m np\u001b[38;5;241m.\u001b[39mmeshgrid(z, y, x, indexing\u001b[38;5;241m=\u001b[39m\u001b[38;5;124m\"\u001b[39m\u001b[38;5;124mij\u001b[39m\u001b[38;5;124m\"\u001b[39m)\n",
      "File \u001b[0;32m~/anaconda3/envs/tobac/lib/python3.10/site-packages/iris/cube.py:1919\u001b[0m, in \u001b[0;36mCube.coord\u001b[0;34m(self, name_or_coord, standard_name, long_name, var_name, attributes, axis, contains_dimension, dimensions, coord_system, dim_coords, mesh_coords)\u001b[0m\n\u001b[1;32m   1914\u001b[0m     bad_name \u001b[38;5;241m=\u001b[39m _name \u001b[38;5;129;01mor\u001b[39;00m standard_name \u001b[38;5;129;01mor\u001b[39;00m long_name \u001b[38;5;129;01mor\u001b[39;00m \u001b[38;5;124m\"\u001b[39m\u001b[38;5;124m\"\u001b[39m\n\u001b[1;32m   1915\u001b[0m     emsg \u001b[38;5;241m=\u001b[39m (\n\u001b[1;32m   1916\u001b[0m         \u001b[38;5;124mf\u001b[39m\u001b[38;5;124m\"\u001b[39m\u001b[38;5;124mExpected to find exactly 1 \u001b[39m\u001b[38;5;132;01m{\u001b[39;00mbad_name\u001b[38;5;132;01m!r}\u001b[39;00m\u001b[38;5;124m coordinate, \u001b[39m\u001b[38;5;124m\"\u001b[39m\n\u001b[1;32m   1917\u001b[0m         \u001b[38;5;124m\"\u001b[39m\u001b[38;5;124mbut found none.\u001b[39m\u001b[38;5;124m\"\u001b[39m\n\u001b[1;32m   1918\u001b[0m     )\n\u001b[0;32m-> 1919\u001b[0m     \u001b[38;5;28;01mraise\u001b[39;00m iris\u001b[38;5;241m.\u001b[39mexceptions\u001b[38;5;241m.\u001b[39mCoordinateNotFoundError(emsg)\n\u001b[1;32m   1921\u001b[0m \u001b[38;5;28;01mreturn\u001b[39;00m coords[\u001b[38;5;241m0\u001b[39m]\n",
      "\u001b[0;31mCoordinateNotFoundError\u001b[0m: \"Expected to find exactly 1 'model_level_number' coordinate, but found none.\""
     ]
    }
   ],
   "source": [
    "tobac.plotting.plot_mask_cell_individual_3Dstatic(1, track, None, features, mask, None, None, axes = ax)"
   ]
  },
  {
   "cell_type": "code",
   "execution_count": 11,
   "id": "d2f299a9",
   "metadata": {},
   "outputs": [
    {
     "data": {
      "text/html": [
       "<div>\n",
       "<style scoped>\n",
       "    .dataframe tbody tr th:only-of-type {\n",
       "        vertical-align: middle;\n",
       "    }\n",
       "\n",
       "    .dataframe tbody tr th {\n",
       "        vertical-align: top;\n",
       "    }\n",
       "\n",
       "    .dataframe thead th {\n",
       "        text-align: right;\n",
       "    }\n",
       "</style>\n",
       "<table border=\"1\" class=\"dataframe\">\n",
       "  <thead>\n",
       "    <tr style=\"text-align: right;\">\n",
       "      <th></th>\n",
       "      <th>frame</th>\n",
       "      <th>idx</th>\n",
       "      <th>hdim_1</th>\n",
       "      <th>hdim_2</th>\n",
       "      <th>num</th>\n",
       "      <th>threshold_value</th>\n",
       "      <th>feature</th>\n",
       "      <th>time</th>\n",
       "      <th>timestr</th>\n",
       "      <th>projection_x_coordinate</th>\n",
       "      <th>projection_y_coordinate</th>\n",
       "      <th>latitude</th>\n",
       "      <th>longitude</th>\n",
       "      <th>ncells</th>\n",
       "      <th>cell</th>\n",
       "      <th>time_cell</th>\n",
       "    </tr>\n",
       "  </thead>\n",
       "  <tbody>\n",
       "    <tr>\n",
       "      <th>0</th>\n",
       "      <td>0</td>\n",
       "      <td>1</td>\n",
       "      <td>14.272026</td>\n",
       "      <td>14.272026</td>\n",
       "      <td>908</td>\n",
       "      <td>1</td>\n",
       "      <td>1</td>\n",
       "      <td>2000-01-01 12:00:00</td>\n",
       "      <td>2000-01-01 12:00:00</td>\n",
       "      <td>14272.026432</td>\n",
       "      <td>14272.026432</td>\n",
       "      <td>[24.14272026431718]</td>\n",
       "      <td>[150.14272026431718]</td>\n",
       "      <td>904.0</td>\n",
       "      <td>1</td>\n",
       "      <td>0 days 00:00:00</td>\n",
       "    </tr>\n",
       "    <tr>\n",
       "      <th>1</th>\n",
       "      <td>1</td>\n",
       "      <td>1</td>\n",
       "      <td>15.228659</td>\n",
       "      <td>14.670732</td>\n",
       "      <td>984</td>\n",
       "      <td>1</td>\n",
       "      <td>2</td>\n",
       "      <td>2000-01-01 12:01:00</td>\n",
       "      <td>2000-01-01 12:01:00</td>\n",
       "      <td>15228.658537</td>\n",
       "      <td>14670.731707</td>\n",
       "      <td>[24.15228658536585]</td>\n",
       "      <td>[150.14670731707318]</td>\n",
       "      <td>983.0</td>\n",
       "      <td>1</td>\n",
       "      <td>0 days 00:01:00</td>\n",
       "    </tr>\n",
       "    <tr>\n",
       "      <th>2</th>\n",
       "      <td>2</td>\n",
       "      <td>1</td>\n",
       "      <td>16.162111</td>\n",
       "      <td>15.055608</td>\n",
       "      <td>1061</td>\n",
       "      <td>1</td>\n",
       "      <td>3</td>\n",
       "      <td>2000-01-01 12:02:00</td>\n",
       "      <td>2000-01-01 12:02:00</td>\n",
       "      <td>16162.111216</td>\n",
       "      <td>15055.607917</td>\n",
       "      <td>[24.16162111215834]</td>\n",
       "      <td>[150.1505560791706]</td>\n",
       "      <td>1059.0</td>\n",
       "      <td>1</td>\n",
       "      <td>0 days 00:02:00</td>\n",
       "    </tr>\n",
       "    <tr>\n",
       "      <th>3</th>\n",
       "      <td>3</td>\n",
       "      <td>1</td>\n",
       "      <td>17.130396</td>\n",
       "      <td>15.406167</td>\n",
       "      <td>1135</td>\n",
       "      <td>1</td>\n",
       "      <td>4</td>\n",
       "      <td>2000-01-01 12:03:00</td>\n",
       "      <td>2000-01-01 12:03:00</td>\n",
       "      <td>17130.396476</td>\n",
       "      <td>15406.167401</td>\n",
       "      <td>[24.171303964757712]</td>\n",
       "      <td>[150.15406167400883]</td>\n",
       "      <td>1135.0</td>\n",
       "      <td>1</td>\n",
       "      <td>0 days 00:03:00</td>\n",
       "    </tr>\n",
       "    <tr>\n",
       "      <th>4</th>\n",
       "      <td>4</td>\n",
       "      <td>1</td>\n",
       "      <td>18.143802</td>\n",
       "      <td>15.751240</td>\n",
       "      <td>1210</td>\n",
       "      <td>1</td>\n",
       "      <td>5</td>\n",
       "      <td>2000-01-01 12:04:00</td>\n",
       "      <td>2000-01-01 12:04:00</td>\n",
       "      <td>18143.801653</td>\n",
       "      <td>15751.239669</td>\n",
       "      <td>[24.181438016528926]</td>\n",
       "      <td>[150.15751239669422]</td>\n",
       "      <td>1208.0</td>\n",
       "      <td>1</td>\n",
       "      <td>0 days 00:04:00</td>\n",
       "    </tr>\n",
       "    <tr>\n",
       "      <th>...</th>\n",
       "      <td>...</td>\n",
       "      <td>...</td>\n",
       "      <td>...</td>\n",
       "      <td>...</td>\n",
       "      <td>...</td>\n",
       "      <td>...</td>\n",
       "      <td>...</td>\n",
       "      <td>...</td>\n",
       "      <td>...</td>\n",
       "      <td>...</td>\n",
       "      <td>...</td>\n",
       "      <td>...</td>\n",
       "      <td>...</td>\n",
       "      <td>...</td>\n",
       "      <td>...</td>\n",
       "      <td>...</td>\n",
       "    </tr>\n",
       "    <tr>\n",
       "      <th>105</th>\n",
       "      <td>67</td>\n",
       "      <td>2</td>\n",
       "      <td>85.393745</td>\n",
       "      <td>130.422614</td>\n",
       "      <td>1247</td>\n",
       "      <td>1</td>\n",
       "      <td>106</td>\n",
       "      <td>2000-01-01 13:07:00</td>\n",
       "      <td>2000-01-01 13:07:00</td>\n",
       "      <td>85393.744988</td>\n",
       "      <td>130422.614274</td>\n",
       "      <td>[24.853937449879712]</td>\n",
       "      <td>[151.3042261427426]</td>\n",
       "      <td>1247.0</td>\n",
       "      <td>3</td>\n",
       "      <td>0 days 00:17:00</td>\n",
       "    </tr>\n",
       "    <tr>\n",
       "      <th>106</th>\n",
       "      <td>68</td>\n",
       "      <td>1</td>\n",
       "      <td>83.326203</td>\n",
       "      <td>30.149733</td>\n",
       "      <td>1496</td>\n",
       "      <td>1</td>\n",
       "      <td>107</td>\n",
       "      <td>2000-01-01 13:08:00</td>\n",
       "      <td>2000-01-01 13:08:00</td>\n",
       "      <td>83326.203209</td>\n",
       "      <td>30149.732620</td>\n",
       "      <td>[24.83326203208556]</td>\n",
       "      <td>[150.30149732620322]</td>\n",
       "      <td>1127.0</td>\n",
       "      <td>2</td>\n",
       "      <td>0 days 00:28:00</td>\n",
       "    </tr>\n",
       "    <tr>\n",
       "      <th>107</th>\n",
       "      <td>68</td>\n",
       "      <td>2</td>\n",
       "      <td>86.731211</td>\n",
       "      <td>131.549072</td>\n",
       "      <td>1131</td>\n",
       "      <td>1</td>\n",
       "      <td>108</td>\n",
       "      <td>2000-01-01 13:08:00</td>\n",
       "      <td>2000-01-01 13:08:00</td>\n",
       "      <td>86731.211317</td>\n",
       "      <td>131549.071618</td>\n",
       "      <td>[24.867312113174183]</td>\n",
       "      <td>[151.31549071618036]</td>\n",
       "      <td>1127.0</td>\n",
       "      <td>3</td>\n",
       "      <td>0 days 00:18:00</td>\n",
       "    </tr>\n",
       "    <tr>\n",
       "      <th>108</th>\n",
       "      <td>69</td>\n",
       "      <td>1</td>\n",
       "      <td>85.863315</td>\n",
       "      <td>30.864101</td>\n",
       "      <td>1273</td>\n",
       "      <td>1</td>\n",
       "      <td>109</td>\n",
       "      <td>2000-01-01 13:09:00</td>\n",
       "      <td>2000-01-01 13:09:00</td>\n",
       "      <td>85863.315004</td>\n",
       "      <td>30864.100550</td>\n",
       "      <td>[24.858633150039275]</td>\n",
       "      <td>[150.30864100549883]</td>\n",
       "      <td>1015.0</td>\n",
       "      <td>2</td>\n",
       "      <td>0 days 00:29:00</td>\n",
       "    </tr>\n",
       "    <tr>\n",
       "      <th>109</th>\n",
       "      <td>69</td>\n",
       "      <td>2</td>\n",
       "      <td>87.981336</td>\n",
       "      <td>132.798625</td>\n",
       "      <td>1018</td>\n",
       "      <td>1</td>\n",
       "      <td>110</td>\n",
       "      <td>2000-01-01 13:09:00</td>\n",
       "      <td>2000-01-01 13:09:00</td>\n",
       "      <td>87981.335953</td>\n",
       "      <td>132798.624754</td>\n",
       "      <td>[24.879813359528487]</td>\n",
       "      <td>[151.3279862475442]</td>\n",
       "      <td>1015.0</td>\n",
       "      <td>3</td>\n",
       "      <td>0 days 00:19:00</td>\n",
       "    </tr>\n",
       "  </tbody>\n",
       "</table>\n",
       "<p>110 rows × 16 columns</p>\n",
       "</div>"
      ],
      "text/plain": [
       "     frame  idx     hdim_1      hdim_2   num  threshold_value  feature  \\\n",
       "0        0    1  14.272026   14.272026   908                1        1   \n",
       "1        1    1  15.228659   14.670732   984                1        2   \n",
       "2        2    1  16.162111   15.055608  1061                1        3   \n",
       "3        3    1  17.130396   15.406167  1135                1        4   \n",
       "4        4    1  18.143802   15.751240  1210                1        5   \n",
       "..     ...  ...        ...         ...   ...              ...      ...   \n",
       "105     67    2  85.393745  130.422614  1247                1      106   \n",
       "106     68    1  83.326203   30.149733  1496                1      107   \n",
       "107     68    2  86.731211  131.549072  1131                1      108   \n",
       "108     69    1  85.863315   30.864101  1273                1      109   \n",
       "109     69    2  87.981336  132.798625  1018                1      110   \n",
       "\n",
       "                    time              timestr  projection_x_coordinate  \\\n",
       "0    2000-01-01 12:00:00  2000-01-01 12:00:00             14272.026432   \n",
       "1    2000-01-01 12:01:00  2000-01-01 12:01:00             15228.658537   \n",
       "2    2000-01-01 12:02:00  2000-01-01 12:02:00             16162.111216   \n",
       "3    2000-01-01 12:03:00  2000-01-01 12:03:00             17130.396476   \n",
       "4    2000-01-01 12:04:00  2000-01-01 12:04:00             18143.801653   \n",
       "..                   ...                  ...                      ...   \n",
       "105  2000-01-01 13:07:00  2000-01-01 13:07:00             85393.744988   \n",
       "106  2000-01-01 13:08:00  2000-01-01 13:08:00             83326.203209   \n",
       "107  2000-01-01 13:08:00  2000-01-01 13:08:00             86731.211317   \n",
       "108  2000-01-01 13:09:00  2000-01-01 13:09:00             85863.315004   \n",
       "109  2000-01-01 13:09:00  2000-01-01 13:09:00             87981.335953   \n",
       "\n",
       "     projection_y_coordinate              latitude             longitude  \\\n",
       "0               14272.026432   [24.14272026431718]  [150.14272026431718]   \n",
       "1               14670.731707   [24.15228658536585]  [150.14670731707318]   \n",
       "2               15055.607917   [24.16162111215834]   [150.1505560791706]   \n",
       "3               15406.167401  [24.171303964757712]  [150.15406167400883]   \n",
       "4               15751.239669  [24.181438016528926]  [150.15751239669422]   \n",
       "..                       ...                   ...                   ...   \n",
       "105            130422.614274  [24.853937449879712]   [151.3042261427426]   \n",
       "106             30149.732620   [24.83326203208556]  [150.30149732620322]   \n",
       "107            131549.071618  [24.867312113174183]  [151.31549071618036]   \n",
       "108             30864.100550  [24.858633150039275]  [150.30864100549883]   \n",
       "109            132798.624754  [24.879813359528487]   [151.3279862475442]   \n",
       "\n",
       "     ncells  cell       time_cell  \n",
       "0     904.0     1 0 days 00:00:00  \n",
       "1     983.0     1 0 days 00:01:00  \n",
       "2    1059.0     1 0 days 00:02:00  \n",
       "3    1135.0     1 0 days 00:03:00  \n",
       "4    1208.0     1 0 days 00:04:00  \n",
       "..      ...   ...             ...  \n",
       "105  1247.0     3 0 days 00:17:00  \n",
       "106  1127.0     2 0 days 00:28:00  \n",
       "107  1127.0     3 0 days 00:18:00  \n",
       "108  1015.0     2 0 days 00:29:00  \n",
       "109  1015.0     3 0 days 00:19:00  \n",
       "\n",
       "[110 rows x 16 columns]"
      ]
     },
     "execution_count": 11,
     "metadata": {},
     "output_type": "execute_result"
    }
   ],
   "source": [
    "track"
   ]
  },
  {
   "cell_type": "code",
   "execution_count": null,
   "id": "97a34048",
   "metadata": {},
   "outputs": [],
   "source": []
  }
 ],
 "metadata": {
  "kernelspec": {
   "display_name": "Python 3 (ipykernel)",
   "language": "python",
   "name": "python3"
  },
  "language_info": {
   "codemirror_mode": {
    "name": "ipython",
    "version": 3
   },
   "file_extension": ".py",
   "mimetype": "text/x-python",
   "name": "python",
   "nbconvert_exporter": "python",
   "pygments_lexer": "ipython3",
   "version": "3.10.4"
  }
 },
 "nbformat": 4,
 "nbformat_minor": 5
}
